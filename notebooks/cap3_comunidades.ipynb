{
 "cells": [
  {
   "cell_type": "code",
   "execution_count": null,
   "metadata": {},
   "outputs": [],
   "source": [
    "import networkx as nx\n",
    "import matplotlib.pyplot as plt\n",
    "import numpy as np\n",
    "import pandas as pd\n",
    "from networkx.algorithms import community as cm"
   ]
  },
  {
   "cell_type": "markdown",
   "metadata": {},
   "source": [
    "### Lendo dataset Harry Potter"
   ]
  },
  {
   "cell_type": "code",
   "execution_count": null,
   "metadata": {},
   "outputs": [],
   "source": [
    "atri = pd.read_csv('../data/harrypotter/hpattributes.txt', sep='\\t')\n",
    "ares = pd.read_csv('../data/harrypotter/hpbook2.txt', sep=' ', header=None)\n",
    "nome = pd.read_csv('../data/harrypotter/hpnames.txt', sep='\\t')\n"
   ]
  },
  {
   "cell_type": "markdown",
   "metadata": {},
   "source": [
    "### CONCOR"
   ]
  },
  {
   "cell_type": "code",
   "execution_count": null,
   "metadata": {},
   "outputs": [],
   "source": [
    "gpotter = nx.DiGraph()"
   ]
  },
  {
   "cell_type": "code",
   "execution_count": null,
   "metadata": {},
   "outputs": [],
   "source": [
    "n = atri.shape[0]"
   ]
  },
  {
   "cell_type": "code",
   "execution_count": null,
   "metadata": {},
   "outputs": [],
   "source": [
    "# config nodes\n",
    "for k in range(n):\n",
    "    gpotter.add_node(k,\n",
    "                     nome=nome['name'][k],\n",
    "                     ano=atri['schoolyear'][k],\n",
    "                     gen=atri['gender'][k],\n",
    "                     casa=atri['house'][k])\n"
   ]
  },
  {
   "cell_type": "code",
   "execution_count": null,
   "metadata": {},
   "outputs": [],
   "source": [
    "# create network\n",
    "for k in range(n):\n",
    "    for m in range(n):\n",
    "        if ares.values[k][m] == 1:\n",
    "            gpotter.add_edge(k,m)"
   ]
  },
  {
   "cell_type": "code",
   "execution_count": null,
   "metadata": {},
   "outputs": [],
   "source": [
    "nx.draw(gpotter,with_labels=True)"
   ]
  },
  {
   "cell_type": "code",
   "execution_count": null,
   "metadata": {},
   "outputs": [],
   "source": [
    "# matrix de adjacencia\n",
    "A = nx.adjacency_matrix(gpotter)"
   ]
  },
  {
   "cell_type": "code",
   "execution_count": null,
   "metadata": {},
   "outputs": [],
   "source": [
    "# apagando os nos isolados \n",
    "isolados = []\n",
    "for k in range(n):\n",
    "    if np.sum(A[[k],:]) == 0:\n",
    "        isolados.append(k)\n",
    "        gpotter.remove_node(k)\n",
    "\n",
    "print(len(isolados), 'nós isolados.')"
   ]
  },
  {
   "cell_type": "code",
   "execution_count": null,
   "metadata": {},
   "outputs": [],
   "source": [
    "# matriz de adjacencia esparsa\n",
    "A = nx.adjacency_matrix(gpotter)"
   ]
  },
  {
   "cell_type": "code",
   "execution_count": null,
   "metadata": {},
   "outputs": [],
   "source": [
    "# matriz de adjacencia densa\n",
    "A = np.array(A.todense(),dtype=float)"
   ]
  },
  {
   "cell_type": "code",
   "execution_count": null,
   "metadata": {},
   "outputs": [],
   "source": [
    "#Algoritmo CONCOR\n",
    "C   = A.copy()\n",
    "\n",
    "while not np.allclose(np.abs(C),np.ones_like(C),atol=1e-10):\n",
    "    C  = np.corrcoef(C)\n",
    "\n",
    "C   = np.round(C)"
   ]
  },
  {
   "cell_type": "code",
   "execution_count": null,
   "metadata": {},
   "outputs": [],
   "source": [
    "com1 = []\n",
    "com2 = []\n",
    "\n",
    "nos  = list(gpotter.nodes)\n",
    "\n",
    "com1.append(nos[0])\n",
    "\n",
    "for k in range(1,len(nos)):\n",
    "    if C[0,k] > 0:\n",
    "        com1.append(nos[k])\n",
    "    else:\n",
    "        com2.append(nos[k])"
   ]
  },
  {
   "cell_type": "code",
   "execution_count": null,
   "metadata": {},
   "outputs": [],
   "source": [
    "print('Comunidade 1:')\n",
    "for k in range(len(com1)):\n",
    "    print(gpotter.nodes[com1[k]]['nome'])"
   ]
  },
  {
   "cell_type": "code",
   "execution_count": null,
   "metadata": {},
   "outputs": [],
   "source": [
    "print('Comunidade 2:')\n",
    "for k in range(len(com2)):\n",
    "    print(gpotter.nodes[com2[k]]['nome'])"
   ]
  },
  {
   "cell_type": "code",
   "execution_count": null,
   "metadata": {},
   "outputs": [],
   "source": [
    "plt.close('all')\n",
    "\n",
    "fig, ax = plt.subplots(1,1,figsize=(15,10))\n",
    "\n",
    "pos = nx.circular_layout(gpotter)\n",
    "\n",
    "for k in range(len(com1)):\n",
    "    pos[com1[k]][0] = 100*np.cos(2*np.pi*k/len(com1))\n",
    "    pos[com1[k]][1] = 100*np.sin(2*np.pi*k/len(com1))\n",
    "\n",
    "for k in range(len(com2)):\n",
    "    pos[com2[k]][0] = 300*np.cos(2*np.pi*k/len(com2))\n",
    "    pos[com2[k]][1] = 300*np.sin(2*np.pi*k/len(com2))\n",
    "\n",
    "cores = []\n",
    "for no in gpotter.nodes():\n",
    "    if no in com1:\n",
    "        cores.append('lightskyblue')\n",
    "    else:\n",
    "        cores.append('steelblue')\n",
    "\n",
    "etiquetas = nx.get_node_attributes(gpotter, 'nome')\n",
    "\n",
    "nx.draw_networkx(gpotter,\n",
    "                 pos=pos,\n",
    "                 edge_color='lightgray',\n",
    "                 node_size = 500, \n",
    "                 labels=etiquetas,\n",
    "                 font_size=10, \n",
    "                 node_color=cores)\n",
    "\n",
    "plt.box(False)\n",
    "#plt.xlim((-400,+400))\n",
    "plt.show()"
   ]
  },
  {
   "cell_type": "code",
   "execution_count": null,
   "metadata": {},
   "outputs": [],
   "source": []
  },
  {
   "cell_type": "markdown",
   "metadata": {},
   "source": [
    "(module) community\n",
    "Functions for computing and measuring community structure.\n",
    "\n",
    "The community subpackage can be accessed by using networkx.community, then accessing the functions as attributes of community. \n",
    "\n",
    "For example:"
   ]
  },
  {
   "cell_type": "code",
   "execution_count": null,
   "metadata": {},
   "outputs": [],
   "source": [
    "G = nx.barbell_graph(5, 1)\n",
    "communities_generator = nx.community.girvan_newman(G)\n",
    "top_level_communities = next(communities_generator)\n",
    "next_level_communities = next(communities_generator)\n",
    "print(sorted(map(sorted, top_level_communities)))\n",
    "print(sorted(map(sorted, next_level_communities)))"
   ]
  },
  {
   "cell_type": "code",
   "execution_count": null,
   "metadata": {},
   "outputs": [],
   "source": [
    "from networkx.algorithms import community as cm\n",
    "\n",
    "mper = +np.inf\n",
    "for ini in gpotter.nodes:\n",
    "    com1 = set([ini])\n",
    "    com2 = set(nos) - com1\n",
    "    \n",
    "    mgan = -1\n",
    "    while mgan < 0:\n",
    "        cv,pe = cm.partition_quality(gpotter,[com1,com2])\n",
    "        ra = (1-cv)/(len(com1)*len(com2)) \n",
    "        mgan = +np.inf\n",
    "        mno  = -1\n",
    "        for no in com2:\n",
    "            ncom1 = com1.union(set([no]))\n",
    "            ncom2 = com2 - set([no])\n",
    "            cv,pe = cm.partition_quality(gpotter,[ncom1,ncom2])\n",
    "            nra   = (1-cv)/(len(ncom1)*len(ncom2))\n",
    "            ng    = nra-ra\n",
    "            if ng < mgan:\n",
    "                mgan = ng\n",
    "                mno  = no\n",
    "        if mgan < 0:\n",
    "            com1.add(mno)\n",
    "            com2.remove(mno)\n",
    "    cv,pe = cm.partition_quality(gpotter,[com1,com2])            \n",
    "    ra = (1-cv)/(len(com1)*len(com2)) \n",
    "    if ra < mper:\n",
    "        mper = ra\n",
    "        mcom1 = com1.copy()\n",
    "        mcom2 = com2.copy()"
   ]
  },
  {
   "cell_type": "code",
   "execution_count": null,
   "metadata": {},
   "outputs": [],
   "source": [
    "com1 = list(mcom1)\n",
    "com2 = list(mcom2)"
   ]
  },
  {
   "cell_type": "code",
   "execution_count": null,
   "metadata": {},
   "outputs": [],
   "source": [
    "plt.close('all')\n",
    "\n",
    "fig, ax = plt.subplots(1,1,figsize=(15,10))\n",
    "\n",
    "pos = nx.circular_layout(gpotter)\n",
    "\n",
    "for k in range(len(com1)):\n",
    "    pos[com1[k]][0] = 300*np.cos(2*np.pi*k/len(com1))\n",
    "    pos[com1[k]][1] = 300*np.sin(2*np.pi*k/len(com1))+700\n",
    "\n",
    "for k in range(len(com2)):\n",
    "    pos[com2[k]][0] = 300*np.cos(2*np.pi*k/len(com2))\n",
    "    pos[com2[k]][1] = 300*np.sin(2*np.pi*k/len(com2))    \n",
    "\n",
    "cores = []\n",
    "for no in gpotter.nodes():\n",
    "    if no in com1:\n",
    "        cores.append('lightskyblue')\n",
    "    else:\n",
    "        cores.append('steelblue')\n",
    "\n",
    "etiquetas = nx.get_node_attributes(gpotter, 'nome')\n",
    "\n",
    "#plt.figure()\n",
    "nx.draw_networkx(gpotter,pos=pos,edge_color='lightgray',\n",
    "                 node_size = 500, labels=etiquetas,\n",
    "                 font_size=10, node_color=cores)\n",
    "plt.box(False)\n",
    "plt.show()"
   ]
  },
  {
   "cell_type": "code",
   "execution_count": null,
   "metadata": {},
   "outputs": [],
   "source": [
    "from networkx . algorithms import community as cm\n",
    "\n",
    "com1, com2 = cm.kernighan_lin_bisection(gpotter.to_undirected(), max_iter =100)"
   ]
  },
  {
   "cell_type": "code",
   "execution_count": null,
   "metadata": {},
   "outputs": [],
   "source": [
    "com1 = list(com1)\n",
    "com2 = list(com2)"
   ]
  },
  {
   "cell_type": "code",
   "execution_count": null,
   "metadata": {},
   "outputs": [],
   "source": [
    "plt.close('all')\n",
    "\n",
    "fig, ax = plt.subplots(1,1,figsize=(15,10))\n",
    "\n",
    "pos = nx.circular_layout(gpotter)\n",
    "\n",
    "for k in range(len(com1)):\n",
    "    pos[com1[k]][0] = 300*np.cos(2*np.pi*k/len(com1))\n",
    "    pos[com1[k]][1] = 300*np.sin(2*np.pi*k/len(com1))+700\n",
    "\n",
    "for k in range(len(com2)):\n",
    "    pos[com2[k]][0] = 300*np.cos(2*np.pi*k/len(com2))\n",
    "    pos[com2[k]][1] = 300*np.sin(2*np.pi*k/len(com2))    \n",
    "\n",
    "cores = []\n",
    "for no in gpotter.nodes():\n",
    "    if no in com1:\n",
    "        cores.append('lightskyblue')\n",
    "    else:\n",
    "        cores.append('steelblue')\n",
    "\n",
    "etiquetas = nx.get_node_attributes(gpotter, 'nome')\n",
    "\n",
    "#plt.figure()\n",
    "nx.draw_networkx(gpotter,pos=pos,edge_color='lightgray',\n",
    "                 node_size = 500, labels=etiquetas,\n",
    "                 font_size=10, node_color=cores)\n",
    "plt.box(False)\n",
    "plt.show()"
   ]
  },
  {
   "cell_type": "code",
   "execution_count": null,
   "metadata": {},
   "outputs": [],
   "source": []
  },
  {
   "cell_type": "markdown",
   "metadata": {},
   "source": [
    "### Modularidade"
   ]
  },
  {
   "cell_type": "code",
   "execution_count": null,
   "metadata": {},
   "outputs": [],
   "source": [
    "#%% MODULARIDADE: Clauset & Louvain\n",
    "\n",
    "# coms = cm.community_louvain(gpotter)\n",
    "comsl = cm.louvain_communities(gpotter)\n",
    "comsc = cm.greedy_modularity_communities(gpotter,cutoff=len(comsl))\n"
   ]
  },
  {
   "cell_type": "code",
   "execution_count": null,
   "metadata": {},
   "outputs": [],
   "source": [
    "print('Modularidade - Louvain: {:.3f}'.format(cm.modularity(gpotter,comsl)))\n",
    "print('Modularidade - CNM    : {:.3f}'.format(cm.modularity(gpotter,comsc)))"
   ]
  },
  {
   "cell_type": "code",
   "execution_count": null,
   "metadata": {},
   "outputs": [],
   "source": [
    "plt.close('all')\n",
    "\n",
    "#fig, ax = plt.subplots(1,1,figsize=(15,10))\n",
    "\n",
    "pos = nx.circular_layout(gpotter)\n",
    "\n",
    "coresp = {0:'lightskyblue',\n",
    "          1:'steelblue',\n",
    "          2:'gray',\n",
    "          3:'pink',\n",
    "          4:'magenta',\n",
    "          5:'violet',\n",
    "          6: 'mediumorchid'}\n",
    "\n",
    "coresl = []\n",
    "for no in gpotter.nodes():\n",
    "    for k in range(len(comsl)):\n",
    "        if no in comsl[k]:\n",
    "            coresl.append(coresp[k])\n",
    "            break\n",
    "\n",
    "coresc = []\n",
    "for no in gpotter.nodes():\n",
    "    for k in range(len(comsc)):\n",
    "        if no in comsc[k]:\n",
    "            coresc.append(coresp[k])\n",
    "            break\n",
    "    \n",
    "etiquetas = nx.get_node_attributes(gpotter, 'nome')"
   ]
  },
  {
   "cell_type": "code",
   "execution_count": null,
   "metadata": {},
   "outputs": [],
   "source": [
    "#plt.figure()\n",
    "\n",
    "fig, ax = plt.subplots(1,1,figsize=(15,10))\n",
    "\n",
    "nx.draw_networkx(gpotter,\n",
    "                 pos=pos,\n",
    "                 edge_color='lightgray',\n",
    "                 node_size = 500,\n",
    "                 labels=etiquetas,\n",
    "                 font_size=10, \n",
    "                 node_color=coresl)\n",
    "\n",
    "plt.box(False)\n",
    "plt.show()"
   ]
  },
  {
   "cell_type": "code",
   "execution_count": null,
   "metadata": {},
   "outputs": [],
   "source": [
    "#plt.figure()\n",
    "\n",
    "fig, ax = plt.subplots(1,1,figsize=(15,10))\n",
    "\n",
    "nx.draw_networkx(gpotter,\n",
    "                 pos=pos,\n",
    "                 edge_color='lightgray',\n",
    "                 node_size = 500,\n",
    "                 labels=etiquetas,\n",
    "                 font_size=10, \n",
    "                 node_color=coresc)\n",
    "\n",
    "plt.box(False)\n",
    "\n",
    "plt.show()"
   ]
  },
  {
   "cell_type": "code",
   "execution_count": null,
   "metadata": {},
   "outputs": [],
   "source": []
  },
  {
   "cell_type": "code",
   "execution_count": null,
   "metadata": {},
   "outputs": [],
   "source": []
  },
  {
   "cell_type": "markdown",
   "metadata": {},
   "source": [
    "### Modularidade espectral"
   ]
  },
  {
   "cell_type": "code",
   "execution_count": null,
   "metadata": {},
   "outputs": [],
   "source": []
  },
  {
   "cell_type": "markdown",
   "metadata": {},
   "source": [
    "### CONCOR"
   ]
  },
  {
   "cell_type": "code",
   "execution_count": null,
   "metadata": {},
   "outputs": [],
   "source": [
    "gpotter = nx.DiGraph()"
   ]
  },
  {
   "cell_type": "code",
   "execution_count": null,
   "metadata": {},
   "outputs": [],
   "source": [
    "n = atri.shape[0]"
   ]
  },
  {
   "cell_type": "code",
   "execution_count": null,
   "metadata": {},
   "outputs": [],
   "source": [
    "# config nodes\n",
    "for k in range(n):\n",
    "    gpotter.add_node(k,\n",
    "                     nome=nome['name'][k],\n",
    "                     ano=atri['schoolyear'][k],\n",
    "                     gen=atri['gender'][k],\n",
    "                     casa=atri['house'][k])\n"
   ]
  },
  {
   "cell_type": "code",
   "execution_count": null,
   "metadata": {},
   "outputs": [],
   "source": [
    "# create network\n",
    "for k in range(n):\n",
    "    for m in range(n):\n",
    "        if ares.values[k][m] == 1:\n",
    "            gpotter.add_edge(k,m)"
   ]
  },
  {
   "cell_type": "code",
   "execution_count": null,
   "metadata": {},
   "outputs": [],
   "source": [
    "fig, ax = plt.subplots(1,1,figsize=(15,10))\n",
    "nx.draw(gpotter,with_labels=True)\n",
    "plt.show()"
   ]
  },
  {
   "cell_type": "code",
   "execution_count": null,
   "metadata": {},
   "outputs": [],
   "source": [
    "# matrix de adjacencia\n",
    "A = nx.adjacency_matrix(gpotter)"
   ]
  },
  {
   "cell_type": "code",
   "execution_count": null,
   "metadata": {},
   "outputs": [],
   "source": [
    "# apagando os nos isolados \n",
    "isolados = []\n",
    "for k in range(n):\n",
    "    if np.sum(A[[k],:]) == 0:\n",
    "        isolados.append(k)\n",
    "        gpotter.remove_node(k)\n",
    "\n",
    "print(len(isolados), 'nós isolados.')"
   ]
  },
  {
   "cell_type": "code",
   "execution_count": null,
   "metadata": {},
   "outputs": [],
   "source": [
    "# matriz de adjacencia esparsa\n",
    "A = nx.adjacency_matrix(gpotter)"
   ]
  },
  {
   "cell_type": "code",
   "execution_count": null,
   "metadata": {},
   "outputs": [],
   "source": [
    "# matriz de adjacencia densa\n",
    "A = np.array(A.todense(),dtype=float)"
   ]
  },
  {
   "cell_type": "code",
   "execution_count": null,
   "metadata": {},
   "outputs": [],
   "source": [
    "# algoritmo CONCOR\n",
    "\n",
    "C = A.copy()\n",
    "\n",
    "while not np.allclose(np.abs(C),np.ones_like(C),atol=1e-10):\n",
    "    C = np.corrcoef(C)\n",
    "\n",
    "C = np.round(C)"
   ]
  },
  {
   "cell_type": "code",
   "execution_count": null,
   "metadata": {},
   "outputs": [],
   "source": [
    "com1 = []\n",
    "com2 = []\n",
    "\n",
    "nos  = list(gpotter.nodes)\n",
    "\n",
    "com1.append(nos[0])\n",
    "\n",
    "for k in range(1,len(nos)):\n",
    "    if C[0,k] > 0:\n",
    "        com1.append(nos[k])\n",
    "    else:\n",
    "        com2.append(nos[k])"
   ]
  },
  {
   "cell_type": "code",
   "execution_count": null,
   "metadata": {},
   "outputs": [],
   "source": [
    "print('Comunidade 1:')\n",
    "for k in range(len(com1)):\n",
    "    print(gpotter.nodes[com1[k]]['nome'])"
   ]
  },
  {
   "cell_type": "code",
   "execution_count": null,
   "metadata": {},
   "outputs": [],
   "source": [
    "print('Comunidade 2:')\n",
    "for k in range(len(com2)):\n",
    "    print(gpotter.nodes[com2[k]]['nome'])"
   ]
  },
  {
   "cell_type": "code",
   "execution_count": null,
   "metadata": {},
   "outputs": [],
   "source": [
    "plt.close('all')\n",
    "\n",
    "fig, ax = plt.subplots(1,1,figsize=(15,10))\n",
    "\n",
    "pos = nx.circular_layout(gpotter)\n",
    "\n",
    "for k in range(len(com1)):\n",
    "    pos[com1[k]][0] = 100*np.cos(2*np.pi*k/len(com1))\n",
    "    pos[com1[k]][1] = 100*np.sin(2*np.pi*k/len(com1))\n",
    "\n",
    "for k in range(len(com2)):\n",
    "    pos[com2[k]][0] = 300*np.cos(2*np.pi*k/len(com2))\n",
    "    pos[com2[k]][1] = 300*np.sin(2*np.pi*k/len(com2))\n",
    "\n",
    "cores = []\n",
    "for no in gpotter.nodes():\n",
    "    if no in com1:\n",
    "        cores.append('lightskyblue')\n",
    "    else:\n",
    "        cores.append('steelblue')\n",
    "\n",
    "etiquetas = nx.get_node_attributes(gpotter, 'nome')\n",
    "\n",
    "nx.draw_networkx(gpotter,\n",
    "                 pos=pos,\n",
    "                 edge_color='lightgray',\n",
    "                 node_size = 500, \n",
    "                 labels=etiquetas,\n",
    "                 font_size=10, \n",
    "                 node_color=cores)\n",
    "\n",
    "plt.box(False)\n",
    "#plt.xlim((-400,+400))\n",
    "plt.show()"
   ]
  },
  {
   "cell_type": "code",
   "execution_count": null,
   "metadata": {},
   "outputs": [],
   "source": []
  },
  {
   "cell_type": "code",
   "execution_count": null,
   "metadata": {},
   "outputs": [],
   "source": []
  },
  {
   "cell_type": "markdown",
   "metadata": {},
   "source": [
    "### Remoção de arestas"
   ]
  },
  {
   "cell_type": "code",
   "execution_count": null,
   "metadata": {},
   "outputs": [],
   "source": [
    "from networkx . algorithms import community as cm"
   ]
  },
  {
   "cell_type": "code",
   "execution_count": null,
   "metadata": {},
   "outputs": [],
   "source": [
    "com = cm.girvan_newman(gpotter)\n",
    "com = list(com)"
   ]
  },
  {
   "cell_type": "code",
   "execution_count": null,
   "metadata": {},
   "outputs": [],
   "source": [
    "for it in gpotter.nodes():\n",
    "    print(it, ':', gpotter.nodes[it]['nome'])"
   ]
  },
  {
   "cell_type": "code",
   "execution_count": null,
   "metadata": {},
   "outputs": [],
   "source": [
    "for it in com:\n",
    "    print(it)"
   ]
  },
  {
   "cell_type": "code",
   "execution_count": null,
   "metadata": {},
   "outputs": [],
   "source": [
    "fig, ax = plt.subplots(1,1,figsize=(15,10))\n",
    "\n",
    "plt.plot([-3.90380859375,-3.90380859375],[0,-20],'b',linewidth=5)\n",
    "plt.plot([0,-47.8076171875,40,40],[-20,-20,-20,-20],'b', linewidth=5)\n",
    "plt.plot([40,40],[-20,-400],'b', linewidth=5)\n",
    "plt.plot([-47.8076171875,-47.8076171875],[-20,-40],'b', linewidth=5)\n",
    "plt.plot([-75.615234375,-20],[-40,-40],'b', linewidth=5)\n",
    "plt.plot([-20,-20],[-40,-400],'b', linewidth=5)\n",
    "plt.plot([-75.615234375,-75.615234375],[-40,-60],'b', linewidth=5)\n",
    "plt.plot([-111.23046875,-40],[-60,-60],'b', linewidth=5)\n",
    "plt.plot([-40,-40],[-60,-400],'b', linewidth=5)\n",
    "plt.plot([-111.23046875,-111.23046875],[-60,-80],'b',linewidth=5)\n",
    "plt.plot([-152.4609375,-70],[-80,-80],'b', linewidth=5)\n",
    "# plt.plot([-80,-80],[-80,-100],'b', linewidth=5)\n",
    "plt.plot([-152.4609375,-152.4609375],[-80,-100],'b', linewidth=5)\n",
    "plt.plot([-179.921875,-125],[-100,-100],'b', linewidth=5)\n",
    "# plt.plot([-80,-80],[-80,-100],'b', linewidth=5)\n",
    "plt.plot([-179.921875,-179.921875],[-100,-120],'b', linewidth=5)\n",
    "plt.plot([-125,-125],[-100,-220],'b', linewidth=5)\n",
    "plt.plot([-199.84375,-160],[-120,-120],'b', linewidth=5)\n",
    "plt.plot([-160,-160],[-120,-400],'b', linewidth=5)\n",
    "plt.plot([-199.84375,-199.84375],[-120,-140],'b', linewidth=5)\n",
    "plt.plot([-219.6875,-180],[-140,-140],'b', linewidth=5)\n",
    "plt.plot([-180,-180],[-140,-400],'b', linewidth=5)\n",
    "plt.plot([-219.6875,-219.6875],[-140,-160],'b', linewidth=5)\n",
    "plt.plot([-239.375,-200],[-160,-160],'b', linewidth=5)\n",
    "plt.plot([-200,-200],[-160,-400],'b', linewidth=5)\n",
    "plt.plot([-239.375,-239.375],[-160,-180],'b', linewidth=5)\n",
    "plt.plot([-258.75,-220],[-180,-180],'b', linewidth=5)\n",
    "plt.plot([-220,-220],[-180,-400],'b', linewidth=5)\n",
    "# plt.plot([-400,-400],[-180,-200],'b', linewidth=5)\n",
    "# plt.plot([-120,-120],[-100,-220],'b', linewidth=5)\n",
    "plt.plot([-140,-120],[-220,-220],'b', linewidth=5)\n",
    "plt.plot([-140,-140],[-220,-400],'b', linewidth=5)\n",
    "plt.plot([10,10],[-20,-240],'b', linewidth=5)\n",
    "plt.plot([00,20],[-240,-240],'b', linewidth=5)\n",
    "plt.plot([0,0],[-240,-400],'b', linewidth=5)\n",
    "plt.plot([20,20],[-240,-400],'b', linewidth=5)\n",
    "plt.plot([-258.75,-258.75],[-180,-260],'b', linewidth=5)\n",
    "plt.plot([-277.5,-240],[-260,-260],'b', linewidth=5)   \n",
    "plt.plot([-240,-240],[-260,-400],'b', linewidth=5)\n",
    "\n",
    "plt.plot([-277.5,-277.5],[-260,-280],'b', linewidth=5)\n",
    "plt.plot([-295,-260],[-280,-280],'b', linewidth=5)\n",
    "plt.plot([-260,-260],[-280,-400],'b', linewidth=5)\n",
    "\n",
    "plt.plot([-70,-70],[-80,-300],'b', linewidth=5)\n",
    "plt.plot([-80,-60],[-300,-300],'b', linewidth=5)\n",
    "plt.plot([-80,-80],[-300,-400],'b', linewidth=5)\n",
    "plt.plot([-60,-60],[-300,-400],'b', linewidth=5)\n",
    "\n",
    "plt.plot([-295,-295],[-280,-320],'b', linewidth=5)\n",
    "plt.plot([-315,-280],[-320,-320],'b', linewidth=5)\n",
    "plt.plot([-280,-280],[-320,-400],'b', linewidth=5)\n",
    "plt.plot([-315,-315],[-320,-340],'b', linewidth=5)\n",
    "\n",
    "plt.plot([-340,-320],[-360,-360],'b', linewidth=5)\n",
    "plt.plot([-340,-340],[-360,-400],'b', linewidth=5)\n",
    "plt.plot([-320,-320],[-360,-400],'b', linewidth=5)\n",
    "\n",
    "    \n",
    "plt.plot([-330,-330],[-340,-360],'b', linewidth=5)\n",
    "plt.plot([-330,-300],[-340,-340],'b', linewidth=5)\n",
    "plt.plot([-300,-300],[-340,-400],'b', linewidth=5)\n",
    "\n",
    "\n",
    "plt.plot([-140,-110],[-220,-220],'b', linewidth=5)\n",
    "plt.plot([-110,-110],[-220,-380],'b', linewidth=5)\n",
    "plt.plot([-120,-100],[-380,-380],'b', linewidth=5)\n",
    "plt.plot([-120,-120],[-380,-400],'b', linewidth=5)\n",
    "plt.plot([-100,-100],[-380,-400],'b', linewidth=5)\n",
    "\n",
    "plt.box(False)\n",
    "plt.xticks([])\n",
    "plt.yticks([])\n",
    "plt.ylim(-580,0)\n",
    "plt.text(-340,-580,gpotter.nodes[28]['nome'],rotation='vertical',horizontalalignment='center',fontsize=14)\n",
    "plt.text(-320,-580,gpotter.nodes[44]['nome'],rotation='vertical',horizontalalignment='center',fontsize=14)\n",
    "\n",
    "plt.text(-300,-580,gpotter.nodes[25]['nome'],rotation='vertical',horizontalalignment='center',fontsize=14)\n",
    "\n",
    "plt.text(-280,-580,gpotter.nodes[24]['nome'],rotation='vertical',horizontalalignment='center',fontsize=14)\n",
    "\n",
    "plt.text(-260,-580,gpotter.nodes[19]['nome'],rotation='vertical',horizontalalignment='center',fontsize=14)\n",
    "\n",
    "plt.text(-240,-580,gpotter.nodes[18]['nome'],rotation='vertical',horizontalalignment='center',fontsize=14)\n",
    "\n",
    "plt.text(-220,-580,gpotter.nodes[ 2]['nome'],rotation='vertical',horizontalalignment='center',fontsize=14)\n",
    "\n",
    "plt.text(-200,-580,gpotter.nodes[ 1]['nome'],rotation='vertical',horizontalalignment='center',fontsize=14)\n",
    "\n",
    "plt.text(-180,-580,gpotter.nodes[55]['nome'],rotation='vertical',horizontalalignment='center',fontsize=14)\n",
    "\n",
    "plt.text(-160,-580,gpotter.nodes[32]['nome'],rotation='vertical',horizontalalignment='center',fontsize=14)\n",
    "\n",
    "plt.text(-140,-580,gpotter.nodes[10]['nome'],rotation='vertical',horizontalalignment='center',fontsize=14)\n",
    "plt.text(-120,-580,gpotter.nodes[43]['nome'],rotation='vertical',horizontalalignment='center',fontsize=14)\n",
    "plt.text(-100,-580,gpotter.nodes[57]['nome'],rotation='vertical',horizontalalignment='center',fontsize=14)\n",
    "\n",
    "plt.text(- 80,-580,gpotter.nodes[20]['nome'],rotation='vertical',horizontalalignment='center',fontsize=14)\n",
    "plt.text(- 60,-580,gpotter.nodes[51]['nome'],rotation='vertical',horizontalalignment='center',fontsize=14)\n",
    "\n",
    "plt.text(- 40,-580,gpotter.nodes[27]['nome'],rotation='vertical',horizontalalignment='center',fontsize=14)\n",
    "\n",
    "plt.text(- 20,-580,gpotter.nodes[23]['nome'],rotation='vertical',horizontalalignment='center',fontsize=14)\n",
    "\n",
    "plt.text(-  0,-580,gpotter.nodes[13]['nome'],rotation='vertical',horizontalalignment='center',fontsize=14)\n",
    "plt.text(+ 20,-580,gpotter.nodes[38]['nome'],rotation='vertical',horizontalalignment='center',fontsize=14)\n",
    "\n",
    "plt.text(+ 40,-580,gpotter.nodes[16]['nome'],rotation='vertical',horizontalalignment='center',fontsize=14)\n",
    "\n",
    "plt.show()"
   ]
  },
  {
   "cell_type": "code",
   "execution_count": null,
   "metadata": {},
   "outputs": [],
   "source": []
  },
  {
   "cell_type": "markdown",
   "metadata": {},
   "source": [
    "### Agrupamento hierárquico"
   ]
  },
  {
   "cell_type": "markdown",
   "metadata": {},
   "source": [
    "import scipy.cluster.hierarchy as hier"
   ]
  },
  {
   "cell_type": "code",
   "execution_count": null,
   "metadata": {},
   "outputs": [],
   "source": [
    "import scipy.cluster.hierarchy as hier"
   ]
  },
  {
   "cell_type": "code",
   "execution_count": null,
   "metadata": {},
   "outputs": [],
   "source": [
    "A = nx.adjacency_matrix(gpotter)\n",
    "\n",
    "A = np.array(A.todense(), dtype = float)\n",
    "\n",
    "S = np.copy(A.T)"
   ]
  },
  {
   "cell_type": "code",
   "execution_count": null,
   "metadata": {},
   "outputs": [],
   "source": [
    "Z = hier.linkage(S, 'complete', metric='euclidean')"
   ]
  },
  {
   "cell_type": "code",
   "execution_count": null,
   "metadata": {},
   "outputs": [],
   "source": [
    "nomes = [gpotter.nodes[n]['nome'] for n in gpotter.nodes]"
   ]
  },
  {
   "cell_type": "code",
   "execution_count": null,
   "metadata": {},
   "outputs": [],
   "source": [
    "hier.set_link_color_palette(['b'])"
   ]
  },
  {
   "cell_type": "code",
   "execution_count": null,
   "metadata": {},
   "outputs": [],
   "source": [
    "fig, ax = plt.subplots(1, 1, figsize = (15,10))\n",
    "\n",
    "with plt.rc_context({'lines.linewidth': 5}):\n",
    "    dn = hier.dendrogram(Z, \n",
    "                         color_threshold = np.inf,\n",
    "                         leaf_rotation = 'vertical', \n",
    "                         leaf_font_size = 14, \n",
    "                         labels = nomes )\n",
    "    \n",
    "plt.tight_layout()\n",
    "plt.box(False)\n",
    "#_ = plt.yticks ()\n",
    "plt.show()"
   ]
  },
  {
   "cell_type": "code",
   "execution_count": null,
   "metadata": {},
   "outputs": [],
   "source": []
  }
 ],
 "metadata": {
  "kernelspec": {
   "display_name": "Python 3",
   "language": "python",
   "name": "python3"
  },
  "language_info": {
   "codemirror_mode": {
    "name": "ipython",
    "version": 3
   },
   "file_extension": ".py",
   "mimetype": "text/x-python",
   "name": "python",
   "nbconvert_exporter": "python",
   "pygments_lexer": "ipython3",
   "version": "3.10.12"
  }
 },
 "nbformat": 4,
 "nbformat_minor": 2
}
