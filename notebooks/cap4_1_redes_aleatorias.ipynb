{
 "cells": [
  {
   "cell_type": "code",
   "execution_count": null,
   "metadata": {},
   "outputs": [],
   "source": [
    "import networkx as nx\n",
    "import matplotlib.pyplot as plt\n",
    "import numpy as np\n",
    "import pandas as pd"
   ]
  },
  {
   "cell_type": "markdown",
   "metadata": {},
   "source": [
    "## Redes aleatórias"
   ]
  },
  {
   "cell_type": "markdown",
   "metadata": {},
   "source": [
    "Existem vários modelos de redes aleatórias. Um exemplo é a rede aleatória em que fixamos o número de vértices $n$ e cada uma das potenciais $\\frac{n(n−1)}{2}$ arestas poderia ocorrer na rede com a mesma probabilidade $p$, a qual é conhecida como modelo Erdös-Rényi, redes aleatória de Erdös-Rényi, rede\n",
    "aleatória de Poisson ou rede aleatória de Bernoulli.\n",
    "\n",
    "Um outro modelo de rede aleatória simples é quando fixamos além do número de vértices $n$ da rede, o número de arestas $m$ da mesma\n",
    "\n",
    "Em geral, quando se analisa redes aleatórias, o interesse é estudar propriedades de resultados médios de redes que são geradas de acordo com uma certa distribuição de probabilidade sobre um conjunto de possíveis redes.\n",
    "\n",
    "Devido a maior simplicidade para se obter analiticamente as propriedades médias das redes geradas, a rede aleatória de Erdös-Rényi é a mais utilizada.\n",
    "\n",
    "Em uma rede aleatória não direcionada de Erdös-Rényi, o número de arestas é uma variável aleatória com\n",
    "distribuição Binomial de parâmetros ${n \\choose 2}$ e $p$."
   ]
  },
  {
   "cell_type": "markdown",
   "metadata": {},
   "source": [
    "### Erdos Renyi\n",
    "\n",
    "Create an G{$n$,$m$} random graph with $n$ nodes and $m$ edges and report some properties.\n",
    "\n",
    "This graph is sometimes called the Erdős-Rényi graph but is different from G{$n$,$p$} or binomial_graph which is also sometimes called the Erdős-Rényi graph."
   ]
  },
  {
   "cell_type": "markdown",
   "metadata": {},
   "source": [
    "### gnp_random_graph\n",
    "\n",
    "gnp_random_graph(n, p, seed=None, directed=False)\n",
    "\n",
    "Returns a random graph, also known as an Erdős-Rényi graph or a binomial graph.\n",
    "\n",
    "The model chooses each of the possible edges with probability.\n",
    "\n",
    "Parameters:\n",
    "\n",
    "n (int) - The number of nodes.\n",
    "\n",
    "p (float) - Probability for edge creation.\n",
    "\n",
    "seed (integer, random_state, or None (default)) - Indicator of random number generation state.\n",
    "\n",
    "directed (bool, optional (default=False)) - If True, this function returns a directed graph."
   ]
  },
  {
   "cell_type": "markdown",
   "metadata": {},
   "source": [
    "### gnm_random_graph\n",
    "\n",
    "gnm_random_graph(n, m, seed=None, directed=False)\n",
    "\n",
    "Returns a G_{n,m} random graph.\n",
    "\n",
    "In the G_{n,m} model, a graph is chosen uniformly at random from the set of all graphs with n nodes and m edges.\n",
    "\n",
    "This algorithm should be faster than dense_gnm_random_graph() for sparse graphs.\n",
    "\n",
    "Parameters:\t\n",
    "\n",
    "n (int) - The number of nodes.\n",
    "\n",
    "m (int) - The number of edges.\n",
    "\n",
    "seed (int, optional) - Seed for random number generator (default=None).\n",
    "\n",
    "directed (bool, optional (default=False)) - If True return a directed graph"
   ]
  },
  {
   "cell_type": "markdown",
   "metadata": {},
   "source": [
    "### binomial_graph\n",
    "\n",
    "binomial_graph(n, p, seed=None, directed=False)\n",
    "\n",
    "Returns a random graph, also known as an Erdős-Rényi graph or a binomial graph.\n",
    "\n",
    "The model chooses each of the possible edges with probability.\n",
    "\n",
    "Parameters:\n",
    "\n",
    "n (int) - The number of nodes.\n",
    "\n",
    "p (float) - Probability for edge creation.\n",
    "\n",
    "seed (integer, random_state, or None (default)) - Indicator of random number generation state.\n",
    "\n",
    "directed (bool, optional (default=False)) - If True, this function returns a directed graph."
   ]
  },
  {
   "cell_type": "markdown",
   "metadata": {},
   "source": [
    "### erdos_renyi_graph\n",
    "\n",
    "erdos_renyi_graph(n, p, seed=None, directed=False)\n",
    "\n",
    "Returns a random graph, also known as an Erdős-Rényi graph or a binomial graph.\n",
    "\n",
    "The model chooses each of the possible edges with probability.\n",
    "\n",
    "Parameters:\n",
    "\n",
    "n (int) - The number of nodes.\n",
    "\n",
    "p (float) - Probability for edge creation.\n",
    "\n",
    "seed (integer, random_state, or None (default)) - Indicator of random number generation state.\n",
    "\n",
    "directed (bool, optional (default=False)) - If True, this function returns a directed graph."
   ]
  },
  {
   "cell_type": "code",
   "execution_count": null,
   "metadata": {},
   "outputs": [],
   "source": [
    "n = 10  # 10 nodes\n",
    "m = 20  # 20 edges\n",
    "seed = 20160  # seed random number generators for reproducibility\n",
    "\n",
    "# Use seed for reproducibility\n",
    "G = nx.gnm_random_graph(n,m,seed=seed)"
   ]
  },
  {
   "cell_type": "code",
   "execution_count": null,
   "metadata": {},
   "outputs": [],
   "source": [
    "# some properties\n",
    "print(\"node: degree, clustering\")\n",
    "for v in nx.nodes(G):\n",
    "    print(f\"{v} : {nx.degree(G, v)}, {nx.clustering(G, v)}\")"
   ]
  },
  {
   "cell_type": "code",
   "execution_count": null,
   "metadata": {},
   "outputs": [],
   "source": [
    "# some properties\n",
    "print(\"the adjacency list\")\n",
    "for line in nx.generate_adjlist(G):\n",
    "    print(line)"
   ]
  },
  {
   "cell_type": "code",
   "execution_count": null,
   "metadata": {},
   "outputs": [],
   "source": [
    "pos = nx.spring_layout(G, seed=seed)\n",
    "nx.draw(G, pos=pos, with_labels=True)\n",
    "plt.show()"
   ]
  },
  {
   "cell_type": "code",
   "execution_count": null,
   "metadata": {},
   "outputs": [],
   "source": [
    "nx.binomial_graph is nx.gnp_random_graph"
   ]
  },
  {
   "cell_type": "code",
   "execution_count": null,
   "metadata": {},
   "outputs": [],
   "source": [
    "nx.erdos_renyi_graph is nx.gnp_random_graph"
   ]
  },
  {
   "cell_type": "code",
   "execution_count": null,
   "metadata": {},
   "outputs": [],
   "source": [
    "p = dict(nx.shortest_path(G))\n",
    "print(p)"
   ]
  },
  {
   "cell_type": "code",
   "execution_count": null,
   "metadata": {},
   "outputs": [],
   "source": [
    "print([p for p in nx.all_shortest_paths(G, source=0, target=2)])"
   ]
  },
  {
   "cell_type": "code",
   "execution_count": null,
   "metadata": {},
   "outputs": [],
   "source": [
    "p = dict(nx.shortest_path_length(G))  # source,target not specified\n",
    "p"
   ]
  },
  {
   "cell_type": "code",
   "execution_count": null,
   "metadata": {},
   "outputs": [],
   "source": [
    "avg_sp = nx.average_shortest_path_length(G)\n",
    "print(avg_sp)"
   ]
  },
  {
   "cell_type": "code",
   "execution_count": null,
   "metadata": {},
   "outputs": [],
   "source": [
    "deg = nx.degree(G)\n",
    "print(deg)"
   ]
  },
  {
   "cell_type": "code",
   "execution_count": null,
   "metadata": {},
   "outputs": [],
   "source": [
    "dens = nx.density(G)\n",
    "print(dens)"
   ]
  },
  {
   "cell_type": "code",
   "execution_count": null,
   "metadata": {},
   "outputs": [],
   "source": [
    "clu = nx.clustering(G)\n",
    "clu"
   ]
  },
  {
   "cell_type": "code",
   "execution_count": null,
   "metadata": {},
   "outputs": [],
   "source": [
    "avg_clu = nx.average_clustering(G)\n",
    "print(avg_clu)"
   ]
  },
  {
   "cell_type": "code",
   "execution_count": null,
   "metadata": {},
   "outputs": [],
   "source": [
    "dia = nx.diameter(G)\n",
    "print(dia)"
   ]
  },
  {
   "cell_type": "code",
   "execution_count": null,
   "metadata": {},
   "outputs": [],
   "source": [
    "ecc = nx.eccentricity(G)\n",
    "print(ecc)"
   ]
  },
  {
   "cell_type": "code",
   "execution_count": null,
   "metadata": {},
   "outputs": [],
   "source": [
    "G = nx.gnm_random_graph(10,20)\n",
    "plt.title('random graph with \\n 10 node, 20 edges')\n",
    "pos = nx.spring_layout(G, seed=seed)\n",
    "nx.draw(G, pos=pos, with_labels=True)\n",
    "plt.show()"
   ]
  },
  {
   "cell_type": "code",
   "execution_count": null,
   "metadata": {},
   "outputs": [],
   "source": [
    "G = nx.gnp_random_graph(20,0.5)\n",
    "plt.title('random graph with \\n 20 nodes, 10% edge probability')\n",
    "pos = nx.spring_layout(G, seed=seed)\n",
    "nx.draw(G, pos=pos, with_labels=True)\n",
    "plt.show()"
   ]
  },
  {
   "cell_type": "code",
   "execution_count": null,
   "metadata": {},
   "outputs": [],
   "source": [
    "G = nx.random_regular_graph(3,10)\n",
    "plt.title('random graph with \\n 10 nodes, nodes of degree 3')\n",
    "pos = nx.spring_layout(G, seed=seed)\n",
    "nx.draw(G, pos=pos, with_labels=True)\n",
    "plt.show()"
   ]
  },
  {
   "cell_type": "markdown",
   "metadata": {},
   "source": [
    "Calcule.\n",
    "- centralidade de grau.\n",
    "- valor médio do comprimento dos caminhos geodésicos.\n",
    "- densidade.\n",
    "- coeficiente de agrupamento.\n",
    "- diâmetro."
   ]
  },
  {
   "cell_type": "markdown",
   "metadata": {},
   "source": []
  }
 ],
 "metadata": {
  "kernelspec": {
   "display_name": "Python 3",
   "language": "python",
   "name": "python3"
  },
  "language_info": {
   "codemirror_mode": {
    "name": "ipython",
    "version": 3
   },
   "file_extension": ".py",
   "mimetype": "text/x-python",
   "name": "python",
   "nbconvert_exporter": "python",
   "pygments_lexer": "ipython3",
   "version": "3.10.12"
  }
 },
 "nbformat": 4,
 "nbformat_minor": 2
}
