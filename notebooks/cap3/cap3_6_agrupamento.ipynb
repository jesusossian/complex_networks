{
 "cells": [
  {
   "cell_type": "code",
   "execution_count": null,
   "metadata": {},
   "outputs": [],
   "source": [
    "import networkx as nx\n",
    "import matplotlib.pyplot as plt\n",
    "import numpy as np\n",
    "import pandas as pd\n",
    "from networkx.algorithms import community as cm\n",
    "\n",
    "import scipy.cluster.hierarchy as hier"
   ]
  },
  {
   "cell_type": "markdown",
   "metadata": {},
   "source": [
    "### Agrupamento hierárquico\n",
    "\n",
    "No agrupamento hierárquico a idéia é iniciar com os nós isolados, cada um formando uma comunidade unitária, e a cada etapa ir juntando os nós aos grupos de acordo com alguma medida de similaridade de pares de nós.\n",
    "\n",
    "Algumas medidas podem ser usadas para quantificar a similaridade entre nós. \n",
    "No método CONCOR, usamos a correlação de Pearson entre as linhas da matriz de adjacência correspondente a dois nós, como uma medida de similaridade entre eles. \n",
    "\n",
    "Outras possibilidades são usar o recíproco da distância Euclideana entre as linhas da matriz, ou o número de nós na rede menos o número de vizinhos que está na vizinhança de apenas um dos nós em cada par."
   ]
  },
  {
   "cell_type": "markdown",
   "metadata": {},
   "source": [
    "**Exemplo**\n",
    "\n",
    "Considere o exemplo dos personagens do segundo livro da saga de Harry Potter."
   ]
  },
  {
   "cell_type": "code",
   "execution_count": null,
   "metadata": {},
   "outputs": [],
   "source": [
    "atri = pd.read_csv('../data/harrypotter/hpattributes.txt', sep='\\t')\n",
    "ares = pd.read_csv('../data/harrypotter/hpbook2.txt', sep=' ', header=None)\n",
    "nome = pd.read_csv('../data/harrypotter/hpnames.txt', sep='\\t')"
   ]
  },
  {
   "cell_type": "code",
   "execution_count": null,
   "metadata": {},
   "outputs": [],
   "source": [
    "# criando a rede\n",
    "\n",
    "gpotter = nx.DiGraph()\n",
    "\n",
    "n = atri.shape[0]\n",
    "\n",
    "for k in range(n):\n",
    "    gpotter.add_node(k,\n",
    "                     nome = nome['name'][k],\n",
    "                     ano = atri['schoolyear'][k],\n",
    "                     gen = atri['gender'][k],\n",
    "                     casa = atri['house'][k])\n",
    "\n",
    "for k in range(n):\n",
    "    for m in range(n):\n",
    "        if ares.values[k][m] == 1:\n",
    "            gpotter.add_edge(k,m)"
   ]
  },
  {
   "cell_type": "code",
   "execution_count": null,
   "metadata": {},
   "outputs": [],
   "source": [
    "fig, ax = plt.subplots(1,1,figsize=(15,10))\n",
    "\n",
    "nx.draw(gpotter,with_labels=True)"
   ]
  },
  {
   "cell_type": "code",
   "execution_count": null,
   "metadata": {},
   "outputs": [],
   "source": [
    "# matriz de adjacencia esparsa\n",
    "A = nx.adjacency_matrix(gpotter)\n",
    "\n",
    "# apagando os nos isolados\n",
    "isolados = []\n",
    "for k in range(n):\n",
    "    if np.sum(A[[k],:]) == 0:\n",
    "        isolados.append(k)\n",
    "        gpotter.remove_node(k)\n",
    "\n",
    "print(len(isolados), 'nos isolados.')"
   ]
  },
  {
   "cell_type": "code",
   "execution_count": null,
   "metadata": {},
   "outputs": [],
   "source": [
    "fig, ax = plt.subplots(1,1,figsize=(15,10))\n",
    "\n",
    "nx.draw(gpotter,with_labels=True)"
   ]
  },
  {
   "cell_type": "markdown",
   "metadata": {},
   "source": [
    "O **networkx** não tem funções para fazer um agrupamento hierárquico de vértices. \n",
    "\n",
    "O pacote **SciPy** tem um sub-pacote, chamado **clustering.hierachical**. \n",
    "Entre as funções deste pacote, encontramos **linkage** que constrói agrupamentos hierárquicos usando diversos critérios. \n",
    "\n",
    "Alguns desses critérios são:\n",
    "\n",
    "- **complete linkage**: a similaridade entre dois grupos é medida como a mínima similaridade entre cada par de vértices.\n",
    "\n",
    "- **single linkage**: a similaridade entre dois grupos é medida como a máxima similaridade entre cada par de vértices.\n",
    "\n",
    "- **average linkage**: a similaridade entre dois grupos é medida como a média das similaridades entre cada par de vértices.\n",
    "\n",
    "O algoritmo começa adjuntando os dois vértices que têm a maior similaridade. \n",
    "Depois, o algoritmo continua adjuntando dois grupos que têm a maior similaridade, de acordo com o tipo de ligação usada."
   ]
  },
  {
   "cell_type": "code",
   "execution_count": null,
   "metadata": {},
   "outputs": [],
   "source": []
  },
  {
   "cell_type": "code",
   "execution_count": null,
   "metadata": {},
   "outputs": [],
   "source": [
    "# matriz de adjacencia esparsa\n",
    "A = nx.adjacency_matrix(gpotter)\n",
    "\n",
    "# matriz de adjacencia densa\n",
    "A = np.array(A.todense(), dtype = float)\n",
    "\n",
    "S = np.copy(A.T)"
   ]
  },
  {
   "cell_type": "code",
   "execution_count": null,
   "metadata": {},
   "outputs": [],
   "source": [
    "# agrupamento\n",
    "Z = hier.linkage(S, 'complete', metric='euclidean')"
   ]
  },
  {
   "cell_type": "code",
   "execution_count": null,
   "metadata": {},
   "outputs": [],
   "source": [
    "# etiquetas\n",
    "nomes = [gpotter.nodes[n]['nome'] for n in gpotter.nodes]"
   ]
  },
  {
   "cell_type": "markdown",
   "metadata": {},
   "source": [
    "**set_link_color_palette()**\n",
    "\n",
    "Set list of matplotlib color codes for use by dendrogram."
   ]
  },
  {
   "cell_type": "code",
   "execution_count": null,
   "metadata": {},
   "outputs": [],
   "source": [
    "# cores das linhas do grafico\n",
    "hier.set_link_color_palette(['b'])"
   ]
  },
  {
   "cell_type": "markdown",
   "metadata": {},
   "source": [
    "**hier.dendrogram()**\n",
    "\n",
    "Plot the hierarchical clustering as a dendrogram."
   ]
  },
  {
   "cell_type": "code",
   "execution_count": null,
   "metadata": {},
   "outputs": [],
   "source": [
    "#  Dendrograma de agrupamento hierárquico baseado, aplicado a uma rede de personagens do segundo livro da saga Harry Potter\n",
    "\n",
    "fig, ax = plt.subplots(1, 1, figsize = (15,10))\n",
    "\n",
    "with plt.rc_context({'lines.linewidth': 5}):\n",
    "    dn = hier.dendrogram(Z, \n",
    "                         color_threshold = np.inf,\n",
    "                         leaf_rotation = 'vertical', \n",
    "                         leaf_font_size = 14, \n",
    "                         labels = nomes )\n",
    "    \n",
    "plt.tight_layout()\n",
    "plt.box(False)\n",
    "plt.show()"
   ]
  },
  {
   "cell_type": "code",
   "execution_count": null,
   "metadata": {},
   "outputs": [],
   "source": []
  }
 ],
 "metadata": {
  "kernelspec": {
   "display_name": "Python 3",
   "language": "python",
   "name": "python3"
  },
  "language_info": {
   "codemirror_mode": {
    "name": "ipython",
    "version": 3
   },
   "file_extension": ".py",
   "mimetype": "text/x-python",
   "name": "python",
   "nbconvert_exporter": "python",
   "pygments_lexer": "ipython3",
   "version": "3.10.12"
  }
 },
 "nbformat": 4,
 "nbformat_minor": 2
}
