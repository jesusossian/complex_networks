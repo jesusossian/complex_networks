{
 "cells": [
  {
   "cell_type": "markdown",
   "metadata": {},
   "source": [
    "## Trabalho Computacional 2 - Redes Complexas"
   ]
  },
  {
   "cell_type": "markdown",
   "metadata": {},
   "source": [
    "## Questão 1\n",
    "\n",
    "Considere o dataset **football.gml**.\n",
    "Links do dataset:\n",
    "- https://websites.umich.edu/~mejn/netdata/football.zip ou \n",
    "- https://github.com/jesusossian/complex_networks_2024_1/tree/main/data/work2/football)\n",
    "\n",
    "1. Gere uma rede associada a este dataset e um gráfico para visualizar a rede.\n",
    "\n",
    "2. Encontre o número de comunidades da rede retornado pela função do networkx **greedy_modularity_communities()**.\n",
    "\n",
    "3. Aplique a função do networkx **girvan_newman()** a rede com o mesmo número de comunidades gerado em 1. \n",
    "\n",
    "4. Gere gráficos para visualizar os resultados de 2 e 3.\n",
    "\n",
    "5. Quais suas conclusões/observações de acordo com os experimentos.\n",
    "\n",
    "**Fonte do dataset:** M. Girvan and M. E. J. Newman, Community structure in social and biological networks, Proc. Natl. Acad. Sci. USA 99, 7821-7826 (2002)."
   ]
  },
  {
   "cell_type": "markdown",
   "metadata": {},
   "source": [
    "## Questão 2\n",
    "\n",
    "Considere a função do networkx **erdos_renyi_graph()**\n",
    "\n",
    "1. Gere redes de tamanho 1000 e probabilidade para criação de arestas igual a 0.2, 0.3 e 0.5.\n",
    "\n",
    "2. Calcule para cada rede: centralidade de grau, valor médio do comprimento dos caminhos geodésicos, densidade, coeficiente de agrupamento e o diâmetro.\n",
    "\n",
    "3. Quais suas conclusões/observações de acordo com os experimentos."
   ]
  },
  {
   "cell_type": "markdown",
   "metadata": {},
   "source": [
    "## Questão 3\n",
    "\n",
    "Considere a função do networkx **barabasi_albert_graph()**.\n",
    "\n",
    "1. Gere redes de tamanho 1000 e número de ligações por vértice igual a 5, 10, 25 e 50, respectivamente.\n",
    "\n",
    "2. Calcule para cada rede: centralidade de grau, valor médio do comprimento dos caminhos geodésicos, densidade, coeficiente de agrupamento e diâmetro.\n",
    "\n",
    "3. Quais suas conclusões/observações de acordo com os experimentos."
   ]
  },
  {
   "cell_type": "markdown",
   "metadata": {},
   "source": [
    "## Questão 4\n",
    "\n",
    "Considere a função do networkx **barabasi_albert_graph()**. \n",
    "\n",
    "1. Gere uma rede de Barabasi Albert com 1000 nós e 7 ligações por vértice.\n",
    "\n",
    "2. Implemente o modelo SI, onde $5\\%$ dos nós estão inicialmente infectados, probabilidade de infecção igual a 0.05 e simule até T=200.\n",
    "\n",
    "3. Crie um gráfico mostrando o percentual de infectados ao longo do tempo(200).\n",
    "\n",
    "4. Quais suas conclusões/observações de acordo com os experimentos."
   ]
  },
  {
   "cell_type": "markdown",
   "metadata": {},
   "source": [
    "## Questão 5\n",
    "\n",
    "Considere a função do networkx **barabasi_albert_graph()**.\n",
    "\n",
    "1. Gere uma rede de Barabasi Albert com 1000 nós e 7 ligações por vértice.\n",
    "\n",
    "2. Implemente o modelo SIR, onde $5\\%$ dos nós estão inicialmente infectados, a probabilidade de infecção igual a 0.05, probabilidade de se recuperar igual a 0.10 e simule até T=200. \n",
    "\n",
    "3. Crie um gráfico mostrando o percentual de infectados e o percentual de recuperados ao longo do tempo(200).\n",
    "\n",
    "4. Quais suas conclusões/observações de acordo com os experimentos."
   ]
  },
  {
   "cell_type": "markdown",
   "metadata": {},
   "source": []
  }
 ],
 "metadata": {
  "kernelspec": {
   "display_name": "Python 3",
   "language": "python",
   "name": "python3"
  },
  "language_info": {
   "codemirror_mode": {
    "name": "ipython",
    "version": 3
   },
   "file_extension": ".py",
   "mimetype": "text/x-python",
   "name": "python",
   "nbconvert_exporter": "python",
   "pygments_lexer": "ipython3",
   "version": "3.10.12"
  }
 },
 "nbformat": 4,
 "nbformat_minor": 2
}
