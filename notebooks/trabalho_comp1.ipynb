{
 "cells": [
  {
   "cell_type": "markdown",
   "metadata": {},
   "source": [
    "## Trabalho Computacional 1 - Redes Complexas"
   ]
  },
  {
   "cell_type": "markdown",
   "metadata": {},
   "source": [
    "### Questão 1\n",
    "\n",
    "Considere as instâncias compartilhada no [link](https://github.com/jesusossian/complex_networks_2024_1/tree/main/data/work1).\n",
    "\n",
    "Os arquivos corresponde a redes direcionadas e ponderadas, onde existem dois tipos de pesos, **weight1** e **weight2**.\n",
    "\n",
    "**weight1**: o grau de entrada do vértice é quantos gols o time fez no total em todas as partidas que disputou e o grau de saída é quantos gols o time sofreu no total em todas as partidas que disputou.\n",
    "\n",
    "**weight2**: o grau de entrada do vértice é quantos pontos o time conquistou no total e o grau de saída é quantos pontos os adversários do time conquistaram no total em confronto com ele.\n",
    "\n",
    "- Monte uma rede usando essas instâncias de acordo com a alocação instância-aluno a seguir\n",
    "    - **Carlos Daniel**: [brasileirao_a_2003_2012.csv](https://github.com/jesusossian/complex_networks_2024_1/blob/main/data/work1/brasileirao_a_2003_2012.csv)\n",
    "    - **Davi Pereira**: [paulista_2013_2023.csv](https://github.com/jesusossian/complex_networks_2024_1/blob/main/data/work1/paulista_2013_2023.csv)\n",
    "    - **Yvens Alves**: [copa_do_brasil_2020_2023.csv](https://github.com/jesusossian/complex_networks_2024_1/blob/main/data/work1/copa_do_brasil_2020_2023.csv)\n",
    "    - **Gabriel Dimitri**:  [libertadores_2013_2022.csv](https://github.com/jesusossian/complex_networks_2024_1/blob/main/data/work1/libertadores_2013_2022.csv)\n",
    "    - **Helano Pessoa**: [laliga_1995_2023.csv](https://github.com/jesusossian/complex_networks_2024_1/blob/main/data/work1/laliga_1995_2023.csv)\n",
    "    - **José Robério**: [wourldcup_1930_2014.csv](https://github.com/jesusossian/complex_networks_2024_1/blob/main/data/work1/wourldcup_1930_2014.csv)\n",
    "\n",
    "- Elabore um gráfico para as redes criadas. A configuração(escolha) do gráfico fica a critério do aluno."
   ]
  },
  {
   "cell_type": "markdown",
   "metadata": {},
   "source": [
    "### Questão 2\n",
    "\n",
    "Utilizando a rede construida na questão 1. \n",
    "- Calcule as métricas globais (seção 1.3 das notas de aula). "
   ]
  },
  {
   "cell_type": "markdown",
   "metadata": {},
   "source": [
    "### Questão 3\n",
    "\n",
    "Utilizando a rede construida na questão 1. \n",
    "- Calcule as métricas de centralidade da centralidade(seção 2.2 das notas de aula). \n",
    "- Crie uma lista com os 5 melhores valores de cada métrica cálculada."
   ]
  },
  {
   "cell_type": "markdown",
   "metadata": {},
   "source": [
    "### Questão 4\n",
    "\n",
    "Elabore um gráfico para cada métrica calcula na questão 3.\n",
    "A configuração do gráfico fica a critério do aluno."
   ]
  },
  {
   "cell_type": "markdown",
   "metadata": {},
   "source": [
    "### Questão 5\n",
    " \n",
    "Escreva um relatório sobre os resultados obtidos. \n",
    "Os códigos em Python deverão ser adicionados neste notebook. "
   ]
  },
  {
   "cell_type": "markdown",
   "metadata": {},
   "source": [
    "### Fonte das intâncias\n",
    "\n",
    "- [brasileirao_a_2003_2012.csv](https://basedosdados.org/dataset/c861330e-bca2-474d-9073-bc70744a1b23?table=18835b0d-233e-4857-b454-1fa34a81b4fa)\n",
    "- [libertadores_2013_2022.csv](https://www.kaggle.com/datasets/ricardomattos05/brazilian-soccer-database)\n",
    "- [paulista_2013_2023.csv](https://www.kaggle.com/datasets/profdavidsonsantana/campeonato-paulista-de-futebol-placares-e-odds)\n",
    "- [copa_do_brasil_2020_2023.csv](https://basedosdados.org/dataset/c861330e-bca2-474d-9073-bc70744a1b23?table=19e96c3f-c932-4e14-82e2-58e170454e3d) \n",
    "- [laliga_1995_2023.csv](https://www.kaggle.com/datasets/kishan305/la-liga-results-19952020?rvi=1)\n",
    "- [wourldcup_1930_2014.csv](https://www.kaggle.com/datasets/mozattt/worldcupdata19302018)"
   ]
  },
  {
   "cell_type": "markdown",
   "metadata": {},
   "source": []
  }
 ],
 "metadata": {
  "language_info": {
   "name": "python"
  }
 },
 "nbformat": 4,
 "nbformat_minor": 2
}
