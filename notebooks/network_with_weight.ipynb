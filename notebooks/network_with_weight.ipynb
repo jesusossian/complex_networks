{
 "cells": [
  {
   "cell_type": "code",
   "execution_count": null,
   "metadata": {},
   "outputs": [],
   "source": [
    "import networkx as nx\n",
    "import pandas as pd\n",
    "\n",
    "import matplotlib.pyplot as plt\n",
    "import matplotlib.colors as mcolors\n",
    "\n",
    "# for notebook\n",
    "%matplotlib inline"
   ]
  },
  {
   "cell_type": "code",
   "execution_count": null,
   "metadata": {},
   "outputs": [],
   "source": [
    "# grafico\n",
    "\n",
    "def grafico_g(G, pos, rede):\n",
    "\n",
    "    fig, ax = plt.subplots(1,1,figsize=(25,20))\n",
    "\n",
    "    # draw edges\n",
    "    nx.draw_networkx_edges(G, \n",
    "                           pos=pos, \n",
    "                           alpha=0.4, \n",
    "                           ax=ax)\n",
    "\n",
    "    # draw nodes\n",
    "    nodes = nx.draw_networkx_nodes(G,\n",
    "                                   node_size=200,\n",
    "                                   pos=pos,\n",
    "                                   node_color='lightblue',  \n",
    "                                   cmap=plt.cm.jet,\n",
    "                                   ax=ax)\n",
    "\n",
    "    # draw labels\n",
    "    nx.draw_networkx_labels(G, \n",
    "                            pos=pos,\n",
    "                            font_weight='bold',\n",
    "                            font_color='black',\n",
    "                            font_size=11, \n",
    "                            ax=ax)\n",
    "\n",
    "    plt.title(rede)\n",
    "    plt.axis(\"off\")\n",
    "    plt.show()"
   ]
  },
  {
   "cell_type": "markdown",
   "metadata": {},
   "source": [
    "### Instancia\n",
    "\n",
    "- **Stack Overflow Tag Network:** Network (links and nodes) of Stack Overflow tags based on Developer Stories.\n",
    "\n",
    "- **Link:** https://www.kaggle.com/datasets/stackoverflow/stack-overflow-tag-network/data\n"
   ]
  },
  {
   "cell_type": "code",
   "execution_count": null,
   "metadata": {},
   "outputs": [],
   "source": [
    "file_name = 'data/stack_network/stack_network_links.csv'"
   ]
  },
  {
   "cell_type": "code",
   "execution_count": null,
   "metadata": {},
   "outputs": [],
   "source": [
    "df = pd.read_csv(file_name)"
   ]
  },
  {
   "cell_type": "code",
   "execution_count": null,
   "metadata": {},
   "outputs": [],
   "source": [
    "df.head()"
   ]
  },
  {
   "cell_type": "code",
   "execution_count": null,
   "metadata": {},
   "outputs": [],
   "source": [
    "SG = nx.Graph()"
   ]
  },
  {
   "cell_type": "code",
   "execution_count": null,
   "metadata": {},
   "outputs": [],
   "source": [
    "with open(file_name) as f:\n",
    "  next(f)\n",
    "  SG = nx.parse_edgelist(f.readlines(), comments='/', delimiter=',', data=(('weight', float),))"
   ]
  },
  {
   "cell_type": "code",
   "execution_count": null,
   "metadata": {},
   "outputs": [],
   "source": [
    "n = nx.number_of_nodes(SG)\n",
    "m = nx.number_of_edges(SG)\n",
    "\n",
    "print(\"#vertices =\", n)\n",
    "print(\"#arestas =\", m)\n",
    "\n",
    "print(\"rede eh conexa:\", nx.is_connected(SG))"
   ]
  },
  {
   "cell_type": "code",
   "execution_count": null,
   "metadata": {},
   "outputs": [],
   "source": [
    "list(SG.nodes())[:10]"
   ]
  },
  {
   "cell_type": "code",
   "execution_count": null,
   "metadata": {},
   "outputs": [],
   "source": [
    "list(SG.edges.data('weight'))[:10]"
   ]
  },
  {
   "cell_type": "code",
   "execution_count": null,
   "metadata": {},
   "outputs": [],
   "source": [
    "pos = nx.nx_pydot.graphviz_layout(SG)\n",
    "grafico_g(SG, pos, \"Stack Overflow Network\")"
   ]
  },
  {
   "cell_type": "markdown",
   "metadata": {},
   "source": [
    "### Grau\n",
    "\n",
    "- O _degree_ de um nó é basicamente o número de arestas estão conectadas a $v$.\n",
    "\n",
    "- O _degree centrality_ de um nó $v$ é a fração dos nós conectados a $v$.\n",
    "\n",
    "- Os _degree centrality_ valores de G são normalizados pela divisão deles pelo máximo _degree_ da rede."
   ]
  },
  {
   "cell_type": "code",
   "execution_count": null,
   "metadata": {},
   "outputs": [],
   "source": [
    "# degree\n",
    "\n",
    "deg = nx.degree(SG)\n",
    "\n",
    "deg_list = sorted(dict(deg).items(), key=lambda node: node[1], reverse=True)[:10]\n",
    "\n",
    "for t in deg_list:\n",
    "    print(t)"
   ]
  },
  {
   "cell_type": "code",
   "execution_count": null,
   "metadata": {},
   "outputs": [],
   "source": [
    "def grafico_g_medida(G, pos, medida, medida_nome):\n",
    "\n",
    "    fig, ax = plt.subplots(1,1,figsize=(25,20))\n",
    "    \n",
    "    nodes = nx.draw_networkx_nodes(G, \n",
    "                                   pos, \n",
    "                                   node_size=200, \n",
    "                                   cmap=plt.cm.plasma, \n",
    "                                   node_color=list(medida.values()),\n",
    "                                   nodelist=medida.keys(),\n",
    "                                   ax=ax)\n",
    "    \n",
    "    #nodes.set_norm(mcolors.SymLogNorm(linthresh=0.01, linscale=1, base=10))\n",
    "    \n",
    "    labels = nx.draw_networkx_labels(G, pos)\n",
    "    \n",
    "    edges = nx.draw_networkx_edges(G, pos)\n",
    "\n",
    "    plt.title(medida_nome)\n",
    "    plt.colorbar(nodes)\n",
    "    plt.axis('off')\n",
    "    plt.show()"
   ]
  },
  {
   "cell_type": "code",
   "execution_count": null,
   "metadata": {},
   "outputs": [],
   "source": [
    "# grafico da medida\n",
    "\n",
    "pos = nx.nx_pydot.graphviz_layout(SG)\n",
    "medida = dict(nx.degree(SG))\n",
    "medida_nome = 'degree'\n",
    "grafico_g_medida(SG, pos, medida, medida_nome)"
   ]
  },
  {
   "cell_type": "code",
   "execution_count": null,
   "metadata": {},
   "outputs": [],
   "source": [
    "# degree with weight\n",
    "\n",
    "degw = nx.degree(SG, weight='weight')\n",
    "\n",
    "degw_list = sorted(dict(degw).items(), key=lambda node: node[1], reverse=True)[:10]\n",
    "\n",
    "for t in degw_list:\n",
    "    print(t)"
   ]
  },
  {
   "cell_type": "code",
   "execution_count": null,
   "metadata": {},
   "outputs": [],
   "source": [
    "# degree_centrality with weight\n",
    "\n",
    "#degcw = nx.degree_centrality(SG, weight='weight')\n",
    "\n",
    "degw = nx.degree(SG,weight='weight')\n",
    "\n",
    "max_degw = max(dict(degw).values())\n",
    "\n",
    "degcw = {key:value/max_degw for key, value in dict(degw).items()}\n",
    "\n",
    "degcw_list = sorted(dict(degcw).items(), key=lambda node: node[1], reverse=True)[:10]\n",
    "\n",
    "for t in degcw_list:\n",
    "    print(t)"
   ]
  },
  {
   "cell_type": "code",
   "execution_count": null,
   "metadata": {},
   "outputs": [],
   "source": []
  },
  {
   "cell_type": "markdown",
   "metadata": {},
   "source": [
    "### Excentricidade\n",
    "\n",
    "- A _eccentricity_ de um nó $v$ é a distância máxima de $v$ para todos os outros nodes de $G$."
   ]
  },
  {
   "cell_type": "code",
   "execution_count": null,
   "metadata": {},
   "outputs": [],
   "source": [
    "# eccentricity\n",
    "\n",
    "if nx.is_connected(SG) == True:\n",
    "    \n",
    "    ecc = nx.eccentricity(SG)\n",
    "\n",
    "    ecc_list = sorted(dict(ecc).items(), key=lambda node: node[1], reverse=True)[:10]\n",
    "\n",
    "    for t in ecc_list:\n",
    "        print(t)\n",
    "else:\n",
    "    print(\"rede não eh conectada!\")"
   ]
  },
  {
   "cell_type": "code",
   "execution_count": null,
   "metadata": {},
   "outputs": [],
   "source": [
    "# eccentricity with weight\n",
    "\n",
    "if nx.is_connected(SG) == True:\n",
    "\n",
    "    eccw = nx.eccentricity(SG, weight='weight')\n",
    "\n",
    "    eccw_list = sorted(dict(eccw).items(), key=lambda node: node[1], reverse=True)[:10]\n",
    "\n",
    "    for t in eccw_list:\n",
    "        print(t)\n",
    "else:\n",
    "    print(\"rede nao eh conectada!\")"
   ]
  },
  {
   "cell_type": "code",
   "execution_count": null,
   "metadata": {},
   "outputs": [],
   "source": []
  },
  {
   "cell_type": "markdown",
   "metadata": {},
   "source": [
    "### Proximidade\n",
    "\n",
    "- a _closeness centrality_ de um nó $u$ é a reciproca da média das _shortest path distance_ entre $u$ e todos os outros $n-1$ nós ligados a $u$.\n",
    "$$\n",
    "cloc(u) = \\frac{n - 1}{\\sum_{v=1}^{n-1} d(v, u)},\n",
    "$$\n",
    "\n",
    "- $d(v, u)$ é a _shortest-path distance_ entre $v$ e $u$.\n"
   ]
  },
  {
   "cell_type": "code",
   "execution_count": null,
   "metadata": {},
   "outputs": [],
   "source": [
    "# closeness_centrality\n",
    "\n",
    "cloc = nx.closeness_centrality(SG)\n",
    "\n",
    "cloc_list = sorted(dict(cloc).items(), key=lambda node: node[1], reverse=True)[:10]\n",
    "\n",
    "for t in cloc_list:\n",
    "    print(t)"
   ]
  },
  {
   "cell_type": "code",
   "execution_count": null,
   "metadata": {},
   "outputs": [],
   "source": [
    "# closeness_centrality with weight\n",
    "\n",
    "#cloc = nx.closeness_centrality(SG, weight = 'weight')\n",
    "\n",
    "g_distance_dict = {(e1, e2): 1 / weight for e1, e2, weight in SG.edges(data='weight')}\n",
    "nx.set_edge_attributes(SG, g_distance_dict, 'distance')\n",
    "\n",
    "cloc = nx.closeness_centrality(SG, distance='distance')\n",
    "\n",
    "cloc_list = sorted(dict(cloc).items(), key=lambda node: node[1], reverse=True)[:10]\n",
    "\n",
    "for t in cloc_list:\n",
    "    print(t)"
   ]
  },
  {
   "cell_type": "code",
   "execution_count": null,
   "metadata": {},
   "outputs": [],
   "source": []
  },
  {
   "cell_type": "markdown",
   "metadata": {},
   "source": [
    "### Harmônica\n",
    "\n",
    "- A _harmonic centrality_ de um nó $u$ é a soma da reciproca das _shortest path distances_ sobre todos os outros nós linkados a $u$.\n",
    "$$\n",
    "harc(u) = \\sum_{v \\neq u} \\frac{1}{d(v, u)}\n",
    "$$\n",
    "onde $d(v, u)$ é a _shortest-path distance_ entre $v$ e $u$."
   ]
  },
  {
   "cell_type": "code",
   "execution_count": null,
   "metadata": {},
   "outputs": [],
   "source": [
    "# harmonic_centrality\n",
    "\n",
    "harc = nx.harmonic_centrality(SG)\n",
    "\n",
    "harc_list = sorted(dict(harc).items(), key=lambda node: node[1], reverse=True)[:10]\n",
    "\n",
    "for t in harc_list:\n",
    "    print(t)"
   ]
  },
  {
   "cell_type": "code",
   "execution_count": null,
   "metadata": {},
   "outputs": [],
   "source": [
    "# harmonic_centrality with weight\n",
    "\n",
    "#harcw = nx.harmonic_centrality(SG, weight='weight')\n",
    "\n",
    "g_distance_dict = {(e1, e2): 1 / weight for e1, e2, weight in SG.edges(data='weight')}\n",
    "nx.set_edge_attributes(SG, g_distance_dict, 'distance')\n",
    "\n",
    "harcw = nx.harmonic_centrality(SG, distance='distance')\n",
    "\n",
    "harcw_list = sorted(dict(harcw).items(), key=lambda node: node[1], reverse=True)[:10]\n",
    "\n",
    "for t in harcw_list:\n",
    "    print(t)"
   ]
  },
  {
   "cell_type": "code",
   "execution_count": null,
   "metadata": {},
   "outputs": [],
   "source": []
  },
  {
   "cell_type": "markdown",
   "metadata": {},
   "source": [
    "### Intermediação\n",
    "\n",
    "- A _betweenness centrality_ de um nó $v$ é a soma da fração de todos as arestas dos _shortest paths_ que passam por $v$\n",
    "$$\n",
    "betc(v) =\\sum_{s,t \\in V} \\frac{\\sigma(s, t|v)}{\\sigma(s, t)}\n",
    "$$\n",
    "onde $V$ é o conjunto dos nós, $\\sigma(s, t)$ é o número de _shortest $(s, t)$-paths_, e $\\sigma(s, t|v)$ é o número desses _paths_ que passam por $v$ onde v é diferente de $s$ ou $t$.\n",
    "\n",
    "- Se $s = t$, $\\sigma(s, t) = 1$, e se $v \\in (s, t)$, $\\sigma(s, t|v) = 0$."
   ]
  },
  {
   "cell_type": "code",
   "execution_count": null,
   "metadata": {},
   "outputs": [],
   "source": [
    "# betweenness_centrality\n",
    "\n",
    "betc = nx.betweenness_centrality(SG, normalized = True)\n",
    "\n",
    "betc = sorted(dict(betc).items(), key=lambda node: node[1], reverse=True)[:10]\n",
    "\n",
    "for t in betc:\n",
    "    print(t)"
   ]
  },
  {
   "cell_type": "code",
   "execution_count": null,
   "metadata": {},
   "outputs": [],
   "source": [
    "# betweenness_centrality with weight\n",
    "\n",
    "betcw = nx.betweenness_centrality(SG, weight = 'weight', normalized = True)\n",
    "\n",
    "betcw_list = sorted(betcw.items(), key=lambda node: node[1], reverse=True)[:10]\n",
    "\n",
    "for t in betcw_list:\n",
    "    print(t)"
   ]
  },
  {
   "cell_type": "code",
   "execution_count": null,
   "metadata": {},
   "outputs": [],
   "source": []
  },
  {
   "cell_type": "markdown",
   "metadata": {},
   "source": [
    "### Autovetor\n",
    "\n",
    "- A _eigenvector centrality_ é uma extensão da _degree centrality_.\n",
    "\n",
    "- A _eigenvector centrality_ calcula a centralidade de um nó pela adição da centralidade de seus predecessores.\n",
    "\n",
    "- A centralidade do nó $i$ é o $i$-th elemento de um _eigenvector_ associado a $i$ com o _eigenvalue_ $\\lambda$ de módulo máximo e positivo."
   ]
  },
  {
   "cell_type": "code",
   "execution_count": null,
   "metadata": {},
   "outputs": [],
   "source": [
    "# eigenvector_centrality_numpy\n",
    "\n",
    "eige = nx.eigenvector_centrality_numpy(SG)\n",
    "\n",
    "eige_list = sorted(dict(eige).items(), key=lambda node: node[1], reverse=True)[:10]\n",
    "\n",
    "for t in eige_list:\n",
    "    print(t)"
   ]
  },
  {
   "cell_type": "code",
   "execution_count": null,
   "metadata": {},
   "outputs": [],
   "source": [
    "# eigenvector_centrality with weight\n",
    "\n",
    "eigew = nx.eigenvector_centrality_numpy(SG, weight='weight')\n",
    "\n",
    "eigew_list = sorted(eigew.items(), key=lambda node: node[1], reverse=True)[:10]\n",
    "\n",
    "for t in eigew_list:\n",
    "    print(t)"
   ]
  },
  {
   "cell_type": "code",
   "execution_count": null,
   "metadata": {},
   "outputs": [],
   "source": []
  },
  {
   "cell_type": "markdown",
   "metadata": {},
   "source": [
    "### Katz\n",
    "\n",
    "- _katz centrality_ calcula a centralidade de um nó baseada na centralidade de sua vizinhança. \n",
    "\n",
    "- _katz centrality_ é uma generalização da _eigenvector centrality_"
   ]
  },
  {
   "cell_type": "code",
   "execution_count": null,
   "metadata": {},
   "outputs": [],
   "source": [
    "# katz\n",
    "\n",
    "katz = nx.katz_centrality_numpy(SG, alpha=0.08, beta=1)\n",
    "\n",
    "katz_list = sorted(dict(katz).items(), key=lambda node: node[1], reverse=True)[:10]\n",
    "\n",
    "for t in katz_list:\n",
    "    print(t)"
   ]
  },
  {
   "cell_type": "code",
   "execution_count": null,
   "metadata": {},
   "outputs": [],
   "source": [
    "# katz with weight\n",
    "\n",
    "katzw = nx.katz_centrality_numpy(SG, weight='weight', alpha=0.08, beta=1)\n",
    "\n",
    "katzw_list = sorted(dict(katzw).items(), key=lambda node: node[1], reverse=True)[:10]\n",
    "\n",
    "for t in katzw_list:\n",
    "    print(t)"
   ]
  },
  {
   "cell_type": "code",
   "execution_count": null,
   "metadata": {},
   "outputs": [],
   "source": []
  },
  {
   "cell_type": "markdown",
   "metadata": {},
   "source": [
    "### Pagerank\n",
    "\n",
    "- _PageRank_ calcula o _ranking_ dos nós grafo baseado na estrutura dos links de entrada.\n",
    " "
   ]
  },
  {
   "cell_type": "code",
   "execution_count": null,
   "metadata": {},
   "outputs": [],
   "source": [
    "# pagerank\n",
    "\n",
    "pagerank = nx.pagerank(SG, alpha=0.85)\n",
    "\n",
    "pagerank_list = sorted(dict(pagerank).items(), key=lambda node: node[1], reverse=True)[:10]\n",
    "\n",
    "for t in pagerank_list:\n",
    "    print(t)"
   ]
  },
  {
   "cell_type": "code",
   "execution_count": null,
   "metadata": {},
   "outputs": [],
   "source": [
    "# pagerank with weights\n",
    "\n",
    "pagerankw = nx.pagerank(SG, alpha=0.85, weight='weight')\n",
    "\n",
    "pagerankw_list = sorted(dict(pagerankw).items(), key=lambda node: node[1], reverse=True)[:10]\n",
    "\n",
    "for t in pagerankw_list:\n",
    "    print(t)"
   ]
  },
  {
   "cell_type": "markdown",
   "metadata": {},
   "source": [
    "### Agrupamento\n",
    "\n",
    "- Para gráficos não ponderados, o agrupamento de um nó $u$ é a fração de possíveis triângulos com esse nó\n",
    "$$\n",
    "c_u = \\frac{2 T(u)}{deg(u)(deg(u)-1)},\n",
    "$$\n",
    "onde $T(u)$ é o número de triângulos em que o nó $u$ pertence e $deg(u)$ é o grau de $u$.\n",
    "\n",
    "- Para grafos ponderados, existem várias definições para agrupamento, por exemplo, a média geométrica dos pesos das arestas dos subgrafos,\n",
    "$$\n",
    "c_u = \\frac{1}{deg(u)(deg(u)-1))} \\sum_{vw} (\\hat{w}_{uv} \\hat{w}_{uw} \\hat{w}_{vw})^{1/3}.\n",
    "$$\n",
    "- O peso das arestas, $\\hat{w}_{uv}$, são normalizados pelo máximo peso da rede, $\\hat{w}_{uv} = w_{uv}/\\max(w)$.\n",
    "\n",
    "- O valor de $c_u$ é igual a $0$ se $deg(u) < 2$."
   ]
  },
  {
   "cell_type": "code",
   "execution_count": null,
   "metadata": {},
   "outputs": [],
   "source": [
    "# clustering\n",
    "\n",
    "cluster = nx.clustering(SG)\n",
    "\n",
    "cluster_list = sorted(dict(cluster).items(), key=lambda node: node[1], reverse=True)[:10]\n",
    "\n",
    "for t in cluster_list:\n",
    "    print(t)"
   ]
  },
  {
   "cell_type": "code",
   "execution_count": null,
   "metadata": {},
   "outputs": [],
   "source": [
    "# clustering with weights\n",
    "\n",
    "clusterw = nx.clustering(SG, weight='weight')\n",
    "\n",
    "clusterw_list = sorted(dict(clusterw).items(), key=lambda node: node[1], reverse=True)[:10]\n",
    "\n",
    "for t in clusterw_list:\n",
    "    print(t)"
   ]
  },
  {
   "cell_type": "markdown",
   "metadata": {},
   "source": [
    "### Agrupamento médio\n",
    "\n",
    "- O valor do _clustering_ para um grafo G é a média,\n",
    "$$\n",
    "C = \\frac{1}{n}\\sum_{v \\in G} c_v,\n",
    "$$\n",
    "onde $n$ é o número de nós em $G$."
   ]
  },
  {
   "cell_type": "code",
   "execution_count": null,
   "metadata": {},
   "outputs": [],
   "source": [
    "# average_clustering\n",
    "\n",
    "print(nx.average_clustering(SG))"
   ]
  },
  {
   "cell_type": "code",
   "execution_count": null,
   "metadata": {},
   "outputs": [],
   "source": [
    "# average_clustering with weight\n",
    "\n",
    "print(nx.average_clustering(SG, weight='weight'))"
   ]
  },
  {
   "cell_type": "code",
   "execution_count": null,
   "metadata": {},
   "outputs": [],
   "source": []
  },
  {
   "cell_type": "markdown",
   "metadata": {},
   "source": [
    "### Componentes conectados do SG"
   ]
  },
  {
   "cell_type": "code",
   "execution_count": null,
   "metadata": {},
   "outputs": [],
   "source": [
    "# componentes conexo\n",
    "\n",
    "cc_len_list =[len(c) for c in sorted(nx.connected_components(SG), key=len, reverse=True)]\n",
    "\n",
    "print(\"#componentes conexos:\", len(cc_len_list))\n",
    "\n",
    "print(\"tamanho de cada componete:\", cc_len_list)"
   ]
  },
  {
   "cell_type": "code",
   "execution_count": null,
   "metadata": {},
   "outputs": [],
   "source": [
    "# {} componetes conexos\n",
    "\n",
    "set_cc = list(nx.connected_components(SG))\n",
    "\n",
    "for t in set_cc:\n",
    "    print(t)"
   ]
  },
  {
   "cell_type": "code",
   "execution_count": null,
   "metadata": {},
   "outputs": [],
   "source": [
    "# subgrupo dos componentes conexos\n",
    "\n",
    "subg_cc = [SG.subgraph(s).copy() for s in nx.connected_components(SG)]\n",
    "\n",
    "for s in subg_cc:\n",
    "    print(s)"
   ]
  },
  {
   "cell_type": "code",
   "execution_count": null,
   "metadata": {},
   "outputs": [],
   "source": [
    "# componente 0\n",
    "\n",
    "list(subg_cc[5].nodes())#[:10]"
   ]
  },
  {
   "cell_type": "code",
   "execution_count": null,
   "metadata": {},
   "outputs": [],
   "source": [
    "list(subg_cc[0].edges.data('weight'))#[:10]"
   ]
  },
  {
   "cell_type": "code",
   "execution_count": null,
   "metadata": {},
   "outputs": [],
   "source": []
  },
  {
   "cell_type": "code",
   "execution_count": null,
   "metadata": {},
   "outputs": [],
   "source": [
    "# eccentricity with weight\n",
    "\n",
    "# network\n",
    "G = subg_cc[0]\n",
    "\n",
    "eccw = nx.eccentricity(G, weight='weight')\n",
    "\n",
    "eccw_list = sorted(dict(eccw).items(), key=lambda node: node[1], reverse=True)[:10]\n",
    "\n",
    "for t in eccw_list:\n",
    "        print(t)"
   ]
  },
  {
   "cell_type": "code",
   "execution_count": null,
   "metadata": {},
   "outputs": [],
   "source": []
  },
  {
   "cell_type": "code",
   "execution_count": null,
   "metadata": {},
   "outputs": [],
   "source": [
    "# closeness_centrality\n",
    "\n",
    "# network\n",
    "G = subg_cc[0]\n",
    "\n",
    "cloc = nx.closeness_centrality(G)\n",
    "\n",
    "cloc_list = sorted(dict(cloc).items(), key=lambda node: node[1], reverse=True)[:10]\n",
    "\n",
    "for t in cloc_list:\n",
    "    print(t)"
   ]
  },
  {
   "cell_type": "code",
   "execution_count": null,
   "metadata": {},
   "outputs": [],
   "source": []
  },
  {
   "cell_type": "markdown",
   "metadata": {},
   "source": [
    "### Atividade\n",
    "\n",
    "- Calcular as medidas vista em sala de aula para a rede **subg_cc[0]** considerando os pesos da rede."
   ]
  },
  {
   "cell_type": "code",
   "execution_count": null,
   "metadata": {},
   "outputs": [],
   "source": [
    "# degree with weight\n",
    "\n",
    "G = subg_cc[0]\n",
    "\n",
    "deg = nx.degree(G, weight='weight')\n",
    "\n",
    "deg_list = sorted(dict(deg).items(), key=lambda node: node[1], reverse=True)[:10]\n",
    "for t in deg_list:\n",
    "    print(t)"
   ]
  },
  {
   "cell_type": "code",
   "execution_count": null,
   "metadata": {},
   "outputs": [],
   "source": []
  }
 ],
 "metadata": {
  "kernelspec": {
   "display_name": "Python 3",
   "language": "python",
   "name": "python3"
  },
  "language_info": {
   "codemirror_mode": {
    "name": "ipython",
    "version": 3
   },
   "file_extension": ".py",
   "mimetype": "text/x-python",
   "name": "python",
   "nbconvert_exporter": "python",
   "pygments_lexer": "ipython3",
   "version": "3.10.12"
  }
 },
 "nbformat": 4,
 "nbformat_minor": 2
}
