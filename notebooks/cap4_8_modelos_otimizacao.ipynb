{
 "cells": [
  {
   "cell_type": "markdown",
   "metadata": {},
   "source": [
    "### Modelos de otimização"
   ]
  },
  {
   "cell_type": "code",
   "execution_count": null,
   "metadata": {},
   "outputs": [],
   "source": [
    "import networkx as nx\n",
    "import matplotlib.pyplot as plt\n",
    "import numpy as np\n",
    "from numpy.random import default_rng"
   ]
  },
  {
   "cell_type": "markdown",
   "metadata": {},
   "source": [
    "Os modelos visto até agora não são adequados para representar uma rede que representa uma malha aérea de voos comerciais, em que a estrutura global da rede tem um propósito de tentar minimizar custos das empresas aéreas e tempos de voos dos passageiros. \n",
    "\n",
    "Esta última rede é organizada na forma de várias estruturas estrelares em que os centros das estrelas (hubs) são conectados entre si. \n",
    "\n",
    "Os centros representam os aeroportos mais movimentados e as folhas das estrelas os aeroportos com menos fluxos de passageiros.\n",
    "\n",
    "Um modelo de otimização que procure minimizar o custo de operação da malha aérea, que é representado\n",
    "pelo número de arestas da rede, $m$, e o tempo médio de viagem, que é representado pelo tamanho médio dos\n",
    "menores caminhos entre os vértices, $\\delta$. \n",
    "\n",
    "Nesse modelo a proposta é minimizar uma combinação convexa destas duas quantidades, ou seja, minimizar:\n",
    "$$C = am + (1 − a)\\delta$$ \n",
    "para $a \\in (0,1)$.\n",
    "\n",
    "O objetivo é dada uma certa quantidade de vértices, $n$, encontrar a rede que minimiza $C$.\n",
    "\n",
    "Considerando que se houverem vértices que não se comunicam, a distância entre eles seja infinita. \n",
    "\n",
    "Então, com o intuito de minimizar $C$ devemos ter uma rede que contém uma única componente."
   ]
  },
  {
   "cell_type": "markdown",
   "metadata": {},
   "source": [
    "### Algoritmo de Ferrer i Cancho e Solé\n",
    "\n",
    "Ferrer i Cancho e Solé, propõem o seguinte algoritmo heurístico de otimização aproximada:\n",
    "\n",
    "1. Forma-se uma rede aleatória de Erdös-Renyi $G = (V,E)$ com $n$ vértices e com uma densidade inicial $\\text{dens}(G)$.\n",
    "\n",
    "2. Enquanto pelo menos uma das últimas $M$ tentativas de mudança da rede tenha diminuído o valor de $C$\n",
    "    \n",
    "    1. Para cada par de vértices $i$, $j$:\n",
    "        \n",
    "        1. Com probabilidade $\\mu$, decide-se mudar a ligação entre os vértices.\n",
    "        \n",
    "            1. Se $(i,j)\\in E$, remove-se a aresta.\n",
    "            2. Se $(i,j)\\not\\in E$, acrescenta-se a rede com a arestas entre os nós.\n",
    "            3. Se o valor $C$ da nova rede é menor, se conserva a mudança.\n",
    "        \n",
    "Ferrer i Cancho e Solé sugerem usar $m = \\binom{n}{2}$, $\\mu = 2/m$. \n",
    "\n",
    "O algoritmo precisa que a rede seja inicialmente conectada, mas pode-se adaptar como mostra o script a seguir. \n",
    "\n",
    "Se a rede for inicialmente não conectada, novas arestas serão acrescentadas."
   ]
  },
  {
   "cell_type": "code",
   "execution_count": null,
   "metadata": {},
   "outputs": [],
   "source": [
    "rng = default_rng()\n",
    "\n",
    "def Energia(a,g):\n",
    "    if nx.is_connected(g) == False:\n",
    "        return np.inf\n",
    "    else:\n",
    "        return a*len(g.edges) + (1-a)*nx.average_shortest_path_length(g)"
   ]
  },
  {
   "cell_type": "code",
   "execution_count": null,
   "metadata": {},
   "outputs": [],
   "source": [
    "n = 50\n",
    "m = n*(n-1)/2\n",
    "mu = 2/m\n",
    "rho = 0.2"
   ]
  },
  {
   "cell_type": "code",
   "execution_count": null,
   "metadata": {},
   "outputs": [],
   "source": [
    "G = nx.gnp_random_graph(n,rho)"
   ]
  },
  {
   "cell_type": "code",
   "execution_count": null,
   "metadata": {},
   "outputs": [],
   "source": [
    "# rede original\n",
    "nx.draw(G, with_labels=True)"
   ]
  },
  {
   "cell_type": "code",
   "execution_count": null,
   "metadata": {},
   "outputs": [],
   "source": [
    "# teste a = 0, 0.1, 0.5, 1\n",
    "a = 0.1\n",
    "semmud = 0\n",
    "Enat = Energia(a,G)\n",
    "k = 0\n",
    "\n",
    "while semmud < m:\n",
    "    for i in range(n):\n",
    "        for j in range(i+1,n):\n",
    "            if rng.random() > mu:\n",
    "                continue\n",
    "            if (i,j) in G.edges:\n",
    "                G.remove_edge(i,j)\n",
    "                ene = Energia(a,G)\n",
    "                if ene < Enat:\n",
    "                    Enat = ene\n",
    "                    semmud = 0\n",
    "                else:\n",
    "                    semmud += 1\n",
    "                    G.add_edge(i,j)\n",
    "            else:\n",
    "                G.add_edge(i,j)\n",
    "                ene = Energia(a,G)\n",
    "                if ene < Enat or Enat == np.inf:\n",
    "                    Enat = ene\n",
    "                    semmud = 0\n",
    "                else:\n",
    "                    semmud += 1\n",
    "                    G.remove_edge(i,j)\n",
    "            k += 1\n",
    "            if k%1000 == 0:\n",
    "                print(k,Enat,semmud)\n",
    "            if semmud >= m:\n",
    "                break\n",
    "        if semmud >= m:\n",
    "            break"
   ]
  },
  {
   "cell_type": "code",
   "execution_count": null,
   "metadata": {},
   "outputs": [],
   "source": [
    "# rede otimizada\n",
    "nx.draw(G, with_labels=True)"
   ]
  },
  {
   "cell_type": "code",
   "execution_count": null,
   "metadata": {},
   "outputs": [],
   "source": []
  }
 ],
 "metadata": {
  "kernelspec": {
   "display_name": "Python 3",
   "language": "python",
   "name": "python3"
  },
  "language_info": {
   "codemirror_mode": {
    "name": "ipython",
    "version": 3
   },
   "file_extension": ".py",
   "mimetype": "text/x-python",
   "name": "python",
   "nbconvert_exporter": "python",
   "pygments_lexer": "ipython3",
   "version": "3.10.12"
  }
 },
 "nbformat": 4,
 "nbformat_minor": 2
}
