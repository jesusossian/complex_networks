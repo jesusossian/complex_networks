{
 "cells": [
  {
   "cell_type": "markdown",
   "metadata": {},
   "source": [
    "## Trabalho Computacional 1 - Redes Complexas"
   ]
  },
  {
   "cell_type": "markdown",
   "metadata": {},
   "source": [
    "### Questão 1 (1.5)\n",
    "\n",
    "1. Considere as instâncias compartilhada no [link](https://github.com/jesusossian/complex_networks_2024_1/tree/main/data/work1) e monte um grafo(rede) de acordo com a alocação instância-aluno a seguir:\n",
    "- BRUNA VITORIA OLIVEIRA DA SILVA: san200-0-7-1.mtx\n",
    "- FRANCISCO WILTON PEREIRA LIMA: san200-0-7-2.mtx\n",
    "- GUILHERME SILVA MATOS MACIEL: san200-0-9-1.mtx\n",
    "- IANNE CAROLINE PINTO MENDES: san200-0-9-2.mtx\n",
    "- LUCAS LOPES SILVA: san200-0-9-3.mtx\n",
    "- LUCAS RIAN DE SOUSA PEREIRA: sanr200-0-7\n",
    "- ANTÔNIO GEOVANE CAVALCANTE DA SILVA: sanr200-0-9\n",
    "\n",
    "2. Elabore um gráfico para o grafo(rede).\n",
    "\n",
    "3. Esse grafo é conexo? Justifique.\n",
    "\n",
    "4. Qual o número de vértices e arestas do grafo?"
   ]
  },
  {
   "cell_type": "markdown",
   "metadata": {},
   "source": [
    "### Questão 2 (1.5)\n",
    "Utilizando o grafo construida na questão 1. \n",
    "Calcule as seguintes métricas.\n",
    "\n",
    "1. Densidade\n",
    "2. Comprimento médio dos caminhos\n",
    "3. Coeficiente de agrupamento total do grafo\n",
    "4. Elabore um texto de acordo com suas observações e conclusões."
   ]
  },
  {
   "cell_type": "markdown",
   "metadata": {},
   "source": [
    "### Questão 3 (2.0)\n",
    "Utilizando a rede construida na questão 1. \n",
    "Calcule as seguintes métricas.\n",
    "\n",
    "1. Excentricidade\n",
    "2. Comprimento médio dos caminhos\n",
    "3. Graua dos vértices. Qual(is) o(s) vértice(s) com maior grau.\n",
    "4. Coeficiente de agrupamento total do grafo\n",
    "5. Centralidade de proximidade\n",
    "6. Centralidade de intermediação\n",
    "7. Elabore um gráfico mostrando cada uma das médidas calculadas nos itens 1-6.\n",
    "7. Elabore um texto de acordo com suas observações e conclusões."
   ]
  },
  {
   "cell_type": "markdown",
   "metadata": {},
   "source": [
    "### Questão 4 (2.0)\n",
    "\n",
    "Utilizando a rede construida na questão 1. \n",
    "Calcule as métricas de centralidade da centralidade.\n",
    "\n",
    "1. Centralidade de Autovetor\n",
    "2. Centralidade de PageRank (alpha=0.65)\n",
    "3. Centralidade de Katz (alpha=0.08,beta=1)\n",
    "4. Elabore um gráfico que mostre os resultados encontrados nos itens 1-3.\n",
    "5. Elabore um texto com suas observações e conclusões."
   ]
  },
  {
   "cell_type": "markdown",
   "metadata": {},
   "source": [
    "### Questão 5 (1.5)"
   ]
  },
  {
   "cell_type": "markdown",
   "metadata": {},
   "source": [
    "### Questão 6 (1.5)"
   ]
  },
  {
   "cell_type": "markdown",
   "metadata": {},
   "source": []
  }
 ],
 "metadata": {
  "kernelspec": {
   "display_name": "Python 3",
   "language": "python",
   "name": "python3"
  },
  "language_info": {
   "codemirror_mode": {
    "name": "ipython",
    "version": 3
   },
   "file_extension": ".py",
   "mimetype": "text/x-python",
   "name": "python",
   "nbconvert_exporter": "python",
   "pygments_lexer": "ipython3",
   "version": "3.10.12"
  }
 },
 "nbformat": 4,
 "nbformat_minor": 2
}
