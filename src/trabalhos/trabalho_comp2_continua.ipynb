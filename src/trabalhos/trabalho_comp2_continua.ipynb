{
 "cells": [
  {
   "cell_type": "markdown",
   "metadata": {},
   "source": [
    "## Trabalho Computacional 2 - Redes Complexas (Continuação)"
   ]
  },
  {
   "cell_type": "markdown",
   "metadata": {},
   "source": [
    "## Questão 4 (2.0)\n",
    "\n",
    "Considere a função do networkx **barabasi_albert_graph()**. \n",
    "\n",
    "1. Gere uma rede de Barabasi Albert com 800 nós e 7 ligações por vértice.\n",
    "\n",
    "2. Implemente o modelo SI, onde $5\\%$ dos nós estão inicialmente infectados, probabilidade de infecção igual a 0.05 e simule até T=200.\n",
    "\n",
    "3. Crie um gráfico mostrando o percentual de infectados ao longo do tempo(200).\n",
    "\n",
    "4. Elabore um texto contendo suas observações/conclusões."
   ]
  },
  {
   "cell_type": "markdown",
   "metadata": {},
   "source": [
    "## Questão 5 (2.0)\n",
    "\n",
    "Considere a função do networkx **barabasi_albert_graph()**.\n",
    "\n",
    "1. Gere uma rede de Barabasi Albert com 800 nós e 7 ligações por vértice.\n",
    "\n",
    "2. Implemente o modelo SIR, onde $5\\%$ dos nós estão inicialmente infectados, a probabilidade de infecção igual a 0.05, probabilidade de se recuperar igual a 0.10 e simule até T=200. \n",
    "\n",
    "3. Crie um gráfico mostrando o percentual de infectados e o percentual de recuperados ao longo do tempo(200).\n",
    "\n",
    "4. Elabore um texto contendo suas observações/conclusões."
   ]
  },
  {
   "cell_type": "markdown",
   "metadata": {},
   "source": []
  }
 ],
 "metadata": {
  "kernelspec": {
   "display_name": "Python 3",
   "language": "python",
   "name": "python3"
  },
  "language_info": {
   "codemirror_mode": {
    "name": "ipython",
    "version": 3
   },
   "file_extension": ".py",
   "mimetype": "text/x-python",
   "name": "python",
   "nbconvert_exporter": "python",
   "pygments_lexer": "ipython3",
   "version": "3.10.12"
  }
 },
 "nbformat": 4,
 "nbformat_minor": 2
}
