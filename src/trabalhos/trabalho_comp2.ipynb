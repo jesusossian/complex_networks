{
 "cells": [
  {
   "cell_type": "markdown",
   "metadata": {},
   "source": [
    "## Trabalho Computacional 2 - Redes Complexas"
   ]
  },
  {
   "cell_type": "markdown",
   "metadata": {},
   "source": [
    "## Questão 1 (2.0)\n",
    "\n",
    "Considere o arquivo **ia-infect-dublin.mtx** armazenado no repositório [repo](https://github.com/jesusossian/complex_networks/blob/main/data/work2/ia-infect-dublin.mtx).\n",
    "\n",
    "1. Gere uma rede associada a este dataset.\n",
    "\n",
    "2. Gere um gráfico para visualizar a rede criada no item 1.\n",
    "\n",
    "3. Encontre o número de comunidades da rede retornado pela função do networkx **greedy_modularity_communities()**.\n",
    "\n",
    "4. Aplique a função do networkx **girvan_newman()** a rede com o mesmo número de comunidades gerado no item 3. \n",
    "\n",
    "5. Gere gráficos para visualizar os resultados dos itens 3 e 4.\n",
    "\n",
    "6. Elabore um texto com suas obsrvações/conclusões de acordo com os experimentos."
   ]
  },
  {
   "cell_type": "markdown",
   "metadata": {},
   "source": [
    "## Questão 2 (2.0)\n",
    "\n",
    "Considere a função do networkx **erdos_renyi_graph()**\n",
    "\n",
    "1. Gere redes de tamanho 400 e probabilidade para criação de arestas igual a 0.2, 0.3 e 0.5.\n",
    "\n",
    "2. Gere um gráfico para cada rede criada no item 1.\n",
    "\n",
    "2. Calcule para cada rede: centralidade de grau, valor médio do comprimento dos caminhos geodésicos, densidade, coeficiente de agrupamento e o diâmetro.\n",
    "\n",
    "3. Elabore um texto contendo suas observações/conclusões."
   ]
  },
  {
   "cell_type": "markdown",
   "metadata": {},
   "source": [
    "## Questão 3 (2.0)\n",
    "\n",
    "Considere a função do networkx **barabasi_albert_graph()**.\n",
    "\n",
    "1. Gere redes de tamanho 300 e número de ligações por vértice igual a 5, 10, 25 e 50, respectivamente.\n",
    "\n",
    "2. Gere um gráfico para cada rede criada no item 1.\n",
    "\n",
    "2. Calcule para cada rede: centralidade de grau, valor médio do comprimento dos caminhos geodésicos, densidade, coeficiente de agrupamento e diâmetro.\n",
    "\n",
    "3. Elabore um texto contendo suas observações/conclusões."
   ]
  },
  {
   "cell_type": "markdown",
   "metadata": {},
   "source": []
  }
 ],
 "metadata": {
  "kernelspec": {
   "display_name": "Python 3 (ipykernel)",
   "language": "python",
   "name": "python3"
  },
  "language_info": {
   "codemirror_mode": {
    "name": "ipython",
    "version": 3
   },
   "file_extension": ".py",
   "mimetype": "text/x-python",
   "name": "python",
   "nbconvert_exporter": "python",
   "pygments_lexer": "ipython3",
   "version": "3.10.12"
  }
 },
 "nbformat": 4,
 "nbformat_minor": 2
}
