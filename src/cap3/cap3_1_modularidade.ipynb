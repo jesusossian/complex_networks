{
 "cells": [
  {
   "cell_type": "code",
   "execution_count": null,
   "metadata": {},
   "outputs": [],
   "source": [
    "import networkx as nx\n",
    "import matplotlib.pyplot as plt\n",
    "import numpy as np\n",
    "import pandas as pd\n",
    "from networkx.algorithms import community as cm"
   ]
  },
  {
   "cell_type": "markdown",
   "metadata": {},
   "source": [
    "### Introdução \n",
    "\n",
    "Uma das tarefas comum em análise de redes complexas é agrupar os vértices da rede em subconjuntos, chamados de comunidades, de modo que os vértices mais similares fiquem juntos em uma comunidade. \n",
    "\n",
    "A ideia central é entender um pouco sobre como os nós tendem a se organizar dentro da rede através da observação dos padrões de ligação que os mesmos possuem.\n",
    "\n",
    "Problemas de detecção de comunidades são similares a problemas de partição em grafos, mas em geral nestes últimos já há uma quantidade pré-determinada de grupos e dos tamanhos dos mesmos no qual o grafo deve ser particionado, o que não ocorre em geral com os problemas de detecção de comunidades nos quais o tamanho e a quantidade de comunidades a serem detectadas não são previamente conhecidos"
   ]
  },
  {
   "cell_type": "markdown",
   "metadata": {},
   "source": [
    "### Modularidade\n",
    "\n",
    "Modularidade equivale ao coeficiente de assortatividade não normalizado para atributos categóricos, sendo que aqui os atributos categóricos identificam as comunidades\n",
    "aos quais os nós pertencem."
   ]
  },
  {
   "cell_type": "markdown",
   "metadata": {},
   "source": [
    "- **nx.karate_club_graph()** \n",
    "\n",
    "Returns Zachary's Karate Club graph.\n",
    "\n",
    "Each node in the returned graph has a node attribute 'club' that indicates the name of the club to which the member represented by that node belongs, either 'Mr. Hi' or 'Officer'. \n",
    "\n",
    "Each edge has a weight based on the number of contexts in which that edge's incident node members interacted.\n",
    "\n",
    "- **louvain_communities()**: \n",
    "\n",
    "Find the best partition of a graph using the Louvain Community Detection Algorithm.\n",
    "\n",
    "Louvain Community Detection Algorithm is a simple method to extract the community structure of a network. \n",
    "\n",
    "This is a heuristic method based on modularity optimization.\n",
    "\n",
    "\n",
    "- **nx.community.greedy_modularity_communities(G)** \n",
    "\n",
    "Find communities in G using greedy modularity maximization.\n",
    "\n",
    "This function uses Clauset-Newman-Moore greedy modularity maximization to find the community partition with the largest modularity.\n",
    "\n",
    "- **nx.modularity()**\n",
    "\n",
    "Returns the modularity of the given partition of the graph."
   ]
  },
  {
   "cell_type": "code",
   "execution_count": null,
   "metadata": {},
   "outputs": [],
   "source": [
    "# Exemplo\n",
    "\n",
    "G = nx.karate_club_graph()\n",
    "\n",
    "fig, ax = plt.subplots(1,1,figsize=(15,10))\n",
    "\n",
    "nx.draw(G,with_labels=True)"
   ]
  },
  {
   "cell_type": "code",
   "execution_count": null,
   "metadata": {},
   "outputs": [],
   "source": [
    "# exemplo\n",
    "\n",
    "comm = nx.community.louvain_communities(G, seed=123)\n",
    "for it in comm:\n",
    "    print(sorted(it))"
   ]
  },
  {
   "cell_type": "code",
   "execution_count": null,
   "metadata": {},
   "outputs": [],
   "source": [
    "# exemplo\n",
    "\n",
    "c = nx.community.greedy_modularity_communities(G)\n",
    "for it in c:\n",
    "    print(sorted(it))"
   ]
  },
  {
   "cell_type": "code",
   "execution_count": null,
   "metadata": {},
   "outputs": [],
   "source": [
    "comsl = cm.louvain_communities(G)\n",
    "comsc = cm.greedy_modularity_communities(G)\n",
    "\n",
    "print('Modularidade - Louvain: {:.3f}'.format(cm.modularity(G,comsl)))\n",
    "print('Modularidade - CNM    : {:.3f}'.format(cm.modularity(G,comsc)))"
   ]
  },
  {
   "cell_type": "markdown",
   "metadata": {},
   "source": [
    "**Exemplo**\n",
    "\n",
    "Considere o exemplo da rede dos personagens do segundo livro da saga de Harry Potter.\n",
    "As ligações nessa rede representam suporte emocional e, portanto, trata-se de uma rede direcionada com matriz de adjacência não simétrica."
   ]
  },
  {
   "cell_type": "code",
   "execution_count": null,
   "metadata": {},
   "outputs": [],
   "source": [
    "atri = pd.read_csv('../data/harrypotter/hpattributes.txt', sep='\\t')\n",
    "ares = pd.read_csv('../data/harrypotter/hpbook2.txt', sep=' ', header=None)\n",
    "nome = pd.read_csv('../data/harrypotter/hpnames.txt', sep='\\t')"
   ]
  },
  {
   "cell_type": "code",
   "execution_count": null,
   "metadata": {},
   "outputs": [],
   "source": [
    "# criando a rede\n",
    "\n",
    "gpotter = nx.DiGraph()\n",
    "\n",
    "n = atri.shape[0]\n",
    "\n",
    "for k in range(n):\n",
    "    gpotter.add_node(k,\n",
    "                     nome = nome['name'][k],\n",
    "                     ano = atri['schoolyear'][k],\n",
    "                     gen = atri['gender'][k],\n",
    "                     casa = atri['house'][k])\n",
    "\n",
    "for k in range(n):\n",
    "    for m in range(n):\n",
    "        if ares.values[k][m] == 1:\n",
    "            gpotter.add_edge(k,m)"
   ]
  },
  {
   "cell_type": "code",
   "execution_count": null,
   "metadata": {},
   "outputs": [],
   "source": [
    "fig, ax = plt.subplots(1,1,figsize=(15,10))\n",
    "\n",
    "nx.draw(gpotter,with_labels=True)"
   ]
  },
  {
   "cell_type": "code",
   "execution_count": null,
   "metadata": {},
   "outputs": [],
   "source": [
    "comsl = cm.louvain_communities(gpotter)\n",
    "comsc = cm.greedy_modularity_communities(gpotter, cutoff=len(comsl))\n",
    "\n",
    "print('Modularidade - Louvain: {:.3f}'.format(cm.modularity(gpotter,comsl)))\n",
    "print('Modularidade - CNM    : {:.3f}'.format(cm.modularity(gpotter,comsc)))"
   ]
  },
  {
   "cell_type": "code",
   "execution_count": null,
   "metadata": {},
   "outputs": [],
   "source": [
    "# matriz de adjacencia esparsa\n",
    "A = nx.adjacency_matrix(gpotter)\n",
    "\n",
    "# apagando os nos isolados\n",
    "isolados = []\n",
    "for k in range(n):\n",
    "    if np.sum(A[[k],:]) == 0:\n",
    "        isolados.append(k)\n",
    "        gpotter.remove_node(k)\n",
    "\n",
    "print(len(isolados), 'nos isolados.')"
   ]
  },
  {
   "cell_type": "code",
   "execution_count": null,
   "metadata": {},
   "outputs": [],
   "source": [
    "fig, ax = plt.subplots(1,1,figsize=(15,10))\n",
    "\n",
    "nx.draw(gpotter,with_labels=True)"
   ]
  },
  {
   "cell_type": "markdown",
   "metadata": {},
   "source": [
    "Para comparar os resultados, no algoritmo de **Clauset-Newman-Moore** só salvamos o mesmo número de comunidades que as devolvidas pelo algoritmo de **Louvain**. "
   ]
  },
  {
   "cell_type": "code",
   "execution_count": null,
   "metadata": {},
   "outputs": [],
   "source": [
    "comsl = cm.louvain_communities(gpotter)\n",
    "comsc = cm.greedy_modularity_communities(gpotter,cutoff=len(comsl))\n",
    "\n",
    "print('Modularidade - Louvain: {:.3f}'.format(cm.modularity(gpotter,comsl)))\n",
    "print('Modularidade - CNM    : {:.3f}'.format(cm.modularity(gpotter,comsc)))"
   ]
  },
  {
   "cell_type": "code",
   "execution_count": null,
   "metadata": {},
   "outputs": [],
   "source": [
    "for it in comsl:\n",
    "    print(sorted(it))"
   ]
  },
  {
   "cell_type": "code",
   "execution_count": null,
   "metadata": {},
   "outputs": [],
   "source": [
    "for it in comsc:\n",
    "    print(sorted(it))"
   ]
  },
  {
   "cell_type": "code",
   "execution_count": null,
   "metadata": {},
   "outputs": [],
   "source": [
    "plt.close('all')\n",
    "\n",
    "pos = nx.circular_layout(gpotter)\n",
    "\n",
    "coresp = {0:'lightskyblue',\n",
    "          1:'steelblue',\n",
    "          2:'gray',\n",
    "          3:'pink',\n",
    "          4:'magenta',\n",
    "          5:'violet',\n",
    "          6: 'mediumorchid'}\n",
    "\n",
    "coresl = []\n",
    "for no in gpotter.nodes():\n",
    "    for k in range(len(comsl)):\n",
    "        if no in comsl[k]:\n",
    "            coresl.append(coresp[k])\n",
    "            break\n",
    "\n",
    "coresc = []\n",
    "for no in gpotter.nodes():\n",
    "    for k in range(len(comsc)):\n",
    "        if no in comsc[k]:\n",
    "            coresc.append(coresp[k])\n",
    "            break\n",
    "    \n",
    "etiquetas = nx.get_node_attributes(gpotter, 'nome')"
   ]
  },
  {
   "cell_type": "code",
   "execution_count": null,
   "metadata": {},
   "outputs": [],
   "source": [
    "fig, ax = plt.subplots(1,1,figsize=(15,10))\n",
    "\n",
    "nx.draw_networkx(gpotter,\n",
    "                 pos=pos,\n",
    "                 edge_color='lightgray',\n",
    "                 node_size = 500,\n",
    "                 labels=etiquetas,\n",
    "                 font_size=10, \n",
    "                 node_color=coresl)\n",
    "\n",
    "plt.box(False)\n",
    "plt.show()"
   ]
  },
  {
   "cell_type": "code",
   "execution_count": null,
   "metadata": {},
   "outputs": [],
   "source": [
    "#plt.figure()\n",
    "\n",
    "fig, ax = plt.subplots(1,1,figsize=(15,10))\n",
    "\n",
    "nx.draw_networkx(gpotter,\n",
    "                 pos=pos,\n",
    "                 edge_color='lightgray',\n",
    "                 node_size = 500,\n",
    "                 labels=etiquetas,\n",
    "                 font_size=10, \n",
    "                 node_color=coresc)\n",
    "\n",
    "plt.box(False)\n",
    "plt.show()"
   ]
  },
  {
   "cell_type": "code",
   "execution_count": null,
   "metadata": {},
   "outputs": [],
   "source": []
  },
  {
   "cell_type": "markdown",
   "metadata": {},
   "source": [
    "Considere o dataset **Stack Overflow Tag Network**, um ***Network (links and nodes) of Stack Overflow tags based on Developer Stories***\n",
    "\n",
    "Link: https://www.kaggle.com/datasets/stackoverflow/stack-overflow-tag-network\n",
    "\n"
   ]
  },
  {
   "cell_type": "code",
   "execution_count": null,
   "metadata": {},
   "outputs": [],
   "source": [
    "df = pd.read_csv('../data/stack_network/stack_network_links.csv')"
   ]
  },
  {
   "cell_type": "code",
   "execution_count": null,
   "metadata": {},
   "outputs": [],
   "source": [
    "df.head()"
   ]
  },
  {
   "cell_type": "code",
   "execution_count": null,
   "metadata": {},
   "outputs": [],
   "source": [
    "G = nx.Graph()"
   ]
  },
  {
   "cell_type": "code",
   "execution_count": null,
   "metadata": {},
   "outputs": [],
   "source": [
    "with open('../data/stack_network/stack_network_links.csv') as f:\n",
    "  next(f)\n",
    "  G = nx.parse_edgelist(f.readlines(), comments='/', delimiter=',', data=(('weight', float),))"
   ]
  },
  {
   "cell_type": "code",
   "execution_count": null,
   "metadata": {},
   "outputs": [],
   "source": [
    "list(G.nodes())[:5]"
   ]
  },
  {
   "cell_type": "code",
   "execution_count": null,
   "metadata": {},
   "outputs": [],
   "source": [
    "list(G.edges.data('weight'))[:5]"
   ]
  },
  {
   "cell_type": "code",
   "execution_count": null,
   "metadata": {},
   "outputs": [],
   "source": [
    "communities = cm.greedy_modularity_communities(G, weight='weight')"
   ]
  },
  {
   "cell_type": "code",
   "execution_count": null,
   "metadata": {},
   "outputs": [],
   "source": [
    "len(communities)"
   ]
  },
  {
   "cell_type": "code",
   "execution_count": null,
   "metadata": {},
   "outputs": [],
   "source": [
    "for it in communities:\n",
    "    print(it)"
   ]
  },
  {
   "cell_type": "code",
   "execution_count": null,
   "metadata": {},
   "outputs": [],
   "source": [
    "import pygraphviz\n",
    "\n",
    "plt.figure(figsize=(20,14))\n",
    "\n",
    "nx.draw(G, pos = nx.nx_agraph.graphviz_layout(G), \\\n",
    "    node_size=200, node_color='lightblue', linewidths=1.5, \\\n",
    "    font_size=11, font_weight='bold', with_labels=True)"
   ]
  },
  {
   "cell_type": "code",
   "execution_count": null,
   "metadata": {},
   "outputs": [],
   "source": [
    "communities_dict = {}\n",
    "\n",
    "for i in range(len(communities)):\n",
    "  for node in list(communities[i]):\n",
    "    communities_dict[node] = i\n",
    "\n",
    "nx.set_node_attributes(G, communities_dict, name='group')"
   ]
  },
  {
   "cell_type": "code",
   "execution_count": null,
   "metadata": {},
   "outputs": [],
   "source": [
    "for key, value in communities_dict.items():\n",
    "    print(key, value, end=\", \")"
   ]
  },
  {
   "cell_type": "code",
   "execution_count": null,
   "metadata": {},
   "outputs": [],
   "source": [
    "len(communities_dict)"
   ]
  },
  {
   "cell_type": "code",
   "execution_count": null,
   "metadata": {},
   "outputs": [],
   "source": [
    "from pyvis.network import Network\n",
    "\n",
    "net = Network(notebook=True, cdn_resources='in_line')\n",
    "_ = net.from_nx(G)\n",
    "_ = net.show('communities.html')"
   ]
  },
  {
   "cell_type": "code",
   "execution_count": null,
   "metadata": {},
   "outputs": [],
   "source": []
  }
 ],
 "metadata": {
  "kernelspec": {
   "display_name": "Python 3",
   "language": "python",
   "name": "python3"
  },
  "language_info": {
   "codemirror_mode": {
    "name": "ipython",
    "version": 3
   },
   "file_extension": ".py",
   "mimetype": "text/x-python",
   "name": "python",
   "nbconvert_exporter": "python",
   "pygments_lexer": "ipython3",
   "version": "3.10.12"
  }
 },
 "nbformat": 4,
 "nbformat_minor": 2
}
