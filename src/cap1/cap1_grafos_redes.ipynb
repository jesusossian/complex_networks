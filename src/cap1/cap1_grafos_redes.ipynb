{
 "cells": [
  {
   "cell_type": "markdown",
   "metadata": {},
   "source": [
    "# Cap 1: Grafos e redes"
   ]
  },
  {
   "cell_type": "markdown",
   "metadata": {},
   "source": [
    "### 1.2.7 Análise com Networkx"
   ]
  },
  {
   "cell_type": "code",
   "execution_count": null,
   "metadata": {},
   "outputs": [],
   "source": [
    "# importa Networkx\n",
    "import networkx as nx\n",
    "\n",
    "# importa matplotlib\n",
    "%matplotlib inline\n",
    "import matplotlib.pyplot as plt"
   ]
  },
  {
   "cell_type": "code",
   "execution_count": null,
   "metadata": {},
   "outputs": [],
   "source": [
    "# grafo do clube de karate\n",
    "G = nx.karate_club_graph() # gera o grafico do clube de karate\n",
    "nx.draw(G,with_labels = True ) # plota o grafo G"
   ]
  },
  {
   "cell_type": "code",
   "execution_count": null,
   "metadata": {},
   "outputs": [],
   "source": [
    "type(G)"
   ]
  },
  {
   "cell_type": "code",
   "execution_count": null,
   "metadata": {},
   "outputs": [],
   "source": [
    "# mostra os vértices\n",
    "nodesG = G.nodes()\n",
    "print(\"vétices: \", nodesG)"
   ]
  },
  {
   "cell_type": "code",
   "execution_count": null,
   "metadata": {},
   "outputs": [],
   "source": [
    "# mostra as arestas como pares de vértices\n",
    "edgesG = G.edges()\n",
    "print(\"Arestas\", edgesG)\n"
   ]
  },
  {
   "cell_type": "markdown",
   "metadata": {},
   "source": [
    "### Desenhando grafos"
   ]
  },
  {
   "cell_type": "code",
   "execution_count": null,
   "metadata": {},
   "outputs": [],
   "source": [
    "# mostrar o grafo do clube do karate em formato circular\n",
    "nx.draw_circular (G, with_labels = True )"
   ]
  },
  {
   "cell_type": "code",
   "execution_count": null,
   "metadata": {},
   "outputs": [],
   "source": [
    "# desenha o grafo G com um \"Kamada-Kawai force-directed layout\".\n",
    "nx.draw_kamada_kawai (G, with_labels = True )"
   ]
  },
  {
   "cell_type": "code",
   "execution_count": null,
   "metadata": {},
   "outputs": [],
   "source": [
    "# imprime os vizinhos do vértices 12\n",
    "for n in G.neighbors(12):\n",
    "    print(n)"
   ]
  },
  {
   "cell_type": "code",
   "execution_count": null,
   "metadata": {},
   "outputs": [],
   "source": [
    "# gera um grafo de uma árvore binomial\n",
    "# The binomial tree of order 0 consists of a single vertex. \n",
    "# A binomial tree of order k is defined recursively by linking two binomial trees of order k-1: \n",
    "# the root of one is the leftmost child of the root of the other.\n",
    "GAB = nx.binomial_tree(4)\n",
    "nx.draw(GAB, with_labels = \"True\")"
   ]
  },
  {
   "cell_type": "code",
   "execution_count": null,
   "metadata": {},
   "outputs": [],
   "source": [
    "# gera um grafo círculo com 6 nós\n",
    "GCI = nx.circulant_graph(6 ,[1])\n",
    "nx.draw(GCI, with_labels=\"True\")"
   ]
  },
  {
   "cell_type": "code",
   "execution_count": null,
   "metadata": {},
   "outputs": [],
   "source": [
    "# gerar um grafo regular com 6 nós e 3 arestas por nó\n",
    "GRE = nx.random_regular_graph(3,6)\n",
    "nx.draw(GRE, with_labels = \"True\")"
   ]
  },
  {
   "cell_type": "code",
   "execution_count": null,
   "metadata": {},
   "outputs": [],
   "source": [
    "# gerar um grafo completo com 6 nós\n",
    "GCO = nx.complete_graph(6)\n",
    "nx.draw(GCO, with_labels = \"True\")"
   ]
  },
  {
   "cell_type": "code",
   "execution_count": null,
   "metadata": {},
   "outputs": [],
   "source": [
    "# gera um grafo aleatório de Erdös - Rényi com 6 nós e probabilidade 0.25\n",
    "GER = nx.gnp_random_graph(6,0.25)\n",
    "nx.draw(GER, with_labels = \"True\")"
   ]
  },
  {
   "cell_type": "code",
   "execution_count": null,
   "metadata": {},
   "outputs": [],
   "source": [
    "# gerar um grafo direcionado\n",
    "GD = nx.DiGraph()\n",
    "type(GD)"
   ]
  },
  {
   "cell_type": "code",
   "execution_count": null,
   "metadata": {},
   "outputs": [],
   "source": [
    "# adicionando vértices armazenado em uma lista\n",
    "GD.add_nodes_from (['Avó', 'Avô', 'Pai', 'Mãe', 'Filho', 'Filha'])"
   ]
  },
  {
   "cell_type": "code",
   "execution_count": null,
   "metadata": {},
   "outputs": [],
   "source": [
    "nx.draw(GD,with_labels=\"True\")"
   ]
  },
  {
   "cell_type": "code",
   "execution_count": null,
   "metadata": {},
   "outputs": [],
   "source": [
    "# adicionando arestas\n",
    "GD.add_edge('Avó', 'Pai') # Avó -> Pai\n",
    "GD.add_edge('Avô', 'Pai') # Avô -> Pai\n",
    "GD.add_edge('Pai', 'Filho') # Pai -> Filho\n",
    "GD.add_edge('Pai', 'Filha') # Pai -> Filha\n",
    "GD.add_edge('Mãe', 'Filho') # Mãe -> Filho\n",
    "GD.add_edge('Mãe', 'Filha') # Mãe -> Filha"
   ]
  },
  {
   "cell_type": "code",
   "execution_count": null,
   "metadata": {},
   "outputs": [],
   "source": [
    "# desenhando o grafo GD\n",
    "nx.draw(GD, with_labels = \"True\")"
   ]
  },
  {
   "cell_type": "code",
   "execution_count": null,
   "metadata": {},
   "outputs": [],
   "source": [
    "# gerando um grafo direcionado\n",
    "# lendo os vértices e arestas em um arquivo .txt\n",
    "GFA = nx.read_edgelist('fami.txt', data = (('peso',float),), create_using = nx.DiGraph)\n",
    "# definindo a posição dos vértices\n",
    "pos = nx.circular_layout(GFA)\n",
    "pos['Avó'] = [-1 ,0]\n",
    "pos['Avô'] = [+0 ,0]\n",
    "pos['Pai'] = [-0.5,-0.5]\n",
    "pos['Mãe'] = [+1.5,-0.5]\n",
    "pos['Filho'] = [+0.0,-1.0]\n",
    "pos['Filha'] = [+1.0,-1.0]\n",
    "# lista da largura das arestas\n",
    "larg = [(0.5*GFA[u][v]['peso']) for u, v in GFA.edges]\n",
    "# desennhando o grafo GFA\n",
    "nx.draw(GFA, pos=pos, node_size=2000, with_labels=True, arrows=True, width=larg )"
   ]
  },
  {
   "cell_type": "code",
   "execution_count": null,
   "metadata": {},
   "outputs": [],
   "source": []
  },
  {
   "cell_type": "markdown",
   "metadata": {},
   "source": [
    "## 1.3 Métricas Globais de Redes"
   ]
  },
  {
   "cell_type": "markdown",
   "metadata": {},
   "source": [
    "### 1.3.1 Densidade\n",
    "\n",
    "Seja uma rede $G=(V,E)$, com $|V|=n$ e $|E|=m$. \n",
    "\n",
    "Então, a densidade da rede, $\\mathrm{dens}(G)$, é \n",
    "- igual a $\\dfrac{2m}{n(n-1)}$, se a rede for não direcionada, e \n",
    "- igual a $\\dfrac{m}{n(n-1)}$ se a rede for direcionada."
   ]
  },
  {
   "cell_type": "code",
   "execution_count": null,
   "metadata": {},
   "outputs": [],
   "source": [
    "# grafo do clube do karate\n",
    "karate = nx.karate_club_graph()\n",
    "nx.draw(karate, with_labels = \"True\")"
   ]
  },
  {
   "cell_type": "code",
   "execution_count": null,
   "metadata": {},
   "outputs": [],
   "source": [
    "# grafo regular com 6 nós e 3 arestas por nó\n",
    "gre = nx.random_regular_graph(3,6)\n",
    "nx.draw(gre, with_labels = \"True\")"
   ]
  },
  {
   "cell_type": "code",
   "execution_count": null,
   "metadata": {},
   "outputs": [],
   "source": [
    "# grafo completo com 6 nós\n",
    "gco = nx.complete_graph(6)\n",
    "nx.draw(gco, with_labels = \"True\")"
   ]
  },
  {
   "cell_type": "code",
   "execution_count": null,
   "metadata": {},
   "outputs": [],
   "source": [
    "# imprimindo as densidades\n",
    "print(\"Densidades:\")\n",
    "print(\"karate:\", nx.density(karate))\n",
    "print(\"gre: \", nx.density(gre))\n",
    "print(\"gco: \", nx.density(gco))"
   ]
  },
  {
   "cell_type": "code",
   "execution_count": null,
   "metadata": {},
   "outputs": [],
   "source": []
  },
  {
   "cell_type": "markdown",
   "metadata": {},
   "source": [
    "### 1.3.2 Comprimento médio e caminho\n",
    "\n",
    "O diâmetro de uma rede é igual ao maior distância geodésica entre dois nós em uma mesma componente da rede. \n",
    "\n",
    "Similarmente, o comprimento médio dos caminhos de uma rede é dado pela média de todas as distâncias geodésicas entre dois nós que são conectados na rede."
   ]
  },
  {
   "cell_type": "code",
   "execution_count": null,
   "metadata": {},
   "outputs": [],
   "source": [
    "# caminhos e distância geodésica entre dois vértices\n",
    "karate = nx.karate_club_graph()\n",
    "caminho = nx.shortest_path(karate, 3, 20)\n",
    "longitude = nx.shortest_path_length(karate ,3 ,20)\n",
    "print(\"caminho: \", caminho)\n",
    "print(\"tamanho: \", longitude)"
   ]
  },
  {
   "cell_type": "code",
   "execution_count": null,
   "metadata": {},
   "outputs": [],
   "source": [
    "# Comprimento médio dos caminhos do grafo do clube do karate\n",
    "cm = nx.average_shortest_path_length(karate)\n",
    "\n",
    "# Diâmetro do grafo do clube do karate\n",
    "diam = nx.diameter(karate)\n",
    "\n",
    "print(\"Comprimento médio =\", cm)\n",
    "print(\"Diâmentro =\", diam)"
   ]
  },
  {
   "cell_type": "markdown",
   "metadata": {},
   "source": [
    "### 1.3.3 Distribuição de graus\n",
    "\n",
    "- O grau de um certo vértice de uma rede não direcionada consiste de quantas arestas envolvem este vértice na\n",
    "rede, ou seja, \n",
    "$$d(i) = \\displaystyle\\sum_{j \\in V} A(i,j)$$\n",
    "\n",
    "- Vértices com alto grau são aqueles que conseguem acessar imediatamente um grande número de vértices.\n",
    "\n",
    "- Em redes direcionadas, existem dois tipos de grau que dependem da direção das arestas: o grau de saída (out-degree), $d^{out}(i)$, e o grau de entrada (in-degree), $d^{in}(i)$.\n",
    "$$\n",
    "d^{out}(i) = \\displaystyle\\sum_{j \\in V} A(i,j)\n",
    "$$\n",
    "e\n",
    "$$\n",
    "d^{in}(i) = \\displaystyle\\sum_{j \\in V} A(j,i)\n",
    "$$\n",
    "\n",
    "\n"
   ]
  },
  {
   "cell_type": "code",
   "execution_count": null,
   "metadata": {},
   "outputs": [],
   "source": [
    "# Graus do grafo do clube do karate\n",
    "karate = nx.karate_club_graph()\n",
    "a = karate.degree(0) # grau do nó 0\n",
    "b = list(karate.degree([0 ,17 ,33]) ) # lista de graus dos nós 0 , 1 e 2\n",
    "c = nx.degree_histogram(karate) # lista com as frequências de ocorrência de graus\n",
    "print(\"Grau do vértice 0:\", a)\n",
    "print(\"Graus dos vértices 0,1,2:\", b)\n",
    "print(\"Frequências de ocorrência:\", c)"
   ]
  },
  {
   "cell_type": "code",
   "execution_count": null,
   "metadata": {},
   "outputs": [],
   "source": []
  },
  {
   "cell_type": "markdown",
   "metadata": {},
   "source": [
    "### 1.3.4 Coesão e agrupamento\n",
    "\n",
    "Redes complexas possuem uma característica de coesão em que nós vizinhos a um certo nó tem uma maior chance de serem vizinhos entre si.\n",
    "\n",
    "Existem algumas formas de mensurar essa característica, por exemplo, através do conceito de cliques.\n",
    "\n",
    "Uma maneira de analisar a coesão de uma rede seria analisar a distribuição dos cliques, ou seja, quantos cliques de cada tamanho existem.\n",
    "\n",
    "Cliques são muito sensíveis a remoção de um nó, assim outras medidas foram propostas para analisar o grau de coesão ou agrupamento da rede. \n",
    "\n",
    "O coeficiente de agrupamento total é dado pela proporção de vezes que dois vértices $j$ e $k$ que são vizinhos de um mesmo vértice $i$ também são vizinhos entre si:\n",
    "\n",
    "$$\n",
    "cl(G)=\n",
    "\\dfrac{\\sum\\limits_{(i,j,k):j\\ne i,k\\ne i,k\\ne j}A(i,j)A(i,k)A(j,k)}{\\displaystyle\\sum\\limits_{(i,j,k):j\\ne i,k\\ne i,k\\ne j}A(i,j)A(i,k)}\n",
    "$$\n"
   ]
  },
  {
   "cell_type": "markdown",
   "metadata": {},
   "source": []
  },
  {
   "cell_type": "code",
   "execution_count": null,
   "metadata": {},
   "outputs": [],
   "source": [
    "karate = nx.karate_club_graph ()\n",
    "clqlist = list(nx.enumerate_all_cliques(karate)) # lista com todos os cliques\n",
    "clqlist"
   ]
  },
  {
   "cell_type": "code",
   "execution_count": null,
   "metadata": {},
   "outputs": [],
   "source": [
    "# calculo do tamanho médio dos cliques\n",
    "karate = nx.karate_club_graph ()\n",
    "clqlist = list(nx.enumerate_all_cliques(karate)) # lista com todos os cliques\n",
    "soma = 0\n",
    "k = len(clqlist)\n",
    "for clique in clqlist :\n",
    "    soma = soma + len(clique)\n",
    "lonmedia = soma / k\n",
    "print(\" Tamanho médio das cliques:\", lonmedia)"
   ]
  },
  {
   "cell_type": "code",
   "execution_count": null,
   "metadata": {},
   "outputs": [],
   "source": [
    "# gerando grafos\n",
    "\n",
    "# círculo com 6 nós\n",
    "gci = nx.circulant_graph(6 ,[1])\n",
    "\n",
    "# grafo regular com 6 nós e 3 arestas por nó\n",
    "gre = nx.random_regular_graph(3,6)\n",
    "\n",
    "# grafo completo com 6 nós\n",
    "gco = nx.complete_graph(6)"
   ]
  },
  {
   "cell_type": "code",
   "execution_count": null,
   "metadata": {},
   "outputs": [],
   "source": [
    "# calculando os coeficientes de agrupamento total\n",
    "cl_karate = nx.transitivity(karate)\n",
    "cl_gci = nx.transitivity(gci)\n",
    "cl_gre = nx.transitivity(gre)\n",
    "cl_gco = nx.transitivity(gco)"
   ]
  },
  {
   "cell_type": "code",
   "execution_count": null,
   "metadata": {},
   "outputs": [],
   "source": [
    "# imprimindo os coeficientes de agrupamento total\n",
    "print(\"cl^{d,1}(karate):\", cl_karate)\n",
    "print(\"cl^{d,1}(gci):\", cl_gci)\n",
    "print(\"cl^{d,1}(gre):\", cl_gre)\n",
    "print(\"cl^{d,1}(gco):\", cl_gco)"
   ]
  },
  {
   "cell_type": "code",
   "execution_count": null,
   "metadata": {},
   "outputs": [],
   "source": []
  },
  {
   "cell_type": "markdown",
   "metadata": {},
   "source": [
    "### 1.3.5 Reciprocidade\n",
    "\n",
    "Em redes direcionadas, uma medida de interesse é saber qual a fração de arestas que ocorrem em ambas as direções.\n",
    "\n",
    "$$\n",
    "rc(G)=\n",
    "\\dfrac{\\displaystyle\\sum\\limits_{i,j}A(i,j)A(j,i)}{\\displaystyle\\sum\\limits_{i,j}A(i,j)}.\n",
    "$$"
   ]
  },
  {
   "cell_type": "code",
   "execution_count": null,
   "metadata": {},
   "outputs": [],
   "source": [
    "# gerando o grafo direcionado GD\n",
    "GD = nx.DiGraph ()\n",
    "GD.add_nodes_from(['A','B','C'])\n",
    "\n",
    "GD.add_edge('A','B') # A -> B\n",
    "GD.add_edge('B','A') # B -> A\n",
    "GD.add_edge('B','C') # B -> C\n",
    "GD.add_edge('C','A') # C -> A\n",
    "\n",
    "# plotando o grafo GD\n",
    "nx.draw(GD, with_labels = \"True\")"
   ]
  },
  {
   "cell_type": "code",
   "execution_count": null,
   "metadata": {},
   "outputs": [],
   "source": [
    "# calculando a reciprocidade do grafo GD\n",
    "re = nx.reciprocity(GD)\n",
    "\n",
    "# imprimindo o valor da reciprocidade do grafo GD\n",
    "print(\"Reciprocidade GS:\", re)"
   ]
  },
  {
   "cell_type": "code",
   "execution_count": null,
   "metadata": {},
   "outputs": [],
   "source": []
  }
 ],
 "metadata": {
  "kernelspec": {
   "display_name": "Python 3",
   "language": "python",
   "name": "python3"
  },
  "language_info": {
   "codemirror_mode": {
    "name": "ipython",
    "version": 3
   },
   "file_extension": ".py",
   "mimetype": "text/x-python",
   "name": "python",
   "nbconvert_exporter": "python",
   "pygments_lexer": "ipython3",
   "version": "3.10.12"
  }
 },
 "nbformat": 4,
 "nbformat_minor": 2
}
