{
 "cells": [
  {
   "cell_type": "code",
   "execution_count": null,
   "metadata": {},
   "outputs": [],
   "source": [
    "import networkx as nx\n",
    "import matplotlib.pyplot as plt\n",
    "import numpy as np\n",
    "from numpy.random import default_rng"
   ]
  },
  {
   "cell_type": "markdown",
   "metadata": {},
   "source": [
    "## Ligação preferêncial"
   ]
  },
  {
   "cell_type": "markdown",
   "metadata": {},
   "source": [
    "### Modelo de Barabási-Albert\n",
    "\n",
    "O grafo de **Barabási-Albert**(criado por Barabási e Albert) é não direcionado, sem arestas múltiplas, onde cada novo vértice adicionado ao grafo cria um número fixo $m$ de arestas. \n",
    "\n",
    "A probabilidade de que um novo vértice $i$ crie uma ligação com o vértice $j$ é proporcional ao grau de $j$. \n",
    "\n",
    "Para iniciar a construção de uma rede de **Barabási-Albert**, é necessário se ter uma rede inicial com a qual os novos nós irão se conectar. \n",
    "\n",
    "No método do **networkx**, que gera uma rede de **Barabási-Albert**, caso não seja fornecida uma rede inicial, a rede inicial padrão é um grafo estrela com $m$+1 nós."
   ]
  },
  {
   "cell_type": "markdown",
   "metadata": {},
   "source": [
    "**barabasi_albert_graph()**\n",
    "\n",
    "barabasi_albert_graph(n, m, seed=None, initial_graph=None): returns a random graph using Barabási–Albert preferential attachment\n",
    "\n",
    "A graph of $n$ nodes is grown by attaching new nodes each with $m$ edges that are preferentially attached to existing nodes with high degree.\n",
    "\n",
    "Parameters:\n",
    "- n (int): number of nodes\n",
    "- m (int): number of edges to attach from a new node to existing nodes\n",
    "- seed (integer, random_state, or None (default)): indicator of random number generation state.\n",
    "- initial_graph (Graph or None (default)): initial network for Barabási–Albert algorithm. \n",
    "It should be a connected graph for most use cases. \n",
    "A copy of initial_graph is used. If None, starts from a star graph on ($m$+1) nodes."
   ]
  },
  {
   "cell_type": "code",
   "execution_count": null,
   "metadata": {},
   "outputs": [],
   "source": [
    "# rede com n vértices. \n",
    "# cada vértice liga-se a 5 outros vértices\n",
    "n = 100\n",
    "BAG = nx.barabasi_albert_graph(n,5)"
   ]
  },
  {
   "cell_type": "code",
   "execution_count": null,
   "metadata": {},
   "outputs": [],
   "source": [
    "fig, ax = plt.subplots(1,1,figsize=(20,15))\n",
    "\n",
    "nx.draw_kamada_kawai(BAG, with_labels=True)"
   ]
  },
  {
   "cell_type": "code",
   "execution_count": null,
   "metadata": {},
   "outputs": [],
   "source": []
  }
 ],
 "metadata": {
  "kernelspec": {
   "display_name": "Python 3",
   "language": "python",
   "name": "python3"
  },
  "language_info": {
   "codemirror_mode": {
    "name": "ipython",
    "version": 3
   },
   "file_extension": ".py",
   "mimetype": "text/x-python",
   "name": "python",
   "nbconvert_exporter": "python",
   "pygments_lexer": "ipython3",
   "version": "3.10.12"
  }
 },
 "nbformat": 4,
 "nbformat_minor": 2
}
