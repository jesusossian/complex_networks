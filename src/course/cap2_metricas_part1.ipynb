{
 "cells": [
  {
   "cell_type": "markdown",
   "metadata": {},
   "source": [
    "# Métricas de Centralidade e Outras Métricas Locais"
   ]
  },
  {
   "cell_type": "code",
   "execution_count": 1,
   "metadata": {},
   "outputs": [],
   "source": [
    "# import das bibliotecas\n",
    "\n",
    "import numpy as np\n",
    "import networkx as nx\n",
    "\n",
    "import pandas as pd\n",
    "\n",
    "import matplotlib . pyplot as plt\n",
    "from matplotlib.pyplot import figure\n",
    "import matplotlib.patches as mpatches"
   ]
  },
  {
   "cell_type": "markdown",
   "metadata": {},
   "source": [
    "## Métricas de centralidade"
   ]
  },
  {
   "cell_type": "markdown",
   "metadata": {},
   "source": [
    "### Métricas geométricas de centralidade"
   ]
  },
  {
   "cell_type": "markdown",
   "metadata": {},
   "source": [
    "### Centralidade de excentricidade\n",
    "\n",
    "- Considere um grafo $G =(V,E)$ onde $|V| = n$, $|E| = m$.\n",
    "\n",
    "- Seja $G_i = (V_i,E_i)$ uma componente conexa de $G$ que contém o nó $i \\in V$\n",
    "\n",
    "- A **excentricidade** do nó $i \\in G_i$ é a maior distância geodésica de um $i$ aos demais nós de $G_i$. \n",
    "- A **excentricidade** do nó $i$ é dado pela fórmula \n",
    "$$\n",
    "ec(i) = \\max_{j \\in V_i} d(i,j) \\; \\forall \\; i \\in V_i\n",
    "$$\n",
    "onde $d(i,j)$ é o tamanho da distância geodésica do nó $i$ para o nó $j \\in V_i$.\n",
    "\n",
    "- O **diâmetro** de um grafo é sua maior excentrecidade.\n",
    "\n",
    "- A **periferia** de um grafo é o conjunto de todos os nós cujo a excentricidade é igual ao diâmetro.\n",
    "\n",
    "- O **raio** de um grafo é sua menor excentricidade.\n",
    "\n",
    "- O **centro** de um grafo é o conjunto de nós cujo valor da excentricidade é igual ao raio.\n",
    "\n",
    "Funções do NetworkX:\n",
    "- **nx.eccentricity()**: retorna a excentricidade de um grafo.\n",
    "- **nx.diameter()**: retorna o diâmetro de um grafo.\n",
    "- **nx.periphery()**: retorna a periferia de um grafo.\n",
    "- **nx.radius()**: retorna o raio de um grafo.\n",
    "- **nx.center()**: retorna o centro de um grafo."
   ]
  },
  {
   "cell_type": "code",
   "execution_count": null,
   "metadata": {},
   "outputs": [],
   "source": [
    "# Exemplo de uma arvore binomial\n",
    "BTG = nx.binomial_tree(4)\n",
    "n = nx.number_of_nodes(BTG) # número de vértices\n",
    "m = nx.number_of_edges(BTG) # número de arestas\n",
    "\n",
    "print(\"numero de vertices:\", n)\n",
    "print(\"numero de arestas:\", m)"
   ]
  },
  {
   "cell_type": "code",
   "execution_count": null,
   "metadata": {},
   "outputs": [],
   "source": [
    "## Verifica se o grafo é conexo\n",
    "print(nx.is_connected(BTG))"
   ]
  },
  {
   "cell_type": "code",
   "execution_count": null,
   "metadata": {},
   "outputs": [],
   "source": [
    "fig, ax = plt.subplots(1,1,figsize=(15,10))\n",
    "\n",
    "# layout position\n",
    "#pos = nx.spring_layout(BTG,seed=123456789,k=0.3)\n",
    "pos = nx.kamada_kawai_layout(BTG)\n",
    "\n",
    "# draw edges\n",
    "nx.draw_networkx_edges(BTG, \n",
    "                       pos=pos, \n",
    "                       alpha=0.4, \n",
    "                       ax=ax)\n",
    "\n",
    "# draw nodes\n",
    "nodes = nx.draw_networkx_nodes(BTG,\n",
    "                               node_size=1000,\n",
    "                               pos=pos, \n",
    "                               cmap=plt.cm.jet,\n",
    "                               ax=ax)\n",
    "\n",
    "# draw labels\n",
    "nx.draw_networkx_labels(BTG, \n",
    "                        pos=pos, \n",
    "                        font_color='white', \n",
    "                        ax=ax)\n",
    "\n",
    "plt.axis(\"off\")\n",
    "#plt.savefig('BTG.png', transparent=True, dpi=300)\n",
    "plt.show()"
   ]
  },
  {
   "cell_type": "code",
   "execution_count": null,
   "metadata": {},
   "outputs": [],
   "source": [
    "# Encontra as distâncias geodésica(sp)\n",
    "p = nx.shortest_path(BTG)\n",
    "for key, value in p.items():\n",
    "    print(\"sp partindo de\",key,\":\", value)"
   ]
  },
  {
   "cell_type": "code",
   "execution_count": null,
   "metadata": {},
   "outputs": [],
   "source": [
    "# calculo do tamanhos da distâncias geodésica(sp) do grafo\n",
    "\n",
    "d = np.zeros((n,n), dtype=int)\n",
    "for i in BTG:\n",
    "    for j in BTG:\n",
    "        d[i][j] = len(p[i][j])-1\n",
    "\n",
    "#for i in BTG:\n",
    "#    for j in BTG:\n",
    "#        if i >= j:\n",
    "#            continue\n",
    "#        print(\"d[%d,%d]=\" %(i,j), d[i,j])\n",
    "d[1][5]"
   ]
  },
  {
   "cell_type": "code",
   "execution_count": null,
   "metadata": {},
   "outputs": [],
   "source": [
    "# calculo do tamanho das distâncias geodésicas do grafo\n",
    "\n",
    "d = np.zeros((n,n), dtype=int)\n",
    "for i in BTG:\n",
    "    sp = nx.shortest_path_length(BTG,i)\n",
    "\n",
    "    for key, value in sp.items():\n",
    "        d[i,key] = value\n",
    "\n",
    "#d[1][5]"
   ]
  },
  {
   "cell_type": "code",
   "execution_count": null,
   "metadata": {},
   "outputs": [],
   "source": [
    "# calculo da excentricidade do grafo\n",
    "ec = nx.eccentricity(BTG)\n",
    "\n",
    "for key, value in ec.items():\n",
    "    print(\"excentricidade de\",key,\":\", value)"
   ]
  },
  {
   "cell_type": "code",
   "execution_count": null,
   "metadata": {},
   "outputs": [],
   "source": [
    "# gráfico da excentricidade do grafo(rede)\n",
    "\n",
    "fig, ax = plt.subplots(1,1,figsize=(15,10))\n",
    "\n",
    "# layout position\n",
    "#pos = nx.spring_layout(BTG,seed=123456789,k=0.3)\n",
    "pos = nx.kamada_kawai_layout(BTG)\n",
    "\n",
    "# color of nodes based on eccentricity\n",
    "color = list(ec.values())\n",
    "\n",
    "# draw edges\n",
    "nx.draw_networkx_edges(BTG, \n",
    "                       pos=pos, \n",
    "                       alpha=0.4, \n",
    "                       ax=ax)\n",
    "\n",
    "# draw nodes\n",
    "nodes = nx.draw_networkx_nodes(BTG,\n",
    "                               node_size=1000,\n",
    "                               pos=pos,\n",
    "                               node_color=color,\n",
    "                               cmap=plt.cm.jet,\n",
    "                               ax=ax)\n",
    "\n",
    "# draw labels\n",
    "nx.draw_networkx_labels(BTG, \n",
    "                        pos=pos, \n",
    "                        font_color='white', \n",
    "                        ax=ax)\n",
    "\n",
    "plt.axis(\"off\")\n",
    "plt.colorbar(nodes)\n",
    "#plt.savefig('excentricidade.png', transparent=True,dpi=300)\n",
    "plt.show()"
   ]
  },
  {
   "cell_type": "code",
   "execution_count": null,
   "metadata": {},
   "outputs": [],
   "source": [
    "set_ec = set(ec.values())\n",
    "print(set_ec)\n",
    "\n",
    "for i in set_ec:\n",
    "    print(i, end= \" : \")\n",
    "    for key, value in ec.items():\n",
    "        if i == ec[key]:\n",
    "            print(key, end=\", \")\n",
    "    print()"
   ]
  },
  {
   "cell_type": "code",
   "execution_count": null,
   "metadata": {},
   "outputs": [],
   "source": [
    "# the diameter of networks is the maximum eccentricy\n",
    "diameter = nx.diameter(BTG)\n",
    "print(\"Diamentro de G: {}\".format(diameter))"
   ]
  },
  {
   "cell_type": "code",
   "execution_count": null,
   "metadata": {},
   "outputs": [],
   "source": [
    "# whom are in the diameter\n",
    "diameter_set= [k for k,v in nx.eccentricity(BTG).items() if v == nx.diameter(BTG)]\n",
    "print(\"Nós com diametro\", diameter,\":\", diameter_set)"
   ]
  },
  {
   "cell_type": "code",
   "execution_count": null,
   "metadata": {},
   "outputs": [],
   "source": [
    "# the periphery of a network is a set of all nodes whose eccentriciy is equals the diameter\n",
    "periphery = nx.periphery(BTG)\n",
    "print(\"Periferia da rede:\", periphery)"
   ]
  },
  {
   "cell_type": "code",
   "execution_count": null,
   "metadata": {},
   "outputs": [],
   "source": [
    "# the radius of a network is the minimum eccentricity\n",
    "radius = nx.radius(BTG)\n",
    "print(\"Raio da rede: {}\".format(radius))"
   ]
  },
  {
   "cell_type": "code",
   "execution_count": null,
   "metadata": {},
   "outputs": [],
   "source": [
    "# whom are in the radius\n",
    "radius_set = [k for k,v in nx.eccentricity(BTG).items() if v == radius]\n",
    "print(\"Nós com raio\", radius,\":\",radius_set)"
   ]
  },
  {
   "cell_type": "code",
   "execution_count": null,
   "metadata": {},
   "outputs": [],
   "source": [
    "# the center of a network is a set all nodes whose eccentricity equal the radius\n",
    "center = nx.center(BTG)\n",
    "print(\"Centro da rede:\", center)"
   ]
  },
  {
   "cell_type": "markdown",
   "metadata": {},
   "source": [
    "- A **centralidade de excentricidade** garante que os nós centrais estão mais próximos dos outros.\n",
    "\n",
    "- A **centralidade de excentricidade** no nó $i$ é dado pela fórmula\n",
    "$$\n",
    "cec(i) = \\dfrac{1}{ec(i)} \\; \\forall \\; i \\in V_i\n",
    "$$"
   ]
  },
  {
   "cell_type": "code",
   "execution_count": null,
   "metadata": {},
   "outputs": [],
   "source": [
    "# centralidade de excentricidade\n",
    "cec = {}\n",
    "for key, value in ec.items():\n",
    "    cec[key] = 1/value\n",
    "\n",
    "for key, value in cec.items():\n",
    "    print(\"cec(\", key, \"):\", value)"
   ]
  },
  {
   "cell_type": "code",
   "execution_count": null,
   "metadata": {},
   "outputs": [],
   "source": [
    "fig, ax = plt.subplots(1,1,figsize=(15,10))\n",
    "\n",
    "# layout position\n",
    "# pos = nx.spring_layout(BTG,seed=123456789,k=0.3)\n",
    "pos = nx.kamada_kawai_layout(BTG)\n",
    "\n",
    "# color of nodes\n",
    "color = list(cec.values())\n",
    "\n",
    "# draw edges\n",
    "nx.draw_networkx_edges(BTG, \n",
    "                       pos=pos, \n",
    "                       alpha=0.4, \n",
    "                       ax=ax)\n",
    "\n",
    "# draw nodes\n",
    "nodes = nx.draw_networkx_nodes(BTG, \n",
    "                               pos=pos, \n",
    "                               node_size=1000,\n",
    "                               node_color=color,\n",
    "                               cmap=plt.cm.jet,\n",
    "                               ax=ax)\n",
    "\n",
    "# draw labels\n",
    "nx.draw_networkx_labels(BTG, \n",
    "                        pos=pos,\n",
    "                        font_color='white',\n",
    "                        ax=ax)\n",
    "\n",
    "plt.axis(\"off\")\n",
    "plt.colorbar(nodes)\n",
    "#plt.savefig('cec.png', transparent=True,dpi=300)\n",
    "plt.show()"
   ]
  },
  {
   "cell_type": "code",
   "execution_count": null,
   "metadata": {},
   "outputs": [],
   "source": [
    "set_ec = set(ec.values())\n",
    "print(set_ec)\n",
    "\n",
    "for i in set_ec:\n",
    "    print(i, end= \" : \")\n",
    "    for key, value in ec.items():\n",
    "        if i == ec[key]:\n",
    "            print(key, end=\", \")\n",
    "    print()"
   ]
  },
  {
   "cell_type": "code",
   "execution_count": null,
   "metadata": {},
   "outputs": [],
   "source": []
  },
  {
   "cell_type": "markdown",
   "metadata": {},
   "source": [
    "### Grau de centralidade\n",
    "\n",
    "- A métrica de **grau** refere-se ao número de links de cada nó da rede.\n",
    "\n",
    "- **nx.degree()**: função do networkx que retorna o grau cada nó da rede.\n",
    "\n",
    "- A métrica de **grau de centralidade** atribui uma pontuação(fração) de importância com base no número de links mantido por cada nó.\n",
    "\n",
    "- Essa métrica nos fala o quanto direto é a conexão de um nó com os outros nós da rede.\n",
    "\n",
    "- **nx.degree_centrality()**: função do networkx que retorna o grau de centralidade de cada nó da rede."
   ]
  },
  {
   "cell_type": "code",
   "execution_count": null,
   "metadata": {},
   "outputs": [],
   "source": [
    "# graus dos vertices do grafo(rede)\n",
    "grau = dict(nx.degree(BTG))\n",
    "type(grau)\n",
    "for key, value in grau.items():\n",
    "    print(\"Grau do nó\", key, \":\", value)"
   ]
  },
  {
   "cell_type": "code",
   "execution_count": null,
   "metadata": {},
   "outputs": [],
   "source": [
    "# grau dos nós do grafo(rede)\n",
    "\n",
    "fig, ax = plt.subplots(1,1,figsize=(15,10))\n",
    "\n",
    "# layout position\n",
    "# pos = nx.spring_layout(BTG,seed=123456789,k=0.3)\n",
    "pos = nx.kamada_kawai_layout(BTG)\n",
    "\n",
    "# color of nodes\n",
    "color = list(grau.values())\n",
    "\n",
    "# draw edges\n",
    "nx.draw_networkx_edges(BTG, \n",
    "                       pos=pos, \n",
    "                       alpha=0.4, \n",
    "                       ax=ax)\n",
    "\n",
    "# draw nodes\n",
    "nodes = nx.draw_networkx_nodes(BTG, \n",
    "                               pos=pos, \n",
    "                               node_size=1000,\n",
    "                               node_color=color,\n",
    "                               cmap=plt.cm.jet,\n",
    "                               ax=ax)\n",
    "\n",
    "# draw labels\n",
    "nx.draw_networkx_labels(BTG, \n",
    "                        pos=pos,\n",
    "                        font_color='white', \n",
    "                        ax=ax)\n",
    "\n",
    "plt.axis(\"off\")\n",
    "plt.colorbar(nodes)\n",
    "#plt.savefig('degree.png', transparent=True,dpi=300)\n",
    "plt.show()"
   ]
  },
  {
   "cell_type": "code",
   "execution_count": null,
   "metadata": {},
   "outputs": [],
   "source": [
    "set_grau = set(grau.values())\n",
    "print(set_grau)\n",
    "\n",
    "for i in set_grau:\n",
    "    print(i, end= \" : \")\n",
    "    for key, value in grau.items():\n",
    "        if i == grau[key]:\n",
    "            print(key, end=\", \")\n",
    "    print()"
   ]
  },
  {
   "cell_type": "code",
   "execution_count": null,
   "metadata": {},
   "outputs": [],
   "source": []
  },
  {
   "cell_type": "code",
   "execution_count": null,
   "metadata": {},
   "outputs": [],
   "source": [
    "# Grau de centrelidade dos vertices do grafo\n",
    "grau_center = nx.degree_centrality(BTG)\n",
    "\n",
    "for key, value in grau_center.items():\n",
    "    print(\"Grau de centralidade do nó\", key, \":\", value)"
   ]
  },
  {
   "cell_type": "code",
   "execution_count": null,
   "metadata": {},
   "outputs": [],
   "source": [
    "# the degree ceentrality of network(g)\n",
    "\n",
    "fig, ax = plt.subplots(1,1,figsize=(15,10))\n",
    "\n",
    "# layout position\n",
    "# pos = nx.spring_layout(BTG,seed=123456789,k=0.3)\n",
    "pos = nx.kamada_kawai_layout(BTG)\n",
    "\n",
    "# color of nodes\n",
    "color = list(grau_center.values())\n",
    "\n",
    "# draw edges\n",
    "nx.draw_networkx_edges(BTG, \n",
    "                       pos=pos, \n",
    "                       alpha=0.4, \n",
    "                       ax=ax)\n",
    "\n",
    "# draw nodes\n",
    "nodes = nx.draw_networkx_nodes(BTG, \n",
    "                               pos=pos, \n",
    "                               node_size=1000,\n",
    "                               node_color=color,\n",
    "                               cmap=plt.cm.jet,\n",
    "                               ax=ax)\n",
    "\n",
    "# draw labels\n",
    "nx.draw_networkx_labels(BTG, \n",
    "                        pos=pos,\n",
    "                        font_color='white', \n",
    "                        ax=ax)\n",
    "\n",
    "plt.axis(\"off\")\n",
    "plt.colorbar(nodes)\n",
    "#plt.savefig('degree_centrality.png', transparent=True,dpi=300)\n",
    "plt.show()"
   ]
  },
  {
   "cell_type": "code",
   "execution_count": null,
   "metadata": {},
   "outputs": [],
   "source": [
    "set_grau_center = set(grau_center.values())\n",
    "print(\"set_grau_center: \", set_grau_center)\n",
    "\n",
    "for i in set_grau_center:\n",
    "    print(i, end= \" : \")\n",
    "    for key, value in grau_center.items():\n",
    "        if i == grau_center[key]:\n",
    "            print(key, end=\", \")\n",
    "    print()"
   ]
  },
  {
   "cell_type": "code",
   "execution_count": null,
   "metadata": {},
   "outputs": [],
   "source": []
  },
  {
   "cell_type": "markdown",
   "metadata": {},
   "source": [
    "### Centralidade de proximidade\n",
    "\n",
    "- A **centralidade de proximidade** pontua cada nó com base em sua **proximidade** com todos os outros nós da rede.\n",
    "\n",
    "- Esta medida calcula os caminhos mais curtos entre todos os nós e, em seguida, atribui a cada nó uma pontuação com base na soma dos caminhos mais curtos.\n",
    "\n",
    "- Podemos usar essa medida para encontrar os nós que estão em melhor posição para influenciar toda a rede mais rapidamente.\n",
    "\n",
    "- A **centralidade de proximidade** do nó $i$ é igual ao reciproco da média aritmética das distâncias geodésicas do nó $i$ para os demais nós $j$ da mesma componente do nó $i$, ou seja\n",
    "$$\n",
    "C_{c}(i) = \\dfrac{|V_i| - 1}{\\sum_{j \\in {V_i - \\{i\\}}} d(i,j)} \\; \\forall \\; i \\in V_i\n",
    "$$\n",
    "\n",
    "- **nx.closeness_centrality()**: função do networkx que retorna a centralidade de proximidade de cada nó da rede."
   ]
  },
  {
   "cell_type": "code",
   "execution_count": null,
   "metadata": {},
   "outputs": [],
   "source": [
    "# centralidade de proximidade dos vertices de BTG\n",
    "cc = nx.closeness_centrality(BTG)\n",
    "\n",
    "for key, value in cc.items():\n",
    "    print(\"centralidade de proximidade do nó\",key,\":\", value)"
   ]
  },
  {
   "cell_type": "code",
   "execution_count": null,
   "metadata": {},
   "outputs": [],
   "source": [
    "# gráfico da centralidade proximidade\n",
    "\n",
    "fig, ax = plt.subplots(1,1,figsize=(15,10))\n",
    "\n",
    "# layout position\n",
    "# pos = nx.spring_layout(BTG,seed=123456789,k=0.3)\n",
    "pos = nx.kamada_kawai_layout(BTG)\n",
    "\n",
    "# color of nodes\n",
    "color = list(cc.values())\n",
    "\n",
    "# draw edges\n",
    "nx.draw_networkx_edges(BTG, \n",
    "                       pos=pos, \n",
    "                       alpha=0.4, \n",
    "                       ax=ax)\n",
    "\n",
    "# draw nodes\n",
    "nodes = nx.draw_networkx_nodes(BTG, \n",
    "                               pos=pos, \n",
    "                               node_size=1000,\n",
    "                               node_color=color,\n",
    "                               cmap=plt.cm.jet,\n",
    "                               ax=ax)\n",
    "\n",
    "# draw labels\n",
    "nx.draw_networkx_labels(BTG, \n",
    "                        pos=pos,\n",
    "                        font_color='white', \n",
    "                        ax=ax)\n",
    "\n",
    "plt.axis(\"off\")\n",
    "plt.colorbar(nodes)\n",
    "#plt.savefig('closeness_centrality.png', transparent=True,dpi=300)\n",
    "plt.show()"
   ]
  },
  {
   "cell_type": "code",
   "execution_count": null,
   "metadata": {},
   "outputs": [],
   "source": [
    "set_cc = set(cc.values())\n",
    "print(\"set_cc: \", set_cc)\n",
    "\n",
    "for i in set_cc:\n",
    "    print(i, end= \" : \")\n",
    "    for key, value in cc.items():\n",
    "        if i == cc[key]:\n",
    "            print(key, end=\", \")\n",
    "    print()"
   ]
  },
  {
   "cell_type": "code",
   "execution_count": null,
   "metadata": {},
   "outputs": [],
   "source": []
  },
  {
   "cell_type": "markdown",
   "metadata": {},
   "source": [
    "### Centralidade harmônica\n",
    "\n",
    "- Na **centralidade harmônica** a média aritmética das distâncias presente na **centralidade de proximidade** é substituida pela **média harmônica** das mesmas em que nós pertencentes a componentes distintas possuem distâncias infinitas entre si, ou seja,\n",
    "$$\n",
    "C_h(i) = \\dfrac{1}{n-1} \\left[ \\sum_{j\\not=i} \\dfrac{1}{d(i,j)} \\right] \\; \\forall \\; i \\in V\n",
    "$$\n",
    "\n",
    "- **nx.harmonic_centrality()**: função do networkx que retorna o centralidade harmônica de cada nó da rede, sem normalizar(sem dividor por $n-1$).\n",
    "\n",
    "- A **centralidade harmônica** contorna o problema de redes com mais de uma componente conexas, onde temos distâncias geodésicas infinitas."
   ]
  },
  {
   "cell_type": "code",
   "execution_count": null,
   "metadata": {},
   "outputs": [],
   "source": [
    "# centralidade harmônica\n",
    "ch = nx.harmonic_centrality(BTG)\n",
    "\n",
    "for key, value in ch.items():\n",
    "    print(\"centralidade harmonica do nó\", key, \":\", value)"
   ]
  },
  {
   "cell_type": "code",
   "execution_count": null,
   "metadata": {},
   "outputs": [],
   "source": [
    "set_ch = set(ch.values())\n",
    "print(\"set_ch: \", set_ch)\n",
    "\n",
    "for i in set_ch:\n",
    "    print(i, end= \" : \")\n",
    "    for key, value in ch.items():\n",
    "        if i == ch[key]:\n",
    "            print(key, end=\", \")\n",
    "    print()"
   ]
  },
  {
   "cell_type": "code",
   "execution_count": null,
   "metadata": {},
   "outputs": [],
   "source": [
    "# grafico da centralidade harmônica (normalizada) do gráfico\n",
    "\n",
    "fig, ax = plt.subplots(1,1,figsize=(15,10))\n",
    "\n",
    "# layout position\n",
    "# pos = nx.spring_layout(BTG,seed=123456789,k=0.3)\n",
    "pos = nx.kamada_kawai_layout(BTG)\n",
    "\n",
    "# color of nodes\n",
    "color = list(ch.values())\n",
    "\n",
    "# draw edges\n",
    "nx.draw_networkx_edges(BTG, \n",
    "                       pos=pos, \n",
    "                       alpha=0.4, \n",
    "                       ax=ax)\n",
    "\n",
    "# draw nodes\n",
    "nodes = nx.draw_networkx_nodes(BTG, \n",
    "                               pos=pos, \n",
    "                               node_size=1000,\n",
    "                               node_color=color,\n",
    "                               cmap=plt.cm.jet,\n",
    "                               ax=ax)\n",
    "\n",
    "# draw labels\n",
    "nx.draw_networkx_labels(BTG, \n",
    "                        pos=pos,\n",
    "                        font_color='white', \n",
    "                        ax=ax)\n",
    "\n",
    "plt.axis(\"off\")\n",
    "plt.colorbar(nodes)\n",
    "#plt.savefig('harmonic_centrality.png', transparent=True,dpi=300)\n",
    "plt.show()"
   ]
  },
  {
   "cell_type": "code",
   "execution_count": null,
   "metadata": {},
   "outputs": [],
   "source": []
  },
  {
   "cell_type": "code",
   "execution_count": null,
   "metadata": {},
   "outputs": [],
   "source": [
    "# centralidade harmônica normalizada do grafo(rede)\n",
    "ch = dict(nx.harmonic_centrality(BTG))\n",
    "\n",
    "chn = {}\n",
    "for key, value in ch.items():\n",
    "    chn[key] = value/(n-1)\n",
    "\n",
    "for key, value in chn.items():\n",
    "    print(\"centralidade harmônica normalizada do nó\", key, \":\", value)"
   ]
  },
  {
   "cell_type": "code",
   "execution_count": null,
   "metadata": {},
   "outputs": [],
   "source": [
    "set_chn = set(chn.values())\n",
    "print(\"set_chn: \", set_chn)\n",
    "\n",
    "for i in set_chn:\n",
    "    print(i, end= \" : \")\n",
    "    for key, value in chn.items():\n",
    "        if i == chn[key]:\n",
    "            print(key, end=\", \")\n",
    "    print()"
   ]
  },
  {
   "cell_type": "code",
   "execution_count": null,
   "metadata": {},
   "outputs": [],
   "source": [
    "# grafico da centralidade harmônica normalizada do gráfico\n",
    "\n",
    "fig, ax = plt.subplots(1,1,figsize=(15,10))\n",
    "\n",
    "# layout position\n",
    "# pos = nx.spring_layout(BTG,seed=123456789,k=0.3)\n",
    "pos = nx.kamada_kawai_layout(BTG)\n",
    "\n",
    "# color of nodes\n",
    "color = list(chn.values())\n",
    "\n",
    "# draw edges\n",
    "nx.draw_networkx_edges(BTG, \n",
    "                       pos=pos, \n",
    "                       alpha=0.4, \n",
    "                       ax=ax)\n",
    "\n",
    "# draw nodes\n",
    "nodes = nx.draw_networkx_nodes(BTG, \n",
    "                               pos=pos, \n",
    "                               node_size=1000,\n",
    "                               node_color=color,\n",
    "                               cmap=plt.cm.jet,\n",
    "                               ax=ax)\n",
    "\n",
    "# draw labels\n",
    "nx.draw_networkx_labels(BTG, \n",
    "                        pos=pos,\n",
    "                        font_color='white', \n",
    "                        ax=ax)\n",
    "\n",
    "plt.axis(\"off\")\n",
    "plt.colorbar(nodes)\n",
    "#plt.savefig('normal_harmonic_centrality.png', transparent=True,dpi=300)\n",
    "plt.show()"
   ]
  },
  {
   "cell_type": "code",
   "execution_count": null,
   "metadata": {},
   "outputs": [],
   "source": []
  },
  {
   "cell_type": "markdown",
   "metadata": {},
   "source": [
    "### Centralidade de p-média\n",
    "\n",
    "- A **centralidade de p-média** usa a noção de média generalizadas das distâncias.\n",
    "\n",
    "- A **centralidade de p-média** generaliza as três médias anteriores: execentricidade, proximidade e harmônica.\n",
    "\n",
    "- Fórmula da **centralidade de p-média**:\n",
    "\n",
    "\\begin{equation*}\n",
    "C_{p}(i) = \\left\\{\n",
    "\\begin{matrix}\n",
    "\\left( \\dfrac{\\sum_{j \\in  V_{i}-\\{i\\}} d(i,j)^p}{n-1} \\right)^{\\dfrac{-1}{p}}, \\; se \\; p \\not= 0 \\\\\n",
    "\\left( \\prod_{j \\in V_{i}-\\{i\\}} d(i,j) \\right)^{\\dfrac{-1}{n-1}}, \\; se \\; p = 0 \\\\\n",
    "\\end{matrix}\n",
    "\\right.\n",
    "\\end{equation*}"
   ]
  },
  {
   "cell_type": "code",
   "execution_count": null,
   "metadata": {},
   "outputs": [],
   "source": [
    "# centralidade generalizada\n",
    "\n",
    "n = BTG.number_of_nodes()\n",
    "\n",
    "# valores de p\n",
    "# linspace is an in-built function in Python's NumPy library. \n",
    "# It is used to create an evenly spaced sequence in a specified interval.\n",
    "p = np.linspace(-1,1,n)\n",
    "\n",
    "node = 1\n",
    "# comprimento dos caminhos mais curtos desde nó 1\n",
    "sp = np.array(list(nx.shortest_path_length(BTG,1).values()))\n",
    "\n",
    "# centralidade generalizada para o nó 1\n",
    "cp = np.zeros_like(p)\n",
    "for k in range (p.shape[0]):\n",
    "    if p[k]:\n",
    "        cp[k] = np.mean(sp[1:]** p[k])**(-1.0/p[k])\n",
    "    else :\n",
    "        cp[k] = np.prod(sp[1:])**(-1.0/(sp.shape[0] - 1))"
   ]
  },
  {
   "cell_type": "code",
   "execution_count": null,
   "metadata": {},
   "outputs": [],
   "source": [
    "print(p)"
   ]
  },
  {
   "cell_type": "code",
   "execution_count": null,
   "metadata": {},
   "outputs": [],
   "source": [
    "print(sp)"
   ]
  },
  {
   "cell_type": "code",
   "execution_count": null,
   "metadata": {},
   "outputs": [],
   "source": [
    "print(nx.shortest_path(BTG,1))"
   ]
  },
  {
   "cell_type": "code",
   "execution_count": null,
   "metadata": {},
   "outputs": [],
   "source": [
    "print(nx.shortest_path_length(BTG,1))"
   ]
  },
  {
   "cell_type": "code",
   "execution_count": null,
   "metadata": {},
   "outputs": [],
   "source": [
    "for i in range(len(cp)):\n",
    "    print(\"cp node\", i,\":\", cp[i])"
   ]
  },
  {
   "cell_type": "code",
   "execution_count": null,
   "metadata": {},
   "outputs": [],
   "source": [
    "set_cp = set(cp)\n",
    "print(\"set_cp: \", set_cp)\n",
    "\n",
    "for i in set_cp:\n",
    "    print(i, end= \" : \")\n",
    "    for key in range(len(cp)):\n",
    "        if i == cp[key]:\n",
    "            print(key, end=\", \")\n",
    "    print()"
   ]
  },
  {
   "cell_type": "code",
   "execution_count": null,
   "metadata": {},
   "outputs": [],
   "source": [
    "# centralidade generalizada\n",
    "\n",
    "fig, ax = plt.subplots(1,1,figsize=(15,10))\n",
    "\n",
    "# layout position\n",
    "# pos = nx.spring_layout(BTG,seed=123456789,k=0.3)\n",
    "pos = nx.kamada_kawai_layout(BTG)\n",
    "\n",
    "# color of nodes\n",
    "color = cp\n",
    "\n",
    "# draw edges\n",
    "nx.draw_networkx_edges(BTG, \n",
    "                       pos=pos, \n",
    "                       alpha=0.4, \n",
    "                       ax=ax)\n",
    "\n",
    "# draw nodes\n",
    "nodes = nx.draw_networkx_nodes(BTG, \n",
    "                               pos=pos, \n",
    "                               node_size=1000,\n",
    "                               node_color=color,\n",
    "                               cmap=plt.cm.jet,\n",
    "                               ax=ax)\n",
    "\n",
    "# draw labels\n",
    "nx.draw_networkx_labels(BTG, \n",
    "                        pos=pos,\n",
    "                        font_color='white', \n",
    "                        ax=ax)\n",
    "\n",
    "plt.axis(\"off\")\n",
    "plt.colorbar(nodes)\n",
    "#plt.savefig('pmedia_centrality.png', transparent=True,dpi=300)\n",
    "plt.show()"
   ]
  },
  {
   "cell_type": "code",
   "execution_count": null,
   "metadata": {},
   "outputs": [],
   "source": []
  },
  {
   "cell_type": "markdown",
   "metadata": {},
   "source": [
    "### Centralidade de intermediação\n",
    "\n",
    "- A **centralidade de intermediação** quantifica o quanto os vértices são capazes de atuar como intermediários entre outros dois vértices, podendo portanto controlar o fluxo de informação entre eles.\n",
    "\n",
    "- $Q_{j,k}$: número de caminhos geodésicos iniciando no vértice $j$ e terminando no vértice $k$.\n",
    "\n",
    "- $Q_{j,k}(i)$: número de caminhos geodésicos que iniciam em $j$, terminam em $k$ e passam pelo vértice $i$.\n",
    "\n",
    "- $\\dfrac{Q_{j,k}(i)}{Q_{j,k}}$: determina a importância do vértice $i$ para a conexão entre $j$ e $k$. Quanto maioro valor, maior é a importância do vértice $i$ para a conexão entre $j$ e $k$.\n",
    "\n",
    "- Fórmula da centralidade por intermediação\n",
    "\n",
    "$$\n",
    "C_{b}(i) = \\dfrac{1}{(n-1)(n-2)} \\left[ \\sum_{(j,k):j\\not=k, i \\not\\in \\{ j,k\\}} \\dfrac{Q_{j,k}(i)}{Q_{j,k}} \\right] \\; \\forall \\; i \\in V\n",
    "$$\n",
    "\n",
    "- Função do networkx: **nx.betweenness_centrality()**"
   ]
  },
  {
   "cell_type": "code",
   "execution_count": null,
   "metadata": {},
   "outputs": [],
   "source": [
    "# centralidade de intermediação\n",
    "cb = nx.betweenness_centrality(BTG,normalized = True)\n",
    "\n",
    "for key, value in cb.items():\n",
    "    print(\"centralidade de intermediação do nó\", key, \":\", value)"
   ]
  },
  {
   "cell_type": "code",
   "execution_count": null,
   "metadata": {},
   "outputs": [],
   "source": [
    "### gráfico da centralidade de intermediação\n",
    "\n",
    "fig, ax = plt.subplots(1,1,figsize=(15,10))\n",
    "\n",
    "# layout position\n",
    "# pos = nx.spring_layout(BTG,seed=123456789,k=0.3)\n",
    "pos = nx.kamada_kawai_layout(BTG)\n",
    "\n",
    "# color of nodes\n",
    "color = list(cb.values())\n",
    "\n",
    "# draw edges\n",
    "nx.draw_networkx_edges(BTG, \n",
    "                       pos=pos, \n",
    "                       alpha=0.4, \n",
    "                       ax=ax)\n",
    "\n",
    "# draw nodes\n",
    "nodes = nx.draw_networkx_nodes(BTG, \n",
    "                               pos=pos, \n",
    "                               node_size=1000,\n",
    "                               node_color=color,\n",
    "                               cmap=plt.cm.jet,\n",
    "                               ax=ax)\n",
    "\n",
    "# draw labels\n",
    "nx.draw_networkx_labels(BTG, \n",
    "                        pos=pos,\n",
    "                        font_color='white', \n",
    "                        ax=ax)\n",
    "\n",
    "plt.axis(\"off\")\n",
    "plt.colorbar(nodes)\n",
    "#plt.savefig('cb.png', transparent=True,dpi=300)\n",
    "plt.show()"
   ]
  },
  {
   "cell_type": "code",
   "execution_count": null,
   "metadata": {},
   "outputs": [],
   "source": [
    "set_cb = set(cb.values())\n",
    "print(\"set_cb: \", set_cb)\n",
    "set_cp = set(cp)\n",
    "print(\"set_cp: \", set_cp)\n",
    "\n",
    "for i in set_cp:\n",
    "    print(i, end= \" : \")\n",
    "    for key in range(len(cp)):\n",
    "        if i == cp[key]:\n",
    "            print(key, end=\", \")\n",
    "    print()\n",
    "for i in set_cb:\n",
    "    print(i, end= \" : \")\n",
    "    for key, value in cb.items():\n",
    "        if i == cb[key]:\n",
    "            print(key, end=\", \")\n",
    "    print()"
   ]
  },
  {
   "cell_type": "code",
   "execution_count": null,
   "metadata": {},
   "outputs": [],
   "source": []
  },
  {
   "cell_type": "markdown",
   "metadata": {},
   "source": [
    "### k-shell\n",
    "\n",
    "- O valor do **k-shell** está relacionado com a centralidade de grau dos nós e consiste na decomposição da rede em camadas.\n",
    "\n",
    "- Os nós que possuem grau zero são nós isolados, constituem a camada $k = 0$ da rede.\n",
    "\n",
    "- Os nós que possuem grau $k$, fazem parte da camada $k$ da rede.\n",
    "\n",
    "- O maior valor de camada de uma rede é denotado por **kmax** e é também uma medida global da rede. \n",
    "\n",
    "- A união de todos os nós que fazem parte de uma camada maior ou igual a $k$ constitui o **$k$-core** da rede.\n",
    "\n",
    "- A união de todos os nós que fazem parte de uma camada menor ou igual a $k$ constitui o **$k$-crust** da rede. \n",
    "\n",
    "Funções do networkx:\n",
    "\n",
    "- **nx.core_number()**: retorna o índice de shell de cada nó, isto é, o número do maior k-core que cada nó pertence.\n",
    "\n",
    "- **nx.k_shell()**: retorna o subgrafo com os nós em um $k$-shell.\n",
    "\n",
    "- **nx.k_core()**: retorna o subgrafo com todos os nós em um $k$-core.\n",
    "\n",
    " - **nx.k_crust()**: retorna o subgrafo com todos os nós em um $k$-crust."
   ]
  },
  {
   "cell_type": "code",
   "execution_count": null,
   "metadata": {},
   "outputs": [],
   "source": [
    "# Exemplo 2.8\n",
    "G = nx.Graph()\n",
    "G.add_nodes_from(range(15))\n",
    "G.add_edges_from([(0,1),(0,2),(0,3),(1,2),(1 ,3),(2 ,3)])\n",
    "G.add_edge(3,4)\n",
    "G.add_edges_from([(4,5),(4,6),(4,7)])\n",
    "G.add_edge(3,8)\n",
    "G.add_edge(2,9)\n",
    "G.add_edges_from([(1,10),(2,10),(10,11)])\n",
    "G.add_edges_from([(1,12),(1,13),(12,13)])"
   ]
  },
  {
   "cell_type": "code",
   "execution_count": null,
   "metadata": {},
   "outputs": [],
   "source": [
    "print(\"number of nodes=\", nx.number_of_nodes(G))\n",
    "print(\"number of edges=\", nx.number_of_edges(G))"
   ]
  },
  {
   "cell_type": "code",
   "execution_count": null,
   "metadata": {},
   "outputs": [],
   "source": [
    "fig, ax = plt.subplots(1,1,figsize=(15,10))\n",
    "\n",
    "# layout position\n",
    "\n",
    "#pos = nx.spring_layout(G,seed=123456789,k=0.3)\n",
    "\n",
    "pos = nx.circular_layout(G)\n",
    "pos[0] = [0.00,0.00]\n",
    "pos[1] = [0.50,0.00]\n",
    "pos[2] = [0.50,-0.50]\n",
    "pos[3] = [0.00,-0.50]\n",
    "pos[4] = [-1.00,-0.50]\n",
    "pos[5] = [-1.50,-1.00]\n",
    "pos[6] = [-1.00,-1.00]\n",
    "pos[7] = [-0.50,-1.00]\n",
    "pos[8] = [0.00,-1.00]\n",
    "pos[9] = [0.50,-1.00]\n",
    "pos[10] = [1.00,-0.25]\n",
    "pos[11] = [1.50,-0.25]\n",
    "pos[12] = [0.25,0.50]\n",
    "pos[13] = [0.75,0.50]\n",
    "pos[14] = [-1.00,0.25]\n",
    "\n",
    "# color of nodes\n",
    "color = list(dict(nx.degree(G)).values())\n",
    "\n",
    "# draw edges\n",
    "nx.draw_networkx_edges(G,\n",
    "                       pos=pos, \n",
    "                       alpha=0.4, \n",
    "                       ax=ax)\n",
    "\n",
    "# draw nodes\n",
    "nodes = nx.draw_networkx_nodes(G,\n",
    "                               pos=pos,\n",
    "                               node_size=1000,\n",
    "                               node_color=color,\n",
    "                               cmap=plt.cm.jet,\n",
    "                               ax=ax)\n",
    "\n",
    "# draw labels\n",
    "nx.draw_networkx_labels(G,\n",
    "                        pos=pos,\n",
    "                        font_color='white', \n",
    "                        ax=ax)\n",
    "\n",
    "plt.axis(\"off\")\n",
    "plt.colorbar(nodes)\n",
    "#plt.savefig('graphG.png', transparent=True, dpi=300)\n",
    "plt.show()"
   ]
  },
  {
   "cell_type": "code",
   "execution_count": null,
   "metadata": {},
   "outputs": [],
   "source": [
    "# k-core of the network\n",
    "set([v for k,v in nx.core_number(G).items()])"
   ]
  },
  {
   "cell_type": "code",
   "execution_count": null,
   "metadata": {},
   "outputs": [],
   "source": [
    "for key, value in nx.core_number(G).items():\n",
    "    print(\"core do nó\", key, \":\", value)"
   ]
  },
  {
   "cell_type": "code",
   "execution_count": null,
   "metadata": {},
   "outputs": [],
   "source": [
    "# Visualize the nodes in k-core\n",
    "# Note that k-core is the all network\n",
    "k = 2\n",
    "print(k, \"core:\", list(nx.k_core(G,k)))"
   ]
  },
  {
   "cell_type": "code",
   "execution_count": null,
   "metadata": {},
   "outputs": [],
   "source": [
    "# Visualize the nodes in k-shell\n",
    "# Note that vertices in k-shell are member of k-core, \n",
    "# however they are not member of (k+1)-core\n",
    "k = 2\n",
    "print(k, \"shell:\", list(nx.k_shell(G, k)))"
   ]
  },
  {
   "cell_type": "code",
   "execution_count": null,
   "metadata": {},
   "outputs": [],
   "source": [
    "# Visualize the nodes in k-crust\n",
    "k = 2\n",
    "print(k, \"crust:\", list(nx.k_crust(G, k)))"
   ]
  },
  {
   "cell_type": "code",
   "execution_count": null,
   "metadata": {},
   "outputs": [],
   "source": []
  },
  {
   "cell_type": "code",
   "execution_count": null,
   "metadata": {},
   "outputs": [],
   "source": [
    "fig, ax = plt.subplots(1,1,figsize=(15,10))\n",
    "\n",
    "# Find k-cores and k-shell\n",
    "ks = 2\n",
    "k = 2\n",
    "k_shell = nx.k_shell(G, ks)\n",
    "k_core = nx.k_core(G, k)\n",
    "\n",
    "# draw edges\n",
    "nx.draw_networkx_edges(G,\n",
    "                       pos=pos,\n",
    "                       alpha=0.4, \n",
    "                       ax=ax)\n",
    "\n",
    "# draw nodes\n",
    "nodes = nx.draw_networkx_nodes(G,\n",
    "                               pos=pos,\n",
    "                               node_size=1000,\n",
    "                               node_color=\"#333333\")\n",
    "\n",
    "# draw nodes\n",
    "nodes = nx.draw_networkx_nodes(k_core,\n",
    "                               pos=pos,\n",
    "                               node_size=1000,\n",
    "                               node_color=\"red\")\n",
    "\n",
    "# draw nodes\n",
    "nodes = nx.draw_networkx_nodes(k_shell,\n",
    "                               pos=pos,\n",
    "                               node_size=1000,\n",
    "                               node_color=\"blue\")\n",
    "\n",
    "# draw labels\n",
    "nx.draw_networkx_labels(G,\n",
    "                        pos=pos,\n",
    "                        font_color='white', \n",
    "                        ax=ax)\n",
    "\n",
    "# static legend\n",
    "red_patch = mpatches.Patch(color='red', label=f'{kc}-core')\n",
    "blue_patch = mpatches.Patch(color='blue', label=f'{ks}-shell')\n",
    "plt.legend(handles=[red_patch,blue_patch])\n",
    "\n",
    "plt.axis(\"off\")\n",
    "#plt.savefig('k_core_G', transparent=True,dpi=600)\n",
    "plt.show()"
   ]
  },
  {
   "cell_type": "code",
   "execution_count": null,
   "metadata": {},
   "outputs": [],
   "source": [
    "fig, ax = plt.subplots(1,1,figsize=(15,10))\n",
    "\n",
    "# Find k-crust and k-shell\n",
    "ks = 2\n",
    "k = 2\n",
    "k_shell = nx.k_shell(G, ks)\n",
    "k_crust = nx.k_crust(G, k)\n",
    "\n",
    "# draw edges\n",
    "nx.draw_networkx_edges(G,\n",
    "                       pos=pos,\n",
    "                       alpha=0.4, \n",
    "                       ax=ax)\n",
    "\n",
    "# draw nodes\n",
    "nodes = nx.draw_networkx_nodes(G,\n",
    "                               pos=pos,\n",
    "                               node_size=1000,\n",
    "                               node_color=\"#333333\")\n",
    "\n",
    "# draw nodes\n",
    "nodes = nx.draw_networkx_nodes(k_crust,\n",
    "                               pos=pos,\n",
    "                               node_size=1000,\n",
    "                               node_color=\"green\")\n",
    "\n",
    "# draw nodes\n",
    "nodes = nx.draw_networkx_nodes(k_shell,\n",
    "                               pos=pos,\n",
    "                               node_size=1000,\n",
    "                               node_color=\"blue\")\n",
    "\n",
    "# draw labels\n",
    "nx.draw_networkx_labels(G,\n",
    "                        pos=pos,\n",
    "                        font_color='white', \n",
    "                        ax=ax)\n",
    "\n",
    "# static legend\n",
    "green_patch = mpatches.Patch(color='green', label=f'{k}-crust')\n",
    "blue_patch = mpatches.Patch(color='blue', label=f'{ks}-shell')\n",
    "plt.legend(handles=[green_patch,blue_patch])\n",
    "\n",
    "plt.axis(\"off\")\n",
    "#plt.savefig('k_crust_shell_G', transparent=True,dpi=600)\n",
    "plt.show()"
   ]
  },
  {
   "cell_type": "code",
   "execution_count": null,
   "metadata": {},
   "outputs": [],
   "source": []
  },
  {
   "cell_type": "code",
   "execution_count": null,
   "metadata": {},
   "outputs": [],
   "source": [
    "# Subgrafos de shells e de cores\n",
    "fig, ax = plt.subplots(1,1,figsize=(8,8))\n",
    "\n",
    "ks = 3\n",
    "G_shell = nx.core.k_shell(G,ks)\n",
    "nx.draw(G_shell, pos, with_labels = True)\n",
    "\n",
    "plt.axis(\"off\")\n",
    "plt.show()"
   ]
  },
  {
   "cell_type": "code",
   "execution_count": null,
   "metadata": {},
   "outputs": [],
   "source": [
    "# Subgrafos de shells e de cores\n",
    "\n",
    "fig, ax = plt.subplots(1,1,figsize=(8,8))\n",
    "\n",
    "kc = 0 # core number\n",
    "G_shell = nx.core.k_core(G,kc)\n",
    "nx.draw(G_shell, pos, with_labels = True)\n",
    "\n",
    "plt.axis(\"off\")\n",
    "plt.show()"
   ]
  },
  {
   "cell_type": "code",
   "execution_count": null,
   "metadata": {},
   "outputs": [],
   "source": []
  },
  {
   "cell_type": "code",
   "execution_count": null,
   "metadata": {},
   "outputs": [],
   "source": []
  },
  {
   "cell_type": "markdown",
   "metadata": {},
   "source": [
    "### Exemplo: grafo de Erdõs Rényi"
   ]
  },
  {
   "cell_type": "code",
   "execution_count": null,
   "metadata": {},
   "outputs": [],
   "source": [
    "# grafo aleatório de Erdös - Rényi com 100 nós e probabilidade 0.1\n",
    "\n",
    "ERG = nx.erdos_renyi_graph(100,0.1)\n",
    "n = ERG.number_of_nodes()\n",
    "m = ERG.number_of_edges()\n",
    "\n",
    "fig, ax = plt.subplots(1,1,figsize=(15,10))\n",
    "\n",
    "# layout position\n",
    "# pos = nx.spring_layout(BTG,seed=123456789,k=0.3)\n",
    "pos = nx.kamada_kawai_layout(ERG)\n",
    "\n",
    "# draw edges\n",
    "nx.draw_networkx_edges(ERG, \n",
    "                       pos=pos, \n",
    "                       alpha=0.4, \n",
    "                       ax=ax)\n",
    "\n",
    "# draw nodes\n",
    "nodes = nx.draw_networkx_nodes(ERG, \n",
    "                               pos=pos, \n",
    "                               node_size=1000,\n",
    "                               cmap=plt.cm.jet,\n",
    "                               ax=ax)\n",
    "\n",
    "# draw labels\n",
    "nx.draw_networkx_labels(ERG, \n",
    "                        pos=pos,\n",
    "                        font_color='white',\n",
    "                        ax=ax)\n",
    "\n",
    "plt.axis(\"off\")\n",
    "plt.show()"
   ]
  },
  {
   "cell_type": "code",
   "execution_count": null,
   "metadata": {},
   "outputs": [],
   "source": [
    "print(nx.is_connected(ERG))"
   ]
  },
  {
   "cell_type": "code",
   "execution_count": null,
   "metadata": {},
   "outputs": [],
   "source": [
    "print(\"aresta: \", nx.number_of_edges(ERG))"
   ]
  },
  {
   "cell_type": "code",
   "execution_count": null,
   "metadata": {},
   "outputs": [],
   "source": [
    "# Graus dos vertices\n",
    "graus = dict(nx.degree(ERG))\n",
    "\n",
    "for key, value in graus.items():\n",
    "    print(\"grau do nó\", key, \":\", value)"
   ]
  },
  {
   "cell_type": "code",
   "execution_count": null,
   "metadata": {},
   "outputs": [],
   "source": [
    "print(set(graus.values()))"
   ]
  },
  {
   "cell_type": "code",
   "execution_count": null,
   "metadata": {},
   "outputs": [],
   "source": [
    "# Graus de centralidade\n",
    "grau_center = nx.degree_centrality(ERG)\n",
    "\n",
    "for key, value in grau_center.items():\n",
    "    print(\"grau de centralidade do nó \", key, \":\", value)"
   ]
  },
  {
   "cell_type": "code",
   "execution_count": null,
   "metadata": {},
   "outputs": [],
   "source": [
    "print(set(grau_center.values()))"
   ]
  },
  {
   "cell_type": "code",
   "execution_count": null,
   "metadata": {},
   "outputs": [],
   "source": [
    "ec = nx.eccentricity(ERG)\n",
    "\n",
    "for key, value in ec.items():\n",
    "    print(\"excentricidade do nó\",key,\":\", value)\n"
   ]
  },
  {
   "cell_type": "code",
   "execution_count": null,
   "metadata": {},
   "outputs": [],
   "source": [
    "print(set(ec.values()))"
   ]
  },
  {
   "cell_type": "code",
   "execution_count": null,
   "metadata": {},
   "outputs": [],
   "source": [
    "# gráfico da excentricidade de G\n",
    "\n",
    "fig, ax = plt.subplots(1,1,figsize=(15,10))\n",
    "\n",
    "# layout position\n",
    "#pos = nx.spring_layout(ERG,seed=123456789,k=0.3)\n",
    "pos = nx.kamada_kawai_layout(ERG)\n",
    "\n",
    "# color of nodes based on eccentricity\n",
    "color = list(ec.values())\n",
    "\n",
    "# draw edges\n",
    "nx.draw_networkx_edges(ERG, \n",
    "                       pos=pos, \n",
    "                       alpha=0.4, \n",
    "                       ax=ax)\n",
    "\n",
    "# draw nodes\n",
    "nodes = nx.draw_networkx_nodes(ERG,\n",
    "                               node_size=1000,\n",
    "                               pos=pos,\n",
    "                               node_color=color,\n",
    "                               cmap=plt.cm.jet,\n",
    "                               ax=ax)\n",
    "\n",
    "# draw labels\n",
    "nx.draw_networkx_labels(ERG, \n",
    "                        pos=pos, \n",
    "                        font_color='white', \n",
    "                        ax=ax)\n",
    "\n",
    "plt.axis(\"off\")\n",
    "plt.colorbar(nodes)\n",
    "#plt.savefig('excentricidade.png', transparent=True,dpi=300)\n",
    "plt.show()"
   ]
  },
  {
   "cell_type": "code",
   "execution_count": null,
   "metadata": {},
   "outputs": [],
   "source": [
    "# centralidade de excentricidade\n",
    "cec = [1.0/ec[i] for i in ec]\n",
    "\n",
    "#for key, value in ec.items():\n",
    "#    print(\"node\",key,\":\", cec[key])"
   ]
  },
  {
   "cell_type": "code",
   "execution_count": null,
   "metadata": {},
   "outputs": [],
   "source": [
    "# centralidade de excentricidade\n",
    "\n",
    "fig, ax = plt.subplots(1,1,figsize=(15,10))\n",
    "\n",
    "# layout position\n",
    "pos = nx.kamada_kawai_layout(ERG)\n",
    "\n",
    "# color of nodes\n",
    "color = list(cec)\n",
    "\n",
    "# draw edges\n",
    "nx.draw_networkx_edges(ERG, \n",
    "                       pos=pos, \n",
    "                       alpha=0.4, \n",
    "                       ax=ax)\n",
    "\n",
    "# draw nodes\n",
    "nodes = nx.draw_networkx_nodes(ERG, \n",
    "                               pos=pos, \n",
    "                               node_size=1000,\n",
    "                               node_color=color,\n",
    "                               cmap=plt.cm.jet,\n",
    "                               ax=ax)\n",
    "\n",
    "# draw labels\n",
    "nx.draw_networkx_labels(ERG, \n",
    "                        pos=pos,\n",
    "                        font_color='white', \n",
    "                        ax=ax)\n",
    "\n",
    "plt.axis(\"off\")\n",
    "plt.colorbar(nodes)\n",
    "plt.show()"
   ]
  },
  {
   "cell_type": "code",
   "execution_count": null,
   "metadata": {},
   "outputs": [],
   "source": [
    "# centralidade de proximidade\n",
    "cc = nx.closeness_centrality(ERG)\n",
    "\n",
    "#for key, value in cc.items():\n",
    "#    print(\"node\",key,\":\", value)"
   ]
  },
  {
   "cell_type": "code",
   "execution_count": null,
   "metadata": {},
   "outputs": [],
   "source": [
    "# centralidade de proximidade\n",
    "\n",
    "fig, ax = plt.subplots(1,1,figsize=(15,10))\n",
    "\n",
    "# layout position\n",
    "pos = nx.kamada_kawai_layout(ERG)\n",
    "\n",
    "# color of nodes\n",
    "color = list(cc.values())\n",
    "\n",
    "# draw edges\n",
    "nx.draw_networkx_edges(ERG, \n",
    "                       pos=pos, \n",
    "                       alpha=0.4, \n",
    "                       ax=ax)\n",
    "# Find k-crust e k-shell\n",
    "\n",
    "# draw nodes\n",
    "nodes = nx.draw_networkx_nodes(ERG, \n",
    "                               pos=pos, \n",
    "                               node_size=1000,\n",
    "                               node_color=color,\n",
    "                               cmap=plt.cm.jet,\n",
    "                               ax=ax)\n",
    "\n",
    "# draw labels\n",
    "nx.draw_networkx_labels(ERG, \n",
    "                        pos=pos,\n",
    "                        font_color='white', \n",
    "                        ax=ax)\n",
    "\n",
    "plt.axis(\"off\")\n",
    "plt.colorbar(nodes)\n",
    "plt.show()"
   ]
  },
  {
   "cell_type": "code",
   "execution_count": null,
   "metadata": {},
   "outputs": [],
   "source": [
    "# centralidade harmônica\n",
    "n = nx.number_of_nodes(ERG)\n",
    "ch = nx.harmonic_centrality(ERG)\n",
    "chn = [ x /(n - 1) for x in ch] # normalização\n",
    "\n",
    "#for key, value in ec.items():\n",
    "#    print(\"node\",key,\":\", ch[key])"
   ]
  },
  {
   "cell_type": "code",
   "execution_count": null,
   "metadata": {},
   "outputs": [],
   "source": [
    "print(set(ch.values()))"
   ]
  },
  {
   "cell_type": "code",
   "execution_count": null,
   "metadata": {},
   "outputs": [],
   "source": [
    "# centralidade harmonica\n",
    "\n",
    "fig, ax = plt.subplots(1,1,figsize=(15,10))\n",
    "\n",
    "# layout position\n",
    "pos = nx.kamada_kawai_layout(ERG)\n",
    "\n",
    "# color of nodes\n",
    "color = list(chn)\n",
    "\n",
    "# draw edges\n",
    "nx.draw_networkx_edges(ERG, \n",
    "                       pos=pos, \n",
    "                       alpha=0.4, \n",
    "                       ax=ax)\n",
    "\n",
    "# draw nodes\n",
    "nodes = nx.draw_networkx_nodes(ERG, \n",
    "                               pos=pos, \n",
    "                               node_size=1000,\n",
    "                               node_color=color,\n",
    "                               cmap=plt.cm.jet,\n",
    "                               ax=ax)\n",
    "\n",
    "# draw labels\n",
    "nx.draw_networkx_labels(ERG, \n",
    "                        pos=pos,\n",
    "                        font_color='white', \n",
    "                        ax=ax)\n",
    "\n",
    "plt.axis(\"off\")\n",
    "plt.colorbar(nodes)\n",
    "plt.show()"
   ]
  },
  {
   "cell_type": "code",
   "execution_count": null,
   "metadata": {},
   "outputs": [],
   "source": []
  },
  {
   "cell_type": "code",
   "execution_count": null,
   "metadata": {},
   "outputs": [],
   "source": [
    "# centralidade generalizada\n",
    "\n",
    "# valores de p\n",
    "p = np.linspace(-1,50,100)\n",
    "\n",
    "# comprimento dos caminhos mais curtos desde nó 1\n",
    "sp = np.array(list(nx.shortest_path_length(ERG,1).values()))\n",
    "\n",
    "# centralidade generalizada para o nó 1\n",
    "cp = np.zeros_like(p)\n",
    "\n",
    "for k in range(p.shape[0]):\n",
    "    if p[k]:\n",
    "        cp[k] = np.mean(sp[1:]** p[k])**(-1.0/p[k])\n",
    "    else :\n",
    "        cp[k] = np.prod(sp[1:])**(-1.0/(sp.shape[0] - 1))"
   ]
  },
  {
   "cell_type": "code",
   "execution_count": null,
   "metadata": {},
   "outputs": [],
   "source": [
    "for k in range(p.shape[0]):\n",
    "    print(\"centralidade generalizada do nó %d: %f\" %(k,cp[k]))"
   ]
  },
  {
   "cell_type": "code",
   "execution_count": null,
   "metadata": {},
   "outputs": [],
   "source": [
    "# centralidade de proximidade\n",
    "\n",
    "fig, ax = plt.subplots(1,1,figsize=(15,10))\n",
    "\n",
    "# layout position\n",
    "pos = nx.kamada_kawai_layout(ERG)\n",
    "\n",
    "# color of nodes\n",
    "color = cp\n",
    "\n",
    "# draw edges\n",
    "nx.draw_networkx_edges(ERG, \n",
    "                       pos=pos, \n",
    "                       alpha=0.4, \n",
    "                       ax=ax)\n",
    "\n",
    "# draw nodes\n",
    "nodes = nx.draw_networkx_nodes(ERG, \n",
    "                               pos=pos, \n",
    "                               node_size=1000,\n",
    "                               node_color=color,\n",
    "                               cmap=plt.cm.jet,\n",
    "                               ax=ax)\n",
    "\n",
    "# draw labels\n",
    "nx.draw_networkx_labels(ERG, \n",
    "                        pos=pos,\n",
    "                        font_color='white', \n",
    "                        ax=ax)\n",
    "\n",
    "plt.axis(\"off\")\n",
    "plt.colorbar(nodes)\n",
    "plt.show()"
   ]
  },
  {
   "cell_type": "code",
   "execution_count": null,
   "metadata": {},
   "outputs": [],
   "source": []
  },
  {
   "cell_type": "code",
   "execution_count": null,
   "metadata": {},
   "outputs": [],
   "source": []
  }
 ],
 "metadata": {
  "kernelspec": {
   "display_name": "Python 3",
   "language": "python",
   "name": "python3"
  },
  "language_info": {
   "codemirror_mode": {
    "name": "ipython",
    "version": 3
   },
   "file_extension": ".py",
   "mimetype": "text/x-python",
   "name": "python",
   "nbconvert_exporter": "python",
   "pygments_lexer": "ipython3",
   "version": "3.10.12"
  }
 },
 "nbformat": 4,
 "nbformat_minor": 2
}
