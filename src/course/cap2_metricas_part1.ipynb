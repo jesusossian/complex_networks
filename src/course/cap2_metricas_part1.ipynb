{
 "cells": [
  {
   "cell_type": "code",
   "execution_count": null,
   "metadata": {},
   "outputs": [],
   "source": [
    "# import das bibliotecas\n",
    "\n",
    "import numpy as np\n",
    "import networkx as nx\n",
    "\n",
    "import pandas as pd\n",
    "\n",
    "import matplotlib . pyplot as plt\n",
    "from matplotlib.pyplot import figure\n",
    "import matplotlib.patches as mpatches"
   ]
  },
  {
   "cell_type": "markdown",
   "metadata": {},
   "source": [
    "# Métricas de centralidade"
   ]
  },
  {
   "cell_type": "markdown",
   "metadata": {},
   "source": []
  },
  {
   "cell_type": "markdown",
   "metadata": {},
   "source": [
    "Considere um grafo $G =(V,E)$ onde $|V| = n$, $|E| = m$."
   ]
  },
  {
   "cell_type": "code",
   "execution_count": null,
   "metadata": {},
   "outputs": [],
   "source": [
    "# grafo karate club\n",
    "KCG = nx.karate_club_graph()"
   ]
  },
  {
   "cell_type": "code",
   "execution_count": null,
   "metadata": {},
   "outputs": [],
   "source": [
    "# imprime uma lista com os nós de g (karate club)\n",
    "nodes_ = KCG.nodes()\n",
    "print(f'nodes: {nodes_}')\n",
    "\n",
    "# imprime uma lista com as arestas de g (karate club)\n",
    "edges_ = KCG.edges()\n",
    "print(f'arestas: {edges_}')"
   ]
  },
  {
   "cell_type": "code",
   "execution_count": null,
   "metadata": {},
   "outputs": [],
   "source": [
    "n = nx.number_of_nodes(KCG) # número de nos\n",
    "m = nx.number_of_edges(KCG) # número de arestas\n",
    "\n",
    "print(f\"numero de nos: {n}\")\n",
    "print(f\"numero de arestas: {m}\")"
   ]
  },
  {
   "cell_type": "code",
   "execution_count": null,
   "metadata": {},
   "outputs": [],
   "source": [
    "# grafico da grafo\n",
    "\n",
    "fig, ax = plt.subplots(figsize=(12,8))\n",
    "\n",
    "# imprime o grafo\n",
    "nx.draw(KCG, node_size=500, with_labels = True)\n",
    "\n",
    "plt.show()"
   ]
  },
  {
   "cell_type": "markdown",
   "metadata": {},
   "source": [
    "### Grau de centralidade\n",
    "\n",
    "A métrica de **grau** refere-se ao número de links de cada nó da rede. \n",
    "\n",
    "**nx.degree()**: função do networkx que retorna o grau cada nó da rede."
   ]
  },
  {
   "cell_type": "code",
   "execution_count": null,
   "metadata": {},
   "outputs": [],
   "source": [
    "# calcula o graus de cada no\n",
    "dic_grau = dict(nx.degree(KCG))\n",
    "val_grau = dic_grau.values()\n",
    "\n",
    "set_grau = set(dic_grau.values())\n",
    "print(f\"Grau = {set_grau}\")\n",
    "\n",
    "for i in set_grau:\n",
    "    print(i, end= \" : \")\n",
    "    for key, value in dic_grau.items():\n",
    "        if i == dic_grau[key]:\n",
    "            print(key, end=\", \")\n",
    "    print()"
   ]
  },
  {
   "cell_type": "code",
   "execution_count": null,
   "metadata": {},
   "outputs": [],
   "source": [
    "# rank em relacao ao grau\n",
    "\n",
    "ranks = [(k, v) for k, v in sorted(dic_grau.items(), key=lambda item: -item[1])]\n",
    "\n",
    "# os k melhores\n",
    "k = 10\n",
    "ranks[0:k]"
   ]
  },
  {
   "cell_type": "code",
   "execution_count": null,
   "metadata": {},
   "outputs": [],
   "source": [
    "# grafico com graus\n",
    "\n",
    "fig, ax = plt.subplots(1,1,figsize=(15,10))\n",
    "\n",
    "G = KCG\n",
    "\n",
    "# layout position\n",
    "pos = nx.kamada_kawai_layout(G)\n",
    "\n",
    "# define a cor do nos\n",
    "color = list(dic_grau.values())\n",
    "\n",
    "# draw edges\n",
    "nx.draw_networkx_edges(G, \n",
    "                       pos=pos, \n",
    "                       alpha=0.4, \n",
    "                       ax=ax)\n",
    "\n",
    "# draw nodes\n",
    "nodes = nx.draw_networkx_nodes(G,\n",
    "                               node_size=800,\n",
    "                               pos=pos,\n",
    "                               node_color=color,\n",
    "                               cmap=plt.cm.jet,\n",
    "                               ax=ax)\n",
    "\n",
    "# draw labels\n",
    "nx.draw_networkx_labels(G, \n",
    "                        pos=pos, \n",
    "                        font_color='white', \n",
    "                        ax=ax)\n",
    "\n",
    "plt.axis(\"off\")\n",
    "plt.colorbar(nodes)\n",
    "plt.show()"
   ]
  },
  {
   "cell_type": "markdown",
   "metadata": {},
   "source": [
    "A métrica de **grau de centralidade** atribui uma pontuação(fração) de importância com base no número de links mantido por cada nó.\n",
    "\n",
    "Essa métrica nos fala o quanto direto é a conexão de um nó com os outros nós da rede.\n",
    "\n",
    "A métrica **grau de centralidade** do nó $i$ é dado pela fórmula $\\dfrac{grau(i)}{|V|}$ para cada $i \\in V$.\n",
    "\n",
    "**nx.degree_centrality()**: função do networkx que retorna o grau de centralidade de cada nó da rede."
   ]
  },
  {
   "cell_type": "code",
   "execution_count": null,
   "metadata": {},
   "outputs": [],
   "source": [
    "# grau de centralidade dos nodes da rede\n",
    "\n",
    "dic_grau_center = nx.degree_centrality(KCG)\n",
    "val_grau_center = dic_grau_center.values()\n",
    "\n",
    "#set_grau_center = set(dic_grau_center.values())\n",
    "\n",
    "#print(f\"Grau_center: {set_grau_center}\")\n",
    "\n",
    "#for i in set_grau_center:\n",
    "#    print(i, end= \" : \")\n",
    "#    for key, value in dic_grau_center.items():\n",
    "#        if i == dic_grau_center[key]:\n",
    "#            print(key, end=\", \")\n",
    "#    print()"
   ]
  },
  {
   "cell_type": "code",
   "execution_count": null,
   "metadata": {},
   "outputs": [],
   "source": [
    "# rank em relacao a centralidade de grau\n",
    "\n",
    "ranks = [(k, v) for k, v in sorted(dic_grau_center.items(), key=lambda item: -item[1])]\n",
    "\n",
    "# os k melhores\n",
    "k = 10\n",
    "ranks[0:k]"
   ]
  },
  {
   "cell_type": "code",
   "execution_count": null,
   "metadata": {},
   "outputs": [],
   "source": [
    "# grau de centralidade\n",
    "\n",
    "fig, ax = plt.subplots(1,1,figsize=(15,10))\n",
    "\n",
    "G = KCG\n",
    "\n",
    "# layout position\n",
    "pos = nx.kamada_kawai_layout(G)\n",
    "\n",
    "# color of nodes\n",
    "color = list(val_grau_center)\n",
    "\n",
    "# draw edges\n",
    "nx.draw_networkx_edges(G, \n",
    "                       pos=pos, \n",
    "                       alpha=0.4, \n",
    "                       ax=ax)\n",
    "\n",
    "# draw nodes\n",
    "nodes = nx.draw_networkx_nodes(G, \n",
    "                               pos=pos, \n",
    "                               node_size=800,\n",
    "                               node_color=color,\n",
    "                               cmap=plt.cm.jet,\n",
    "                               ax=ax)\n",
    "\n",
    "# draw labels\n",
    "nx.draw_networkx_labels(G, \n",
    "                        pos=pos,\n",
    "                        font_color='white', \n",
    "                        ax=ax)\n",
    "\n",
    "plt.axis(\"off\")\n",
    "plt.colorbar(nodes)\n",
    "plt.show()"
   ]
  },
  {
   "cell_type": "markdown",
   "metadata": {},
   "source": [
    "## Métricas geométricas"
   ]
  },
  {
   "cell_type": "markdown",
   "metadata": {},
   "source": [
    "### Centralidade de excentricidade\n",
    "\n",
    "Seja $G_i = (V_i,E_i)$ uma componente conexa de $G$ que contém o nó $i \\in V$\n",
    "\n",
    "A **excentricidade** do nó $i \\in G_i$ é a maior distância geodésica de um $i$ aos demais nós de $G_i$. \n",
    "\n",
    "A **excentricidade** do nó $i$ é dado pela fórmula \n",
    "$$\n",
    "ec(i) = \\max_{j \\in V_i} d(i,j) \\; \\forall \\; i \\in V_i\n",
    "$$\n",
    "onde $d(i,j)$ é o tamanho da distância geodésica do nó $i$ para o nó $j \\in V_i$.\n",
    "\n",
    "O **diâmetro** de um grafo é sua maior excentrecidade.\n",
    "Maior distância geodésica(shortest path) entre dois nós em uma mesma componente.\n",
    "\n",
    "A **periferia** de um grafo é o conjunto de todos os nós cujo a excentricidade é igual ao diâmetro.\n",
    "\n",
    "O **raio** de um grafo é sua menor excentricidade.\n",
    "\n",
    "O **centro** de um grafo é o conjunto de nós cujo valor da excentricidade é igual ao raio."
   ]
  },
  {
   "cell_type": "markdown",
   "metadata": {},
   "source": [
    "Funções do NetworkX:\n",
    "- **nx.eccentricity()**: retorna a excentricidade de um grafo.\n",
    "- **nx.diameter()**: retorna o diâmetro de um grafo.\n",
    "- **nx.periphery()**: retorna a periferia de um grafo.\n",
    "- **nx.radius()**: retorna o raio de um grafo.\n",
    "- **nx.center()**: retorna o centro de um grafo."
   ]
  },
  {
   "cell_type": "code",
   "execution_count": null,
   "metadata": {},
   "outputs": [],
   "source": [
    "# Exemplo de uma arvore binomial\n",
    "#BTG = nx.binomial_tree(4)\n",
    "#n = nx.number_of_nodes(BTG) # número de vértices\n",
    "#m = nx.number_of_edges(BTG) # número de arestas\n",
    "\n",
    "#print(\"numero de vertices:\", n)\n",
    "#print(\"numero de arestas:\", m)"
   ]
  },
  {
   "cell_type": "code",
   "execution_count": null,
   "metadata": {},
   "outputs": [],
   "source": [
    "## Verifica se o grafo é conexo\n",
    "print(nx.is_connected(KCG))"
   ]
  },
  {
   "cell_type": "code",
   "execution_count": null,
   "metadata": {},
   "outputs": [],
   "source": [
    "fig, ax = plt.subplots(1,1,figsize=(15,10))\n",
    "\n",
    "G = KCG\n",
    "\n",
    "# layout position\n",
    "#pos = nx.spring_layout(BTG,seed=123456789,k=0.3)\n",
    "pos = nx.kamada_kawai_layout(G)\n",
    "\n",
    "# draw edges\n",
    "nx.draw_networkx_edges(G, \n",
    "                       pos=pos, \n",
    "                       alpha=0.4, \n",
    "                       ax=ax)\n",
    "\n",
    "# draw nodes\n",
    "nodes = nx.draw_networkx_nodes(G,\n",
    "                               node_size=1000,\n",
    "                               pos=pos, \n",
    "                               cmap=plt.cm.jet,\n",
    "                               ax=ax)\n",
    "\n",
    "# draw labels\n",
    "nx.draw_networkx_labels(G, \n",
    "                        pos=pos, \n",
    "                        font_color='white', \n",
    "                        ax=ax)\n",
    "\n",
    "plt.axis(\"off\")\n",
    "#plt.savefig('KCG.png', transparent=True, dpi=300)\n",
    "plt.show()"
   ]
  },
  {
   "cell_type": "code",
   "execution_count": null,
   "metadata": {},
   "outputs": [],
   "source": [
    "# Encontra as distâncias geodésica(sp)\n",
    "p = nx.shortest_path(KCG)\n",
    "for key, value in p.items():\n",
    "    print(f\"sp partindo de {key}: {value}\")"
   ]
  },
  {
   "cell_type": "code",
   "execution_count": null,
   "metadata": {},
   "outputs": [],
   "source": [
    "# calculo do tamanhos da distâncias geodésica(sp) do grafo\n",
    "\n",
    "d = np.zeros((n,n), dtype=int)\n",
    "for i in KCG:\n",
    "    sp = nx.shortest_path_length(KCG,i)\n",
    "\n",
    "    for key, value in sp.items():\n",
    "        d[i,key] = value\n",
    "\n",
    "    for key, value in sp.items():\n",
    "        if i<key:\n",
    "            print(f\"sp[{i},{key}]: {d[i,key]}\")"
   ]
  },
  {
   "cell_type": "code",
   "execution_count": null,
   "metadata": {},
   "outputs": [],
   "source": [
    "# calculo da excentricidade\n",
    "\n",
    "dic_ec  = nx.eccentricity(KCG)\n",
    "val_ec  = list(dic_ec.values())\n",
    "\n",
    "set_ec = set(dic_ec.values())\n",
    "print(f\"EC = {set_ec}\")\n",
    "\n",
    "for i in set_ec:\n",
    "    print(f\"{i}\", end= \" : \")\n",
    "    for key, value in dic_ec.items():\n",
    "        if i == dic_ec[key]:\n",
    "            print(f\"{key}\", end=\", \")\n",
    "    print()"
   ]
  },
  {
   "cell_type": "code",
   "execution_count": null,
   "metadata": {},
   "outputs": [],
   "source": [
    "# rank em relacao a excentricidade\n",
    "\n",
    "ranks = [(k, v) for k, v in sorted(dic_ec.items(), key=lambda item: -item[1])]\n",
    "\n",
    "# os k melhores\n",
    "k = 10\n",
    "ranks[0:k]"
   ]
  },
  {
   "cell_type": "code",
   "execution_count": null,
   "metadata": {},
   "outputs": [],
   "source": [
    "# grafico da excentricidade\n",
    "\n",
    "fig, ax = plt.subplots(1,1,figsize=(15,10))\n",
    "\n",
    "G = KCG\n",
    "\n",
    "# layout position\n",
    "pos = nx.kamada_kawai_layout(G)\n",
    "\n",
    "# color of nodes\n",
    "color = list(val_ec)\n",
    "\n",
    "# draw edges\n",
    "nx.draw_networkx_edges(G, \n",
    "                       pos=pos, \n",
    "                       alpha=0.4, \n",
    "                       ax=ax)\n",
    "\n",
    "# draw nodes\n",
    "nodes = nx.draw_networkx_nodes(G,\n",
    "                               node_size=800,\n",
    "                               pos=pos,\n",
    "                               node_color=color,\n",
    "                               cmap=plt.cm.jet,\n",
    "                               ax=ax)\n",
    "\n",
    "# draw labels\n",
    "nx.draw_networkx_labels(G, \n",
    "                        pos=pos, \n",
    "                        font_color='white', \n",
    "                        ax=ax)\n",
    "\n",
    "plt.axis(\"off\")\n",
    "plt.colorbar(nodes)\n",
    "plt.show()"
   ]
  },
  {
   "cell_type": "code",
   "execution_count": null,
   "metadata": {},
   "outputs": [],
   "source": [
    "# the diameter of networks is the maximum eccentricy\n",
    "diameter = nx.diameter(KCG)\n",
    "print(f\"Diamentro de G: {diameter}\")"
   ]
  },
  {
   "cell_type": "code",
   "execution_count": null,
   "metadata": {},
   "outputs": [],
   "source": [
    "# whom are in the diameter\n",
    "diameter_set= [k for k,v in nx.eccentricity(KCG).items() if v == nx.diameter(KCG)]\n",
    "print(f\"Nós com diametro {diameter}: {diameter_set}\")"
   ]
  },
  {
   "cell_type": "code",
   "execution_count": null,
   "metadata": {},
   "outputs": [],
   "source": [
    "# the periphery of a network is a set of all nodes whose eccentriciy is equals the diameter\n",
    "periphery = nx.periphery(KCG)\n",
    "print(f\"Periferia da rede: {periphery}\")"
   ]
  },
  {
   "cell_type": "code",
   "execution_count": null,
   "metadata": {},
   "outputs": [],
   "source": [
    "# the radius of a network is the minimum eccentricity\n",
    "radius = nx.radius(KCG)\n",
    "print(f\"Raio da rede: {radius}\")"
   ]
  },
  {
   "cell_type": "code",
   "execution_count": null,
   "metadata": {},
   "outputs": [],
   "source": [
    "# whom are in the radius\n",
    "radius_set = [k for k,v in nx.eccentricity(KCG).items() if v == radius]\n",
    "print(f\"Nós com raio {radius}: {radius_set}\")"
   ]
  },
  {
   "cell_type": "code",
   "execution_count": null,
   "metadata": {},
   "outputs": [],
   "source": [
    "# the center of a network is a set all nodes whose eccentricity equal the radius\n",
    "center = nx.center(KCG)\n",
    "print(f\"Centro da rede: {center}\")"
   ]
  },
  {
   "cell_type": "markdown",
   "metadata": {},
   "source": [
    "### Centralidade de excentricidade\n",
    "\n",
    "A **centralidade de excentricidade** garante que os nós centrais estão mais próximos dos outros.\n",
    "\n",
    "A **centralidade de excentricidade** no nó $i$ é dado pela fórmula\n",
    "$$\n",
    "cec(i) = \\dfrac{1}{ec(i)} \\; \\forall \\; i \\in V_i\n",
    "$$"
   ]
  },
  {
   "cell_type": "code",
   "execution_count": null,
   "metadata": {},
   "outputs": [],
   "source": [
    "# calculo da centralidade de excentricidade\n",
    "\n",
    "dic_cec = {}\n",
    "for key, value in dic_ec.items():\n",
    "    dic_cec[key] = 1.0/value\n",
    "\n",
    "val_cec = list(dic_cec.values())"
   ]
  },
  {
   "cell_type": "code",
   "execution_count": null,
   "metadata": {},
   "outputs": [],
   "source": [
    "set_cec = set(dic_cec.values())\n",
    "print(f\"CEC = {set_cec}\")\n",
    "\n",
    "for i in set_cec:\n",
    "    print(f\"{i}\", end= \" : \")\n",
    "    for key, value in dic_cec.items():\n",
    "        if i == dic_cec[key]:\n",
    "            print(f\"{key}\", end=\", \")\n",
    "    print()"
   ]
  },
  {
   "cell_type": "code",
   "execution_count": null,
   "metadata": {},
   "outputs": [],
   "source": [
    "# rank em relacao a centralidade de excentricidade\n",
    "\n",
    "ranks = [(k, v) for k, v in sorted(dic_cec.items(), key=lambda item: -item[1])]\n",
    "\n",
    "# os k melhores\n",
    "k = 10\n",
    "ranks[0:k]"
   ]
  },
  {
   "cell_type": "code",
   "execution_count": null,
   "metadata": {},
   "outputs": [],
   "source": [
    "# grafico da centralidade de excentricidade\n",
    "\n",
    "G = KCG\n",
    "\n",
    "fig, ax = plt.subplots(1,1,figsize=(12,8))\n",
    "\n",
    "# layout position\n",
    "pos = nx.kamada_kawai_layout(G)\n",
    "\n",
    "# color of nodes\n",
    "color = list(val_cec)\n",
    "\n",
    "# draw edges\n",
    "nx.draw_networkx_edges(G, \n",
    "                       pos=pos, \n",
    "                       alpha=0.4, \n",
    "                       ax=ax)\n",
    "\n",
    "# draw nodes\n",
    "nodes = nx.draw_networkx_nodes(G,\n",
    "                               node_size=800,\n",
    "                               pos=pos,\n",
    "                               node_color=color,\n",
    "                               cmap=plt.cm.jet,\n",
    "                               ax=ax)\n",
    "\n",
    "# draw labels\n",
    "nx.draw_networkx_labels(G, \n",
    "                        pos=pos, \n",
    "                        font_color='white', \n",
    "                        ax=ax)\n",
    "\n",
    "plt.axis(\"off\")\n",
    "plt.colorbar(nodes)\n",
    "#plt.savefig('cec.png', transparent=True,dpi=300)\n",
    "plt.show()"
   ]
  },
  {
   "cell_type": "code",
   "execution_count": null,
   "metadata": {},
   "outputs": [],
   "source": [
    "# grau x centralidade de excentricidade\n",
    "\n",
    "fig, ax = plt.subplots(1,1,figsize=(15,10))\n",
    "plt.plot(val_grau, val_cec, 'o')\n",
    "plt.xlabel('grau')\n",
    "plt.ylabel('centralidade de excentricidade')\n",
    "plt.show()"
   ]
  },
  {
   "cell_type": "markdown",
   "metadata": {},
   "source": [
    "### Centralidade de proximidade\n",
    "\n",
    "- A **centralidade de proximidade** pontua cada nó com base em sua **proximidade** com todos os outros nós da rede.\n",
    "\n",
    "- Esta medida calcula os caminhos mais curtos entre todos os nós e, em seguida, atribui a cada nó uma pontuação com base na soma dos caminhos mais curtos.\n",
    "\n",
    "- Podemos usar essa medida para encontrar os nós que estão em melhor posição para influenciar toda a rede mais rapidamente.\n",
    "\n",
    "- A **centralidade de proximidade** do nó $i$ é igual ao reciproco da média aritmética das distâncias geodésicas do nó $i$ para os demais nós $j$ da mesma componente do nó $i$, ou seja\n",
    "$$\n",
    "C_{c}(i) = \\dfrac{|V_i| - 1}{\\sum_{j \\in {V_i - \\{i\\}}} d(i,j)} \\; \\forall \\; i \\in V_i\n",
    "$$\n",
    "\n",
    "- **nx.closeness_centrality()**: função do networkx que retorna a centralidade de proximidade de cada nó da rede."
   ]
  },
  {
   "cell_type": "code",
   "execution_count": null,
   "metadata": {},
   "outputs": [],
   "source": [
    "# calculo da centralidade de proximidade\n",
    "\n",
    "dic_cc  = nx.closeness_centrality(KCG)\n",
    "val_cc  = list(dic_cc.values())\n",
    "\n",
    "#set_cc = set(val_cc)\n",
    "#print(f\"CEC = {set_cc}\")\n",
    "\n",
    "#for i in set_cc:\n",
    "#    print(i, end= \" : \")\n",
    "#    for key, value in dic_cc.items():\n",
    "#        if i == dic_cc[key]:\n",
    "#            print(key, end=\", \")\n",
    "#    print()"
   ]
  },
  {
   "cell_type": "code",
   "execution_count": null,
   "metadata": {},
   "outputs": [],
   "source": [
    "# rank em relacao a centralidade de proximidade\n",
    "\n",
    "ranks = [(k, v) for k, v in sorted(dic_cc.items(), key=lambda item: -item[1])]\n",
    "\n",
    "# os k melhores\n",
    "k = 10\n",
    "ranks[0:k]"
   ]
  },
  {
   "cell_type": "code",
   "execution_count": null,
   "metadata": {},
   "outputs": [],
   "source": [
    "# grafico da centralidade de proximidade\n",
    "\n",
    "G = KCG\n",
    "\n",
    "fig, ax = plt.subplots(1,1,figsize=(12,8))\n",
    "\n",
    "# layout position\n",
    "pos = nx.kamada_kawai_layout(G)\n",
    "\n",
    "# color of nodes\n",
    "color = list(val_cc)\n",
    "\n",
    "# draw edges\n",
    "nx.draw_networkx_edges(G, \n",
    "                       pos=pos, \n",
    "                       alpha=0.4, \n",
    "                       ax=ax)\n",
    "\n",
    "# draw nodes\n",
    "nodes = nx.draw_networkx_nodes(G,\n",
    "                               node_size=800,\n",
    "                               pos=pos,\n",
    "                               node_color=color,\n",
    "                               cmap=plt.cm.jet,\n",
    "                               ax=ax)\n",
    "\n",
    "# draw labels\n",
    "nx.draw_networkx_labels(G, \n",
    "                        pos=pos, \n",
    "                        font_color='white', \n",
    "                        ax=ax)\n",
    "\n",
    "plt.axis(\"off\")\n",
    "plt.colorbar(nodes)\n",
    "#plt.savefig('closeness_centrality.png', transparent=True,dpi=300)\n",
    "plt.show()"
   ]
  },
  {
   "cell_type": "code",
   "execution_count": null,
   "metadata": {},
   "outputs": [],
   "source": [
    "# grau x centralidade de proximidade\n",
    "\n",
    "fig, ax = plt.subplots(1,1,figsize=(15,10))\n",
    "plt.plot(nodes_, val_cc, 'o')\n",
    "plt.xlabel('grau')\n",
    "plt.ylabel('centralidade de proximidade')\n",
    "plt.show()"
   ]
  },
  {
   "cell_type": "markdown",
   "metadata": {},
   "source": [
    "### Centralidade harmônica\n",
    "\n",
    "- Na **centralidade harmônica** a média aritmética das distâncias presente na **centralidade de proximidade** é substituida pela **média harmônica** das mesmas em que nós pertencentes a componentes distintas possuem distâncias infinitas entre si, ou seja,\n",
    "$$\n",
    "C_h(i) = \\dfrac{1}{n-1} \\left[ \\sum_{j\\not=i} \\dfrac{1}{d(i,j)} \\right] \\; \\forall \\; i \\in V\n",
    "$$\n",
    "\n",
    "- **nx.harmonic_centrality()**: função do networkx que retorna o centralidade harmônica de cada nó da rede, sem normalizar(sem dividor por $n-1$).\n",
    "\n",
    "- A **centralidade harmônica** contorna o problema de redes com mais de uma componente conexas, onde temos distâncias geodésicas infinitas."
   ]
  },
  {
   "cell_type": "code",
   "execution_count": null,
   "metadata": {},
   "outputs": [],
   "source": [
    "# calculo da centralidade harmonica\n",
    "\n",
    "dic_chu = nx.harmonic_centrality(KCG)\n",
    "val_chu = list(nx.harmonic_centrality(KCG).values())\n",
    "\n",
    "set_chu = set(val_chu)\n",
    "print(f\"CHU = {len(set_chu)}\")\n",
    "\n",
    "for i in set_chu:\n",
    "    print(i, end= \" : \")\n",
    "    for key, value in dic_chu.items():\n",
    "        if i == dic_chu[key]:\n",
    "            print(key, end=\", \")\n",
    "    print()\n",
    "\n",
    "\n",
    "# imprime a centralidade harmonica\n",
    "#for key, value in dic_chu.items():\n",
    "#    print(f\"centralidade harmonica do v{key} : {value}\")"
   ]
  },
  {
   "cell_type": "code",
   "execution_count": null,
   "metadata": {},
   "outputs": [],
   "source": [
    "# rank em relacao a centralidade harmonica\n",
    "\n",
    "ranks = [(k, v) for k, v in sorted(dic_chu.items(), key=lambda item: -item[1])]\n",
    "\n",
    "# os k melhores\n",
    "k = 10\n",
    "ranks[0:k]"
   ]
  },
  {
   "cell_type": "code",
   "execution_count": null,
   "metadata": {},
   "outputs": [],
   "source": [
    "# centraliade harmonica normalizada\n",
    "\n",
    "#chn = [x/(len(val_chu)-1) for x in val_chu]  # normalização\n",
    "\n",
    "# normalizacao\n",
    "dic_chn = {}\n",
    "for key, value in dic_chu.items():\n",
    "    dic_chn[key] = value/(n-1)\n",
    "    #dic_chn[key] = chn[key]\n",
    "\n",
    "val_chn = list(dic_chn.values())\n",
    "\n",
    "#set_chn = set(val_chn)\n",
    "#print(f\"CHN = {len(set_chn)}\")\n",
    "\n",
    "#for i in set_chn:\n",
    "#    print(i, end= \" : \")\n",
    "#    for key, value in dic_chn.items():\n",
    "#        if i == dic_chn[key]:\n",
    "#            print(key, end=\", \")\n",
    "#    print()\n",
    "\n",
    "#for key, value in dic_chn.items():\n",
    "#    print(f\"centralidade harmonica normalizada do v{key} : {value}\")"
   ]
  },
  {
   "cell_type": "code",
   "execution_count": null,
   "metadata": {},
   "outputs": [],
   "source": [
    "# rank em relacao a centralidade harmonica normalizada\n",
    "\n",
    "ranks = [(k, v) for k, v in sorted(dic_chn.items(), key=lambda item: -item[1])]\n",
    "\n",
    "# os k melhores\n",
    "k = 10\n",
    "ranks[0:k]"
   ]
  },
  {
   "cell_type": "code",
   "execution_count": null,
   "metadata": {},
   "outputs": [],
   "source": [
    "# gráfico da centralidade harmonica normalizada\n",
    "\n",
    "G = KCG\n",
    "\n",
    "fig, ax = plt.subplots(1,1,figsize=(12,8))\n",
    "\n",
    "# layout position\n",
    "pos = nx.kamada_kawai_layout(G)\n",
    "\n",
    "# color of nodes\n",
    "color = val_chn\n",
    "\n",
    "# draw edges\n",
    "nx.draw_networkx_edges(G, \n",
    "                       pos=pos, \n",
    "                       alpha=0.4, \n",
    "                       ax=ax)\n",
    "\n",
    "# draw nodes\n",
    "nodes = nx.draw_networkx_nodes(G,\n",
    "                               node_size=800,\n",
    "                               pos=pos,\n",
    "                               node_color=color,\n",
    "                               cmap=plt.cm.jet,\n",
    "                               ax=ax)\n",
    "\n",
    "# draw labels\n",
    "nx.draw_networkx_labels(G, \n",
    "                        pos=pos, \n",
    "                        font_color='white', \n",
    "                        ax=ax)\n",
    "\n",
    "plt.axis(\"off\")\n",
    "plt.colorbar(nodes)\n",
    "plt.show()"
   ]
  },
  {
   "cell_type": "code",
   "execution_count": null,
   "metadata": {},
   "outputs": [],
   "source": [
    "# grau x centralidade harmonica normalizada\n",
    "\n",
    "fig, ax = plt.subplots(1,1,figsize=(18,10))\n",
    "plt.plot(val_grau, val_chn , 'o')\n",
    "plt.xlabel('grau')\n",
    "plt.ylabel('centralidade harmonica normalizada')\n",
    "plt.show()\n"
   ]
  },
  {
   "cell_type": "markdown",
   "metadata": {},
   "source": [
    "### Centralidade de p-média\n",
    "\n",
    "- A **centralidade de p-média** usa a noção de média generalizadas das distâncias.\n",
    "\n",
    "- A **centralidade de p-média** generaliza as três médias anteriores: excentricidade, proximidade e harmônica.\n",
    "\n",
    "- Fórmula da **centralidade de p-média**:\n",
    "\n",
    "\\begin{equation*}\n",
    "C_{p}(i) = \\left\\{\n",
    "\\begin{matrix}\n",
    "\\left( \\dfrac{\\sum_{j \\in  V_{i}-\\{i\\}} d(i,j)^p}{n-1} \\right)^{\\dfrac{-1}{p}}, \\; se \\; p \\not= 0 \\\\\n",
    "\\left( \\prod_{j \\in V_{i}-\\{i\\}} d(i,j) \\right)^{\\dfrac{-1}{n-1}}, \\; se \\; p = 0 \\\\\n",
    "\\end{matrix}\n",
    "\\right.\n",
    "\\end{equation*}"
   ]
  },
  {
   "cell_type": "code",
   "execution_count": null,
   "metadata": {},
   "outputs": [],
   "source": [
    "# centralidade generalizada\n",
    "\n",
    "n = KCG.number_of_nodes()\n",
    "\n",
    "# valores de p\n",
    "# linspace is an in-built function in Python's NumPy library. \n",
    "# It is used to create an evenly spaced sequence in a specified interval.\n",
    "p = np.linspace(-1,1,n)\n",
    "\n",
    "# comprimento dos caminhos mais curtos desde nó 1\n",
    "sp = np.array(list(nx.shortest_path_length(KCG,1).values()))\n",
    "\n",
    "# centralidade generalizada para o nó 1\n",
    "cp = np.zeros(n)\n",
    "for k in range(n):\n",
    "    if p[k]:\n",
    "        cp[k] = np.mean(sp[1:]** p[k])**(-1.0/p[k])\n",
    "    else :\n",
    "        cp[k] = np.prod(sp[1:])**(-1.0/(n - 1))"
   ]
  },
  {
   "cell_type": "code",
   "execution_count": null,
   "metadata": {},
   "outputs": [],
   "source": [
    "print(p)"
   ]
  },
  {
   "cell_type": "code",
   "execution_count": null,
   "metadata": {},
   "outputs": [],
   "source": [
    "print(sp)"
   ]
  },
  {
   "cell_type": "code",
   "execution_count": null,
   "metadata": {},
   "outputs": [],
   "source": [
    "print(nx.shortest_path(KCG,1))"
   ]
  },
  {
   "cell_type": "code",
   "execution_count": null,
   "metadata": {},
   "outputs": [],
   "source": [
    "print(nx.shortest_path_length(KCG,1))"
   ]
  },
  {
   "cell_type": "code",
   "execution_count": null,
   "metadata": {},
   "outputs": [],
   "source": [
    "set_cp = set(cp)\n",
    "#print(\"set_cp: \", set_cp)\n",
    "\n",
    "for i in set_cp:\n",
    "    print(i, end= \" : \")\n",
    "    for key in range(len(cp)):\n",
    "        if i == cp[key]:\n",
    "            print(key, end=\", \")\n",
    "    print()\n",
    "\n",
    "#for i in range(len(cp)):\n",
    "#    print(f\"cp node {i} :  {cp[i]}\")"
   ]
  },
  {
   "cell_type": "code",
   "execution_count": null,
   "metadata": {},
   "outputs": [],
   "source": [
    "# centralidade generalizada\n",
    "\n",
    "fig, ax = plt.subplots(1,1,figsize=(15,10))\n",
    "\n",
    "# rede\n",
    "G = KCG\n",
    "\n",
    "# layout position\n",
    "pos = nx.kamada_kawai_layout(G)\n",
    "\n",
    "# color of nodes\n",
    "color = cp\n",
    "\n",
    "# draw edges\n",
    "nx.draw_networkx_edges(G, \n",
    "                       pos=pos, \n",
    "                       alpha=0.4, \n",
    "                       ax=ax)\n",
    "\n",
    "# draw nodes\n",
    "nodes = nx.draw_networkx_nodes(G, \n",
    "                               pos=pos, \n",
    "                               node_size=800,\n",
    "                               node_color=color,\n",
    "                               cmap=plt.cm.jet,\n",
    "                               ax=ax)\n",
    "\n",
    "# draw labels\n",
    "nx.draw_networkx_labels(G, \n",
    "                        pos=pos,\n",
    "                        font_color='white', \n",
    "                        ax=ax)\n",
    "\n",
    "plt.axis(\"off\")\n",
    "plt.colorbar(nodes)\n",
    "plt.show()"
   ]
  },
  {
   "cell_type": "code",
   "execution_count": null,
   "metadata": {},
   "outputs": [],
   "source": []
  },
  {
   "cell_type": "markdown",
   "metadata": {},
   "source": [
    "### Centralidade de intermediação\n",
    "\n",
    "- A **centralidade de intermediação** quantifica o quanto os vértices são capazes de atuar como intermediários entre outros dois vértices, podendo portanto controlar o fluxo de informação entre eles.\n",
    "\n",
    "- $Q_{j,k}$: número de caminhos geodésicos iniciando no vértice $j$ e terminando no vértice $k$.\n",
    "\n",
    "- $Q_{j,k}(i)$: número de caminhos geodésicos que iniciam em $j$, terminam em $k$ e passam pelo vértice $i$.\n",
    "\n",
    "- $\\dfrac{Q_{j,k}(i)}{Q_{j,k}}$: determina a importância do vértice $i$ para a conexão entre $j$ e $k$. Quanto maioro valor, maior é a importância do vértice $i$ para a conexão entre $j$ e $k$.\n",
    "\n",
    "- Fórmula da centralidade por intermediação\n",
    "\n",
    "$$\n",
    "C_{b}(i) = \\dfrac{1}{(n-1)(n-2)} \\left[ \\sum_{(j,k):j\\not=k, i \\not\\in \\{ j,k\\}} \\dfrac{Q_{j,k}(i)}{Q_{j,k}} \\right] \\; \\forall \\; i \\in V\n",
    "$$\n",
    "\n",
    "- Função do networkx: **nx.betweenness_centrality()**"
   ]
  },
  {
   "cell_type": "code",
   "execution_count": null,
   "metadata": {},
   "outputs": [],
   "source": [
    "# calculo da centralidade de intermediação \n",
    "\n",
    "dic_cb = nx.betweenness_centrality(KCG, normalized=True)\n",
    "val_cb = list(dic_cb.values())\n",
    "\n",
    "#set_cb = set(dic_cb.values())\n",
    "#print(\"set_cb: \", set_cb)\n",
    "\n",
    "#for i in set_cb:\n",
    "#    print(i, end= \" : \")\n",
    "#    for key, value in dic_cb.items():\n",
    "#        if i == dic_cb[key]:\n",
    "#            print(key, end=\", \")\n",
    "#    print()\n",
    "\n",
    "#for key, value in dic_cb.items():\n",
    "#    print(f\"centralidade de intermediação do v{key} : {value}\")"
   ]
  },
  {
   "cell_type": "code",
   "execution_count": null,
   "metadata": {},
   "outputs": [],
   "source": [
    "# rank em relacao a centralidade de autovetor\n",
    "\n",
    "ranks = [(k, v) for k, v in sorted(dic_cb.items(), key=lambda item: -item[1])]\n",
    "\n",
    "# os k melhores\n",
    "k = 10\n",
    "ranks[0:k]"
   ]
  },
  {
   "cell_type": "code",
   "execution_count": null,
   "metadata": {},
   "outputs": [],
   "source": [
    "# gráfico da centralidade de intermediação \n",
    "\n",
    "G = KCG\n",
    "\n",
    "fig, ax = plt.subplots(1,1,figsize=(18,10))\n",
    "\n",
    "# layout position\n",
    "pos = nx.kamada_kawai_layout(G)\n",
    "\n",
    "# color of nodes\n",
    "color = list(val_cb)\n",
    "\n",
    "# draw edges\n",
    "nx.draw_networkx_edges(G, \n",
    "                       pos=pos, \n",
    "                       alpha=0.4, \n",
    "                       ax=ax)\n",
    "\n",
    "# draw nodes\n",
    "nodes = nx.draw_networkx_nodes(G,\n",
    "                               node_size=800,\n",
    "                               pos=pos,\n",
    "                               node_color=color,\n",
    "                               cmap=plt.cm.jet,\n",
    "                               ax=ax)\n",
    "\n",
    "# draw labels\n",
    "nx.draw_networkx_labels(G, \n",
    "                        pos=pos, \n",
    "                        font_color='white', \n",
    "                        ax=ax)\n",
    "\n",
    "plt.axis(\"off\")\n",
    "plt.colorbar(nodes)\n",
    "plt.show()"
   ]
  },
  {
   "cell_type": "code",
   "execution_count": null,
   "metadata": {},
   "outputs": [],
   "source": [
    "# grau x centralidade de intermediacao\n",
    "\n",
    "fig, ax = plt.subplots(1,1,figsize=(18,10))\n",
    "plt.plot(val_grau, val_cb, 'o')\n",
    "plt.xlabel('grau')\n",
    "plt.ylabel('centralidade de intermediação')\n",
    "plt.show()"
   ]
  },
  {
   "cell_type": "code",
   "execution_count": null,
   "metadata": {},
   "outputs": [],
   "source": [
    "# centralidade de intermediação\n",
    "cb = nx.betweenness_centrality(BTG,normalized = True)\n",
    "\n",
    "for key, value in cb.items():\n",
    "    print(\"centralidade de intermediação do nó\", key, \":\", value)"
   ]
  },
  {
   "cell_type": "markdown",
   "metadata": {},
   "source": [
    "### k-shell\n",
    "\n",
    "- O valor do **k-shell** está relacionado com a centralidade de grau dos nós e consiste na decomposição da rede em camadas.\n",
    "\n",
    "- Os nós que possuem grau zero são nós isolados, constituem a camada $0$ da rede.\n",
    "\n",
    "- Os nós que possuem grau $k$, fazem parte da camada $k$ da rede.\n",
    "\n",
    "- O maior valor de camada de uma rede é denotado por **kmax** e é também uma medida global da rede. \n",
    "\n",
    "- A união de todos os nós que fazem parte de uma camada maior ou igual a $k$ constitui o **$k$-core** da rede.\n",
    "\n",
    "- A união de todos os nós que fazem parte de uma camada menor ou igual a $k$ constitui o **$k$-crust** da rede. \n",
    "\n",
    "Funções do networkx:\n",
    "\n",
    "- **nx.core_number()**: retorna o índice de shell de cada nó, isto é, o número do maior k-core que cada nó pertence.\n",
    "\n",
    "- **nx.k_shell()**: retorna o subgrafo com os nós em um $k$-shell.\n",
    "\n",
    "- **nx.k_core()**: retorna o subgrafo com todos os nós em um $k$-core.\n",
    "\n",
    " - **nx.k_crust()**: retorna o subgrafo com todos os nós em um $k$-crust."
   ]
  },
  {
   "cell_type": "code",
   "execution_count": null,
   "metadata": {},
   "outputs": [],
   "source": [
    "# Exemplo 2.8\n",
    "G = nx.Graph()\n",
    "G.add_nodes_from(range(15))\n",
    "G.add_edges_from([(0,1),(0,2),(0,3),(1,2),(1 ,3),(2 ,3)])\n",
    "G.add_edge(3,4)\n",
    "G.add_edges_from([(4,5),(4,6),(4,7)])\n",
    "G.add_edge(3,8)\n",
    "G.add_edge(2,9)\n",
    "G.add_edges_from([(1,10),(2,10),(10,11)])\n",
    "G.add_edges_from([(1,12),(1,13),(12,13)])"
   ]
  },
  {
   "cell_type": "code",
   "execution_count": null,
   "metadata": {},
   "outputs": [],
   "source": [
    "print(\"number of nodes=\", nx.number_of_nodes(G))\n",
    "print(\"number of edges=\", nx.number_of_edges(G))"
   ]
  },
  {
   "cell_type": "code",
   "execution_count": null,
   "metadata": {},
   "outputs": [],
   "source": [
    "G_copy = G"
   ]
  },
  {
   "cell_type": "code",
   "execution_count": null,
   "metadata": {},
   "outputs": [],
   "source": [
    "fig, ax = plt.subplots(1,1,figsize=(15,10))\n",
    "\n",
    "# layout position\n",
    "\n",
    "#pos = nx.spring_layout(G,seed=123456789,k=0.3)\n",
    "\n",
    "pos = nx.circular_layout(G)\n",
    "pos[0] = [0.00,0.00]\n",
    "pos[1] = [0.50,0.00]\n",
    "pos[2] = [0.50,-0.50]\n",
    "pos[3] = [0.00,-0.50]\n",
    "pos[4] = [-1.00,-0.50]\n",
    "pos[5] = [-1.50,-1.00]\n",
    "pos[6] = [-1.00,-1.00]\n",
    "pos[7] = [-0.50,-1.00]\n",
    "pos[8] = [0.00,-1.00]\n",
    "pos[9] = [0.50,-1.00]\n",
    "pos[10] = [1.00,-0.25]\n",
    "pos[11] = [1.50,-0.25]\n",
    "pos[12] = [0.25,0.50]\n",
    "pos[13] = [0.75,0.50]\n",
    "pos[14] = [-1.00,0.25]\n",
    "\n",
    "# color of nodes\n",
    "color = list(dict(nx.degree(G)).values())\n",
    "\n",
    "# draw edges\n",
    "nx.draw_networkx_edges(G,\n",
    "                       pos=pos, \n",
    "                       alpha=0.4, \n",
    "                       ax=ax)\n",
    "\n",
    "# draw nodes\n",
    "nodes = nx.draw_networkx_nodes(G,\n",
    "                               pos=pos,\n",
    "                               node_size=1000,\n",
    "                               node_color=color,\n",
    "                               cmap=plt.cm.jet,\n",
    "                               ax=ax)\n",
    "\n",
    "# draw labels\n",
    "nx.draw_networkx_labels(G,\n",
    "                        pos=pos,\n",
    "                        font_color='white', \n",
    "                        ax=ax)\n",
    "\n",
    "plt.axis(\"off\")\n",
    "plt.colorbar(nodes)\n",
    "#plt.savefig('graphG.png', transparent=True, dpi=300)\n",
    "plt.show()"
   ]
  },
  {
   "cell_type": "code",
   "execution_count": null,
   "metadata": {},
   "outputs": [],
   "source": [
    "# calculo dos cores de cada no\n",
    "\n",
    "dic_core = nx.core_number(G)\n",
    "val_core = list(dic_core.values())\n",
    "\n",
    "set_core = set(dic_core.values())\n",
    "print(f\"Core = {set_core}\")\n",
    "\n",
    "for i in set_core:\n",
    "    print(i, end= \" : \")\n",
    "    for key, value in dic_core.items():\n",
    "        if i == dic_core[key]:\n",
    "            print(key, end=\", \")\n",
    "    print()"
   ]
  },
  {
   "cell_type": "code",
   "execution_count": null,
   "metadata": {},
   "outputs": [],
   "source": [
    "# calculo do graus de cada no\n",
    "\n",
    "dic_grau = dict(nx.degree(G))\n",
    "val_grau = dic_grau.values()\n",
    "\n",
    "set_grau = set(dic_grau.values())\n",
    "print(f\"Grau = {set_grau}\")\n",
    "\n",
    "for i in set_grau:\n",
    "    print(i, end= \" : \")\n",
    "    for key, value in dic_grau.items():\n",
    "        if i == dic_grau[key]:\n",
    "            print(key, end=\", \")\n",
    "    print()"
   ]
  },
  {
   "cell_type": "code",
   "execution_count": null,
   "metadata": {},
   "outputs": [],
   "source": [
    "grau = 0\n",
    "for key, value in dic_grau.items():\n",
    "    if dic_grau[key]==grau:\n",
    "        #print(key)\n",
    "        G.remove_node(key)"
   ]
  },
  {
   "cell_type": "code",
   "execution_count": null,
   "metadata": {},
   "outputs": [],
   "source": [
    "print(f\"nos: {G.nodes()}\")"
   ]
  },
  {
   "cell_type": "code",
   "execution_count": null,
   "metadata": {},
   "outputs": [],
   "source": [
    "# calcula o graus de cada no\n",
    "dic_grau = dict(nx.degree(G))\n",
    "val_grau = dic_grau.values()\n",
    "\n",
    "set_grau = set(dic_grau.values())\n",
    "print(f\"Grau = {set_grau}\")\n",
    "\n",
    "for i in set_grau:\n",
    "    print(i, end= \" : \")\n",
    "    for key, value in dic_grau.items():\n",
    "        if i == dic_grau[key]:\n",
    "            print(key, end=\", \")\n",
    "    print()"
   ]
  },
  {
   "cell_type": "code",
   "execution_count": null,
   "metadata": {},
   "outputs": [],
   "source": [
    "grau = 1\n",
    "for key, value in dic_grau.items():\n",
    "    if dic_grau[key]==grau:\n",
    "        #print(key)\n",
    "        G.remove_node(key)"
   ]
  },
  {
   "cell_type": "code",
   "execution_count": null,
   "metadata": {},
   "outputs": [],
   "source": [
    "print(f\"nos: {G.nodes()}\")"
   ]
  },
  {
   "cell_type": "code",
   "execution_count": null,
   "metadata": {},
   "outputs": [],
   "source": [
    "# calcula o graus de cada no\n",
    "dic_grau = dict(nx.degree(G))\n",
    "val_grau = dic_grau.values()\n",
    "\n",
    "set_grau = set(dic_grau.values())\n",
    "print(f\"Grau = {set_grau}\")\n",
    "\n",
    "for i in set_grau:\n",
    "    print(i, end= \" : \")\n",
    "    for key, value in dic_grau.items():\n",
    "        if i == dic_grau[key]:\n",
    "            print(key, end=\", \")\n",
    "    print()"
   ]
  },
  {
   "cell_type": "code",
   "execution_count": null,
   "metadata": {},
   "outputs": [],
   "source": [
    "grau = 1\n",
    "for key, value in dic_grau.items():\n",
    "    if dic_grau[key]==grau:\n",
    "        #print(key)\n",
    "        G.remove_node(key)"
   ]
  },
  {
   "cell_type": "code",
   "execution_count": null,
   "metadata": {},
   "outputs": [],
   "source": [
    "# calcula o graus de cada no\n",
    "dic_grau = dict(nx.degree(G))\n",
    "val_grau = dic_grau.values()\n",
    "\n",
    "set_grau = set(dic_grau.values())\n",
    "print(f\"Grau = {set_grau}\")\n",
    "\n",
    "for i in set_grau:\n",
    "    print(i, end= \" : \")\n",
    "    for key, value in dic_grau.items():\n",
    "        if i == dic_grau[key]:\n",
    "            print(key, end=\", \")\n",
    "    print()"
   ]
  },
  {
   "cell_type": "code",
   "execution_count": null,
   "metadata": {},
   "outputs": [],
   "source": [
    "grau = 2\n",
    "for key, value in dic_grau.items():\n",
    "    if dic_grau[key]==grau:\n",
    "        #print(key)\n",
    "        G.remove_node(key)"
   ]
  },
  {
   "cell_type": "code",
   "execution_count": null,
   "metadata": {},
   "outputs": [],
   "source": [
    "# calcula o graus de cada no\n",
    "dic_grau = dict(nx.degree(G))\n",
    "val_grau = dic_grau.values()\n",
    "\n",
    "set_grau = set(dic_grau.values())\n",
    "print(f\"Grau = {set_grau}\")\n",
    "\n",
    "for i in set_grau:\n",
    "    print(i, end= \" : \")\n",
    "    for key, value in dic_grau.items():\n",
    "        if i == dic_grau[key]:\n",
    "            print(key, end=\", \")\n",
    "    print()"
   ]
  },
  {
   "cell_type": "code",
   "execution_count": null,
   "metadata": {},
   "outputs": [],
   "source": [
    "grau = 3\n",
    "for key, value in dic_grau.items():\n",
    "    if dic_grau[key]==grau:\n",
    "        #print(key)\n",
    "        G.remove_node(key)"
   ]
  },
  {
   "cell_type": "code",
   "execution_count": null,
   "metadata": {},
   "outputs": [],
   "source": [
    "# calcula o graus de cada no\n",
    "dic_grau = dict(nx.degree(G))\n",
    "val_grau = dic_grau.values()\n",
    "\n",
    "set_grau = set(dic_grau.values())\n",
    "print(f\"Grau = {set_grau}\")\n",
    "\n",
    "for i in set_grau:\n",
    "    print(i, end= \" : \")\n",
    "    for key, value in dic_grau.items():\n",
    "        if i == dic_grau[key]:\n",
    "            print(key, end=\", \")\n",
    "    print()"
   ]
  },
  {
   "cell_type": "code",
   "execution_count": null,
   "metadata": {},
   "outputs": [],
   "source": [
    "G = G_copy"
   ]
  },
  {
   "cell_type": "code",
   "execution_count": null,
   "metadata": {},
   "outputs": [],
   "source": [
    "# Visualize the nodes in k-core\n",
    "# Note that k-core is the all network\n",
    "for k in set_core:\n",
    "    print(k, \"core:\", list(nx.k_core(G,k)))\n"
   ]
  },
  {
   "cell_type": "code",
   "execution_count": null,
   "metadata": {},
   "outputs": [],
   "source": [
    "# Visualize the nodes in k-shell\n",
    "# Note that vertices in k-shell are member of k-core, \n",
    "# however they are not member of (k+1)-core\n",
    "for k in set_core:\n",
    "    print(k, \"shell:\", list(nx.k_shell(G, k)))"
   ]
  },
  {
   "cell_type": "code",
   "execution_count": null,
   "metadata": {},
   "outputs": [],
   "source": [
    "# Visualize the nodes in k-crust\n",
    "for k in set_core:\n",
    "    print(k, \"crust:\", list(nx.k_crust(G, k)))"
   ]
  },
  {
   "cell_type": "code",
   "execution_count": null,
   "metadata": {},
   "outputs": [],
   "source": [
    "fig, ax = plt.subplots(1,1,figsize=(15,10))\n",
    "\n",
    "# Find k-cores and k-shell\n",
    "ks = 2\n",
    "k = 2\n",
    "k_shell = nx.k_shell(G, ks)\n",
    "k_core = nx.k_core(G, k)\n",
    "\n",
    "# draw edges\n",
    "nx.draw_networkx_edges(G,\n",
    "                       pos=pos,\n",
    "                       alpha=0.4, \n",
    "                       ax=ax)\n",
    "\n",
    "# draw nodes\n",
    "nodes = nx.draw_networkx_nodes(G,\n",
    "                               pos=pos,\n",
    "                               node_size=1000,\n",
    "                               node_color=\"#333333\")\n",
    "\n",
    "# draw nodes\n",
    "nodes = nx.draw_networkx_nodes(k_core,\n",
    "                               pos=pos,\n",
    "                               node_size=1000,\n",
    "                               node_color=\"red\")\n",
    "\n",
    "# draw nodes\n",
    "nodes = nx.draw_networkx_nodes(k_shell,\n",
    "                               pos=pos,\n",
    "                               node_size=1000,\n",
    "                               node_color=\"blue\")\n",
    "\n",
    "# draw labels\n",
    "nx.draw_networkx_labels(G,\n",
    "                        pos=pos,\n",
    "                        font_color='white', \n",
    "                        ax=ax)\n",
    "\n",
    "# static legend\n",
    "red_patch = mpatches.Patch(color='red', label=f'{ks}-core')\n",
    "blue_patch = mpatches.Patch(color='blue', label=f'{ks}-shell')\n",
    "plt.legend(handles=[red_patch,blue_patch])\n",
    "\n",
    "plt.axis(\"off\")\n",
    "#plt.savefig('k_core_G', transparent=True,dpi=600)\n",
    "plt.show()"
   ]
  },
  {
   "cell_type": "code",
   "execution_count": null,
   "metadata": {},
   "outputs": [],
   "source": [
    "fig, ax = plt.subplots(1,1,figsize=(15,10))\n",
    "\n",
    "# Find k-crust and k-shell\n",
    "ks = 2\n",
    "k = 2\n",
    "k_shell = nx.k_shell(G, ks)\n",
    "k_crust = nx.k_crust(G, k)\n",
    "\n",
    "# draw edges\n",
    "nx.draw_networkx_edges(G,\n",
    "                       pos=pos,\n",
    "                       alpha=0.4, \n",
    "                       ax=ax)\n",
    "\n",
    "# draw nodes\n",
    "nodes = nx.draw_networkx_nodes(G,\n",
    "                               pos=pos,\n",
    "                               node_size=1000,\n",
    "                               node_color=\"#333333\")\n",
    "\n",
    "# draw nodes\n",
    "nodes = nx.draw_networkx_nodes(k_crust,\n",
    "                               pos=pos,\n",
    "                               node_size=1000,\n",
    "                               node_color=\"green\")\n",
    "\n",
    "# draw nodes\n",
    "nodes = nx.draw_networkx_nodes(k_shell,\n",
    "                               pos=pos,\n",
    "                               node_size=1000,\n",
    "                               node_color=\"blue\")\n",
    "\n",
    "# draw labels\n",
    "nx.draw_networkx_labels(G,\n",
    "                        pos=pos,\n",
    "                        font_color='white', \n",
    "                        ax=ax)\n",
    "\n",
    "# static legend\n",
    "green_patch = mpatches.Patch(color='green', label=f'{k}-crust')\n",
    "blue_patch = mpatches.Patch(color='blue', label=f'{ks}-shell')\n",
    "plt.legend(handles=[green_patch,blue_patch])\n",
    "\n",
    "plt.axis(\"off\")\n",
    "#plt.savefig('k_crust_shell_G', transparent=True,dpi=600)\n",
    "plt.show()"
   ]
  },
  {
   "cell_type": "code",
   "execution_count": null,
   "metadata": {},
   "outputs": [],
   "source": [
    "# Subgrafos de shells e de cores\n",
    "fig, ax = plt.subplots(1,1,figsize=(8,8))\n",
    "\n",
    "ks = 3\n",
    "G_shell = nx.core.k_shell(G,ks)\n",
    "nx.draw(G_shell, pos, with_labels = True)\n",
    "\n",
    "plt.axis(\"off\")\n",
    "plt.show()"
   ]
  },
  {
   "cell_type": "code",
   "execution_count": null,
   "metadata": {},
   "outputs": [],
   "source": [
    "# Subgrafos de shells e de cores\n",
    "\n",
    "fig, ax = plt.subplots(1,1,figsize=(8,8))\n",
    "\n",
    "kc = 0 # core number\n",
    "G_shell = nx.core.k_core(G,kc)\n",
    "nx.draw(G_shell, pos, with_labels = True)\n",
    "\n",
    "plt.axis(\"off\")\n",
    "plt.show()"
   ]
  },
  {
   "cell_type": "markdown",
   "metadata": {},
   "source": [
    "### Exemplo: grafo de Erdõs Rényi"
   ]
  },
  {
   "cell_type": "code",
   "execution_count": null,
   "metadata": {},
   "outputs": [],
   "source": [
    "# grafo aleatório de Erdös - Rényi com 100 nós e probabilidade 0.1\n",
    "\n",
    "ERG = nx.erdos_renyi_graph(100,0.1)\n",
    "n = ERG.number_of_nodes()\n",
    "m = ERG.number_of_edges()\n",
    "\n",
    "fig, ax = plt.subplots(1,1,figsize=(15,10))\n",
    "\n",
    "# layout position\n",
    "# pos = nx.spring_layout(BTG,seed=123456789,k=0.3)\n",
    "pos = nx.kamada_kawai_layout(ERG)\n",
    "\n",
    "# draw edges\n",
    "nx.draw_networkx_edges(ERG, \n",
    "                       pos=pos, \n",
    "                       alpha=0.4, \n",
    "                       ax=ax)\n",
    "\n",
    "# draw nodes\n",
    "nodes = nx.draw_networkx_nodes(ERG, \n",
    "                               pos=pos, \n",
    "                               node_size=1000,\n",
    "                               cmap=plt.cm.jet,\n",
    "                               ax=ax)\n",
    "\n",
    "# draw labels\n",
    "nx.draw_networkx_labels(ERG, \n",
    "                        pos=pos,\n",
    "                        font_color='white',\n",
    "                        ax=ax)\n",
    "\n",
    "plt.axis(\"off\")\n",
    "plt.show()"
   ]
  },
  {
   "cell_type": "code",
   "execution_count": null,
   "metadata": {},
   "outputs": [],
   "source": [
    "print(nx.is_connected(ERG))"
   ]
  },
  {
   "cell_type": "code",
   "execution_count": null,
   "metadata": {},
   "outputs": [],
   "source": [
    "print(\"aresta: \", nx.number_of_edges(ERG))"
   ]
  },
  {
   "cell_type": "code",
   "execution_count": null,
   "metadata": {},
   "outputs": [],
   "source": [
    "# Graus dos vertices\n",
    "graus = dict(nx.degree(ERG))\n",
    "\n",
    "for key, value in graus.items():\n",
    "    print(\"grau do nó\", key, \":\", value)"
   ]
  },
  {
   "cell_type": "code",
   "execution_count": null,
   "metadata": {},
   "outputs": [],
   "source": [
    "print(set(graus.values()))"
   ]
  },
  {
   "cell_type": "code",
   "execution_count": null,
   "metadata": {},
   "outputs": [],
   "source": [
    "# Graus de centralidade\n",
    "grau_center = nx.degree_centrality(ERG)\n",
    "\n",
    "for key, value in grau_center.items():\n",
    "    print(\"grau de centralidade do nó \", key, \":\", value)"
   ]
  },
  {
   "cell_type": "code",
   "execution_count": null,
   "metadata": {},
   "outputs": [],
   "source": [
    "print(set(grau_center.values()))"
   ]
  },
  {
   "cell_type": "code",
   "execution_count": null,
   "metadata": {},
   "outputs": [],
   "source": [
    "ec = nx.eccentricity(ERG)\n",
    "\n",
    "for key, value in ec.items():\n",
    "    print(\"excentricidade do nó\",key,\":\", value)\n"
   ]
  },
  {
   "cell_type": "code",
   "execution_count": null,
   "metadata": {},
   "outputs": [],
   "source": [
    "print(set(ec.values()))"
   ]
  },
  {
   "cell_type": "code",
   "execution_count": null,
   "metadata": {},
   "outputs": [],
   "source": [
    "# gráfico da excentricidade de G\n",
    "\n",
    "fig, ax = plt.subplots(1,1,figsize=(15,10))\n",
    "\n",
    "# layout position\n",
    "#pos = nx.spring_layout(ERG,seed=123456789,k=0.3)\n",
    "pos = nx.kamada_kawai_layout(ERG)\n",
    "\n",
    "# color of nodes based on eccentricity\n",
    "color = list(ec.values())\n",
    "\n",
    "# draw edges\n",
    "nx.draw_networkx_edges(ERG, \n",
    "                       pos=pos, \n",
    "                       alpha=0.4, \n",
    "                       ax=ax)\n",
    "\n",
    "# draw nodes\n",
    "nodes = nx.draw_networkx_nodes(ERG,\n",
    "                               node_size=1000,\n",
    "                               pos=pos,\n",
    "                               node_color=color,\n",
    "                               cmap=plt.cm.jet,\n",
    "                               ax=ax)\n",
    "\n",
    "# draw labels\n",
    "nx.draw_networkx_labels(ERG, \n",
    "                        pos=pos, \n",
    "                        font_color='white', \n",
    "                        ax=ax)\n",
    "\n",
    "plt.axis(\"off\")\n",
    "plt.colorbar(nodes)\n",
    "#plt.savefig('excentricidade.png', transparent=True,dpi=300)\n",
    "plt.show()"
   ]
  },
  {
   "cell_type": "code",
   "execution_count": null,
   "metadata": {},
   "outputs": [],
   "source": [
    "# centralidade de excentricidade\n",
    "cec = [1.0/ec[i] for i in ec]\n",
    "\n",
    "#for key, value in ec.items():\n",
    "#    print(\"node\",key,\":\", cec[key])"
   ]
  },
  {
   "cell_type": "code",
   "execution_count": null,
   "metadata": {},
   "outputs": [],
   "source": [
    "# centralidade de excentricidade\n",
    "\n",
    "fig, ax = plt.subplots(1,1,figsize=(15,10))\n",
    "\n",
    "# layout position\n",
    "pos = nx.kamada_kawai_layout(ERG)\n",
    "\n",
    "# color of nodes\n",
    "color = list(cec)\n",
    "\n",
    "# draw edges\n",
    "nx.draw_networkx_edges(ERG, \n",
    "                       pos=pos, \n",
    "                       alpha=0.4, \n",
    "                       ax=ax)\n",
    "\n",
    "# draw nodes\n",
    "nodes = nx.draw_networkx_nodes(ERG, \n",
    "                               pos=pos, \n",
    "                               node_size=1000,\n",
    "                               node_color=color,\n",
    "                               cmap=plt.cm.jet,\n",
    "                               ax=ax)\n",
    "\n",
    "# draw labels\n",
    "nx.draw_networkx_labels(ERG, \n",
    "                        pos=pos,\n",
    "                        font_color='white', \n",
    "                        ax=ax)\n",
    "\n",
    "plt.axis(\"off\")\n",
    "plt.colorbar(nodes)\n",
    "plt.show()"
   ]
  },
  {
   "cell_type": "code",
   "execution_count": null,
   "metadata": {},
   "outputs": [],
   "source": [
    "# centralidade de proximidade\n",
    "cc = nx.closeness_centrality(ERG)\n",
    "\n",
    "#for key, value in cc.items():\n",
    "#    print(\"node\",key,\":\", value)"
   ]
  },
  {
   "cell_type": "code",
   "execution_count": null,
   "metadata": {},
   "outputs": [],
   "source": [
    "# centralidade de proximidade\n",
    "\n",
    "fig, ax = plt.subplots(1,1,figsize=(15,10))\n",
    "\n",
    "# layout position\n",
    "pos = nx.kamada_kawai_layout(ERG)\n",
    "\n",
    "# color of nodes\n",
    "color = list(cc.values())\n",
    "\n",
    "# draw edges\n",
    "nx.draw_networkx_edges(ERG, \n",
    "                       pos=pos, \n",
    "                       alpha=0.4, \n",
    "                       ax=ax)\n",
    "# Find k-crust e k-shell\n",
    "\n",
    "# draw nodes\n",
    "nodes = nx.draw_networkx_nodes(ERG, \n",
    "                               pos=pos, \n",
    "                               node_size=1000,\n",
    "                               node_color=color,\n",
    "                               cmap=plt.cm.jet,\n",
    "                               ax=ax)\n",
    "\n",
    "# draw labels\n",
    "nx.draw_networkx_labels(ERG, \n",
    "                        pos=pos,\n",
    "                        font_color='white', \n",
    "                        ax=ax)\n",
    "\n",
    "plt.axis(\"off\")\n",
    "plt.colorbar(nodes)\n",
    "plt.show()"
   ]
  },
  {
   "cell_type": "code",
   "execution_count": null,
   "metadata": {},
   "outputs": [],
   "source": [
    "# centralidade harmônica\n",
    "n = nx.number_of_nodes(ERG)\n",
    "ch = nx.harmonic_centrality(ERG)\n",
    "chn = [ x /(n - 1) for x in ch] # normalização\n",
    "\n",
    "#for key, value in ec.items():\n",
    "#    print(\"node\",key,\":\", ch[key])"
   ]
  },
  {
   "cell_type": "code",
   "execution_count": null,
   "metadata": {},
   "outputs": [],
   "source": [
    "print(set(ch.values()))"
   ]
  },
  {
   "cell_type": "code",
   "execution_count": null,
   "metadata": {},
   "outputs": [],
   "source": [
    "# centralidade harmonica\n",
    "\n",
    "fig, ax = plt.subplots(1,1,figsize=(15,10))\n",
    "\n",
    "# layout position\n",
    "pos = nx.kamada_kawai_layout(ERG)\n",
    "\n",
    "# color of nodes\n",
    "color = list(chn)\n",
    "\n",
    "# draw edges\n",
    "nx.draw_networkx_edges(ERG, \n",
    "                       pos=pos, \n",
    "                       alpha=0.4, \n",
    "                       ax=ax)\n",
    "\n",
    "# draw nodes\n",
    "nodes = nx.draw_networkx_nodes(ERG, \n",
    "                               pos=pos, \n",
    "                               node_size=1000,\n",
    "                               node_color=color,\n",
    "                               cmap=plt.cm.jet,\n",
    "                               ax=ax)\n",
    "\n",
    "# draw labels\n",
    "nx.draw_networkx_labels(ERG, \n",
    "                        pos=pos,\n",
    "                        font_color='white', \n",
    "                        ax=ax)\n",
    "\n",
    "plt.axis(\"off\")\n",
    "plt.colorbar(nodes)\n",
    "plt.show()"
   ]
  },
  {
   "cell_type": "code",
   "execution_count": null,
   "metadata": {},
   "outputs": [],
   "source": [
    "# centralidade generalizada\n",
    "\n",
    "# valores de p\n",
    "p = np.linspace(-1,50,100)\n",
    "\n",
    "# comprimento dos caminhos mais curtos desde nó 1\n",
    "sp = np.array(list(nx.shortest_path_length(ERG,1).values()))\n",
    "\n",
    "# centralidade generalizada para o nó 1\n",
    "cp = np.zeros_like(p)\n",
    "\n",
    "for k in range(p.shape[0]):\n",
    "    if p[k]:\n",
    "        cp[k] = np.mean(sp[1:]** p[k])**(-1.0/p[k])\n",
    "    else :\n",
    "        cp[k] = np.prod(sp[1:])**(-1.0/(sp.shape[0] - 1))"
   ]
  },
  {
   "cell_type": "code",
   "execution_count": null,
   "metadata": {},
   "outputs": [],
   "source": [
    "for k in range(p.shape[0]):\n",
    "    print(\"centralidade generalizada do nó %d: %f\" %(k,cp[k]))"
   ]
  },
  {
   "cell_type": "code",
   "execution_count": null,
   "metadata": {},
   "outputs": [],
   "source": [
    "# centralidade de proximidade\n",
    "\n",
    "fig, ax = plt.subplots(1,1,figsize=(15,10))\n",
    "\n",
    "# layout position\n",
    "pos = nx.kamada_kawai_layout(ERG)\n",
    "\n",
    "# color of nodes\n",
    "color = cp\n",
    "\n",
    "# draw edges\n",
    "nx.draw_networkx_edges(ERG, \n",
    "                       pos=pos, \n",
    "                       alpha=0.4, \n",
    "                       ax=ax)\n",
    "\n",
    "# draw nodes\n",
    "nodes = nx.draw_networkx_nodes(ERG, \n",
    "                               pos=pos, \n",
    "                               node_size=1000,\n",
    "                               node_color=color,\n",
    "                               cmap=plt.cm.jet,\n",
    "                               ax=ax)\n",
    "\n",
    "# draw labels\n",
    "nx.draw_networkx_labels(ERG, \n",
    "                        pos=pos,\n",
    "                        font_color='white', \n",
    "                        ax=ax)\n",
    "\n",
    "plt.axis(\"off\")\n",
    "plt.colorbar(nodes)\n",
    "plt.show()"
   ]
  },
  {
   "cell_type": "code",
   "execution_count": null,
   "metadata": {},
   "outputs": [],
   "source": []
  }
 ],
 "metadata": {
  "kernelspec": {
   "display_name": "Python 3",
   "language": "python",
   "name": "python3"
  },
  "language_info": {
   "codemirror_mode": {
    "name": "ipython",
    "version": 3
   },
   "file_extension": ".py",
   "mimetype": "text/x-python",
   "name": "python",
   "nbconvert_exporter": "python",
   "pygments_lexer": "ipython3",
   "version": "3.10.12"
  }
 },
 "nbformat": 4,
 "nbformat_minor": 2
}
