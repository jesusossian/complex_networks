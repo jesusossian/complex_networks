{
 "cells": [
  {
   "cell_type": "code",
   "execution_count": null,
   "metadata": {},
   "outputs": [],
   "source": [
    "import networkx as nx\n",
    "import matplotlib.pyplot as plt\n",
    "import numpy as np\n",
    "import pandas as pd\n",
    "from networkx.algorithms import community as cm"
   ]
  },
  {
   "cell_type": "markdown",
   "metadata": {},
   "source": [
    "### CONCOR\n",
    "\n",
    "É um dos primeiros e mais usados métodos para detectar comunidades. \n",
    "\n",
    "Ele é baseado na convergência de correlações iteradas.\n",
    "\n",
    "O método CONCOR aplicado uma única vez, divide o conjunto de nós em no máximo duas comunidades. \n",
    "Se mais comunidades forem necessárias, pode-se aplicar novamente o método CONCOR em uma comunidade encontrada anteriormente, dividindo-a em duas."
   ]
  },
  {
   "cell_type": "markdown",
   "metadata": {},
   "source": [
    "**Exemplo**\n",
    "\n",
    "Considerar novamente o exemplo do livro 2 da saga Harry Potter. \n",
    "\n",
    "Recorde que as ligações na rede representam suporte emocional e, portanto, trata-se de uma rede direcionada com matriz de adjacência não simétrica.\n",
    "\n",
    "Usamos o algoritmo **CONCOR** para achar uma divisão em duas comunidades. \n",
    "\n",
    "Excluímos os nós isolados. \n",
    "Estes vértices podem ser considerados uma comunidade separada, mas alguns deles correspondem a personagens que não fazem parte do livro. \n",
    "\n",
    "A convergência do algoritmo é detectada usando a função **allclose** de Numpy porque, trabalhando com aritmética de ponto flutante, existe a possibilidade de que os elementos da matriz $C_k$ não fiquem exatamente iguais a $+-1$. \n",
    "\n",
    "As correlações são feitas usando a função **corr_coef** de Numpy. \n",
    "\n",
    "A função **adjacency_matrix** devolve a matriz em um formato especial para matrizes esparsas. \n",
    "\n",
    "Antes de começar o algoritmo CONCOR, primeiro convertemos a matriz a um formato denso com **todense**."
   ]
  },
  {
   "cell_type": "markdown",
   "metadata": {},
   "source": [
    "**Exemplo**\n",
    "\n",
    "Considere o exemplo da rede dos personagens do segundo livro da saga de Harry Potter."
   ]
  },
  {
   "cell_type": "code",
   "execution_count": null,
   "metadata": {},
   "outputs": [],
   "source": [
    "atri = pd.read_csv('../data/harrypotter/hpattributes.txt', sep='\\t')\n",
    "ares = pd.read_csv('../data/harrypotter/hpbook2.txt', sep=' ', header=None)\n",
    "nome = pd.read_csv('../data/harrypotter/hpnames.txt', sep='\\t')"
   ]
  },
  {
   "cell_type": "code",
   "execution_count": null,
   "metadata": {},
   "outputs": [],
   "source": [
    "# criando a rede\n",
    "\n",
    "gpotter = nx.DiGraph()\n",
    "\n",
    "n = atri.shape[0]\n",
    "\n",
    "for k in range(n):\n",
    "    gpotter.add_node(k,\n",
    "                     nome = nome['name'][k],\n",
    "                     ano = atri['schoolyear'][k],\n",
    "                     gen = atri['gender'][k],\n",
    "                     casa = atri['house'][k])\n",
    "\n",
    "for k in range(n):\n",
    "    for m in range(n):\n",
    "        if ares.values[k][m] == 1:\n",
    "            gpotter.add_edge(k,m)"
   ]
  },
  {
   "cell_type": "code",
   "execution_count": null,
   "metadata": {},
   "outputs": [],
   "source": [
    "fig, ax = plt.subplots(1,1,figsize=(15,10))\n",
    "\n",
    "nx.draw(gpotter,with_labels=True)"
   ]
  },
  {
   "cell_type": "code",
   "execution_count": null,
   "metadata": {},
   "outputs": [],
   "source": [
    "# Matriz de adjacência esparsa\n",
    "A = nx . adjacency_matrix ( gpotter )\n",
    "\n",
    "# Apagamos os nós isolados :\n",
    "isolados = []\n",
    "for k in range(n):\n",
    "    if np.sum(A[[k],:]) == 0:\n",
    "        isolados.append(k)\n",
    "        gpotter.remove_node(k)\n",
    "\n",
    "print(len(isolados), 'nos isolados')"
   ]
  },
  {
   "cell_type": "code",
   "execution_count": null,
   "metadata": {},
   "outputs": [],
   "source": [
    "fig, ax = plt.subplots(1,1,figsize=(15,10))\n",
    "\n",
    "nx.draw(gpotter,with_labels=True)"
   ]
  },
  {
   "cell_type": "code",
   "execution_count": null,
   "metadata": {},
   "outputs": [],
   "source": [
    "# matriz de adjacencia esparsa\n",
    "A = nx.adjacency_matrix(gpotter)\n",
    "\n",
    "# matriz de adjacencia densa\n",
    "A = np.array(A.todense(),dtype=float)"
   ]
  },
  {
   "cell_type": "code",
   "execution_count": null,
   "metadata": {},
   "outputs": [],
   "source": [
    "# algoritmo CONCOR\n",
    "C = A.copy()\n",
    "\n",
    "while not np.allclose(np.abs(C), np.ones_like(C), atol=1e-10):\n",
    "    C = np.corrcoef(C)\n",
    "\n",
    "C = np.round(C)"
   ]
  },
  {
   "cell_type": "markdown",
   "metadata": {},
   "source": [
    "**allclose()**\n",
    "\n",
    "Returns True if two arrays are element-wise equal within a tolerance."
   ]
  },
  {
   "cell_type": "markdown",
   "metadata": {},
   "source": [
    "**ones_like()**\n",
    "\n",
    "Return an array of ones with the same shape and type as a given array."
   ]
  },
  {
   "cell_type": "markdown",
   "metadata": {},
   "source": [
    " **corrcoef()**\n",
    "\n",
    "Return Pearson product-moment correlation coefficients."
   ]
  },
  {
   "cell_type": "code",
   "execution_count": null,
   "metadata": {},
   "outputs": [],
   "source": [
    "# algoritmo CONCOR\n",
    "\n",
    "com1 = []\n",
    "com2 = []\n",
    "\n",
    "nos  = list(gpotter.nodes)\n",
    "\n",
    "com1.append(nos[0])\n",
    "\n",
    "for k in range(1,len(nos)):\n",
    "    if C[0,k] > 0:\n",
    "        com1.append(nos[k])\n",
    "    else:\n",
    "        com2.append(nos[k])"
   ]
  },
  {
   "cell_type": "code",
   "execution_count": null,
   "metadata": {},
   "outputs": [],
   "source": [
    "len(com1)"
   ]
  },
  {
   "cell_type": "code",
   "execution_count": null,
   "metadata": {},
   "outputs": [],
   "source": [
    "len(com2)"
   ]
  },
  {
   "cell_type": "code",
   "execution_count": null,
   "metadata": {},
   "outputs": [],
   "source": [
    "print('Comunidade 1:')\n",
    "for k in range(len(com1)):\n",
    "    print(gpotter.nodes[com1[k]]['nome'])"
   ]
  },
  {
   "cell_type": "code",
   "execution_count": null,
   "metadata": {},
   "outputs": [],
   "source": [
    "print('Comunidade 2:')\n",
    "for k in range(len(com2)):\n",
    "    print(gpotter.nodes[com2[k]]['nome'])"
   ]
  },
  {
   "cell_type": "code",
   "execution_count": null,
   "metadata": {},
   "outputs": [],
   "source": [
    "plt.close('all')\n",
    "\n",
    "fig, ax = plt.subplots(1,1,figsize=(15,10))\n",
    "\n",
    "pos = nx.circular_layout(gpotter)\n",
    "\n",
    "for k in range(len(com1)):\n",
    "    pos[com1[k]][0] = 100*np.cos(2*np.pi*k/len(com1))\n",
    "    pos[com1[k]][1] = 100*np.sin(2*np.pi*k/len(com1))\n",
    "\n",
    "for k in range(len(com2)):\n",
    "    pos[com2[k]][0] = 300*np.cos(2*np.pi*k/len(com2))\n",
    "    pos[com2[k]][1] = 300*np.sin(2*np.pi*k/len(com2))    \n",
    "\n",
    "cores = []\n",
    "for no in gpotter.nodes():\n",
    "    if no in com1:\n",
    "        cores.append('lightskyblue')\n",
    "    else:\n",
    "        cores.append('steelblue')\n",
    "    \n",
    "etiquetas = nx.get_node_attributes(gpotter, 'nome')\n",
    "\n",
    "nx.draw_networkx(gpotter,pos=pos,edge_color='lightgray',\n",
    "                 node_size = 500, labels=etiquetas,\n",
    "                 font_size=10, node_color=cores)\n",
    "\n",
    "plt.box(False)\n",
    "plt.show()"
   ]
  },
  {
   "cell_type": "markdown",
   "metadata": {},
   "source": [
    "### Divisão de comunidades\n",
    "\n",
    "Os problemas de divisão de um grafo em comunidades são, comumente, muito complexos. \n",
    "\n",
    "Daí que existem heurísticas para resolver esses problemas.\n",
    "\n",
    "Os scripts python a seguir minimiza a razão entre o número de arestas que ligam dois grupos e o produto dos tamanhos dos dois grupos, \n",
    "aplicado a uma rede de personagens do livro 2 da saga Harry Potter.\n",
    "\n",
    "O sub-pacote **algorithms.community** do Networkx contém várias funções relacionadas a busca de comunidades em redes.\n",
    "\n",
    "O primeiro número que devolve a função **partition_quality** é a razão entre o número de arestas internas aos grupos e o número total de arestas. "
   ]
  },
  {
   "cell_type": "code",
   "execution_count": null,
   "metadata": {},
   "outputs": [],
   "source": [
    "mper = +np.inf\n",
    "for ini in gpotter.nodes:\n",
    "    com1 = set([ini])\n",
    "    com2 = set(nos) - com1\n",
    "    \n",
    "    mgan = -1\n",
    "    while mgan < 0:\n",
    "        cv, pe = cm.partition_quality(gpotter,[com1,com2])\n",
    "        ra = (1-cv)/(len(com1)*len(com2)) \n",
    "        mgan = +np.inf\n",
    "        mno  = -1\n",
    "        for no in com2:\n",
    "            ncom1 = com1.union(set([no]))\n",
    "            ncom2 = com2 - set([no])\n",
    "            cv,pe = cm.partition_quality(gpotter,[ncom1,ncom2])\n",
    "            nra   = (1-cv)/(len(ncom1)*len(ncom2))\n",
    "            ng    = nra-ra\n",
    "            if ng < mgan:\n",
    "                mgan = ng\n",
    "                mno  = no\n",
    "        if mgan < 0:\n",
    "            com1.add(mno)\n",
    "            com2.remove(mno)\n",
    "    \n",
    "    cv,pe = cm.partition_quality(gpotter,[com1,com2])            \n",
    "    ra = (1-cv)/(len(com1)*len(com2)) \n",
    "\n",
    "    if ra < mper:\n",
    "        mper = ra\n",
    "        mcom1 = com1.copy()\n",
    "        mcom2 = com2.copy()"
   ]
  },
  {
   "cell_type": "code",
   "execution_count": null,
   "metadata": {},
   "outputs": [],
   "source": [
    "com1 = list(mcom1)\n",
    "com2 = list(mcom2)"
   ]
  },
  {
   "cell_type": "code",
   "execution_count": null,
   "metadata": {},
   "outputs": [],
   "source": [
    "print('Comunidade 1:')\n",
    "for k in range(len(com1)):\n",
    "    print(com1[k],gpotter.nodes[com1[k]]['nome'])"
   ]
  },
  {
   "cell_type": "code",
   "execution_count": null,
   "metadata": {},
   "outputs": [],
   "source": [
    "print('Comunidade 2:')\n",
    "for k in range(len(com2)):\n",
    "    print(com2[k],gpotter.nodes[com2[k]]['nome'])"
   ]
  },
  {
   "cell_type": "code",
   "execution_count": null,
   "metadata": {},
   "outputs": [],
   "source": [
    "plt.close('all')\n",
    "\n",
    "fig, ax = plt.subplots(1,1,figsize=(15,10))\n",
    "\n",
    "pos = nx.circular_layout(gpotter)\n",
    "\n",
    "for k in range(len(com1)):\n",
    "    pos[com1[k]][0] = 300*np.cos(2*np.pi*k/len(com1))\n",
    "    pos[com1[k]][1] = 300*np.sin(2*np.pi*k/len(com1))+700\n",
    "\n",
    "for k in range(len(com2)):\n",
    "    pos[com2[k]][0] = 300*np.cos(2*np.pi*k/len(com2))\n",
    "    pos[com2[k]][1] = 300*np.sin(2*np.pi*k/len(com2))    \n",
    "\n",
    "cores = []\n",
    "for no in gpotter.nodes():\n",
    "    if no in com1:\n",
    "        cores.append('lightskyblue')\n",
    "    else:\n",
    "        cores.append('steelblue')\n",
    "\n",
    "etiquetas = nx.get_node_attributes(gpotter, 'nome')\n",
    "\n",
    "nx.draw_networkx(gpotter,\n",
    "                 pos=pos,\n",
    "                 edge_color='lightgray',\n",
    "                 node_size = 500, \n",
    "                 labels=etiquetas,\n",
    "                 font_size=10, \n",
    "                 node_color=cores)\n",
    "\n",
    "plt.box(False)\n",
    "plt.show()"
   ]
  },
  {
   "cell_type": "markdown",
   "metadata": {},
   "source": [
    "Um algoritmo de bisseção muito conhecido é o algoritmo de **Kernighan e Lin**. \n",
    "\n",
    "Este algoritmo guloso começa com uma partição do grafo (dada ou ao acaso) e prossegue trocando dois nós, um de cada grupo, de maneira de aprimorar a partição.\n",
    "\n",
    "A seguir aplicamos o algoritmo **Kernighan e Lin** a uma rede de personagens do livro 2 da saga Harry Potter."
   ]
  },
  {
   "cell_type": "markdown",
   "metadata": {},
   "source": [
    "**cm.kernighan_lin_bisection()**\n",
    "\n",
    "Partition a graph into two blocks using the **Kernighan–Lin** algorithm.\n",
    "\n",
    "This algorithm partitions a network into two sets by iteratively swapping pairs of nodes to reduce the edge cut between the two sets. \n",
    "\n",
    "The pairs are chosen according to a modified form of **Kernighan-Lin**, which moves node individually, alternating between sides to keep the bisection balanced."
   ]
  },
  {
   "cell_type": "code",
   "execution_count": null,
   "metadata": {},
   "outputs": [],
   "source": [
    "# Algoritmo Kernighan e Lin aplicado a uma rede de personagens do segundo livro da saga Harry Potter.\n",
    "com1, com2 = cm.kernighan_lin_bisection(gpotter.to_undirected(), max_iter=100)"
   ]
  },
  {
   "cell_type": "code",
   "execution_count": null,
   "metadata": {},
   "outputs": [],
   "source": [
    "print(\"com1:\",com1)\n",
    "print(\"com2:\",com2)"
   ]
  },
  {
   "cell_type": "code",
   "execution_count": null,
   "metadata": {},
   "outputs": [],
   "source": [
    "print('Comunidade 1:')\n",
    "for k in range(len(com1)):\n",
    "    print(com1[k],gpotter.nodes[com1[k]]['nome'])"
   ]
  },
  {
   "cell_type": "code",
   "execution_count": null,
   "metadata": {},
   "outputs": [],
   "source": [
    "print('Comunidade 2:')\n",
    "for k in range(len(com2)):\n",
    "    print(com2[k],gpotter.nodes[com2[k]]['nome'])"
   ]
  },
  {
   "cell_type": "code",
   "execution_count": null,
   "metadata": {},
   "outputs": [],
   "source": [
    "com1 = list(com1)\n",
    "com2 = list(com2)"
   ]
  },
  {
   "cell_type": "code",
   "execution_count": null,
   "metadata": {},
   "outputs": [],
   "source": [
    "plt.close('all')\n",
    "\n",
    "fig, ax = plt.subplots(1,1,figsize=(15,10))\n",
    "\n",
    "pos = nx.circular_layout(gpotter)\n",
    "\n",
    "for k in range(len(com1)):\n",
    "    pos[com1[k]][0] = 300*np.cos(2*np.pi*k/len(com1))\n",
    "    pos[com1[k]][1] = 300*np.sin(2*np.pi*k/len(com1))+700\n",
    "\n",
    "for k in range(len(com2)):\n",
    "    pos[com2[k]][0] = 300*np.cos(2*np.pi*k/len(com2))\n",
    "    pos[com2[k]][1] = 300*np.sin(2*np.pi*k/len(com2))    \n",
    "\n",
    "cores = []\n",
    "for no in gpotter.nodes():\n",
    "    if no in com1:\n",
    "        cores.append('lightskyblue')\n",
    "    else:\n",
    "        cores.append('steelblue')\n",
    "\n",
    "etiquetas = nx.get_node_attributes(gpotter, 'nome')\n",
    "\n",
    "#plt.figure()\n",
    "nx.draw_networkx(gpotter,pos=pos,edge_color='lightgray',\n",
    "                 node_size = 500, labels=etiquetas,\n",
    "                 font_size=10, node_color=cores)\n",
    "plt.box(False)\n",
    "plt.show()"
   ]
  },
  {
   "cell_type": "code",
   "execution_count": null,
   "metadata": {},
   "outputs": [],
   "source": []
  }
 ],
 "metadata": {
  "kernelspec": {
   "display_name": "Python 3",
   "language": "python",
   "name": "python3"
  },
  "language_info": {
   "codemirror_mode": {
    "name": "ipython",
    "version": 3
   },
   "file_extension": ".py",
   "mimetype": "text/x-python",
   "name": "python",
   "nbconvert_exporter": "python",
   "pygments_lexer": "ipython3",
   "version": "3.10.12"
  }
 },
 "nbformat": 4,
 "nbformat_minor": 2
}
