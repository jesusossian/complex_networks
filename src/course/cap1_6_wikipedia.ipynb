{
 "cells": [
  {
   "cell_type": "markdown",
   "metadata": {},
   "source": [
    "# Cap 1: Wikipedia"
   ]
  },
  {
   "cell_type": "markdown",
   "metadata": {},
   "source": [
    "## 1.6 Uma rede complexa real: Wikipédia"
   ]
  },
  {
   "cell_type": "code",
   "execution_count": null,
   "metadata": {},
   "outputs": [],
   "source": [
    "import networkx as nx\n",
    "import wikipedia # a instalar\n",
    "import pickle\n",
    "import numpy as np\n",
    "import matplotlib.pyplot as plt"
   ]
  },
  {
   "cell_type": "code",
   "execution_count": null,
   "metadata": {},
   "outputs": [],
   "source": [
    "# A linguagem de Wikipedia : português\n",
    "wikipedia.set_lang(\"pt\")"
   ]
  },
  {
   "cell_type": "code",
   "execution_count": null,
   "metadata": {},
   "outputs": [],
   "source": [
    "# no raiz\n",
    "RAIZ = \"Fortaleza\".title()"
   ]
  },
  {
   "cell_type": "code",
   "execution_count": null,
   "metadata": {},
   "outputs": [],
   "source": [
    "# páginas excluidas\n",
    "EXCL = (\"International Standard Serial Number\",\n",
    "\"International Standard Book Number\",\n",
    "\"National Diet Library\",\n",
    "\"International Standard Name Identifier\",\n",
    "\"International Standard Book Number (Identifier)\",\n",
    "\"Pubmed Identifier\", \n",
    "\"Pubmed Central\",\n",
    "\"Digital Object Identifier\", \n",
    "\"Arxiv\",\n",
    "\"Proc Natl Acad Sci Usa\", \n",
    "\"Bibcode\",\n",
    "\"Library Of Congress Control Number\", \n",
    "\"Jstor\",\n",
    "\"OpenStreetMap\",\n",
    "\"Wikimapia\",\n",
    "\"Instituto Nacional de Meteorologia\",\n",
    "\"Instituto Brasileiro de Geografia e Estatística\",\n",
    "\"Coeficiente de Gini\"\n",
    ")"
   ]
  },
  {
   "cell_type": "code",
   "execution_count": null,
   "metadata": {},
   "outputs": [],
   "source": [
    "# lista de nos por explorar\n",
    "pend_lst = [(0, RAIZ)] # O vértice RAIZ está na camada 0"
   ]
  },
  {
   "cell_type": "code",
   "execution_count": null,
   "metadata": {},
   "outputs": [],
   "source": [
    "# conjunto de nos que ainda devem ser explorados\n",
    "pend_cnj = set(RAIZ) # Só RAIZ"
   ]
  },
  {
   "cell_type": "code",
   "execution_count": null,
   "metadata": {},
   "outputs": [],
   "source": [
    "# conjunto de nos que ja foram explorados\n",
    "feito_cnj = set() # Nehum nó explorado"
   ]
  },
  {
   "cell_type": "code",
   "execution_count": null,
   "metadata": {},
   "outputs": [],
   "source": [
    "F = nx.DiGraph()"
   ]
  },
  {
   "cell_type": "code",
   "execution_count": null,
   "metadata": {},
   "outputs": [],
   "source": [
    "camada, pag = pend_lst[0]"
   ]
  },
  {
   "cell_type": "code",
   "execution_count": null,
   "metadata": {},
   "outputs": [],
   "source": [
    "while camada < 2:\n",
    "    del pend_lst[0]\n",
    "    feito_cnj.add(pag)\n",
    "    print(camada, pag)\n",
    "    try:\n",
    "        wiki = wikipedia.page(pag) \n",
    "        # pode ser carregada a pagina?\n",
    "        wiki.links \n",
    "        # bug não dá certo se a página não tem links\n",
    "    except:\n",
    "        camada, pag = pend_lst[0]\n",
    "        print('Nao pude carregar', pag)\n",
    "        continue\n",
    "    for link in wiki.links:\n",
    "        link = link.title()\n",
    "        if link not in EXCL and not link.startswith(\"Lista de\"):\n",
    "            if link not in pend_cnj and link not in feito_cnj:\n",
    "                pend_lst.append((camada + 1, link))\n",
    "                pend_cnj.add(link)\n",
    "            F.add_edge(pag, link)\n",
    "    camada, pag = pend_lst[0]"
   ]
  },
  {
   "cell_type": "code",
   "execution_count": null,
   "metadata": {},
   "outputs": [],
   "source": [
    "print(\"{} nos, {} arestas\".format(F.order(), nx.number_of_edges(F)))"
   ]
  },
  {
   "cell_type": "code",
   "execution_count": null,
   "metadata": {},
   "outputs": [],
   "source": [
    "# Salva a rede\n",
    "with open('wikifortaleza.p', 'wb') as f:\n",
    "    pickle.dump(F, f)"
   ]
  },
  {
   "cell_type": "code",
   "execution_count": null,
   "metadata": {},
   "outputs": [],
   "source": [
    "# Apagamos laços\n",
    "F.remove_edges_from(nx.selfloop_edges(F))\n",
    "print(\"{} nós , {} arestas\".format(F.order(), nx.number_of_edges(F)))"
   ]
  },
  {
   "cell_type": "code",
   "execution_count": null,
   "metadata": {},
   "outputs": [],
   "source": [
    "# Eliminamos duplicados - Plurais\n",
    "duplicados = [(vert, vert + \"s\") for vert in F if vert + \"s\" in F]\n",
    "for dup in duplicados:\n",
    "    F = nx.contracted_nodes(F, *dup, self_loops = False)\n",
    "    \n",
    "print(\"{} nós, {} arestas\".format(F.order(), nx.number_of_edges(F)))"
   ]
  },
  {
   "cell_type": "code",
   "execution_count": null,
   "metadata": {},
   "outputs": [],
   "source": [
    "# Eliminamos duplicados - \" - \"\n",
    "duplicados = [(x,y) for x , y in [(vert, vert.replace(\"-\", \" \")) for vert in F] if x!=y and y in F]\n",
    "for dup in duplicados:\n",
    "    F = nx.contracted_nodes(F, *dup, self_loops=False)\n",
    "    \n",
    "print(\"{} nós, {} arestas\".format(F.order(), nx.number_of_edges(F)))"
   ]
  },
  {
   "cell_type": "code",
   "execution_count": null,
   "metadata": {},
   "outputs": [],
   "source": [
    "# Salva a rede\n",
    "with open(\"wikifortaleza - semdup.p\", 'wb') as f:\n",
    "    pickle.dump (F , f )"
   ]
  },
  {
   "cell_type": "code",
   "execution_count": null,
   "metadata": {},
   "outputs": [],
   "source": [
    "nx.draw(F, with_labels = \"True\")"
   ]
  },
  {
   "cell_type": "code",
   "execution_count": null,
   "metadata": {},
   "outputs": [],
   "source": [
    "print(\"Densidade : \", nx.density(F))\n",
    "print(\"Coeficiente de agrupamento : \", nx.transitivity(F))\n",
    "print(\"Reciprocidade :\" , nx.reciprocity(F))\n",
    "hgrauF = nx.degree_histogram(F)\n",
    "grausF = np.linspace(0 , len(hgrauF), len(hgrauF))"
   ]
  },
  {
   "cell_type": "code",
   "execution_count": null,
   "metadata": {},
   "outputs": [],
   "source": [
    "# Networkx ainda não tem uma função como degree_histogram () para arestas\n",
    "# saintes ou entrantes .\n",
    "hgrauinF = [0]*len(hgrauF)\n",
    "for ver, grau in F.in_degree():\n",
    "    hgrauinF[grau] = hgrauinF[grau] + 1\n",
    "    hgrauouF = [0]*len(hgrauF)\n",
    "for ver, grau in F.out_degree():\n",
    "    hgrauouF[grau] = hgrauouF[grau] + 1"
   ]
  },
  {
   "cell_type": "code",
   "execution_count": null,
   "metadata": {},
   "outputs": [],
   "source": [
    "plt.figure()\n",
    "plt.loglog(grausF,hgrauF,'b*',label='Grau')\n",
    "plt.loglog(grausF,hgrauinF,'r^',label='Grau entrante')\n",
    "plt.loglog(grausF,hgrauouF,'k+',label='Grau sainte')\n",
    "plt.xlabel('grau')\n",
    "plt.ylabel('frequência')\n",
    "plt.legend()\n",
    "plt.grid()"
   ]
  },
  {
   "cell_type": "code",
   "execution_count": null,
   "metadata": {},
   "outputs": [],
   "source": [
    "nucleo = [vert for vert, grau in F.degree() if grau >= 10]\n",
    "N = nx.subgraph(F, nucleo)"
   ]
  },
  {
   "cell_type": "code",
   "execution_count": null,
   "metadata": {},
   "outputs": [],
   "source": [
    "# Elimina o atributo \"contraction\" dos nos\n",
    "for (n,d) in N.nodes(data=True):\n",
    "    try:\n",
    "        del d[\"contraction\"]\n",
    "    except:\n",
    "        continue"
   ]
  },
  {
   "cell_type": "code",
   "execution_count": null,
   "metadata": {},
   "outputs": [],
   "source": [
    "# Elimina todos os atributos das arestas\n",
    "for n1, n2, d in N.edges(data=True):\n",
    "    d.clear()"
   ]
  },
  {
   "cell_type": "code",
   "execution_count": null,
   "metadata": {},
   "outputs": [],
   "source": [
    "print(\"{} nos, {} arestas\".format(len(N), nx.number_of_edges(N)))\n",
    "nx.write_graphml(N, \"wiki-fortaleza.graphml\")"
   ]
  },
  {
   "cell_type": "code",
   "execution_count": null,
   "metadata": {},
   "outputs": [],
   "source": []
  }
 ],
 "metadata": {
  "kernelspec": {
   "display_name": "Python 3",
   "language": "python",
   "name": "python3"
  },
  "language_info": {
   "codemirror_mode": {
    "name": "ipython",
    "version": 3
   },
   "file_extension": ".py",
   "mimetype": "text/x-python",
   "name": "python",
   "nbconvert_exporter": "python",
   "pygments_lexer": "ipython3",
   "version": "3.10.12"
  }
 },
 "nbformat": 4,
 "nbformat_minor": 2
}
