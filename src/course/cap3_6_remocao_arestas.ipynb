{
 "cells": [
  {
   "cell_type": "code",
   "execution_count": null,
   "metadata": {},
   "outputs": [],
   "source": [
    "import networkx as nx\n",
    "import matplotlib.pyplot as plt\n",
    "import numpy as np\n",
    "import pandas as pd\n",
    "from networkx.algorithms import community as cm\n",
    "\n",
    "from operator import itemgetter\n",
    "\n",
    "from networkx import edge_betweenness_centrality as betweenness"
   ]
  },
  {
   "cell_type": "markdown",
   "metadata": {},
   "source": [
    "### Remoção de arestas\n",
    "\n",
    "O método da remoção de arestas consiste em ir removendo arestas da rede, de forma que as componentes resultantes formem comunidades. \n",
    "\n",
    "Um dos algoritmo mais utilizado para essa tarefa é o algoritmo de **Girvan-Newman** que remove as arestas que possuam maior centralidade de intermediação. \n",
    "\n",
    "Como critério de parada para o algoritmo pode se definir um valor máximo para a intermediação de uma aresta na rede resultante após cada passo.\n",
    "\n",
    "O algoritmo continua o processo até que todos os nós fiquem isolados.\n",
    "\n",
    "Graficamente, isto pode ser apresentado com um dendrograma.\n",
    "\n",
    "A função **girvan_newman()** do pacote **networkx** implementa o métodp de **Girvan-Newman**. \n",
    "\n",
    "Por padrão, a função **girvan_newman** usa a centralidade de intermediação como métrica, mas é possível definir outra métrica para ser utilizada no método."
   ]
  },
  {
   "cell_type": "markdown",
   "metadata": {},
   "source": [
    "**nx.community()**: pacote do **networkx** com funções para calcular e medir a estrutura de comunidades de uma rede."
   ]
  },
  {
   "cell_type": "markdown",
   "metadata": {},
   "source": [
    "**nx.community.girvan_newman()**: função do **nx.community** para encontrar comunidades em um grafo usando o método **Girvan–Newman**"
   ]
  },
  {
   "cell_type": "markdown",
   "metadata": {},
   "source": [
    "### Exemplo\n",
    "Usando o grafo do karate club."
   ]
  },
  {
   "cell_type": "code",
   "execution_count": null,
   "metadata": {},
   "outputs": [],
   "source": [
    "#G = nx.barbell_graph(5,1)\n",
    "G = nx.karate_club_graph()\n",
    "\n",
    "fig, ax = plt.subplots(1,1,figsize=(15,10))\n",
    "\n",
    "nx.draw(G,with_labels=True)"
   ]
  },
  {
   "cell_type": "code",
   "execution_count": null,
   "metadata": {},
   "outputs": [],
   "source": [
    "comm = nx.community.girvan_newman(G)\n",
    "\n",
    "top_level_comm = next(comm)\n",
    "\n",
    "next_level_comm = next(comm)\n",
    "\n",
    "print(sorted(map(sorted, top_level_comm)))\n",
    "print(sorted(map(sorted, next_level_comm)))"
   ]
  },
  {
   "cell_type": "code",
   "execution_count": null,
   "metadata": {},
   "outputs": [],
   "source": [
    "comm = nx.community.girvan_newman(G)\n",
    "\n",
    "print(comm)\n",
    "\n",
    "for it in comm:\n",
    "    print(it)"
   ]
  },
  {
   "cell_type": "code",
   "execution_count": null,
   "metadata": {},
   "outputs": [],
   "source": [
    "spec = nx.modularity_spectrum(G)\n",
    "print(spec)\n",
    "\n",
    "\n",
    "B = nx.modularity_matrix(G)\n",
    "print(B)"
   ]
  },
  {
   "cell_type": "markdown",
   "metadata": {},
   "source": [
    "### Exemplo:\n",
    "Usando o grafo de caminho"
   ]
  },
  {
   "cell_type": "code",
   "execution_count": null,
   "metadata": {},
   "outputs": [],
   "source": [
    "G = nx.path_graph(10)\n",
    "\n",
    "fig, ax = plt.subplots(1,1,figsize=(15,10))\n",
    "\n",
    "nx.draw(G,with_labels=True)"
   ]
  },
  {
   "cell_type": "code",
   "execution_count": null,
   "metadata": {},
   "outputs": [],
   "source": [
    "comp = nx.community.girvan_newman(G)\n",
    "\n",
    "#tuple(sorted(c) for c in next(comp))\n",
    "\n",
    "tuple(sorted(c) for c in comp)"
   ]
  },
  {
   "cell_type": "code",
   "execution_count": null,
   "metadata": {},
   "outputs": [],
   "source": [
    "# escolha de uma aresta a ser removida baseado no peso\n",
    "\n",
    "edges = G.edges()\n",
    "\n",
    "nx.set_edge_attributes(G, {(u, v): v for u, v in edges}, \"weight\")\n",
    "\n",
    "def heaviest(G):\n",
    "    u, v, w = max(G.edges(data=\"weight\"), key=itemgetter(2))\n",
    "    return (u, v)\n",
    "\n",
    "comp = nx.community.girvan_newman(G, most_valuable_edge=heaviest)\n",
    "\n",
    "#tuple(sorted(c) for c in next(comp))\n",
    "\n",
    "tuple(sorted(c) for c in comp)"
   ]
  },
  {
   "cell_type": "code",
   "execution_count": null,
   "metadata": {},
   "outputs": [],
   "source": [
    "# escolha da aresta a ser removida com maior centralidade de intermediação\n",
    "\n",
    "def most_central_edge(G):\n",
    "    centrality = betweenness(G, weight=\"weight\")\n",
    "    return max(centrality, key=centrality.get)\n",
    "\n",
    "comp = nx.community.girvan_newman(G, most_valuable_edge=most_central_edge)\n",
    "\n",
    "#tuple(sorted(c) for c in next(comp))\n",
    "\n",
    "tuple(sorted(c) for c in comp)"
   ]
  },
  {
   "cell_type": "code",
   "execution_count": null,
   "metadata": {},
   "outputs": [],
   "source": [
    "# Limita o número de comunidades a um número k\n",
    "import itertools\n",
    "\n",
    "k = 4 # numero de comunidades\n",
    "\n",
    "comp = nx.community.girvan_newman(G)\n",
    "limited = itertools.takewhile(lambda c: len(c) <= k, comp)\n",
    "\n",
    "for communities in limited:\n",
    "    print(tuple(sorted(c) for c in communities))\n"
   ]
  },
  {
   "cell_type": "markdown",
   "metadata": {},
   "source": [
    "### Exemplo"
   ]
  },
  {
   "cell_type": "code",
   "execution_count": null,
   "metadata": {},
   "outputs": [],
   "source": [
    "atri = pd.read_csv('../../data/harrypotter/hpattributes.txt', sep='\\t')\n",
    "ares = pd.read_csv('../../data/harrypotter/hpbook2.txt', sep=' ', header=None)\n",
    "nome = pd.read_csv('../../data/harrypotter/hpnames.txt', sep='\\t')"
   ]
  },
  {
   "cell_type": "code",
   "execution_count": null,
   "metadata": {},
   "outputs": [],
   "source": [
    "# criando a rede\n",
    "\n",
    "gpotter = nx.DiGraph()\n",
    "\n",
    "n = atri.shape[0]\n",
    "\n",
    "for k in range(n):\n",
    "    gpotter.add_node(k,\n",
    "                     nome = nome['name'][k],\n",
    "                     ano = atri['schoolyear'][k],\n",
    "                     gen = atri['gender'][k],\n",
    "                     casa = atri['house'][k])\n",
    "\n",
    "for k in range(n):\n",
    "    for m in range(n):\n",
    "        if ares.values[k][m] == 1:\n",
    "            gpotter.add_edge(k,m)"
   ]
  },
  {
   "cell_type": "code",
   "execution_count": null,
   "metadata": {},
   "outputs": [],
   "source": [
    "fig, ax = plt.subplots(1,1,figsize=(15,10))\n",
    "\n",
    "nx.draw(gpotter,with_labels=True)"
   ]
  },
  {
   "cell_type": "code",
   "execution_count": null,
   "metadata": {},
   "outputs": [],
   "source": [
    "# matriz de adjacencia esparsa\n",
    "A = nx.to_scipy_sparse_array(gpotter)#.toarray()\n",
    "\n",
    "# eliminando os nos isolados\n",
    "isolados = []\n",
    "for k in range(n):\n",
    "    if np.sum(A[[k],:]) == 0:\n",
    "        isolados.append(k)\n",
    "        gpotter.remove_node(k)\n",
    "\n",
    "print(len(isolados), 'nos isolados.')\n",
    "\n",
    "print(f\"#nodes de G = {nx.number_of_nodes(gpotter)}\")\n",
    "print(f\"#edges de G = {nx.number_of_edges(gpotter)}\")"
   ]
  },
  {
   "cell_type": "code",
   "execution_count": null,
   "metadata": {},
   "outputs": [],
   "source": [
    "fig, ax = plt.subplots(1,1,figsize=(15,10))\n",
    "\n",
    "nx.draw(gpotter,with_labels=True)"
   ]
  },
  {
   "cell_type": "code",
   "execution_count": null,
   "metadata": {},
   "outputs": [],
   "source": [
    "# matriz de adjacencia esparsa\n",
    "#A = nx.adjacency_matrix(gpotter)\n",
    "A = nx.to_scipy_sparse_array(gpotter)#.toarray()\n",
    "\n",
    "# matriz de adjacencia densa\n",
    "A = np.array(A.todense(),dtype=float)"
   ]
  },
  {
   "cell_type": "markdown",
   "metadata": {},
   "source": [
    "No código a seguir a função **girvan_newman()** é aplicada a rede (tratada) de personagens do livro 2 da saga de Harry Potter."
   ]
  },
  {
   "cell_type": "code",
   "execution_count": null,
   "metadata": {},
   "outputs": [],
   "source": [
    "com = cm.girvan_newman(gpotter)\n",
    "com = list(com)"
   ]
  },
  {
   "cell_type": "code",
   "execution_count": null,
   "metadata": {},
   "outputs": [],
   "source": [
    "for it in gpotter.nodes():\n",
    "    print(it, ':', gpotter.nodes[it]['nome'])"
   ]
  },
  {
   "cell_type": "code",
   "execution_count": null,
   "metadata": {},
   "outputs": [],
   "source": [
    "for it in com:\n",
    "    print(it)"
   ]
  },
  {
   "cell_type": "code",
   "execution_count": null,
   "metadata": {},
   "outputs": [],
   "source": [
    "fig, ax = plt.subplots(1,1,figsize=(15,10))\n",
    "\n",
    "plt.plot([-3.90380859375,-3.90380859375],[0,-20],'b',linewidth=5)\n",
    "plt.plot([0,-47.8076171875,40,40],[-20,-20,-20,-20],'b', linewidth=5)\n",
    "plt.plot([40,40],[-20,-400],'b', linewidth=5)\n",
    "plt.plot([-47.8076171875,-47.8076171875],[-20,-40],'b', linewidth=5)\n",
    "plt.plot([-75.615234375,-20],[-40,-40],'b', linewidth=5)\n",
    "plt.plot([-20,-20],[-40,-400],'b', linewidth=5)\n",
    "plt.plot([-75.615234375,-75.615234375],[-40,-60],'b', linewidth=5)\n",
    "plt.plot([-111.23046875,-40],[-60,-60],'b', linewidth=5)\n",
    "plt.plot([-40,-40],[-60,-400],'b', linewidth=5)\n",
    "plt.plot([-111.23046875,-111.23046875],[-60,-80],'b',linewidth=5)\n",
    "plt.plot([-152.4609375,-70],[-80,-80],'b', linewidth=5)\n",
    "# plt.plot([-80,-80],[-80,-100],'b', linewidth=5)\n",
    "plt.plot([-152.4609375,-152.4609375],[-80,-100],'b', linewidth=5)\n",
    "plt.plot([-179.921875,-125],[-100,-100],'b', linewidth=5)\n",
    "# plt.plot([-80,-80],[-80,-100],'b', linewidth=5)\n",
    "plt.plot([-179.921875,-179.921875],[-100,-120],'b', linewidth=5)\n",
    "plt.plot([-125,-125],[-100,-220],'b', linewidth=5)\n",
    "plt.plot([-199.84375,-160],[-120,-120],'b', linewidth=5)\n",
    "plt.plot([-160,-160],[-120,-400],'b', linewidth=5)\n",
    "plt.plot([-199.84375,-199.84375],[-120,-140],'b', linewidth=5)\n",
    "plt.plot([-219.6875,-180],[-140,-140],'b', linewidth=5)\n",
    "plt.plot([-180,-180],[-140,-400],'b', linewidth=5)\n",
    "plt.plot([-219.6875,-219.6875],[-140,-160],'b', linewidth=5)\n",
    "plt.plot([-239.375,-200],[-160,-160],'b', linewidth=5)\n",
    "plt.plot([-200,-200],[-160,-400],'b', linewidth=5)\n",
    "plt.plot([-239.375,-239.375],[-160,-180],'b', linewidth=5)\n",
    "plt.plot([-258.75,-220],[-180,-180],'b', linewidth=5)\n",
    "plt.plot([-220,-220],[-180,-400],'b', linewidth=5)\n",
    "# plt.plot([-400,-400],[-180,-200],'b', linewidth=5)\n",
    "# plt.plot([-120,-120],[-100,-220],'b', linewidth=5)\n",
    "plt.plot([-140,-120],[-220,-220],'b', linewidth=5)\n",
    "plt.plot([-140,-140],[-220,-400],'b', linewidth=5)\n",
    "plt.plot([10,10],[-20,-240],'b', linewidth=5)\n",
    "plt.plot([00,20],[-240,-240],'b', linewidth=5)\n",
    "plt.plot([0,0],[-240,-400],'b', linewidth=5)\n",
    "plt.plot([20,20],[-240,-400],'b', linewidth=5)\n",
    "plt.plot([-258.75,-258.75],[-180,-260],'b', linewidth=5)\n",
    "plt.plot([-277.5,-240],[-260,-260],'b', linewidth=5)   \n",
    "plt.plot([-240,-240],[-260,-400],'b', linewidth=5)\n",
    "\n",
    "plt.plot([-277.5,-277.5],[-260,-280],'b', linewidth=5)\n",
    "plt.plot([-295,-260],[-280,-280],'b', linewidth=5)\n",
    "plt.plot([-260,-260],[-280,-400],'b', linewidth=5)\n",
    "\n",
    "plt.plot([-70,-70],[-80,-300],'b', linewidth=5)\n",
    "plt.plot([-80,-60],[-300,-300],'b', linewidth=5)\n",
    "plt.plot([-80,-80],[-300,-400],'b', linewidth=5)\n",
    "plt.plot([-60,-60],[-300,-400],'b', linewidth=5)\n",
    "\n",
    "plt.plot([-295,-295],[-280,-320],'b', linewidth=5)\n",
    "plt.plot([-315,-280],[-320,-320],'b', linewidth=5)\n",
    "plt.plot([-280,-280],[-320,-400],'b', linewidth=5)\n",
    "plt.plot([-315,-315],[-320,-340],'b', linewidth=5)\n",
    "\n",
    "plt.plot([-340,-320],[-360,-360],'b', linewidth=5)\n",
    "plt.plot([-340,-340],[-360,-400],'b', linewidth=5)\n",
    "plt.plot([-320,-320],[-360,-400],'b', linewidth=5)\n",
    "\n",
    "    \n",
    "plt.plot([-330,-330],[-340,-360],'b', linewidth=5)\n",
    "plt.plot([-330,-300],[-340,-340],'b', linewidth=5)\n",
    "plt.plot([-300,-300],[-340,-400],'b', linewidth=5)\n",
    "\n",
    "\n",
    "plt.plot([-140,-110],[-220,-220],'b', linewidth=5)\n",
    "plt.plot([-110,-110],[-220,-380],'b', linewidth=5)\n",
    "plt.plot([-120,-100],[-380,-380],'b', linewidth=5)\n",
    "plt.plot([-120,-120],[-380,-400],'b', linewidth=5)\n",
    "plt.plot([-100,-100],[-380,-400],'b', linewidth=5)\n",
    "\n",
    "plt.box(False)\n",
    "plt.xticks([])\n",
    "plt.yticks([])\n",
    "plt.ylim(-580,0)\n",
    "plt.text(-340,-580,gpotter.nodes[28]['nome'],rotation='vertical',horizontalalignment='center',fontsize=14)\n",
    "plt.text(-320,-580,gpotter.nodes[44]['nome'],rotation='vertical',horizontalalignment='center',fontsize=14)\n",
    "\n",
    "plt.text(-300,-580,gpotter.nodes[25]['nome'],rotation='vertical',horizontalalignment='center',fontsize=14)\n",
    "\n",
    "plt.text(-280,-580,gpotter.nodes[24]['nome'],rotation='vertical',horizontalalignment='center',fontsize=14)\n",
    "\n",
    "plt.text(-260,-580,gpotter.nodes[19]['nome'],rotation='vertical',horizontalalignment='center',fontsize=14)\n",
    "\n",
    "plt.text(-240,-580,gpotter.nodes[18]['nome'],rotation='vertical',horizontalalignment='center',fontsize=14)\n",
    "\n",
    "plt.text(-220,-580,gpotter.nodes[ 2]['nome'],rotation='vertical',horizontalalignment='center',fontsize=14)\n",
    "\n",
    "plt.text(-200,-580,gpotter.nodes[ 1]['nome'],rotation='vertical',horizontalalignment='center',fontsize=14)\n",
    "\n",
    "plt.text(-180,-580,gpotter.nodes[55]['nome'],rotation='vertical',horizontalalignment='center',fontsize=14)\n",
    "\n",
    "plt.text(-160,-580,gpotter.nodes[32]['nome'],rotation='vertical',horizontalalignment='center',fontsize=14)\n",
    "\n",
    "plt.text(-140,-580,gpotter.nodes[10]['nome'],rotation='vertical',horizontalalignment='center',fontsize=14)\n",
    "plt.text(-120,-580,gpotter.nodes[43]['nome'],rotation='vertical',horizontalalignment='center',fontsize=14)\n",
    "plt.text(-100,-580,gpotter.nodes[57]['nome'],rotation='vertical',horizontalalignment='center',fontsize=14)\n",
    "\n",
    "plt.text(- 80,-580,gpotter.nodes[20]['nome'],rotation='vertical',horizontalalignment='center',fontsize=14)\n",
    "plt.text(- 60,-580,gpotter.nodes[51]['nome'],rotation='vertical',horizontalalignment='center',fontsize=14)\n",
    "\n",
    "plt.text(- 40,-580,gpotter.nodes[27]['nome'],rotation='vertical',horizontalalignment='center',fontsize=14)\n",
    "\n",
    "plt.text(- 20,-580,gpotter.nodes[23]['nome'],rotation='vertical',horizontalalignment='center',fontsize=14)\n",
    "\n",
    "plt.text(-  0,-580,gpotter.nodes[13]['nome'],rotation='vertical',horizontalalignment='center',fontsize=14)\n",
    "plt.text(+ 20,-580,gpotter.nodes[38]['nome'],rotation='vertical',horizontalalignment='center',fontsize=14)\n",
    "\n",
    "plt.text(+ 40,-580,gpotter.nodes[16]['nome'],rotation='vertical',horizontalalignment='center',fontsize=14)\n",
    "\n",
    "plt.show()"
   ]
  }
 ],
 "metadata": {
  "kernelspec": {
   "display_name": "Python 3",
   "language": "python",
   "name": "python3"
  },
  "language_info": {
   "codemirror_mode": {
    "name": "ipython",
    "version": 3
   },
   "file_extension": ".py",
   "mimetype": "text/x-python",
   "name": "python",
   "nbconvert_exporter": "python",
   "pygments_lexer": "ipython3",
   "version": "3.10.12"
  }
 },
 "nbformat": 4,
 "nbformat_minor": 2
}
