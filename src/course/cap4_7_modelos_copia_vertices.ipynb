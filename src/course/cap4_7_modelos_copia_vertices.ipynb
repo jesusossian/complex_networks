{
 "cells": [
  {
   "cell_type": "code",
   "execution_count": null,
   "metadata": {},
   "outputs": [],
   "source": [
    "import networkx as nx\n",
    "import matplotlib.pyplot as plt\n",
    "import numpy as np\n",
    "from numpy.random import default_rng"
   ]
  },
  {
   "cell_type": "markdown",
   "metadata": {},
   "source": [
    "## Modelos de cópia de vértices"
   ]
  },
  {
   "cell_type": "markdown",
   "metadata": {},
   "source": [
    "Uma pessoa A começa uma relação com outra pessoa B. \n",
    "Depois de algum tempo, A “adota” muitos dos amigos da B: A copia os amigos de B. \n",
    "\n",
    "Um novo artigo cita alguns dos artigos do certo tópico já citados, por exemplo, em um artigo de revisão da literatura, i.e., copia citações de outro artigo. \n",
    "\n",
    "Estes exemplos conduzem à ideia dos modelos de cópia de vértices."
   ]
  },
  {
   "cell_type": "markdown",
   "metadata": {},
   "source": [
    "Suponha que cada novo vértice numa rede estabelece $\\lambda$ novas ligações (arestas de saída) da seguinte maneira:\n",
    "1. Escolhe um vértice ao acaso entre os nós já existentes na rede.\n",
    "2. Cada uma das $\\lambda$ ligações são formadas assim:\n",
    "    - Para cada um dos $\\lambda$ sucessores do vértice escolhido no passo anterior, com probabilidade $q$, adiciona uma aresta do novo nó para este sucessor, ou com probabilidade $(1-q)$, liga-se a um vértice tomado ao acaso na rede."
   ]
  },
  {
   "cell_type": "markdown",
   "metadata": {},
   "source": [
    "O **networkx** tem duas funções para gerar redes baseadas em modelos de cópia:\n",
    "**duplication_divergence_graph** e **partial_duplication_graph**. \n",
    "\n",
    "Porém, nenhuma destas funções implementa o algoritmo simples explicado nesta seção. "
   ]
  },
  {
   "cell_type": "markdown",
   "metadata": {},
   "source": [
    "#### duplication_divergence_graph\n",
    "\n",
    "duplication_divergence_graph(n, p, seed=None)\n",
    "\n",
    "Returns an undirected graph using the duplication-divergence model.\n",
    "\n",
    "A graph of $n$ nodes is created by duplicating the initial nodes and retaining edges incident to the original nodes with a retention probability $p$.\n",
    "\n",
    "Parameters:\n",
    "\n",
    "n (int) - The desired number of nodes in the graph.\n",
    "\n",
    "p (float) - The probability for retaining the edge of the replicated node.\n",
    "\n",
    "seed (integer, random_state, or None (default)) - Indicator of random number generation state."
   ]
  },
  {
   "cell_type": "code",
   "execution_count": null,
   "metadata": {},
   "outputs": [],
   "source": [
    "G = nx.duplication_divergence_graph(100, 0.2, seed=None)\n",
    "nx.draw(G, with_labels=True)"
   ]
  },
  {
   "cell_type": "code",
   "execution_count": null,
   "metadata": {},
   "outputs": [],
   "source": [
    "dia = nx.diameter(G)\n",
    "print(dia)"
   ]
  },
  {
   "cell_type": "code",
   "execution_count": null,
   "metadata": {},
   "outputs": [],
   "source": [
    "agru = nx.transitivity(G)\n",
    "print(agru)"
   ]
  },
  {
   "cell_type": "markdown",
   "metadata": {},
   "source": [
    "#### partial_duplication_graph\n",
    "\n",
    "partial_duplication_graph(N, n, p, q, seed=None)\n",
    "\n",
    "Returns a random graph using the partial duplication model.\n",
    "\n",
    "Parameters:\n",
    "\n",
    "N (int) - The total number of nodes in the final graph.\n",
    "\n",
    "n (int) - The number of nodes in the initial clique.\n",
    "\n",
    "p (float) - The probability of joining each neighbor of a node to the duplicate node. \n",
    "Must be a number in the between zero and one, inclusive.\n",
    "\n",
    "q (float) - The probability of joining the source node to the duplicate node. \n",
    "Must be a number in the between zero and one, inclusive.\n",
    "\n",
    "seed (integer, random_state, or None (default))\n",
    "Indicator of random number generation state.\n",
    "\n",
    "Notes:\n",
    "\n",
    "A graph of nodes is grown by creating a fully connected graph of size $n$. \n",
    "The following procedure is then repeated until a total of $N$ nodes have been reached.\n",
    "\n",
    "A random node, $u$, is picked and a new node, $v$, is created.\n",
    "\n",
    "For each neighbor of $u$ an edge from the neighbor to $v$ is created with probability $p$.\n",
    "\n",
    "An edge from $u$ to $v$ is created with probability $q$."
   ]
  },
  {
   "cell_type": "code",
   "execution_count": null,
   "metadata": {},
   "outputs": [],
   "source": [
    "G = nx.partial_duplication_graph(100, 20, 0.5, 0.2, seed=None)\n",
    "nx.draw(G, with_labels=True)"
   ]
  },
  {
   "cell_type": "code",
   "execution_count": null,
   "metadata": {},
   "outputs": [],
   "source": [
    "agru = nx.transitivity(G)\n",
    "print(agru)"
   ]
  },
  {
   "cell_type": "markdown",
   "metadata": {},
   "source": [
    "### Exemplo\n",
    "\n",
    "O seguinte script python apresenta uma implementação deste modelo de cópia. \n",
    "\n",
    "Inicialmente, forma-se um grafo com $\\lambda+1$ vértices, onde cada nó está ligado com todos os outros nós (sem laços). \n",
    "\n",
    "Para cada novo vértice, o algoritmo procede como já foi explicado, mas evitando repetir ligações. \n",
    "\n",
    "Considere uma rede de 5 milhões de nós, $q=0.7$ e grau de saída $\\lambda=4$ em cada vértice."
   ]
  },
  {
   "cell_type": "code",
   "execution_count": null,
   "metadata": {},
   "outputs": [],
   "source": [
    "rng = default_rng()"
   ]
  },
  {
   "cell_type": "code",
   "execution_count": null,
   "metadata": {},
   "outputs": [],
   "source": [
    "G1 = nx.DiGraph ()\n",
    "\n",
    "N = 100\n",
    "q = 0.7\n",
    "G1.add_nodes_from(np.arange(0,N))\n",
    "grauin = np.zeros(N)\n",
    "lamb = 4"
   ]
  },
  {
   "cell_type": "code",
   "execution_count": null,
   "metadata": {},
   "outputs": [],
   "source": [
    "for i in range(lamb+2):\n",
    "    for j in range(lamb+2):\n",
    "        if i == j:\n",
    "           continue\n",
    "        G1.add_edge(i,j)"
   ]
  },
  {
   "cell_type": "code",
   "execution_count": null,
   "metadata": {},
   "outputs": [],
   "source": [
    "nx.draw(G1, with_labels=True)"
   ]
  },
  {
   "cell_type": "code",
   "execution_count": null,
   "metadata": {},
   "outputs": [],
   "source": [
    "for i in range (lamb+3,N):\n",
    "    j = rng.choice(i)\n",
    "    jj = set()\n",
    "    jj.add(i)\n",
    "    for k in G1.successors(j):\n",
    "        if rng.random() < q:\n",
    "            jj.add(k)\n",
    "            G1.add_edge(i,k)\n",
    "        else:\n",
    "            k = i\n",
    "            while k in jj:\n",
    "               k = rng.choice(i)\n",
    "            G1.add_edge(i,k)\n",
    "            jj.add(k)"
   ]
  },
  {
   "cell_type": "code",
   "execution_count": null,
   "metadata": {},
   "outputs": [],
   "source": [
    "nx.draw(G1, with_labels=True)"
   ]
  },
  {
   "cell_type": "code",
   "execution_count": null,
   "metadata": {},
   "outputs": [],
   "source": []
  }
 ],
 "metadata": {
  "kernelspec": {
   "display_name": "Python 3",
   "language": "python",
   "name": "python3"
  },
  "language_info": {
   "codemirror_mode": {
    "name": "ipython",
    "version": 3
   },
   "file_extension": ".py",
   "mimetype": "text/x-python",
   "name": "python",
   "nbconvert_exporter": "python",
   "pygments_lexer": "ipython3",
   "version": "3.10.12"
  }
 },
 "nbformat": 4,
 "nbformat_minor": 2
}
