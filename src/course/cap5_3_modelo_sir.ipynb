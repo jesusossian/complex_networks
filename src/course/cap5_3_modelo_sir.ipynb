{
 "cells": [
  {
   "cell_type": "markdown",
   "metadata": {},
   "source": [
    "# Modelos de difusão"
   ]
  },
  {
   "cell_type": "code",
   "execution_count": null,
   "metadata": {},
   "outputs": [],
   "source": [
    "import networkx as nx\n",
    "import numpy  as np\n",
    "from numpy.random import default_rng\n",
    "import matplotlib.pyplot as plt\n",
    "from copy import deepcopy"
   ]
  },
  {
   "cell_type": "markdown",
   "metadata": {},
   "source": [
    "## Modelo SIR\n",
    "\n",
    "No modelo **SIR**, os nós podem se encontrar em três estados: suscetíveis($S$), infectados($I$) ou removidos($R$).\n",
    "\n",
    "Os estados $S$ e $I$ são definidos como no modelo **SI**, e o estado $R$ é atingido após um nó passar pelo estado infectado e se tornar imune a doença.\n",
    "\n",
    "No modelo **SIR**, existe o parâmetro de contágio $\\beta$, e o parâmetro $\\gamma$ associado a velocidade com que um indivíduo se recupera da doença.\n",
    "\n",
    "Em um modelo de tempo discreto, $\\gamma$ representa a probabilidade de um indivíduo se recuperar a cada instante de tempo, tendo o tempo de infecção uma distribuição geométrica.\n",
    "\n",
    "Em um modelo contínuo, o tempo que um indivíduo permanece infectado segue uma distribuição exponencial com parâmetro $\\gamma$."
   ]
  },
  {
   "cell_type": "markdown",
   "metadata": {},
   "source": [
    "### Exemplo\n",
    "\n",
    "A simulação do modelo **SIR** em tempo discreto é similar à do modelo **SI**, porém com mais um estado. \n",
    "\n",
    "No código a seguir é apresentado este tipo de simulação, usando três valores de $\\gamma$ e um para $\\beta$."
   ]
  },
  {
   "cell_type": "code",
   "execution_count": null,
   "metadata": {},
   "outputs": [],
   "source": [
    "# recebe: rede \n",
    "# retorna: numero de infectados\n",
    "def numinf(G):\n",
    "    num = 0\n",
    "    for n in G.nodes:\n",
    "        if G.nodes[n]['estado'] == 1:\n",
    "            num += 1\n",
    "\n",
    "    return num"
   ]
  },
  {
   "cell_type": "code",
   "execution_count": null,
   "metadata": {},
   "outputs": [],
   "source": [
    "# recebe: rede \n",
    "# retorna: numero de vizinho infectados \n",
    "def numinfviz(G,n):\n",
    "    num = 0\n",
    "    for m in nx.neighbors(G,n):\n",
    "        if G.nodes[m]['estado'] == 1:\n",
    "            num += 1\n",
    "    \n",
    "    return num"
   ]
  },
  {
   "cell_type": "code",
   "execution_count": null,
   "metadata": {},
   "outputs": [],
   "source": [
    "# reecebe: rede, beta, gamma, M, v.a.\n",
    "# retona: fracao de infectados\n",
    "def sir(G,beta,gamma,M,rng):\n",
    "    \n",
    "    delta = [0]*(M+1)\n",
    "    delta[0] = numinf(G)/G.order()\n",
    "\n",
    "    for k in range(M):\n",
    "        for n in G.nodes:\n",
    "            if G.nodes[n]['estado'] == 0: # o vértice é suscetível?\n",
    "                p = (1-(1-beta)**numinfviz(G,n)) # probabilidade de contágio\n",
    "                if rng.random() < p: # o vértice contagia-se?\n",
    "                    G.nodes[n]['estado-prox'] =  1\n",
    "                else:\n",
    "                    G.nodes[n]['estado-prox'] =  0\n",
    "            elif G.nodes[n]['estado'] == 1: # vértice infectado\n",
    "                if rng.random() < gamma:\n",
    "                    G.nodes[n]['estado-prox'] =  2\n",
    "                else:\n",
    "                    G.nodes[n]['estado-prox'] =  1\n",
    "        num = 0\n",
    "        for n in G.nodes:\n",
    "            #um vétice em estado 2 (R), fica no estado 2\n",
    "            if (G.nodes[n]['estado'] == 0) or (G.nodes[n]['estado'] == 1):\n",
    "                G.nodes[n]['estado'] = G.nodes[n]['estado-prox']\n",
    "            if G.nodes[n]['estado'] == 1:\n",
    "                num += 1\n",
    "        delta[k+1] = num/G.order()\n",
    "        \n",
    "    return delta\n"
   ]
  },
  {
   "cell_type": "code",
   "execution_count": null,
   "metadata": {},
   "outputs": [],
   "source": [
    "# inicializa a rede\n",
    "def init(G,p,rng):\n",
    "    for n in G.nodes:\n",
    "        G.nodes[n]['estado-prox'] = 0\n",
    "        if rng.random() < p:\n",
    "            G.nodes[n]['estado'] = 1 #I = 1\n",
    "        else:\n",
    "            G.nodes[n]['estado'] = 0 #S = 0"
   ]
  },
  {
   "cell_type": "code",
   "execution_count": null,
   "metadata": {},
   "outputs": [],
   "source": [
    "# redes barabasi_albert_graph\n",
    "n = 100\n",
    "\n",
    "m = 3 # 3 ligacoes\n",
    "G3 = nx.barabasi_albert_graph(n,m)\n",
    "\n",
    "m = 10 # 10 ligacoes\n",
    "G10 = nx.barabasi_albert_graph(n,m)\n",
    "\n",
    "m = 1 # 1 ligacao\n",
    "G1 = nx.barabasi_albert_graph(n,m)"
   ]
  },
  {
   "cell_type": "code",
   "execution_count": null,
   "metadata": {},
   "outputs": [],
   "source": [
    "# Para os três valores de $\\gamma$, a fração de vértices infectados tende a zero porque os nós recuperam-se. \n",
    "# Para o tempo de infecção para valores de $\\gamma$ maiores, observa-se que o número de infectados atinge um máximo.\n",
    "\n",
    "# gerador de números aleatórios\n",
    "rng = default_rng()\n",
    "\n",
    "# aproximadamente um 10% dos vértices estão inicialmente infectados\n",
    "prob = 0.1\n",
    "init(G3,prob,rng)\n",
    "\n",
    "G = deepcopy(G3)\n",
    "beta = 0.1\n",
    "gamma = 0.01\n",
    "M = 200\n",
    "dens1 = sir(G,beta,gamma,M,rng)\n",
    "\n",
    "G = deepcopy(G3)\n",
    "beta = 0.1\n",
    "gamma = 0.1\n",
    "M = 200\n",
    "dens2 = sir(G,beta,gamma,M,rng)\n",
    "\n",
    "G = deepcopy(G3)\n",
    "beta = 0.1\n",
    "gamma = 1.0\n",
    "M = 200 \n",
    "dens3 = sir(G,beta,gamma,M,rng)\n",
    "\n",
    "fig = plt.subplots(1,1,figsize=(20,10))\n",
    "plt.plot(dens1,label=r'$\\gamma = 0.01$')\n",
    "plt.plot(dens2,label=r'$\\gamma = 0.10$')\n",
    "plt.plot(dens3,label=r'$\\gamma = 1.00$')\n",
    "\n",
    "plt.legend()\n",
    "plt.xlabel('tempo')\n",
    "plt.ylabel('fração de infectados')\n",
    "plt.title('Modelo SIR para beta=0.1 e gamma=0.01, 0.1 e 1.0, numa rede G3')\n",
    "\n",
    "plt.tight_layout()\n",
    "plt.show()"
   ]
  },
  {
   "cell_type": "code",
   "execution_count": null,
   "metadata": {},
   "outputs": [],
   "source": [
    "# gerador de números aleatórios\n",
    "rng = default_rng()\n",
    "\n",
    "# aproximadamente um 10% dos vértices estão inicialmente infectados\n",
    "init(G10,0.1,rng)\n",
    "\n",
    "G = deepcopy(G10)\n",
    "beta = 0.1\n",
    "gamma = 0.01\n",
    "M = 200\n",
    "dens1 = sir(G,beta,gamma,M,rng)\n",
    "\n",
    "G = deepcopy(G10)\n",
    "beta = 0.1\n",
    "gamma = 0.1\n",
    "M = 200\n",
    "dens2 = sir(G,beta,gamma,M,rng)\n",
    "\n",
    "G = deepcopy(G10)\n",
    "beta = 0.1\n",
    "gamma = 1.0\n",
    "M = 200 \n",
    "dens3 = sir(G,beta,gamma,M,rng)\n",
    "\n",
    "fig = plt.subplots(1,1,figsize=(20,10))\n",
    "plt.plot(dens1,label=r'$\\gamma = 0.01$')\n",
    "plt.plot(dens2,label=r'$\\gamma = 0.10$')\n",
    "plt.plot(dens3,label=r'$\\gamma = 1.00$')\n",
    "plt.legend()\n",
    "plt.xlabel('tempo')\n",
    "plt.ylabel('fração de infectados')\n",
    "plt.title('Modelo SIR para beta=0.1 e gamma=0.01, 0.1 e 1.0, numa rede G10.')\n",
    "\n",
    "plt.tight_layout()\n",
    "plt.show()"
   ]
  },
  {
   "cell_type": "code",
   "execution_count": null,
   "metadata": {},
   "outputs": [],
   "source": [
    "# gerador de números aleatórios\n",
    "rng = default_rng()\n",
    "\n",
    "# aproximadamente um 10% dos vértices estão inicialmente infectados\n",
    "init(G1,0.1,rng)\n",
    "\n",
    "G = deepcopy(G1)\n",
    "beta = 0.1\n",
    "gamma = 0.01\n",
    "M = 200\n",
    "dens1 = sir(G,beta,gamma,M,rng)\n",
    "\n",
    "G = deepcopy(G1)\n",
    "beta = 0.1\n",
    "gamma = 0.1\n",
    "M = 200\n",
    "dens2 = sir(G,beta,gamma,M,rng)\n",
    "\n",
    "G = deepcopy(G1)\n",
    "beta = 0.1\n",
    "gamma = 1.0\n",
    "M = 200 \n",
    "dens3 = sir(G,beta,gamma,M,rng)\n",
    "\n",
    "fig = plt.subplots(1,1,figsize=(20,10))\n",
    "plt.plot(dens1,label=r'$\\gamma = 0.01$')\n",
    "plt.plot(dens2,label=r'$\\gamma = 0.10$')\n",
    "plt.plot(dens3,label=r'$\\gamma = 1.00$')\n",
    "\n",
    "plt.legend()\n",
    "plt.xlabel('tempo')\n",
    "plt.ylabel('fração de infectados')\n",
    "plt.title('Modelo SIR para beta=0.1 e gamma=0.01, 0.1 e 1.0, numa rede G1.')\n",
    "\n",
    "plt.tight_layout()\n",
    "plt.show()"
   ]
  },
  {
   "cell_type": "markdown",
   "metadata": {},
   "source": [
    "O número máximo de vértices infectados depende do valor de $q$, como o seguinte código mostra"
   ]
  },
  {
   "cell_type": "code",
   "execution_count": null,
   "metadata": {},
   "outputs": [],
   "source": [
    "# fração de vértices infectados em tempo M=200\n",
    "\n",
    "q = np.linspace(1/11,0.5,10)\n",
    "#q = np.linspace(1/11,1,21)\n",
    "den = np.zeros_like(q)\n",
    "\n",
    "for k in range(q.shape[0]):\n",
    "    for i in range(100): # 100 simulacoes\n",
    "        g = nx.barabasi_albert_graph(100,3)\n",
    "        init(g,0.1,rng)\n",
    "        dens = sir(g,0.1,(1-q[k])/q[k]*0.1,200,rng)\n",
    "        den[k] += np.max(dens)\n",
    "    print(k,den[k])"
   ]
  },
  {
   "cell_type": "code",
   "execution_count": null,
   "metadata": {},
   "outputs": [],
   "source": [
    "# média(100 simulações) da fração de infectados máxima atingida para cada valor de q.\n",
    "\n",
    "den = den/100\n",
    "\n",
    "fig = plt.subplots(1,1,figsize=(20,10))\n",
    "\n",
    "plt.plot(q,den)\n",
    "plt.ylabel('Fração de infectados')\n",
    "plt.xlabel(r'$q = \\beta/(\\beta+\\gamma)$')\n",
    "plt.title('Média da máxima fração de infectados atingida para o modelo SIR com $q$ variável na rede G3')\n",
    "\n",
    "plt.tight_layout()\n",
    "plt.show()"
   ]
  },
  {
   "cell_type": "markdown",
   "metadata": {},
   "source": [
    "### Exemplo\n",
    "\n",
    "Para o modelo **SI**, apresentamos duas maneiras de frear o espalhamento da infecção, a remoção de arestas e a remoção de vértices. \n",
    "\n",
    "Para o modelo **SIR**, há uma terceira maneira, que no caso de uma doença seria equivalente à vacinação, iniciar com alguns vértices no estado $R$. "
   ]
  },
  {
   "cell_type": "markdown",
   "metadata": {},
   "source": [
    "O código a seguir avalia a influência da fração de vértices inicialmente no estado $R$. \n",
    "\n",
    "Os vértices vacinados são escolhidos de duas maneiras, ao acaso e começando com os vértices de maior grau. \n",
    "\n",
    "Observe-se que a vacinação é anterior à infecção. "
   ]
  },
  {
   "cell_type": "code",
   "execution_count": null,
   "metadata": {},
   "outputs": [],
   "source": [
    "# incia rede com recuperados e sucetiveis baseado em probabilidade\n",
    "# recebe: rede, probabilidade, v.a.\n",
    "def initr(G,p,rng):\n",
    "    for n in G.nodes:\n",
    "        if rng.random() < p:\n",
    "            G.nodes[n]['estado'] = 2 # R = 2\n",
    "            G.nodes[n]['estado-prox'] = 2\n",
    "        else:\n",
    "            G.nodes[n]['estado'] = 0 # S = 0\n",
    "            G.nodes[n]['estado-prox'] = 0"
   ]
  },
  {
   "cell_type": "code",
   "execution_count": null,
   "metadata": {},
   "outputs": [],
   "source": [
    "# inicia rede com recuperados baseado em v.a. \n",
    "# recebe: rede, X, probabilidade, v.a.\n",
    "def initrl(G,gr,p,rng):\n",
    "    nx.set_node_attributes(G, 0, name='estado')\n",
    "    nx.set_node_attributes(G, 0, name='estado-prox')\n",
    "\n",
    "    K = rng.binomial(G.order(),p) # extrae amostras de uma distribuição binomial baseada em grau e probabilidade\n",
    "    k = 0\n",
    "    for n in gr:\n",
    "        if k < K:\n",
    "            G.nodes[n]['estado'] = 2 #R = 2\n",
    "            G.nodes[n]['estado-prox'] = 2\n",
    "            k += 1\n",
    "        else:\n",
    "            break"
   ]
  },
  {
   "cell_type": "code",
   "execution_count": null,
   "metadata": {},
   "outputs": [],
   "source": [
    "# inicializa infectados, recuperado e sucetiveis baseado em probabilidade\n",
    "# recebe: rede, probabilidade, v.a.\n",
    "def initi(G,p,rng):\n",
    "    for n in G.nodes:\n",
    "        # um vértice no estado R não pode-se infectar\n",
    "        if G.nodes[n]['estado'] == 2:\n",
    "            continue\n",
    "        if rng.random() < p:\n",
    "            G.nodes[n]['estado'] = 1 #I = 1\n",
    "            G.nodes[n]['estado-prox'] = 0\n",
    "        else:\n",
    "            G.nodes[n]['estado'] = 0 #S = 0\n",
    "            G.nodes[n]['estado-prox'] = 0"
   ]
  },
  {
   "cell_type": "code",
   "execution_count": null,
   "metadata": {},
   "outputs": [],
   "source": [
    "p = np.linspace(0,0.5,10)\n",
    "den1 = np.zeros_like(p)\n",
    "den2 = np.zeros_like(p)\n",
    "\n",
    "for k in range(p.shape[0]):\n",
    "    for i in range(100): # 100 simulacoes\n",
    "        G3 = nx.barabasi_albert_graph(100,3) # rede\n",
    "\n",
    "        G = deepcopy(G3) \n",
    "\n",
    "        initr(G3,p[k],rng) # rede com recuperados\n",
    "        initi(G3,0.1,rng) # 10% infectados\n",
    "        \n",
    "        dens = sir(G3,0.1,0.01,200,rng) # fracao retornada por SIR a nova rede\n",
    "        den1[k] += np.max(dens) \n",
    "        \n",
    "        G3 = deepcopy(G)\n",
    "        cen = dict(G3.degree)\n",
    "        gr = dict(sorted(cen.items(), key=lambda item: item[1], reverse=True))\n",
    "        \n",
    "        initrl(G3,gr,p[k],rng) # incializa recuperados\n",
    "        initi(G3,0.1,rng) # inicializa infectados\n",
    "\n",
    "        dens = sir(G3,0.1,0.01,200,rng) # fracao de infectado por SIR a nova rede\n",
    "        den2[k] += np.max(dens)\n",
    "                \n",
    "    print(k,den1[k],den2[k])"
   ]
  },
  {
   "cell_type": "code",
   "execution_count": null,
   "metadata": {},
   "outputs": [],
   "source": [
    "# conclusaõ: escolher os vértices prestando atenção aos graus produz melhores resultados, isto é, um menor número de nós infectados.\n",
    "\n",
    "den1 = den1/100\n",
    "den2 = den2/100\n",
    "\n",
    "fig = plt.subplots(1,1,figsize=(20,10))\n",
    "\n",
    "plt.plot(p,den1, label='vértices ao acaso')\n",
    "plt.plot(p,den2, label='vértices com maior grau')\n",
    "\n",
    "plt.legend()\n",
    "plt.xlabel('Fração de vértices vacinados')\n",
    "plt.ylabel('Fração de infectados')\n",
    "plt.title('Média da máxima fração de infectados atingida para o modelo SIR com uma fração dos nós inicialmente vacinados na rede G3.')\n",
    "\n",
    "plt.tight_layout()\n",
    "plt.show()"
   ]
  },
  {
   "cell_type": "code",
   "execution_count": null,
   "metadata": {},
   "outputs": [],
   "source": []
  }
 ],
 "metadata": {
  "kernelspec": {
   "display_name": "Python 3",
   "language": "python",
   "name": "python3"
  },
  "language_info": {
   "codemirror_mode": {
    "name": "ipython",
    "version": 3
   },
   "file_extension": ".py",
   "mimetype": "text/x-python",
   "name": "python",
   "nbconvert_exporter": "python",
   "pygments_lexer": "ipython3",
   "version": "3.10.12"
  }
 },
 "nbformat": 4,
 "nbformat_minor": 2
}
