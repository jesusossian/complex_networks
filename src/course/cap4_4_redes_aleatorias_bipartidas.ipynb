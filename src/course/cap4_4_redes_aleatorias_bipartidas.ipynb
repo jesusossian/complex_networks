{
 "cells": [
  {
   "cell_type": "code",
   "execution_count": null,
   "metadata": {},
   "outputs": [],
   "source": [
    "import networkx as nx\n",
    "import matplotlib.pyplot as plt"
   ]
  },
  {
   "cell_type": "markdown",
   "metadata": {},
   "source": [
    "## Redes aleatórias bipartidas\n",
    "\n",
    "Os modelos de geração de redes aleatórias também podem facilmente ser adaptados para gerar redes bipartidas."
   ]
  },
  {
   "cell_type": "markdown",
   "metadata": {},
   "source": [
    "O **networkx** conta com um sub-pacote especial para redes bipartidas. \n",
    "\n",
    "Um grafo bipartido simples pode ser criado da seguinte maneira:"
   ]
  },
  {
   "cell_type": "code",
   "execution_count": null,
   "metadata": {},
   "outputs": [],
   "source": [
    "B = nx.Graph()"
   ]
  },
  {
   "cell_type": "code",
   "execution_count": null,
   "metadata": {},
   "outputs": [],
   "source": [
    "B.add_nodes_from(['a','b','c'], bipartite=0)\n",
    "B.add_nodes_from(['d','e','f','g'], bipartite=1)\n",
    "# o atributo bipartite especifica o grupo ao qual cada vértice pertence"
   ]
  },
  {
   "cell_type": "code",
   "execution_count": null,
   "metadata": {},
   "outputs": [],
   "source": [
    "fig, ax = plt.subplots(1,1,figsize=(15,10))\n",
    "\n",
    "nx.draw(B, with_labels=True)"
   ]
  },
  {
   "cell_type": "code",
   "execution_count": null,
   "metadata": {},
   "outputs": [],
   "source": [
    "print(nx.bipartite.is_bipartite(B))"
   ]
  },
  {
   "cell_type": "code",
   "execution_count": null,
   "metadata": {},
   "outputs": [],
   "source": [
    "B.add_edge('a','d')\n",
    "B.add_edge('a','e')\n",
    "B.add_edge('b','f')\n",
    "B.add_edge('c','g')\n",
    "B.add_edge('c','d')\n",
    "#B.add_edge('a','b')\n",
    "#B.add_edge('c','b')\n",
    "#B.add_edge('g','e')"
   ]
  },
  {
   "cell_type": "code",
   "execution_count": null,
   "metadata": {},
   "outputs": [],
   "source": [
    "fig, ax = plt.subplots(1,1,figsize=(15,10))\n",
    "pos = nx.bipartite_layout(B,['a','b','c'])\n",
    "nx.draw(B, pos=pos, with_labels=True , node_size=800)"
   ]
  },
  {
   "cell_type": "code",
   "execution_count": null,
   "metadata": {},
   "outputs": [],
   "source": [
    "print(nx.bipartite.is_bipartite(B))"
   ]
  },
  {
   "cell_type": "markdown",
   "metadata": {},
   "source": [
    "A seguir algumas funções impementadas no **networkx** para gerar redes bipartidas:\n",
    "1. **complete_bipartite_graph**: cria uma rede com todas as possíveis ligações entre nós dos dois grupos.\n",
    "2. **configuration_model**: especificando as arestas de cada vértice, usa o modelo de configuração para criar uma rede bipartida.\n",
    "3. **random_graph**: cria uma rede gerando arestas ao acaso com uma probabilidade fixa."
   ]
  },
  {
   "cell_type": "code",
   "execution_count": null,
   "metadata": {},
   "outputs": [],
   "source": [
    "# grafo bipartido completo\n",
    "B0 = nx.bipartite.complete_bipartite_graph(4,3)\n",
    "pos = nx.bipartite_layout(B0,[0,1,2,3])\n",
    "\n",
    "fig, ax = plt.subplots(1,1,figsize=(15,10))\n",
    "nx.draw(B0, pos=pos, with_labels=True, node_size=800)"
   ]
  },
  {
   "cell_type": "code",
   "execution_count": null,
   "metadata": {},
   "outputs": [],
   "source": [
    "# modelo de configuração\n",
    "B1 = nx.bipartite.configuration_model([1,2,1,2] , [2,3,1])\n",
    "\n",
    "fig, ax = plt.subplots(1,1,figsize=(15,10))\n",
    "pos = nx.bipartite_layout(B1,[0,1,2,3])\n",
    "nx.draw (B1, pos=pos , with_labels=True, node_size=800)"
   ]
  },
  {
   "cell_type": "code",
   "execution_count": null,
   "metadata": {},
   "outputs": [],
   "source": [
    "print(\"node: degree\")\n",
    "for v in nx.nodes(B1):\n",
    "    print(f\"{v} : {nx.degree(B1, v)}\")"
   ]
  },
  {
   "cell_type": "code",
   "execution_count": null,
   "metadata": {},
   "outputs": [],
   "source": [
    "# rede aleatória\n",
    "B2 = nx.bipartite.random_graph(4,3,0.5)\n",
    "#pos = nx.bipartite_layout(B2, [0,1,2,3])\n",
    "\n",
    "fig, ax = plt.subplots(1,1,figsize=(15,10))\n",
    "nx.draw(B2, with_labels=True, node_size=800)"
   ]
  },
  {
   "cell_type": "code",
   "execution_count": null,
   "metadata": {},
   "outputs": [],
   "source": [
    "fig, ax = plt.subplots(1,1,figsize=(15,10))\n",
    "\n",
    "pos = nx.bipartite_layout(B2, [0,1,2,3])\n",
    "nx.draw(B2, pos=pos, with_labels=True, node_size=800)"
   ]
  },
  {
   "cell_type": "code",
   "execution_count": null,
   "metadata": {},
   "outputs": [],
   "source": []
  },
  {
   "cell_type": "code",
   "execution_count": null,
   "metadata": {},
   "outputs": [],
   "source": []
  }
 ],
 "metadata": {
  "kernelspec": {
   "display_name": "Python 3",
   "language": "python",
   "name": "python3"
  },
  "language_info": {
   "codemirror_mode": {
    "name": "ipython",
    "version": 3
   },
   "file_extension": ".py",
   "mimetype": "text/x-python",
   "name": "python",
   "nbconvert_exporter": "python",
   "pygments_lexer": "ipython3",
   "version": "3.10.12"
  }
 },
 "nbformat": 4,
 "nbformat_minor": 2
}
