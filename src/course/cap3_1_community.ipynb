{
 "cells": [
  {
   "cell_type": "code",
   "execution_count": null,
   "metadata": {},
   "outputs": [],
   "source": [
    "import networkx as nx\n",
    "import matplotlib.pyplot as plt\n",
    "import numpy as np\n",
    "import pandas as pd\n",
    "from networkx.algorithms import community as cm"
   ]
  },
  {
   "cell_type": "markdown",
   "metadata": {},
   "source": [
    "## 3.1 Introdução \n",
    "\n",
    "Uma das tarefas comum em análise de redes complexas é agrupar os vértices da rede em subconjuntos, chamados de comunidades, de modo que os vértices mais similares fiquem juntos em uma comunidade. \n",
    "\n",
    "A ideia central é entender um pouco sobre como os nós tendem a se organizar dentro da rede através da observação dos padrões de ligação que os mesmos possuem.\n",
    "\n",
    "Problemas de detecção de comunidades são similares a problemas de partição em grafos, mas em geral nestes últimos já há uma quantidade pré-determinada de grupos e dos tamanhos dos mesmos no qual o grafo deve ser particionado, o que não ocorre em geral com os problemas de detecção de comunidades nos quais o tamanho e a quantidade de comunidades a serem detectadas não são previamente conhecidos"
   ]
  },
  {
   "cell_type": "markdown",
   "metadata": {},
   "source": [
    "## 3.2 CONCOR\n",
    "\n",
    "É um dos primeiros e mais usados métodos para detectar comunidades. \n",
    "\n",
    "Esse método é baseado na convergência de correlações iteradas.\n",
    "\n",
    "O método **CONCOR** aplicado uma única vez, divide o conjunto de nós em no máximo duas comunidades. \n",
    "Se mais comunidades forem necessárias, pode-se aplicar novamente o método **CONCOR** em uma comunidade encontrada anteriormente, dividindo-a em duas."
   ]
  },
  {
   "cell_type": "markdown",
   "metadata": {},
   "source": [
    "### Exemplo 1:\n",
    "\n",
    "Considere a instância do livro 2 da saga Harry Potter. \n",
    "\n",
    "As ligações dessa rede representam suporte emocional e, portanto, trata-se de uma rede direcionada com matriz de adjacência não simétrica.\n",
    "\n",
    "Usamos o algoritmo **CONCOR** para achar uma divisão em duas comunidades."
   ]
  },
  {
   "cell_type": "code",
   "execution_count": null,
   "metadata": {},
   "outputs": [],
   "source": [
    "# lendo os arquivos\n",
    "atri = pd.read_csv('../../data/harrypotter/hpattributes.txt', sep='\\t') \n",
    "ares = pd.read_csv('../../data/harrypotter/hpbook2.txt', sep=' ', header=None)\n",
    "nome = pd.read_csv('../../data/harrypotter/hpnames.txt', sep='\\t')"
   ]
  },
  {
   "cell_type": "code",
   "execution_count": null,
   "metadata": {},
   "outputs": [],
   "source": [
    "# criando o grafo(rede)\n",
    "gpotter = nx.DiGraph()\n",
    "n = atri.shape[0]\n",
    "\n",
    "for k in range(n):\n",
    "    gpotter.add_node(k,\n",
    "                     nome = nome['name'][k],\n",
    "                     ano = atri['schoolyear'][k],\n",
    "                     gen = atri['gender'][k],\n",
    "                     casa = atri['house'][k])\n",
    "\n",
    "for k in range(n):\n",
    "    for m in range(n):\n",
    "        if ares.values[k][m] == 1:\n",
    "            gpotter.add_edge(k,m)"
   ]
  },
  {
   "cell_type": "code",
   "execution_count": null,
   "metadata": {},
   "outputs": [],
   "source": [
    "fig, ax = plt.subplots(1, 1, figsize=(15,10))\n",
    "\n",
    "nx.draw(gpotter, with_labels=True)"
   ]
  },
  {
   "cell_type": "code",
   "execution_count": null,
   "metadata": {},
   "outputs": [],
   "source": [
    "ldegree0 = []\n",
    "for i in gpotter.nodes:\n",
    "    if gpotter.degree[i] == 0:\n",
    "        ldegree0.append(i)\n",
    "\n",
    "print(ldegree0)\n",
    "print(len(ldegree0))"
   ]
  },
  {
   "cell_type": "code",
   "execution_count": null,
   "metadata": {},
   "outputs": [],
   "source": [
    "# gerando a matriz de adjacência esparsa\n",
    "#A = nx.adjacency_matrix(gpotter)\n",
    "A = nx.to_scipy_sparse_array(gpotter).toarray()\n",
    "\n",
    "#print(f\"adjacency : \\n {A}\")\n",
    "print(A)"
   ]
  },
  {
   "cell_type": "markdown",
   "metadata": {},
   "source": [
    "Excluímos os nós isolados, pois estes vértices podem ser considerados uma comunidade separada, mas alguns deles correspondem a personagens que não fazem parte do livro."
   ]
  },
  {
   "cell_type": "code",
   "execution_count": null,
   "metadata": {},
   "outputs": [],
   "source": [
    "# deletando os nodes isolados\n",
    "\n",
    "isolados = []\n",
    "for k in range(n):\n",
    "    if np.sum(A[[k],:]) == 0:\n",
    "        isolados.append(k)\n",
    "        gpotter.remove_node(k)\n",
    "\n",
    "print(len(isolados), 'nos isolados')"
   ]
  },
  {
   "cell_type": "code",
   "execution_count": null,
   "metadata": {},
   "outputs": [],
   "source": [
    "fig, ax = plt.subplots(1, 1, figsize=(15,10))\n",
    "\n",
    "nx.draw(gpotter, with_labels=True)"
   ]
  },
  {
   "cell_type": "code",
   "execution_count": null,
   "metadata": {},
   "outputs": [],
   "source": [
    "# matriz de adjacencia esparsa\n",
    "#A = nx.adjacency_matrix(gpotter)\n",
    "A = nx.to_scipy_sparse_array(gpotter)#.toarray()\n",
    "\n",
    "# matriz de adjacencia densa\n",
    "A = np.array(A.todense(),dtype=float)\n",
    "print(A)"
   ]
  },
  {
   "cell_type": "markdown",
   "metadata": {},
   "source": [
    "A convergência do algoritmo é detectada usando a função **allclose** do **Numpy**. \n",
    "Quando trabalhamos com aritmética de ponto flutante, existe a possibilidade de que os elementos da matriz $C_k$ não fiquem exatamente iguais a +-1. \n",
    "\n",
    "As correlações são feitas usando a função **corr_coef** de Numpy. \n",
    "\n",
    "O método **adjacency_matrix**(**to_scipy_sparse_array**) devolve a matriz em um formato para matrizes esparsas, assim convertemos a matriz para um formato denso com método **todense**."
   ]
  },
  {
   "cell_type": "markdown",
   "metadata": {},
   "source": [
    "**allclose()**: retorna True se dois arrays forem iguais elemento por elemento dentro de uma tolerância.\n",
    "\n",
    "**ones_like():** retorna um array de uns com o mesmo formato e tipo de um array fornecido.\n",
    "\n",
    " **corrcoef():** retorna os coeficientes de correlação produto-momento de Pearson."
   ]
  },
  {
   "cell_type": "code",
   "execution_count": null,
   "metadata": {},
   "outputs": [],
   "source": [
    "# algoritmo CONCOR\n",
    "C = A.copy()\n",
    "\n",
    "while not np.allclose(np.abs(C), np.ones_like(C), atol=1e-10):\n",
    "    C = np.corrcoef(C)\n",
    "\n",
    "C = np.round(C)\n",
    "\n",
    "print(C)"
   ]
  },
  {
   "cell_type": "code",
   "execution_count": null,
   "metadata": {},
   "outputs": [],
   "source": [
    "com1 = [] # comunidade 1\n",
    "com2 = [] # comunidade 1\n",
    "\n",
    "nos  = list(gpotter.nodes)\n",
    "\n",
    "com1.append(nos[0]) # adiciona o node 0\n",
    "\n",
    "for k in range(1,len(nos)):\n",
    "    if C[0,k] > 0:\n",
    "        com1.append(nos[k])\n",
    "    else:\n",
    "        com2.append(nos[k])"
   ]
  },
  {
   "cell_type": "code",
   "execution_count": null,
   "metadata": {},
   "outputs": [],
   "source": [
    "print(f\"#com1 = {len(com1)}, #com2 = {len(com2)}\")"
   ]
  },
  {
   "cell_type": "code",
   "execution_count": null,
   "metadata": {},
   "outputs": [],
   "source": [
    "print('comunidade 1:')\n",
    "for k in range(len(com1)):\n",
    "    print(f\"{com1[k]}: {gpotter.nodes[com1[k]]['nome']}\")"
   ]
  },
  {
   "cell_type": "code",
   "execution_count": null,
   "metadata": {},
   "outputs": [],
   "source": [
    "print('comunidade 2:')\n",
    "for k in range(len(com2)):\n",
    "    print(f\"{com2[k]}: {gpotter.nodes[com2[k]]['nome']}\")"
   ]
  },
  {
   "cell_type": "code",
   "execution_count": null,
   "metadata": {},
   "outputs": [],
   "source": [
    "fig, ax = plt.subplots(1,1,figsize=(15,10))\n",
    "\n",
    "pos = nx.circular_layout(gpotter)\n",
    "\n",
    "for k in range(len(com1)):\n",
    "    pos[com1[k]][0] = 100*np.cos(2*np.pi*k/len(com1))\n",
    "    pos[com1[k]][1] = 100*np.sin(2*np.pi*k/len(com1))\n",
    "\n",
    "for k in range(len(com2)):\n",
    "    pos[com2[k]][0] = 300*np.cos(2*np.pi*k/len(com2))\n",
    "    pos[com2[k]][1] = 300*np.sin(2*np.pi*k/len(com2))    \n",
    "\n",
    "cores = []\n",
    "for no in gpotter.nodes():\n",
    "    if no in com1:\n",
    "        cores.append('lightskyblue')\n",
    "    else:\n",
    "        cores.append('steelblue')\n",
    "    \n",
    "etiquetas = nx.get_node_attributes(gpotter, 'nome')\n",
    "\n",
    "nx.draw_networkx(gpotter,pos=pos,edge_color='lightgray',\n",
    "                 node_size=500, labels=etiquetas,\n",
    "                 font_size=10, node_color=cores)\n",
    "\n",
    "plt.box(False)\n",
    "plt.show()"
   ]
  },
  {
   "cell_type": "markdown",
   "metadata": {},
   "source": [
    "### Exemplo 2\n",
    "\n",
    "Os problemas partição de um grafo em comunidades são, comumente, muito complexos. \n",
    "Assim existem heurísticas para resolver esse tipo de problema.\n",
    "\n",
    "A função **heuristic_community** minimiza a razão entre o número de arestas que ligam dois grupos e o produto dos tamanhos dos dois grupos.\n",
    "\n",
    "O pacote **algorithms.community** do **networkx** contém funções para calcular e medir a estrutura de comunidades em redes. \n",
    "\n",
    "Um exemplo é a função **partition_quality**, que retorna a razão entre o número de arestas internas aos grupos e o número total de arestas."
   ]
  },
  {
   "cell_type": "code",
   "execution_count": null,
   "metadata": {},
   "outputs": [],
   "source": [
    "a,b = cm.partition_quality(gpotter,[com1,com2])\n",
    "print(a)\n",
    "print(b)"
   ]
  },
  {
   "cell_type": "code",
   "execution_count": null,
   "metadata": {},
   "outputs": [],
   "source": [
    "def heuristic_community(G):\n",
    "    mper = np.inf\n",
    "    for ini in G:\n",
    "        com1 = set([ini])\n",
    "        com2 = set(nos)-com1\n",
    "    \n",
    "        mgan = -1 # mgan = Delta\n",
    "        while mgan < 0:\n",
    "            mgan = np.inf\n",
    "            cv, pe = cm.partition_quality(G,[com1,com2]) # calculo da razao \n",
    "            ra = (1-cv)/(len(com1)*len(com2)) # calcula da razao\n",
    "            #print(f\"cv={cv}, pe={pe}, ra={ra}\")\n",
    "            mno = -1\n",
    "\n",
    "            for no in com2:\n",
    "                ncom1 = com1.union(set([no]))\n",
    "                ncom2 = com2-set([no])\n",
    "                cv, pe = cm.partition_quality(G,[ncom1,ncom2])\n",
    "                nra = (1-cv)/(len(ncom1)*len(ncom2)) #nra = delta\n",
    "                ng = nra-ra\n",
    "\n",
    "                if ng < mgan:\n",
    "                    mgan = ng\n",
    "                    mno  = no\n",
    "\n",
    "            if mgan < 0:\n",
    "                com1.add(mno)\n",
    "                com2.remove(mno)\n",
    "    \n",
    "        cv, pe = cm.partition_quality(G,[com1,com2])            \n",
    "        ra = (1-cv)/(len(com1)*len(com2)) \n",
    "\n",
    "        if ra < mper:\n",
    "            mper = ra\n",
    "            mcom1 = com1.copy()\n",
    "            mcom2 = com2.copy()\n",
    "\n",
    "    return mcom1, mcom2"
   ]
  },
  {
   "cell_type": "code",
   "execution_count": null,
   "metadata": {},
   "outputs": [],
   "source": [
    "mcom1, mcom2 = heuristic_community(gpotter)\n",
    "com1 = list(mcom1)\n",
    "com2 = list(mcom2)"
   ]
  },
  {
   "cell_type": "code",
   "execution_count": null,
   "metadata": {},
   "outputs": [],
   "source": [
    "print(f\"comunidade 1:\")\n",
    "for k in range(len(com1)):\n",
    "    print(f\"{com1[k]}: {gpotter.nodes[com1[k]]['nome']}\")"
   ]
  },
  {
   "cell_type": "code",
   "execution_count": null,
   "metadata": {},
   "outputs": [],
   "source": [
    "print(f\"comunidade 2:\")\n",
    "for k in range(len(com2)):\n",
    "    print(f\"{com2[k]}: {gpotter.nodes[com2[k]]['nome']}\")"
   ]
  },
  {
   "cell_type": "code",
   "execution_count": null,
   "metadata": {},
   "outputs": [],
   "source": [
    "fig, ax = plt.subplots(1, 1, figsize=(15,10))\n",
    "\n",
    "pos = nx.circular_layout(gpotter)\n",
    "\n",
    "for k in range(len(com1)):\n",
    "    pos[com1[k]][0] = 300*np.cos(2*np.pi*k/len(com1))\n",
    "    pos[com1[k]][1] = 300*np.sin(2*np.pi*k/len(com1))+700\n",
    "\n",
    "for k in range(len(com2)):\n",
    "    pos[com2[k]][0] = 300*np.cos(2*np.pi*k/len(com2))\n",
    "    pos[com2[k]][1] = 300*np.sin(2*np.pi*k/len(com2))    \n",
    "\n",
    "cores = []\n",
    "for no in gpotter.nodes():\n",
    "    if no in com1:\n",
    "        cores.append('lightskyblue')\n",
    "    else:\n",
    "        cores.append('steelblue')\n",
    "\n",
    "etiquetas = nx.get_node_attributes(gpotter, 'nome')\n",
    "\n",
    "nx.draw_networkx(gpotter,\n",
    "                 pos=pos,\n",
    "                 edge_color='lightgray',\n",
    "                 node_size = 500, \n",
    "                 labels=etiquetas,\n",
    "                 font_size=10, \n",
    "                 node_color=cores)\n",
    "\n",
    "plt.box(False)\n",
    "plt.show()"
   ]
  },
  {
   "cell_type": "markdown",
   "metadata": {},
   "source": [
    "## 3.3 Algoritmo de Kernighan-Lin"
   ]
  },
  {
   "cell_type": "markdown",
   "metadata": {},
   "source": [
    "Um algoritmo de bisseção muito conhecido é o algoritmo de **Kernighan e Lin**. \n",
    "\n",
    "Este algoritmo começa com uma partição do grafo e prossegue trocando dois nós, um de cada grupo, de maneira de aprimorar a partição.\n",
    "\n",
    "No **networkx** está implementado o métodos **kernighan_lin_bisection**, o qual retorna a particão de um grafo em dois blocos usando o algoritmo **Kernighan-Lin**.\n",
    "\n",
    "Este algoritmo particiona uma rede em dois conjuntos trocando iterativamente pares de nós para reduzir o corte de arestas entre os dois conjuntos.\n",
    "\n",
    "Os pares são escolhidos de acordo com uma forma modificada do **Kernighan-Lin**, que move os nós individualmente, alternando entre os lados para manter a bisseção equilibrada."
   ]
  },
  {
   "cell_type": "markdown",
   "metadata": {},
   "source": [
    "Considere uma rede com um conjunto de nós $V$ e seja $G_1$ , $G_2 \\subseteq V$ uma partição de $V$. \n",
    "\n",
    "Sejam $I_k$ e $E_k$ os números de arestas associadas ao nó $k$ que são internas e externas ao grupo ao qual $k$ pertence, respectivamente.\n",
    "Em cada passo, o algoritmo procura encontrar o par $(i,j) \\in G_1 \\times G_2$ que maximize  $\\Delta_{ij} = E_i − I_i + E_j − I_j − 2 \\cdot C_{ij}$ , onde $C_{ij}$ é o número de arestas entre $i$ e $j$.\n",
    "\n",
    "Observe que $\\Delta_{ij}$ é o valor da redução do número de arestas entre grupos ao se trocar os nós $i$ e $j$ de grupos.\n",
    "\n",
    "O algoritmo de **Kernighan-Lin** assume que a rede é não direcionada, e é necessário determinar o número de vértices em cada grupo como entrada ao algoritmo ou grupos aproximadamente iguais são escolhidos aleatoriamente.\n",
    "\n",
    "O algoritmo finaliza quando não existem nós $i$ e $j$ que possam ser trocados de grupo e diminuir o valor da função objetivo, ou após um número fixo de iterações pré-estabelecido."
   ]
  },
  {
   "cell_type": "markdown",
   "metadata": {},
   "source": [
    "### Exemplo 4\n",
    "Aplicação do algoritmo **Kernighan-Lin** do **networkx** a uma rede de personagens do livro 2 da saga Harry Potter."
   ]
  },
  {
   "cell_type": "code",
   "execution_count": null,
   "metadata": {},
   "outputs": [],
   "source": [
    "# algoritmo Kernighan-Lin aplicado a uma rede\n",
    "com1, com2 = cm.kernighan_lin_bisection(gpotter.to_undirected(), max_iter=100)\n",
    "\n",
    "print(f\"com1: {com1}\")\n",
    "print(f\"com2: {com2}\")"
   ]
  },
  {
   "cell_type": "code",
   "execution_count": null,
   "metadata": {},
   "outputs": [],
   "source": [
    "print('comunidade 1:')\n",
    "for k in com1:\n",
    "    print(f\"{k}: {gpotter.nodes[k]['nome']}\")"
   ]
  },
  {
   "cell_type": "code",
   "execution_count": null,
   "metadata": {},
   "outputs": [],
   "source": [
    "print('Comunidade 2:')\n",
    "for k in com2:\n",
    "    print(f\"{k}: {gpotter.nodes[k]['nome']}\")"
   ]
  },
  {
   "cell_type": "code",
   "execution_count": null,
   "metadata": {},
   "outputs": [],
   "source": [
    "com1 = list(com1)\n",
    "com2 = list(com2)\n",
    "\n",
    "fig, ax = plt.subplots(1, 1, figsize=(15,10))\n",
    "\n",
    "pos = nx.circular_layout(gpotter)\n",
    "\n",
    "for k in range(len(com1)):\n",
    "    pos[com1[k]][0] = 300*np.cos(2*np.pi*k/len(com1))\n",
    "    pos[com1[k]][1] = 300*np.sin(2*np.pi*k/len(com1))+700\n",
    "\n",
    "for k in range(len(com2)):\n",
    "    pos[com2[k]][0] = 300*np.cos(2*np.pi*k/len(com2))\n",
    "    pos[com2[k]][1] = 300*np.sin(2*np.pi*k/len(com2))    \n",
    "\n",
    "cores = []\n",
    "for no in gpotter.nodes():\n",
    "    if no in com1:\n",
    "        cores.append('lightskyblue')\n",
    "    else:\n",
    "        cores.append('steelblue')\n",
    "\n",
    "etiquetas = nx.get_node_attributes(gpotter, 'nome')\n",
    "\n",
    "nx.draw_networkx(gpotter,pos=pos,edge_color='lightgray',\n",
    "                 node_size = 500, labels=etiquetas,\n",
    "                 font_size=10, node_color=cores)\n",
    "plt.box(False)\n",
    "plt.show()"
   ]
  },
  {
   "cell_type": "markdown",
   "metadata": {},
   "source": [
    "### Exemplo 5\n",
    "Cálculo de comunidades para o Karate Club Graph."
   ]
  },
  {
   "cell_type": "code",
   "execution_count": null,
   "metadata": {},
   "outputs": [],
   "source": [
    "KCG = nx.karate_club_graph()"
   ]
  },
  {
   "cell_type": "code",
   "execution_count": null,
   "metadata": {},
   "outputs": [],
   "source": [
    "# algoritmo Kernighan-Lin aplicado a uma rede\n",
    "com1, com2 = cm.kernighan_lin_bisection(KCG.to_undirected(), max_iter=100)\n",
    "\n",
    "print(f\"com1: {com1}\")\n",
    "print(f\"com2: {com2}\")"
   ]
  },
  {
   "cell_type": "code",
   "execution_count": null,
   "metadata": {},
   "outputs": [],
   "source": [
    "fig, ax = plt.subplots(1, 1, figsize=(15,10))\n",
    "\n",
    "pos = nx.kamada_kawai_layout(KCG)\n",
    "\n",
    "cores = []\n",
    "for no in KCG.nodes():\n",
    "    if no in com1:\n",
    "        cores.append('lightskyblue')\n",
    "    else:\n",
    "        cores.append('steelblue')\n",
    "\n",
    "#etiquetas = nx.get_node_attributes(gpotter, 'nome')\n",
    "\n",
    "nx.draw_networkx(KCG, pos=pos, edge_color='lightgray',\n",
    "                 node_size=500, with_labels=True,\n",
    "                 font_size=10, node_color=cores)\n",
    "plt.box(False)\n",
    "plt.show()"
   ]
  },
  {
   "cell_type": "code",
   "execution_count": null,
   "metadata": {},
   "outputs": [],
   "source": []
  },
  {
   "cell_type": "code",
   "execution_count": null,
   "metadata": {},
   "outputs": [],
   "source": []
  }
 ],
 "metadata": {
  "kernelspec": {
   "display_name": "Python 3",
   "language": "python",
   "name": "python3"
  },
  "language_info": {
   "codemirror_mode": {
    "name": "ipython",
    "version": 3
   },
   "file_extension": ".py",
   "mimetype": "text/x-python",
   "name": "python",
   "nbconvert_exporter": "python",
   "pygments_lexer": "ipython3",
   "version": "3.10.12"
  }
 },
 "nbformat": 4,
 "nbformat_minor": 2
}
