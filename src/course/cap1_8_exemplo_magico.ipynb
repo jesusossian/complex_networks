{
 "cells": [
  {
   "cell_type": "markdown",
   "metadata": {},
   "source": [
    "## 1. Grafos e redes"
   ]
  },
  {
   "cell_type": "markdown",
   "metadata": {},
   "source": [
    "### 1.8 Um exemplo mágico"
   ]
  },
  {
   "cell_type": "markdown",
   "metadata": {},
   "source": [
    "https://search.r-project.org/CRAN/refmans/networkDynamicData/html/harry_potter.html\n",
    "\n",
    "https://www.stats.ox.ac.uk/~snijders/siena/HarryPotterData.html"
   ]
  },
  {
   "cell_type": "code",
   "execution_count": null,
   "metadata": {},
   "outputs": [],
   "source": [
    "import pandas as pd\n",
    "import networkx as nx\n",
    "import matplotlib . pyplot as plt"
   ]
  },
  {
   "cell_type": "markdown",
   "metadata": {},
   "source": [
    "**Bossaert & Meidert** fizeram um estudo das redes sociais dos personagens dos primeiros seis livros da saga Harry Potter. \n",
    "\n",
    "**hpattributes.txt**: contem atributos de cada personagem, isto é, ano da escola, sexo, e casa de Hogwarts.\n",
    "\n",
    "**hpbook1.txt, hpbook2.txt, ..., hpbook6.txt**: contêm as matrizes de adjacência para cada um dos livros. \n",
    "Uma ligação do personagem i com o personagem j indica que i dá apoia (dá suporte emocional) a j.\n",
    "Trata-se de uma rede direcionada.\n",
    "\n",
    "**hpnames.txt**: contem os nomes dos personagens."
   ]
  },
  {
   "cell_type": "code",
   "execution_count": null,
   "metadata": {},
   "outputs": [],
   "source": [
    "attri = pd.read_csv('../../data/harrypotter/hpattributes.txt', sep='\\t')\n",
    "\n",
    "book1 = pd.read_csv('../../data/harrypotter/hpbook1.txt', sep=' ', header=None)\n",
    "#book2 = pd.read_csv('../../data/harrypotter/hpbook2.txt', sep=' ', header=None)\n",
    "#book3 = pd.read_csv('../../data/harrypotter/hpbook3.txt', sep=' ', header=None)\n",
    "\n",
    "name = pd.read_csv('../../data/harrypotter/hpnames.txt', sep='\\t')"
   ]
  },
  {
   "cell_type": "code",
   "execution_count": null,
   "metadata": {},
   "outputs": [],
   "source": [
    "print('Palavras chaves de attri : ')\n",
    "print(list(attri.columns.values))"
   ]
  },
  {
   "cell_type": "code",
   "execution_count": null,
   "metadata": {},
   "outputs": [],
   "source": [
    "print(attri)"
   ]
  },
  {
   "cell_type": "code",
   "execution_count": null,
   "metadata": {},
   "outputs": [],
   "source": [
    "print('Palavras chaves de name :')\n",
    "print(list(name.columns.values))"
   ]
  },
  {
   "cell_type": "code",
   "execution_count": null,
   "metadata": {},
   "outputs": [],
   "source": [
    "print(name)"
   ]
  },
  {
   "cell_type": "code",
   "execution_count": null,
   "metadata": {},
   "outputs": [],
   "source": [
    "print('Palavras chaves dos books :')\n",
    "print(list(book1.columns.values))"
   ]
  },
  {
   "cell_type": "code",
   "execution_count": null,
   "metadata": {},
   "outputs": [],
   "source": [
    "print(book1)"
   ]
  },
  {
   "cell_type": "code",
   "execution_count": null,
   "metadata": {},
   "outputs": [],
   "source": [
    "PG = nx.DiGraph()\n",
    "\n",
    "n = attri.shape[0]\n",
    "\n",
    "# Primeiro agregamos os nós\n",
    "for k in range(n):\n",
    "    PG.add_node(\n",
    "        k, \n",
    "        nome = name['name'][k],\n",
    "        ano = attri['schoolyear'][k],\n",
    "        gen = attri ['gender'][k],\n",
    "        casa = attri ['house'][k]\n",
    "    )"
   ]
  },
  {
   "cell_type": "code",
   "execution_count": null,
   "metadata": {},
   "outputs": [],
   "source": [
    "# gráfico random_internet_as_graph\n",
    "\n",
    "fig, ax = plt.subplots(1,1,figsize=(16,8))\n",
    "\n",
    "# network\n",
    "G = PG\n",
    "\n",
    "# layout position\n",
    "pos = nx.kamada_kawai_layout(G)\n",
    "\n",
    "# draw edges\n",
    "nx.draw_networkx_edges(G, \n",
    "                       pos=pos, \n",
    "                       alpha=0.4, \n",
    "                       ax=ax)\n",
    "\n",
    "# draw nodes\n",
    "nodes = nx.draw_networkx_nodes(G,\n",
    "                               node_size=1000,\n",
    "                               pos=pos, \n",
    "                               cmap=plt.cm.jet,\n",
    "                               ax=ax)\n",
    "\n",
    "# draw labels\n",
    "nx.draw_networkx_labels(G, \n",
    "                        pos=pos, \n",
    "                        font_color='white', \n",
    "                        ax=ax)\n",
    "\n",
    "plt.show()"
   ]
  },
  {
   "cell_type": "code",
   "execution_count": null,
   "metadata": {},
   "outputs": [],
   "source": [
    "# definimos os book\n",
    "book = book1\n",
    "\n",
    "# Construímos a rede\n",
    "for k in range(n):\n",
    "    for m in range(n):\n",
    "        if book.values[k][m] == 1:\n",
    "            PG.add_edge(k,m)\n"
   ]
  },
  {
   "cell_type": "code",
   "execution_count": null,
   "metadata": {},
   "outputs": [],
   "source": [
    "# gráfico random_internet_as_graph\n",
    "\n",
    "fig, ax = plt.subplots(1,1,figsize=(20,10))\n",
    "\n",
    "# network\n",
    "G = PG\n",
    "\n",
    "# layout position\n",
    "pos = nx.kamada_kawai_layout(G)\n",
    "\n",
    "# draw edges\n",
    "nx.draw_networkx_edges(G, \n",
    "                       pos=pos, \n",
    "                       alpha=0.4, \n",
    "                       ax=ax)\n",
    "\n",
    "# draw nodes\n",
    "nodes = nx.draw_networkx_nodes(G,\n",
    "                               node_size=1000,\n",
    "                               pos=pos, \n",
    "                               cmap=plt.cm.jet,\n",
    "                               ax=ax)\n",
    "\n",
    "# draw labels\n",
    "nx.draw_networkx_labels(G, \n",
    "                        pos=pos, \n",
    "                        font_color='white', \n",
    "                        ax=ax)\n",
    "\n",
    "plt.show()"
   ]
  },
  {
   "cell_type": "code",
   "execution_count": null,
   "metadata": {},
   "outputs": [],
   "source": [
    "# configuração das cores\n",
    "\n",
    "# lista de cores\n",
    "cores = ['red','blue','green','yellow']\n",
    "\n",
    "# cores relacionadas as casas\n",
    "clh = [cores[PG.nodes[i]['casa']-1] for i in range(PG.order())]\n",
    "\n",
    "# cores relacionadas aos gênero\n",
    "clg = [cores[PG.nodes[i]['gen']-1] for i in range(PG.order())]\n"
   ]
  },
  {
   "cell_type": "code",
   "execution_count": null,
   "metadata": {},
   "outputs": [],
   "source": [
    "# gráfico associado as casas\n",
    "fig, ax = plt.subplots(1,1,figsize=(20,10))\n",
    "\n",
    "nx.draw_circular(PG, node_size=800, node_color = clh, with_labels=True)\n",
    "\n",
    "plt.show()"
   ]
  },
  {
   "cell_type": "code",
   "execution_count": null,
   "metadata": {},
   "outputs": [],
   "source": [
    "# gráfico associado aos generos\n",
    "\n",
    "fig, ax = plt.subplots(1,1,figsize=(20,10))\n",
    "\n",
    "nx.draw_circular(PG, node_size=800, node_color = clg, with_labels=True)\n",
    "\n",
    "plt.show()"
   ]
  },
  {
   "cell_type": "code",
   "execution_count": null,
   "metadata": {},
   "outputs": [],
   "source": [
    "print(f'Densidade: {nx.density(PG)}')"
   ]
  },
  {
   "cell_type": "code",
   "execution_count": null,
   "metadata": {},
   "outputs": [],
   "source": [
    "print(f'Agrupamento: {nx.transitivity(PG)}')\n"
   ]
  },
  {
   "cell_type": "code",
   "execution_count": null,
   "metadata": {},
   "outputs": [],
   "source": [
    "print(f'Reciprocidade: {nx.reciprocity(PG)}')"
   ]
  },
  {
   "cell_type": "code",
   "execution_count": null,
   "metadata": {},
   "outputs": [],
   "source": []
  }
 ],
 "metadata": {
  "kernelspec": {
   "display_name": "Python 3",
   "language": "python",
   "name": "python3"
  },
  "language_info": {
   "codemirror_mode": {
    "name": "ipython",
    "version": 3
   },
   "file_extension": ".py",
   "mimetype": "text/x-python",
   "name": "python",
   "nbconvert_exporter": "python",
   "pygments_lexer": "ipython3",
   "version": "3.10.12"
  }
 },
 "nbformat": 4,
 "nbformat_minor": 2
}
