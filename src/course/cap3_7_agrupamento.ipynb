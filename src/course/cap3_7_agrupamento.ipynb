{
 "cells": [
  {
   "cell_type": "code",
   "execution_count": null,
   "metadata": {},
   "outputs": [],
   "source": [
    "import networkx as nx\n",
    "import matplotlib.pyplot as plt\n",
    "import numpy as np\n",
    "import pandas as pd\n",
    "from networkx.algorithms import community as cm\n",
    "\n",
    "import scipy.cluster.hierarchy as hier"
   ]
  },
  {
   "cell_type": "markdown",
   "metadata": {},
   "source": [
    "### Agrupamento hierárquico\n",
    "\n",
    "O agrupamento hierárquico inicia com os nós isolados, cada um formando uma comunidade, e a cada etapa acrescenta aos grupos nós de acordo com alguma medida de similaridade.\n",
    "\n",
    "Algumas medidas podem ser usadas para quantificar a similaridade entre nós. \n",
    "No método **CONCOR**, usamos a correlação de Pearson entre as linhas da matriz de adjacência correspondente a dois nós, como uma medida de similaridade entre eles. \n",
    "\n",
    "Outras medidas de similaridades: o recíproco da distância Euclideana entre as linhas da matriz, ou o número de nós na rede menos o número de vizinhos que está na vizinhança de apenas um dos nós em cada par."
   ]
  },
  {
   "cell_type": "markdown",
   "metadata": {},
   "source": [
    "Seja $s_{ij} (G)$ uma medida de similaridade entre os vértices $i$ e $j$ no grafo G. \n",
    "\n",
    "Construa um grafo com o mesmo conjunto de nós, ligados entre si se a similaridade entre eles for maior ou igual a um certo valor limiar $\\delta \\geq 0$.\n",
    "\n",
    "Formalmente temos $G^{s,\\delta} = (V, E^{s,\\delta})$ onde $E^{s,\\delta} = \\{ (i, j) : s_{ij}(G) ≥ \\delta \\}$.\n",
    "\n",
    "Para um dado valor de $\\delta$, as componentes de $G^{s,\\delta}$ são as comunidades da rede original $G$.\n",
    "\n",
    "O termo hierárquico vem do fato de que se $i$ e $j$ pertencem a uma mesma comunidade para algum valor de $\\delta$, eles continuarão na mesma comunidade se diminuirmos o valor de $\\delta$. \n",
    "De modo que as comunidades para valores pequenos de $\\delta$ contém as comunidades para valores maiores de $\\delta$, formando uma hierarquia."
   ]
  },
  {
   "cell_type": "markdown",
   "metadata": {},
   "source": [
    "O **networkx** não possui funções para encontrar um agrupamento hierárquico de um conjunto de vértices de uma rede. \n",
    "\n",
    "O pacote **SciPy** tem um sub-pacote, chamado **clustering.hierachical**. \n",
    "Entre as funções deste pacote, encontramos **linkage** que constrói agrupamentos hierárquicos usando diversos critérios. \n",
    "\n",
    "Alguns desses critérios são:\n",
    "\n",
    "- **complete linkage**: a similaridade entre dois grupos é medida como a mínima similaridade entre cada par de vértices.\n",
    "\n",
    "- **single linkage**: a similaridade entre dois grupos é medida como a máxima similaridade entre cada par de vértices.\n",
    "\n",
    "- **average linkage**: a similaridade entre dois grupos é medida como a média das similaridades entre cada par de vértices.\n",
    "\n",
    "Esse algoritmo inicia com a união dos dois vértices que têm a maior similaridade, em seguida faz une os dois grupos com maior similaridade, de acordo com o tipo de ligação usada."
   ]
  },
  {
   "cell_type": "markdown",
   "metadata": {},
   "source": [
    "**Exemplo**\n",
    "\n",
    "Considere o exemplo dos personagens do segundo livro da saga de Harry Potter."
   ]
  },
  {
   "cell_type": "code",
   "execution_count": null,
   "metadata": {},
   "outputs": [],
   "source": [
    "atri = pd.read_csv('../../data/harrypotter/hpattributes.txt', sep='\\t')\n",
    "ares = pd.read_csv('../../data/harrypotter/hpbook2.txt', sep=' ', header=None)\n",
    "nome = pd.read_csv('../../data/harrypotter/hpnames.txt', sep='\\t')"
   ]
  },
  {
   "cell_type": "code",
   "execution_count": null,
   "metadata": {},
   "outputs": [],
   "source": [
    "# criando a rede\n",
    "\n",
    "gpotter = nx.DiGraph()\n",
    "\n",
    "n = atri.shape[0]\n",
    "\n",
    "for k in range(n):\n",
    "    gpotter.add_node(k,\n",
    "                     nome = nome['name'][k],\n",
    "                     ano = atri['schoolyear'][k],\n",
    "                     gen = atri['gender'][k],\n",
    "                     casa = atri['house'][k])\n",
    "\n",
    "for k in range(n):\n",
    "    for m in range(n):\n",
    "        if ares.values[k][m] == 1:\n",
    "            gpotter.add_edge(k,m)"
   ]
  },
  {
   "cell_type": "code",
   "execution_count": null,
   "metadata": {},
   "outputs": [],
   "source": [
    "fig, ax = plt.subplots(1,1,figsize=(15,10))\n",
    "\n",
    "nx.draw(gpotter,with_labels=True)"
   ]
  },
  {
   "cell_type": "code",
   "execution_count": null,
   "metadata": {},
   "outputs": [],
   "source": [
    "# matriz de adjacencia esparsa\n",
    "A = nx.to_scipy_sparse_array(gpotter)#.toarray()\n",
    "\n",
    "# eliminando os nos isolados\n",
    "isolados = []\n",
    "for k in range(n):\n",
    "    if np.sum(A[[k],:]) == 0:\n",
    "        isolados.append(k)\n",
    "        gpotter.remove_node(k)\n",
    "\n",
    "print(len(isolados), 'nos isolados.')\n",
    "\n",
    "print(f\"#nodes de G = {nx.number_of_nodes(gpotter)}\")\n",
    "print(f\"#edges de G = {nx.number_of_edges(gpotter)}\")"
   ]
  },
  {
   "cell_type": "code",
   "execution_count": null,
   "metadata": {},
   "outputs": [],
   "source": [
    "fig, ax = plt.subplots(1,1,figsize=(15,10))\n",
    "\n",
    "nx.draw(gpotter,with_labels=True)"
   ]
  },
  {
   "cell_type": "code",
   "execution_count": null,
   "metadata": {},
   "outputs": [],
   "source": [
    "# matriz de adjacencia esparsa\n",
    "#A = nx.adjacency_matrix(gpotter)\n",
    "A = nx.to_scipy_sparse_array(gpotter)#.toarray()\n",
    "\n",
    "# matriz de adjacencia densa\n",
    "A = np.array(A.todense(), dtype = float)\n",
    "\n",
    "# as linhas como observações\n",
    "S = np.copy(A.T)"
   ]
  },
  {
   "cell_type": "code",
   "execution_count": null,
   "metadata": {},
   "outputs": [],
   "source": [
    "# calcula agrupamento hierarquico usando critério complete\n",
    "agru_hier_complete = hier.linkage(S, 'complete', metric='euclidean')"
   ]
  },
  {
   "cell_type": "code",
   "execution_count": null,
   "metadata": {},
   "outputs": [],
   "source": [
    "agru_hier_complete"
   ]
  },
  {
   "cell_type": "code",
   "execution_count": null,
   "metadata": {},
   "outputs": [],
   "source": [
    "# etiquetas\n",
    "names = [gpotter.nodes[n]['nome'] for n in gpotter.nodes]"
   ]
  },
  {
   "cell_type": "markdown",
   "metadata": {},
   "source": [
    "**set_link_color_palette()**: define uma lista de cores do **matplotlib** a serem utilizadas."
   ]
  },
  {
   "cell_type": "code",
   "execution_count": null,
   "metadata": {},
   "outputs": [],
   "source": [
    "# define cores das linhas do grafico\n",
    "hier.set_link_color_palette(['b'])"
   ]
  },
  {
   "cell_type": "markdown",
   "metadata": {},
   "source": [
    "**hier.dendrogram()**: Gera gráfico de um agrupamento hierárquico como um dendrograma."
   ]
  },
  {
   "cell_type": "code",
   "execution_count": null,
   "metadata": {},
   "outputs": [],
   "source": [
    "# gera um dendrograma de agrupamento hierárquico com critério complete \n",
    "# aplicado a uma rede de personagens do segundo livro da saga Harry Potter\n",
    "\n",
    "fig, ax = plt.subplots(1, 1, figsize = (15,10))\n",
    "\n",
    "with plt.rc_context({'lines.linewidth': 5}):\n",
    "    dn = hier.dendrogram(agru_hier_complete, \n",
    "                         color_threshold = np.inf,\n",
    "                         leaf_rotation = 'vertical', \n",
    "                         leaf_font_size = 14, \n",
    "                         labels = names )\n",
    "    \n",
    "plt.tight_layout()\n",
    "plt.box(False)\n",
    "plt.show()"
   ]
  },
  {
   "cell_type": "code",
   "execution_count": null,
   "metadata": {},
   "outputs": [],
   "source": [
    "fig = plt.figure(figsize=(25, 10))\n",
    "dn = hier.dendrogram(agru_hier_complete)\n",
    "plt.show()"
   ]
  },
  {
   "cell_type": "code",
   "execution_count": null,
   "metadata": {},
   "outputs": [],
   "source": [
    "# calcula agrupamento hierarquico com critério single\n",
    "agru_hier_sigle = hier.linkage(S, 'single', metric='euclidean')"
   ]
  },
  {
   "cell_type": "code",
   "execution_count": null,
   "metadata": {},
   "outputs": [],
   "source": [
    "# gera um dendrograma de agrupamento hierárquico com critério single\n",
    "# aplicado a uma rede de personagens do segundo livro da saga Harry Potter\n",
    "\n",
    "fig, ax = plt.subplots(1, 1, figsize = (15,10))\n",
    "\n",
    "with plt.rc_context({'lines.linewidth': 5}):\n",
    "    dn = hier.dendrogram(agru_hier_sigle, \n",
    "                         color_threshold = np.inf,\n",
    "                         leaf_rotation = 'vertical', \n",
    "                         leaf_font_size = 14, \n",
    "                         labels = names )\n",
    "    \n",
    "plt.tight_layout()\n",
    "plt.box(False)\n",
    "plt.show()"
   ]
  },
  {
   "cell_type": "code",
   "execution_count": null,
   "metadata": {},
   "outputs": [],
   "source": [
    "# calcula agrupamento hierarquico com critério average\n",
    "agru_hier_average = hier.linkage(S, 'average', metric='euclidean')"
   ]
  },
  {
   "cell_type": "code",
   "execution_count": null,
   "metadata": {},
   "outputs": [],
   "source": [
    "# gera um dendrograma de agrupamento hierárquico com critério average\n",
    "# aplicado a uma rede de personagens do segundo livro da saga Harry Potter\n",
    "\n",
    "fig, ax = plt.subplots(1, 1, figsize = (15,10))\n",
    "\n",
    "with plt.rc_context({'lines.linewidth': 5}):\n",
    "    dn = hier.dendrogram(agru_hier_average, \n",
    "                         color_threshold = np.inf,\n",
    "                         leaf_rotation = 'vertical', \n",
    "                         leaf_font_size = 14, \n",
    "                         labels = names )\n",
    "    \n",
    "plt.tight_layout()\n",
    "plt.box(False)\n",
    "plt.show()"
   ]
  },
  {
   "cell_type": "code",
   "execution_count": null,
   "metadata": {},
   "outputs": [],
   "source": []
  }
 ],
 "metadata": {
  "kernelspec": {
   "display_name": "Python 3",
   "language": "python",
   "name": "python3"
  },
  "language_info": {
   "codemirror_mode": {
    "name": "ipython",
    "version": 3
   },
   "file_extension": ".py",
   "mimetype": "text/x-python",
   "name": "python",
   "nbconvert_exporter": "python",
   "pygments_lexer": "ipython3",
   "version": "3.10.12"
  }
 },
 "nbformat": 4,
 "nbformat_minor": 2
}
