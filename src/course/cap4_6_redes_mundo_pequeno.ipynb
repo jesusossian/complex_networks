{
 "cells": [
  {
   "cell_type": "code",
   "execution_count": null,
   "metadata": {},
   "outputs": [],
   "source": [
    "import networkx as nx\n",
    "import matplotlib.pyplot as plt\n",
    "import numpy as np"
   ]
  },
  {
   "cell_type": "markdown",
   "metadata": {},
   "source": [
    "### Redes do mundo pequeno"
   ]
  },
  {
   "cell_type": "markdown",
   "metadata": {},
   "source": [
    "As redes de mundo pequeno são redes complexas grandes que possuem diâmetro e tamanho médio dos caminhos com valor pequeno.\n",
    "\n",
    "O **diâmetro** de um grafo é sua maior excentrecidade.\n",
    "Maior distância geodésica(shortest path) entre dois nós em uma mesma componente.\n",
    "\n",
    "- **clustering()**: retorna o coeficiente de agrupamento local.\n",
    "- **average_clustering()**: retorna o coeficiente de agrupamento médio.\n",
    "- **transitivity()**: retorna o coeficiente de agrupamento total. \n",
    "- **average_shortest_path_length()**: calcula o comprimento médio dos caminhos geodesicos.\n",
    "\n",
    "O modelo de formação deste tipo de redes mais conhecido foi criado por **Watts** e **Strogatz**."
   ]
  },
  {
   "cell_type": "markdown",
   "metadata": {},
   "source": [
    "O algoritmo segue os seguintes passos:\n",
    "\n",
    "1. Cria-se um grafo circular com $n$ vértices.\n",
    "\n",
    "2. Cada vértice liga-se aos $m$ vizinhos mais próximos, onde $m$ deve ser par.  No **networkx**, caso $m$ seja ímpar, a função considera os $m-1$ vizinhos mais próximos.\n",
    "\n",
    "3. Com probabilidade $p$, cada aresta $(i,j)$ é apagada e uma nova aresta $(i,k)$ é criada, onde o vértice $k$ é escolhido ao acaso. \n",
    "\n",
    "Não são permitidos laços ou múltiplas arestas e, portanto, caso o vértice $i$ já esteja ligado a todos os outros vértices nenhuma de suas arestas é substituída."
   ]
  },
  {
   "cell_type": "markdown",
   "metadata": {},
   "source": [
    "### watts_strogatz_graph()\n",
    "\n",
    "watts_strogatz_graph(n, k, p, seed=None): returns a Watts–Strogatz small-world graph.\n",
    "\n",
    "Parameters:\n",
    "- n (int): the number of nodes\n",
    "- k (int): each node is joined with its k nearest neighbors in a ring topology.\n",
    "- p (float): the probability of rewiring each edge\n",
    "- seed (integer, random_state, or None (default)): indicator of random number generation state\n",
    "\n",
    "Notes:\n",
    "\n",
    "First create a ring over $n$ nodes. \n",
    "\n",
    "Then each node in the ring is joined to its $k$ nearest neighbors (or $k-1$ neighbors if is odd). \n",
    "\n",
    "Then shortcuts are created by replacing some edges as follows: \n",
    "for each edge $(u,v)$ in the underlying “$n$-ring with $k$ nearest neighbors” with probability $p$ replace it with a new edge $(u,w)$ with uniformly random choice of existing node $w$. \n",
    "\n",
    "In contrast with **newman_watts_strogatz_graph()**, the random rewiring does not increase the number of edges. \n",
    "The rewired graph is not guaranteed to be connected as in **connected_watts_strogatz_graph()**."
   ]
  },
  {
   "cell_type": "code",
   "execution_count": null,
   "metadata": {},
   "outputs": [],
   "source": [
    "# Parâmetros : \n",
    "# n, número de vértices ,\n",
    "# v, número de vizinhos mais próximos \n",
    "# p, probabilidade\n",
    "# watts_strogatz_graph(n,v,p)\n",
    "\n",
    "WSG1 = nx.watts_strogatz_graph(20,4,0.0)\n",
    "WSG2 = nx.watts_strogatz_graph(20,4,0.1)\n",
    "WSG3 = nx.watts_strogatz_graph(20,4,0.5)\n",
    "WSG4 = nx.watts_strogatz_graph(20,4,1.0)"
   ]
  },
  {
   "cell_type": "code",
   "execution_count": null,
   "metadata": {},
   "outputs": [],
   "source": [
    "fig, ax = plt.subplots(1,1,figsize=(20,15))\n",
    "\n",
    "nx.draw_circular(WSG1, with_labels=True)"
   ]
  },
  {
   "cell_type": "code",
   "execution_count": null,
   "metadata": {},
   "outputs": [],
   "source": [
    "dia = nx.diameter(WSG1)\n",
    "agr = nx.transitivity(WSG1)\n",
    "average_sp = nx.average_shortest_path_length(WSG1)\n",
    "print(dia)\n",
    "print(agr)\n",
    "print(average_sp)"
   ]
  },
  {
   "cell_type": "code",
   "execution_count": null,
   "metadata": {},
   "outputs": [],
   "source": [
    "fig, ax = plt.subplots(1,1,figsize=(20,15))\n",
    "nx.draw_circular(WSG2, with_labels=True)"
   ]
  },
  {
   "cell_type": "code",
   "execution_count": null,
   "metadata": {},
   "outputs": [],
   "source": [
    "dia = nx.diameter(WSG2)\n",
    "agr = nx.transitivity(WSG2)\n",
    "print(dia)\n",
    "print(agr)"
   ]
  },
  {
   "cell_type": "code",
   "execution_count": null,
   "metadata": {},
   "outputs": [],
   "source": [
    "fig, ax = plt.subplots(1,1,figsize=(20,15))\n",
    "nx.draw_circular(WSG3, with_labels=True)"
   ]
  },
  {
   "cell_type": "code",
   "execution_count": null,
   "metadata": {},
   "outputs": [],
   "source": [
    "dia = nx.diameter(WSG3)\n",
    "agr = nx.transitivity(WSG3)\n",
    "print(dia)\n",
    "print(agr)"
   ]
  },
  {
   "cell_type": "code",
   "execution_count": null,
   "metadata": {},
   "outputs": [],
   "source": [
    "fig, ax = plt.subplots(1,1,figsize=(20,15))\n",
    "nx.draw_circular(WSG4, with_labels=True)"
   ]
  },
  {
   "cell_type": "code",
   "execution_count": null,
   "metadata": {},
   "outputs": [],
   "source": [
    "dia = nx.diameter(WSG4)\n",
    "agr = nx.transitivity(WSG4)\n",
    "print(dia)\n",
    "print(agr)"
   ]
  },
  {
   "cell_type": "markdown",
   "metadata": {},
   "source": [
    "**newman_watts_strogatz_graph(n, k, p, seed=None)**: returns a Newman–Watts–Strogatz small-world graph.\n",
    "\n",
    "Parameters:\n",
    "- n (int): The number of nodes.\n",
    "- k (int): Each node is joined with its k nearest neighbors in a ring topology.\n",
    "- p (float): The probability of adding a new edge for each edge.\n",
    "- seed (integer, random_state, or None (default)) - Indicator of random number generation state.\n",
    "\n",
    "Notes: \n",
    "\n",
    "First create a ring over nodes. \n",
    "\n",
    "Then each node in the ring is connected with its $k$ nearest neighbors (or $k-1$ neighbors if $k$ is odd). \n",
    " \n",
    "Then shortcuts are created by adding new edges as follows: for each edge $(u,v)$ in the underlyin “$n$-ring with $k$ nearest neighbors” with probability $p$ add a new edge $(u,w)$ with randomly-chosen existing node $w$.\n",
    " \n",
    "In contrast with **watts_strogatz_graph()**, no edges are removed."
   ]
  },
  {
   "cell_type": "markdown",
   "metadata": {},
   "source": [
    "**connected_watts_strogatz_graph(n, k, p, tries=100, seed=None)**: returns a connected Watts–Strogatz small-world graph.\n",
    "\n",
    "Attempts to generate a connected graph by repeated generation of Watts–Strogatz small-world graphs. \n",
    "An exception is raised if the maximum number of tries is exceeded.\n",
    "\n",
    "Parameters:\n",
    "- n  (int): the number of nodes\n",
    "- k (int) Each node is joined with its k nearest neighbors in a ring topology.\n",
    "- p (float) The probability of rewiring each edge\n",
    "- tries (int) Number of attempts to generate a connected graph.\n",
    "- seed (integer, random_state, or None (default)) - Indicator of random number generation state\n",
    "\n",
    "Notes:\n",
    "\n",
    "First create a ring over $n$ nodes. \n",
    "\n",
    "Then each node in the ring is joined to its $k$ nearest neighbors (or $k-1$ neighbors if $k$ is odd). \n",
    "\n",
    "Then shortcuts are created by replacing some edges as follows: \n",
    "for each edge $(u,w)$ in the underlying “$n$-ring with $k$ nearest neighbors” with probability $p$ replace it with a new edge $(u,w)$ with uniformly random choice of existing node $w$.\n",
    "\n",
    "The entire process is repeated until a connected graph results."
   ]
  },
  {
   "cell_type": "code",
   "execution_count": null,
   "metadata": {},
   "outputs": [],
   "source": []
  }
 ],
 "metadata": {
  "kernelspec": {
   "display_name": "Python 3",
   "language": "python",
   "name": "python3"
  },
  "language_info": {
   "codemirror_mode": {
    "name": "ipython",
    "version": 3
   },
   "file_extension": ".py",
   "mimetype": "text/x-python",
   "name": "python",
   "nbconvert_exporter": "python",
   "pygments_lexer": "ipython3",
   "version": "3.10.12"
  }
 },
 "nbformat": 4,
 "nbformat_minor": 2
}
