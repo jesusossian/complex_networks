{
 "cells": [
  {
   "cell_type": "markdown",
   "metadata": {},
   "source": [
    "## Modelos de configuração"
   ]
  },
  {
   "cell_type": "code",
   "execution_count": null,
   "metadata": {},
   "outputs": [],
   "source": [
    "import networkx as nx\n",
    "import matplotlib.pyplot as plt\n",
    "import matplotlib as mpl\n",
    "import numpy as np"
   ]
  },
  {
   "cell_type": "markdown",
   "metadata": {},
   "source": [
    "O modelo de configuração constrói um grafo com uma sequencia de graus. \n",
    "\n",
    "O processo de construção da rede segue os próximos passos:\n",
    "1. Criam-se $n$ vértices.\n",
    "2. O vértice $i$ recebe $g_i$ meia-arestas.\n",
    "3. Escolhem-se por acaso duas meia-arestas e são unidas para formar uma aresta no grafo final.\n",
    "4. Repete-se o passp 3 até não houverem mais meia-arestas sem escolher.\n",
    "\n",
    " O networkx tem uma função para a criação de redes usando o modelo de configuração: **configuration_model**."
   ]
  },
  {
   "cell_type": "markdown",
   "metadata": {},
   "source": [
    "### configuration_model()\n",
    "\n",
    "Returns a random graph with the given degree sequence.\n",
    "\n",
    "The configuration model generates a random pseudograph (graph with parallel edges and self loops) by randomly assigning edges to match the given degree sequence.\n",
    "\n",
    "Parameters:\n",
    "\n",
    "deg_sequence (list of nonnegative integers) - Each list entry corresponds to the degree of a node.\n",
    "\n",
    "create_using (NetworkX graph constructor, optional (default MultiGraph)) - Graph type to create. If graph instance, then cleared before populated.\n",
    "\n",
    "seed (integer, random_state, or None (default)) - Indicator of random number generation state"
   ]
  },
  {
   "cell_type": "markdown",
   "metadata": {},
   "source": [
    "### directed_configuration_model\n",
    "\n",
    "Returns a directed_random graph with the given degree sequences.\n",
    "\n",
    "The configuration model generates a random directed pseudograph (graph with parallel edges and self loops) by randomly assigning edges to match the given degree sequences.\n",
    "\n",
    "Parameters: \n",
    "\n",
    "in_degree_sequence (list of nonnegative integers) - Each list entry corresponds to the in-degree of a node.\n",
    "\n",
    "out_degree_sequence - (list of nonnegative integers) - Each list entry corresponds to the out-degree of a node.\n",
    "\n",
    "create_using (NetworkX graph constructor, optional (default MultiDiGraph)) - Graph type to create. \n",
    "If graph instance, then cleared before populated.\n",
    "\n",
    "seed (integer, random_state, or None (default)) - Indicator of random number generation state."
   ]
  },
  {
   "cell_type": "markdown",
   "metadata": {},
   "source": [
    "### Exemplo 1\n",
    "\n",
    "You can create a degree sequence following a particular distribution by using the one of the distribution functions in **random_sequence**. \n",
    "\n",
    "For example, to create an undirected multigraph on one hundred nodes with degree sequence chosen from the power law distribution."
   ]
  },
  {
   "cell_type": "code",
   "execution_count": null,
   "metadata": {},
   "outputs": [],
   "source": [
    "sequence = nx.random_powerlaw_tree_sequence(100, tries=5000)\n",
    "print(sequence)\n",
    "print(len(sequence))"
   ]
  },
  {
   "cell_type": "code",
   "execution_count": null,
   "metadata": {},
   "outputs": [],
   "source": [
    "G = nx.configuration_model(sequence)\n",
    "print(G.number_of_nodes())\n",
    "print(G.number_of_edges())"
   ]
  },
  {
   "cell_type": "code",
   "execution_count": null,
   "metadata": {},
   "outputs": [],
   "source": [
    "fig, ax = plt.subplots(1,1,figsize=(20,15))\n",
    "\n",
    "# layout position\n",
    "pos = nx.kamada_kawai_layout(G)\n",
    "\n",
    "# draw edges\n",
    "nx.draw_networkx_edges(\n",
    "    G, \n",
    "    pos=pos, \n",
    "    alpha=0.4, \n",
    "    ax=ax\n",
    ")\n",
    "\n",
    "# draw nodes\n",
    "nodes = nx.draw_networkx_nodes(\n",
    "    G,\n",
    "    node_size=800,\n",
    "    pos=pos, \n",
    "    cmap=plt.cm.jet,\n",
    "    ax=ax\n",
    ")\n",
    "\n",
    "# draw labels\n",
    "nx.draw_networkx_labels(\n",
    "    G, \n",
    "    pos=pos, \n",
    "    font_color='white', \n",
    "    ax=ax\n",
    ")\n",
    "\n",
    "plt.axis(\"off\")\n",
    "plt.show()"
   ]
  },
  {
   "cell_type": "code",
   "execution_count": null,
   "metadata": {},
   "outputs": [],
   "source": [
    "actual_degrees = [d for v, d in G.degree()]\n",
    "print(actual_degrees)"
   ]
  },
  {
   "cell_type": "code",
   "execution_count": null,
   "metadata": {},
   "outputs": [],
   "source": [
    "actual_degrees == sequence"
   ]
  },
  {
   "cell_type": "markdown",
   "metadata": {},
   "source": [
    "The returned graph is a multigraph, which may have parallel edges. \n",
    "To remove any parallel edges from the returned graph:"
   ]
  },
  {
   "cell_type": "code",
   "execution_count": null,
   "metadata": {},
   "outputs": [],
   "source": [
    "G = nx.Graph(G)\n",
    "print(G.number_of_nodes())\n",
    "print(G.number_of_edges())"
   ]
  },
  {
   "cell_type": "markdown",
   "metadata": {},
   "source": [
    "Similarly, to remove self-loops:"
   ]
  },
  {
   "cell_type": "code",
   "execution_count": null,
   "metadata": {},
   "outputs": [],
   "source": [
    "G.remove_edges_from(nx.selfloop_edges(G))\n",
    "print(G.number_of_nodes())\n",
    "print(G.number_of_edges())"
   ]
  },
  {
   "cell_type": "code",
   "execution_count": null,
   "metadata": {},
   "outputs": [],
   "source": [
    "clu = nx.average_clustering(G)\n",
    "print(clu)"
   ]
  },
  {
   "cell_type": "code",
   "execution_count": null,
   "metadata": {},
   "outputs": [],
   "source": [
    "dens = nx.density(G)\n",
    "print(dens)"
   ]
  },
  {
   "cell_type": "code",
   "execution_count": null,
   "metadata": {},
   "outputs": [],
   "source": [
    "## Verifica se o grafo é conexo\n",
    "print(nx.is_connected(G))"
   ]
  },
  {
   "cell_type": "markdown",
   "metadata": {},
   "source": [
    "### Exemplo 2\n",
    "\n",
    "One can modify the in- and out-degree sequences from an existing directed graph in order to create a new directed graph. \n",
    "For example, here we modify the directed path graph:\n"
   ]
  },
  {
   "cell_type": "code",
   "execution_count": null,
   "metadata": {},
   "outputs": [],
   "source": [
    "D = nx.DiGraph([(0, 1), (1, 2), (2, 3)])"
   ]
  },
  {
   "cell_type": "code",
   "execution_count": null,
   "metadata": {},
   "outputs": [],
   "source": [
    "\n",
    "fig, ax = plt.subplots(1,1,figsize=(15,10))\n",
    "\n",
    "G = D\n",
    "\n",
    "seed = 13648  # Seed random number generators for reproducibility\n",
    "pos = nx.spring_layout(G, seed=seed)\n",
    "\n",
    "#node_sizes = [3 + 10 * i for i in range(len(G))]\n",
    "node_sizes=300\n",
    "\n",
    "M = G.number_of_edges()\n",
    "\n",
    "edge_colors = range(2, M + 2)\n",
    "edge_alphas = [(5 + i) / (M + 4) for i in range(M)]\n",
    "cmap = plt.cm.plasma\n",
    "\n",
    "nodes = nx.draw_networkx_nodes(\n",
    "    G, \n",
    "    pos, \n",
    "    node_size=node_sizes, \n",
    "    node_color=\"indigo\"\n",
    ")\n",
    "\n",
    "edges = nx.draw_networkx_edges(\n",
    "    G,\n",
    "    pos,\n",
    "    arrowstyle=\"->\",\n",
    "    arrowsize=10,\n",
    "    edge_color=edge_colors,\n",
    "    edge_cmap=cmap,\n",
    "    width=2,\n",
    ")\n",
    "\n",
    "nx.draw_networkx_labels(\n",
    "    G, \n",
    "    pos=pos, \n",
    "    font_color='white', \n",
    "    ax=ax\n",
    ")\n",
    "\n",
    "# set alpha value for each edge\n",
    "for i in range(M):\n",
    "    edges[i].set_alpha(edge_alphas[i])\n",
    "\n",
    "ax = plt.gca()\n",
    "ax.set_axis_off()\n",
    "plt.show()"
   ]
  },
  {
   "cell_type": "code",
   "execution_count": null,
   "metadata": {},
   "outputs": [],
   "source": [
    "din = list(d for n, d in D.in_degree())\n",
    "dout = list(d for n, d in D.out_degree())"
   ]
  },
  {
   "cell_type": "code",
   "execution_count": null,
   "metadata": {},
   "outputs": [],
   "source": [
    "din"
   ]
  },
  {
   "cell_type": "code",
   "execution_count": null,
   "metadata": {},
   "outputs": [],
   "source": [
    "dout"
   ]
  },
  {
   "cell_type": "code",
   "execution_count": null,
   "metadata": {},
   "outputs": [],
   "source": [
    "din.append(1)\n",
    "din"
   ]
  },
  {
   "cell_type": "code",
   "execution_count": null,
   "metadata": {},
   "outputs": [],
   "source": [
    "dout[0] = 2\n",
    "dout"
   ]
  },
  {
   "cell_type": "code",
   "execution_count": null,
   "metadata": {},
   "outputs": [],
   "source": [
    "# We now expect an edge from node 0 to a new node, node 3.\n",
    "D = nx.directed_configuration_model(din, dout)"
   ]
  },
  {
   "cell_type": "code",
   "execution_count": null,
   "metadata": {},
   "outputs": [],
   "source": [
    "fig, ax = plt.subplots(1,1,figsize=(15,10))\n",
    "\n",
    "G = D\n",
    "\n",
    "seed = 13648  # Seed random number generators for reproducibility\n",
    "pos = nx.spring_layout(G, seed=seed)\n",
    "\n",
    "#node_sizes = [3 + 10 * i for i in range(len(G))]\n",
    "node_sizes=300\n",
    "\n",
    "M = G.number_of_edges()\n",
    "\n",
    "edge_colors = range(2, M + 2)\n",
    "edge_alphas = [(5 + i) / (M + 4) for i in range(M)]\n",
    "cmap = plt.cm.plasma\n",
    "\n",
    "nodes = nx.draw_networkx_nodes(\n",
    "    G, \n",
    "    pos, \n",
    "    node_size=node_sizes, \n",
    "    node_color=\"indigo\"\n",
    ")\n",
    "\n",
    "edges = nx.draw_networkx_edges(\n",
    "    G,\n",
    "    pos,\n",
    "    arrowstyle=\"->\",\n",
    "    arrowsize=10,\n",
    "    edge_color=edge_colors,\n",
    "    edge_cmap=cmap,\n",
    "    width=2,\n",
    ")\n",
    "\n",
    "nx.draw_networkx_labels(\n",
    "    G, \n",
    "    pos=pos, \n",
    "    font_color='white', \n",
    "    ax=ax\n",
    ")\n",
    "\n",
    "# set alpha value for each edge\n",
    "for i in range(M):\n",
    "    edges[i].set_alpha(edge_alphas[i])\n",
    "\n",
    "ax = plt.gca()\n",
    "ax.set_axis_off()\n",
    "plt.show()"
   ]
  },
  {
   "cell_type": "markdown",
   "metadata": {},
   "source": [
    "The returned graph is a directed multigraph, which may have parallel edges. \n",
    "To remove any parallel edges from the returned graph:"
   ]
  },
  {
   "cell_type": "code",
   "execution_count": null,
   "metadata": {},
   "outputs": [],
   "source": [
    "D = nx.DiGraph(D)"
   ]
  },
  {
   "cell_type": "code",
   "execution_count": null,
   "metadata": {},
   "outputs": [],
   "source": [
    "fig, ax = plt.subplots(1,1,figsize=(15,10))\n",
    "\n",
    "G = D\n",
    "\n",
    "seed = 13648  # Seed random number generators for reproducibility\n",
    "pos = nx.spring_layout(G, seed=seed)\n",
    "\n",
    "#node_sizes = [3 + 10 * i for i in range(len(G))]\n",
    "node_sizes=300\n",
    "\n",
    "M = G.number_of_edges()\n",
    "\n",
    "edge_colors = range(2, M + 2)\n",
    "edge_alphas = [(5 + i) / (M + 4) for i in range(M)]\n",
    "cmap = plt.cm.plasma\n",
    "\n",
    "nodes = nx.draw_networkx_nodes(\n",
    "    G, \n",
    "    pos, \n",
    "    node_size=node_sizes, \n",
    "    node_color=\"indigo\"\n",
    ")\n",
    "\n",
    "edges = nx.draw_networkx_edges(\n",
    "    G,\n",
    "    pos,\n",
    "    arrowstyle=\"->\",\n",
    "    arrowsize=10,\n",
    "    edge_color=edge_colors,\n",
    "    edge_cmap=cmap,\n",
    "    width=2,\n",
    ")\n",
    "\n",
    "nx.draw_networkx_labels(\n",
    "    G, \n",
    "    pos=pos, \n",
    "    font_color='white', \n",
    "    ax=ax\n",
    ")\n",
    "\n",
    "# set alpha value for each edge\n",
    "for i in range(M):\n",
    "    edges[i].set_alpha(edge_alphas[i])\n",
    "\n",
    "ax = plt.gca()\n",
    "ax.set_axis_off()\n",
    "plt.show()"
   ]
  },
  {
   "cell_type": "markdown",
   "metadata": {},
   "source": [
    "Similarly, to remove self-loops:"
   ]
  },
  {
   "cell_type": "code",
   "execution_count": null,
   "metadata": {},
   "outputs": [],
   "source": [
    "D.remove_edges_from(nx.selfloop_edges(D))"
   ]
  },
  {
   "cell_type": "code",
   "execution_count": null,
   "metadata": {},
   "outputs": [],
   "source": [
    "fig, ax = plt.subplots(1,1,figsize=(15,10))\n",
    "\n",
    "G = D\n",
    "\n",
    "seed = 13648  # Seed random number generators for reproducibility\n",
    "pos = nx.spring_layout(G, seed=seed)\n",
    "\n",
    "#node_sizes = [3 + 10 * i for i in range(len(G))]\n",
    "node_sizes=300\n",
    "\n",
    "M = G.number_of_edges()\n",
    "\n",
    "edge_colors = range(2, M + 2)\n",
    "edge_alphas = [(5 + i) / (M + 4) for i in range(M)]\n",
    "cmap = plt.cm.plasma\n",
    "\n",
    "nodes = nx.draw_networkx_nodes(\n",
    "    G, \n",
    "    pos, \n",
    "    node_size=node_sizes, \n",
    "    node_color=\"indigo\"\n",
    ")\n",
    "\n",
    "edges = nx.draw_networkx_edges(\n",
    "    G,\n",
    "    pos,\n",
    "    arrowstyle=\"->\",\n",
    "    arrowsize=10,\n",
    "    edge_color=edge_colors,\n",
    "    edge_cmap=cmap,\n",
    "    width=2,\n",
    ")\n",
    "\n",
    "nx.draw_networkx_labels(\n",
    "    G, \n",
    "    pos=pos, \n",
    "    font_color='white', \n",
    "    ax=ax\n",
    ")\n",
    "\n",
    "# set alpha value for each edge\n",
    "for i in range(M):\n",
    "    edges[i].set_alpha(edge_alphas[i])\n",
    "\n",
    "ax = plt.gca()\n",
    "ax.set_axis_off()\n",
    "plt.show()"
   ]
  },
  {
   "cell_type": "code",
   "execution_count": null,
   "metadata": {},
   "outputs": [],
   "source": []
  },
  {
   "cell_type": "markdown",
   "metadata": {},
   "source": [
    "### Exemplo 3"
   ]
  },
  {
   "cell_type": "code",
   "execution_count": null,
   "metadata": {},
   "outputs": [],
   "source": [
    "graus = [4,4,2,2,1,1]"
   ]
  },
  {
   "cell_type": "code",
   "execution_count": null,
   "metadata": {},
   "outputs": [],
   "source": [
    "G = nx.configuration_model(graus)"
   ]
  },
  {
   "cell_type": "code",
   "execution_count": null,
   "metadata": {},
   "outputs": [],
   "source": [
    "G.nodes()"
   ]
  },
  {
   "cell_type": "code",
   "execution_count": null,
   "metadata": {},
   "outputs": [],
   "source": [
    "G.edges()"
   ]
  },
  {
   "cell_type": "code",
   "execution_count": null,
   "metadata": {},
   "outputs": [],
   "source": [
    "plt.figure()\n",
    "\n",
    "pos = nx.circular_layout(G)\n",
    "\n",
    "nx.draw_networkx_nodes(G,pos=pos)\n",
    "\n",
    "ax = plt.gca()\n",
    "for e in G.edges:\n",
    "    ax.annotate(\"\",\n",
    "                xy=pos[e[0]], \n",
    "                xycoords='data',\n",
    "                xytext=pos[e[1]], \n",
    "                textcoords='data',\n",
    "                arrowprops=dict(\n",
    "                    arrowstyle=\"-\", \n",
    "                    color=\"0.2\",\n",
    "                    shrinkA=5, \n",
    "                    shrinkB=5,\n",
    "                    patchA=None, \n",
    "                    patchB=None,\n",
    "                    connectionstyle=\"arc3,rad=rrr\".replace('rrr',str(0.3*e[2])),\n",
    "                    ),\n",
    "                    )\n",
    "plt.axis('off')\n",
    "plt.show()\n"
   ]
  },
  {
   "cell_type": "code",
   "execution_count": null,
   "metadata": {},
   "outputs": [],
   "source": []
  },
  {
   "cell_type": "markdown",
   "metadata": {},
   "source": [
    "### Valores esperados dos graus\n",
    "\n",
    "Uma alternativa ao modelo de configuração é fixar os valores esperados dos graus de cada vértice, ao invés de fixar os graus deterministicamente.\n",
    "\n",
    "A função **expected_degree_graph()** do networkx usa probabilidades $p_{ij} = \\frac{g_i g_j}{2m}$, onde $g_i$ é o valor esperado de grau para o vértice $i$."
   ]
  },
  {
   "cell_type": "markdown",
   "metadata": {},
   "source": [
    "### expected_degree_graph\n",
    "\n",
    "expected_degree_graph(w, seed=None, selfloops=True):\n",
    "\n",
    "Returns a random graph with given expected degrees.\n",
    "\n",
    "Given a sequence of expected degrees $W=(w_0,w_1,\\ldots,w_{n-1})$ of length $n$ this algorithm assigns an edge between node $u$ and node $v$ with probability\n",
    "\n",
    "$$\n",
    "p_{uv} = \\frac{w_u w_v}{\\sum_k w_k} .\n",
    "$$\n",
    "\n",
    "Parameters:\n",
    "\n",
    "w - the list of expected degrees.\n",
    "\n",
    "selfloops (bool (default=True)) - Set to False to remove the possibility of self-loop edges.\n",
    "    \n",
    "seed (integer, random_state, or None (default)) - Indicator of random number generation state."
   ]
  },
  {
   "cell_type": "markdown",
   "metadata": {},
   "source": [
    "### Exemplo 4"
   ]
  },
  {
   "cell_type": "code",
   "execution_count": null,
   "metadata": {},
   "outputs": [],
   "source": [
    "z = [10 for i in range(100)]\n",
    "G = nx.expected_degree_graph(z)"
   ]
  },
  {
   "cell_type": "code",
   "execution_count": null,
   "metadata": {},
   "outputs": [],
   "source": [
    "print(z)"
   ]
  },
  {
   "cell_type": "code",
   "execution_count": null,
   "metadata": {},
   "outputs": [],
   "source": [
    "fig, ax = plt.subplots(1,1,figsize=(20,15))\n",
    "\n",
    "# layout position\n",
    "pos = nx.kamada_kawai_layout(G)\n",
    "\n",
    "# draw edges\n",
    "nx.draw_networkx_edges(\n",
    "    G, \n",
    "    pos=pos, \n",
    "    alpha=0.4, \n",
    "    ax=ax\n",
    ")\n",
    "\n",
    "# draw nodes\n",
    "nodes = nx.draw_networkx_nodes(\n",
    "    G,\n",
    "    node_size=800,\n",
    "    pos=pos, \n",
    "    cmap=plt.cm.jet,\n",
    "    ax=ax\n",
    ")\n",
    "\n",
    "# draw labels\n",
    "nx.draw_networkx_labels(\n",
    "    G, \n",
    "    pos=pos, \n",
    "    font_color='white', \n",
    "    ax=ax\n",
    ")\n",
    "\n",
    "plt.axis(\"off\")\n",
    "plt.show()"
   ]
  },
  {
   "cell_type": "markdown",
   "metadata": {},
   "source": [
    "### Exemplo 5"
   ]
  },
  {
   "cell_type": "code",
   "execution_count": null,
   "metadata": {},
   "outputs": [],
   "source": [
    "graus = [10]*100\n",
    "print(graus)"
   ]
  },
  {
   "cell_type": "code",
   "execution_count": null,
   "metadata": {},
   "outputs": [],
   "source": [
    "soma = np.zeros(100)\n",
    "for k in range(100):\n",
    "    G = nx.expected_degree_graph(graus)\n",
    "    soma += np.array(list(dict(G.degree).values()))"
   ]
  },
  {
   "cell_type": "code",
   "execution_count": null,
   "metadata": {},
   "outputs": [],
   "source": [
    "fig, ax = plt.subplots(1,1,figsize=(20,15))\n",
    "\n",
    "# layout position\n",
    "pos = nx.kamada_kawai_layout(G)\n",
    "\n",
    "# draw edges\n",
    "nx.draw_networkx_edges(\n",
    "    G, \n",
    "    pos=pos, \n",
    "    alpha=0.4, \n",
    "    ax=ax\n",
    ")\n",
    "\n",
    "# draw nodes\n",
    "nodes = nx.draw_networkx_nodes(\n",
    "    G,\n",
    "    node_size=800,\n",
    "    pos=pos, \n",
    "    cmap=plt.cm.jet,\n",
    "    ax=ax\n",
    ")\n",
    "\n",
    "# draw labels\n",
    "nx.draw_networkx_labels(\n",
    "    G, \n",
    "    pos=pos, \n",
    "    font_color='white', \n",
    "    ax=ax\n",
    ")\n",
    "\n",
    "plt.axis(\"off\")\n",
    "plt.show()"
   ]
  },
  {
   "cell_type": "code",
   "execution_count": null,
   "metadata": {},
   "outputs": [],
   "source": [
    "print(soma)"
   ]
  },
  {
   "cell_type": "code",
   "execution_count": null,
   "metadata": {},
   "outputs": [],
   "source": [
    "media = np.sum(soma)/1e6\n",
    "print('Média dos graus: {:.3f}'.format(media))"
   ]
  },
  {
   "cell_type": "code",
   "execution_count": null,
   "metadata": {},
   "outputs": [],
   "source": []
  }
 ],
 "metadata": {
  "kernelspec": {
   "display_name": "Python 3",
   "language": "python",
   "name": "python3"
  },
  "language_info": {
   "codemirror_mode": {
    "name": "ipython",
    "version": 3
   },
   "file_extension": ".py",
   "mimetype": "text/x-python",
   "name": "python",
   "nbconvert_exporter": "python",
   "pygments_lexer": "ipython3",
   "version": "3.10.12"
  }
 },
 "nbformat": 4,
 "nbformat_minor": 2
}
