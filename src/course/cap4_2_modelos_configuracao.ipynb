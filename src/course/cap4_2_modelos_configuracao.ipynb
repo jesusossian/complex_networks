{
 "cells": [
  {
   "cell_type": "markdown",
   "metadata": {},
   "source": [
    "## Modelos de configuração"
   ]
  },
  {
   "cell_type": "code",
   "execution_count": null,
   "metadata": {},
   "outputs": [],
   "source": [
    "import networkx as nx\n",
    "import matplotlib.pyplot as plt\n",
    "import matplotlib as mpl\n",
    "import numpy as np"
   ]
  },
  {
   "cell_type": "markdown",
   "metadata": {},
   "source": [
    "O modelo de configuração constrói um grafo com uma sequencia de graus. \n",
    "\n",
    "O processo de construção da rede segue os próximos passos:\n",
    "1. Criam-se $n$ vértices.\n",
    "2. O vértice $i$ recebe $g_i$ meia-arestas.\n",
    "3. Escolhem-se por acaso duas meia-arestas e são unidas para formar uma aresta no grafo final.\n",
    "4. Repete-se o passo 3 até não houverem mais meia-arestas sem escolher.\n",
    "\n",
    "Foi implementado no **networkx** uma função que cria redes usando o modelo de configuração: **configuration_model**."
   ]
  },
  {
   "cell_type": "markdown",
   "metadata": {},
   "source": [
    "**configuration_model()**: returns a random graph with the given degree sequence.\n",
    "\n",
    "The configuration model generates a random pseudograph (graph with parallel edges and self loops) by randomly assigning edges to match the given degree sequence.\n",
    "\n",
    "Parameters:\n",
    "- deg_sequence (list of nonnegative integers): each list entry corresponds to the degree of a node.\n",
    "- create_using (NetworkX graph constructor, optional (default MultiGraph)): graph type to create. \n",
    "If graph instance, then cleared before populated.\n",
    "- seed (integer, random_state, or None (default)): indicator of random number generation state"
   ]
  },
  {
   "cell_type": "markdown",
   "metadata": {},
   "source": [
    "**directed_configuration_model()**: returns a directed_random graph with the given degree sequences.\n",
    "\n",
    "The configuration model generates a random directed pseudograph (graph with parallel edges and self loops) by randomly assigning edges to match the given degree sequences.\n",
    "\n",
    "Parameters: \n",
    "- in_degree_sequence (list of nonnegative integers): each list entry corresponds to the in-degree of a node.\n",
    "- out_degree_sequence - (list of nonnegative integers): each list entry corresponds to the out-degree of a node.\n",
    "- create_using (NetworkX graph constructor, optional (default MultiDiGraph)): graph type to create. \n",
    "If graph instance, then cleared before populated.\n",
    "- seed (integer, random_state, or None (default)): indicator of random number generation state."
   ]
  },
  {
   "cell_type": "markdown",
   "metadata": {},
   "source": [
    "### Exemplo 1\n",
    "\n",
    "Podemos criar uma sequência seguindo uma particular distribuição através de uma função de distribuição em **random_sequence**.\n",
    " \n",
    "Por exemplo, para criar uma multigrafo não direcionado com n nodes e com sequência de grau escolhidas sobre uma **power law distribuition** (distribuição de lei de potência)."
   ]
  },
  {
   "cell_type": "code",
   "execution_count": null,
   "metadata": {},
   "outputs": [],
   "source": [
    "n = 100\n",
    "sequence = nx.random_powerlaw_tree_sequence(n, tries=5000)\n",
    "print(sequence)\n",
    "print(len(sequence))"
   ]
  },
  {
   "cell_type": "code",
   "execution_count": null,
   "metadata": {},
   "outputs": [],
   "source": [
    "G = nx.configuration_model(sequence)\n",
    "print(G.number_of_nodes())\n",
    "print(G.number_of_edges())"
   ]
  },
  {
   "cell_type": "code",
   "execution_count": null,
   "metadata": {},
   "outputs": [],
   "source": [
    "fig, ax = plt.subplots(1,1,figsize=(20,10))\n",
    "\n",
    "# layout position\n",
    "pos = nx.kamada_kawai_layout(G)\n",
    "\n",
    "# draw edges\n",
    "nx.draw_networkx_edges(\n",
    "    G, \n",
    "    pos=pos, \n",
    "    alpha=0.4, \n",
    "    ax=ax\n",
    ")\n",
    "\n",
    "# draw nodes\n",
    "nodes = nx.draw_networkx_nodes(\n",
    "    G,\n",
    "    node_size=800,\n",
    "    pos=pos, \n",
    "    cmap=plt.cm.jet,\n",
    "    ax=ax\n",
    ")\n",
    "\n",
    "# draw labels\n",
    "nx.draw_networkx_labels(\n",
    "    G, \n",
    "    pos=pos, \n",
    "    font_color='white', \n",
    "    ax=ax\n",
    ")\n",
    "\n",
    "plt.axis(\"off\")\n",
    "plt.show()"
   ]
  },
  {
   "cell_type": "code",
   "execution_count": null,
   "metadata": {},
   "outputs": [],
   "source": [
    "actual_degrees = [d for v, d in G.degree()]\n",
    "print(actual_degrees)"
   ]
  },
  {
   "cell_type": "code",
   "execution_count": null,
   "metadata": {},
   "outputs": [],
   "source": [
    "actual_degrees == sequence"
   ]
  },
  {
   "cell_type": "markdown",
   "metadata": {},
   "source": [
    "O grafo retornado é um multigrafo, o qual pode ter arestas paralelas.\n",
    "Podemos remover arestas paralelas executamos o seguinte código."
   ]
  },
  {
   "cell_type": "code",
   "execution_count": null,
   "metadata": {},
   "outputs": [],
   "source": [
    "G = nx.Graph(G)\n",
    "print(G.number_of_nodes())\n",
    "print(G.number_of_edges())"
   ]
  },
  {
   "cell_type": "markdown",
   "metadata": {},
   "source": [
    "Similarmente, para remover loops."
   ]
  },
  {
   "cell_type": "code",
   "execution_count": null,
   "metadata": {},
   "outputs": [],
   "source": [
    "G.remove_edges_from(nx.selfloop_edges(G))\n",
    "print(G.number_of_nodes())\n",
    "print(G.number_of_edges())"
   ]
  },
  {
   "cell_type": "markdown",
   "metadata": {},
   "source": [
    "A seguir o calculo de algumas medidas associada ao grafo criado."
   ]
  },
  {
   "cell_type": "code",
   "execution_count": null,
   "metadata": {},
   "outputs": [],
   "source": [
    "# calculo coeficiente de agrupamento total \n",
    "clu = nx.average_clustering(G)\n",
    "print(clu)"
   ]
  },
  {
   "cell_type": "code",
   "execution_count": null,
   "metadata": {},
   "outputs": [],
   "source": [
    "# calculo da densidade de G\n",
    "dens = nx.density(G)\n",
    "print(dens)"
   ]
  },
  {
   "cell_type": "code",
   "execution_count": null,
   "metadata": {},
   "outputs": [],
   "source": [
    "# verificanod se o grafo é conexo\n",
    "print(nx.is_connected(G))"
   ]
  },
  {
   "cell_type": "markdown",
   "metadata": {},
   "source": [
    "### Valores esperados dos graus\n",
    "\n",
    "Uma alternativa ao modelo de configuração é fixar os valores esperados dos graus de cada vértice, ao invés de fixar os graus deterministicamente.\n",
    "\n",
    "A função **expected_degree_graph()** do **networkx** usa probabilidades $p_{ij} = \\frac{g_i g_j}{2m}$, onde $g_i$ é o valor esperado de grau para o vértice $i$."
   ]
  },
  {
   "cell_type": "markdown",
   "metadata": {},
   "source": [
    "**expected_degree_graph()**\n",
    "\n",
    "expected_degree_graph(w, seed=None, selfloops=True): returns a random graph with given expected degrees.\n",
    "\n",
    "Given a sequence of expected degrees $W=(w_0,w_1,\\ldots,w_{n-1})$ of length $n$ this algorithm assigns an edge between node $u$ and node $v$ with probability\n",
    "\n",
    "$$\n",
    "p_{uv} = \\frac{w_u w_v}{\\sum_k w_k} .\n",
    "$$\n",
    "\n",
    "Parameters:\n",
    "- w: the list of expected degrees.\n",
    "- selfloops (bool (default=True)): set to False to remove the possibility of self-loop edges.\n",
    "- seed (integer, random_state, or None (default)): indicator of random number generation state."
   ]
  },
  {
   "cell_type": "markdown",
   "metadata": {},
   "source": [
    "### Exemplo 4"
   ]
  },
  {
   "cell_type": "code",
   "execution_count": null,
   "metadata": {},
   "outputs": [],
   "source": [
    "n = 100\n",
    "z = [10 for i in range(n)]\n",
    "G = nx.expected_degree_graph(z)"
   ]
  },
  {
   "cell_type": "code",
   "execution_count": null,
   "metadata": {},
   "outputs": [],
   "source": [
    "print(z)"
   ]
  },
  {
   "cell_type": "code",
   "execution_count": null,
   "metadata": {},
   "outputs": [],
   "source": [
    "fig, ax = plt.subplots(1,1,figsize=(20,15))\n",
    "\n",
    "# layout position\n",
    "pos = nx.kamada_kawai_layout(G)\n",
    "\n",
    "# draw edges\n",
    "nx.draw_networkx_edges(\n",
    "    G, \n",
    "    pos=pos, \n",
    "    alpha=0.4, \n",
    "    ax=ax\n",
    ")\n",
    "\n",
    "# draw nodes\n",
    "nodes = nx.draw_networkx_nodes(\n",
    "    G,\n",
    "    node_size=800,\n",
    "    pos=pos, \n",
    "    cmap=plt.cm.jet,\n",
    "    ax=ax\n",
    ")\n",
    "\n",
    "# draw labels\n",
    "nx.draw_networkx_labels(\n",
    "    G, \n",
    "    pos=pos, \n",
    "    font_color='white', \n",
    "    ax=ax\n",
    ")\n",
    "\n",
    "plt.axis(\"off\")\n",
    "plt.show()"
   ]
  },
  {
   "cell_type": "code",
   "execution_count": null,
   "metadata": {},
   "outputs": [],
   "source": [
    "G.degree"
   ]
  },
  {
   "cell_type": "code",
   "execution_count": null,
   "metadata": {},
   "outputs": [],
   "source": []
  }
 ],
 "metadata": {
  "kernelspec": {
   "display_name": "Python 3",
   "language": "python",
   "name": "python3"
  },
  "language_info": {
   "codemirror_mode": {
    "name": "ipython",
    "version": 3
   },
   "file_extension": ".py",
   "mimetype": "text/x-python",
   "name": "python",
   "nbconvert_exporter": "python",
   "pygments_lexer": "ipython3",
   "version": "3.10.12"
  }
 },
 "nbformat": 4,
 "nbformat_minor": 2
}
