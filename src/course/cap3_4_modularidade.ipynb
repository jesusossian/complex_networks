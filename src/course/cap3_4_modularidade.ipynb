{
 "cells": [
  {
   "cell_type": "code",
   "execution_count": null,
   "metadata": {},
   "outputs": [],
   "source": [
    "import networkx as nx\n",
    "import matplotlib.pyplot as plt\n",
    "import numpy as np\n",
    "import pandas as pd\n",
    "from networkx.algorithms import community as cm\n",
    "import random\n",
    "import pygraphviz\n",
    "from pyvis.network import Network"
   ]
  },
  {
   "cell_type": "markdown",
   "metadata": {},
   "source": [
    "### Modularidade\n",
    "\n"
   ]
  },
  {
   "cell_type": "markdown",
   "metadata": {},
   "source": [
    "Uma das características de uma comunidade é que os vértices de uma dada comunidade devem ter uma tendência para uma maior número de ligações com outros membros da mesma comunidade que com membros de outras comunidades.\n",
    "\n",
    "Uma boa medida de detecção de comunidades seria mensurar quão maior é o número de ligações internas entre membros de uma mesma comunidade em relação a uma rede gerada aleatoriamente.\n",
    "\n",
    "Modularidade é equivalente ao coeficiente de assortatividade não normalizado para atributos categóricos, sendo que aqui os atributos categóricos identificam as comunidades aos quais os nós pertencem.\n",
    "\n",
    "A modularidade de uma rede pode ser obtida se usando método **modularity()** do **networkx**."
   ]
  },
  {
   "cell_type": "markdown",
   "metadata": {},
   "source": [
    "O cálculo de modularidade é um problema muito complexo, assim heurísticas são usadas para o cálculo de modularidade de uma rede.\n",
    "- algoritmo de **Clauset-Newman-Moore** \n",
    "- algoritmo de **Louvain**"
   ]
  },
  {
   "cell_type": "markdown",
   "metadata": {},
   "source": [
    "**Algoritmo Clauset-Newman-Moore**\n",
    "\n",
    "- Inicialmente é formado uma comunidade para cada vértice.\n",
    "- Em cada passo, agregam-se duas comunidades cujo agrupamento produza o maior aumento do coeficiente de modularidade. \n",
    "\n",
    "Este algoritmo está implementado no método **greedy_modularity_communities()** do **networkx**."
   ]
  },
  {
   "cell_type": "markdown",
   "metadata": {},
   "source": [
    "**Algoritmo de Louvain**\n",
    "\n",
    "Fase 1:\n",
    "\n",
    "- Forma-se uma comunidade com cada vértice. \n",
    "- Para cada vértice, o algoritmo avalia o aumento de modularidade pela mudança para uma comunidade vizinha, até  que a mudança de vértices não produza aumento da modularidade.\n",
    "\n",
    "Fase 2:\n",
    "- Cada comunidade resultante da fase anterior é representada por um vértice no novo grafo.\n",
    "- Agrega-se uma aresta entre dois vértices se as correspondentes comunidades estiverem ligadas. \n",
    "- O peso da aresta é igual à soma dos pesos das arestas que ligaram as comunidades na fase prévia.\n",
    "- Arestas dentro de uma comunidade são representadas por um laço com peso igual à soma dos pesos das arestas originais.\n",
    "\n",
    "As fases 1 e 2 são executadas até que nenhum nó na rede resultante mude para uma comunidade vizinha.\n",
    "\n",
    "Este algoritmo está implementado no método **louvain_communities()** do **networkx**."
   ]
  },
  {
   "cell_type": "markdown",
   "metadata": {},
   "source": [
    "### Exemplo\n",
    "Considere o grafo do Karate Clube"
   ]
  },
  {
   "cell_type": "code",
   "execution_count": null,
   "metadata": {},
   "outputs": [],
   "source": [
    "KCG = nx.karate_club_graph()\n",
    "fig, ax = plt.subplots(1,1,figsize=(15,10))\n",
    "nx.draw(KCG, with_labels=True)"
   ]
  },
  {
   "cell_type": "markdown",
   "metadata": {},
   "source": [
    "Encontrando comunidades usando o método **louvain_communities**"
   ]
  },
  {
   "cell_type": "code",
   "execution_count": null,
   "metadata": {},
   "outputs": [],
   "source": [
    "louvain_comm = cm.louvain_communities(KCG,seed=123)\n",
    "print(f\"#comunidades: {len(louvain_comm)}\")\n",
    "\n",
    "for it in louvain_comm:\n",
    "    print(f\"{sorted(it)}\")"
   ]
  },
  {
   "cell_type": "markdown",
   "metadata": {},
   "source": [
    "Encontrando comunidades usando o método **greedy_modularity_communities**"
   ]
  },
  {
   "cell_type": "code",
   "execution_count": null,
   "metadata": {},
   "outputs": [],
   "source": [
    "cmn_comm = cm.greedy_modularity_communities(KCG)\n",
    "print(f\"#cmn_comm: {len(cmn_comm)}\")\n",
    "for it in cmn_comm:\n",
    "    print(sorted(it))"
   ]
  },
  {
   "cell_type": "markdown",
   "metadata": {},
   "source": [
    "Calculando o coeficiente de modularidade de cada comunidade"
   ]
  },
  {
   "cell_type": "code",
   "execution_count": null,
   "metadata": {},
   "outputs": [],
   "source": [
    "print(f\"coef modularity louvain: {cm.modularity(KCG,louvain_comm)}\")\n",
    "print(f\"coef modularity cmn: {cm.modularity(KCG,cmn_comm)}\")"
   ]
  },
  {
   "cell_type": "markdown",
   "metadata": {},
   "source": [
    "### Exemplo\n",
    "\n",
    "Considere o exemplo da rede dos personagens do segundo livro da saga de Harry Potter."
   ]
  },
  {
   "cell_type": "code",
   "execution_count": null,
   "metadata": {},
   "outputs": [],
   "source": [
    "atri = pd.read_csv('../../data/harrypotter/hpattributes.txt', sep='\\t')\n",
    "ares = pd.read_csv('../../data/harrypotter/hpbook2.txt', sep=' ', header=None)\n",
    "nome = pd.read_csv('../../data/harrypotter/hpnames.txt', sep='\\t')"
   ]
  },
  {
   "cell_type": "code",
   "execution_count": null,
   "metadata": {},
   "outputs": [],
   "source": [
    "gpotter = nx.DiGraph()\n",
    "\n",
    "n = atri.shape[0]\n",
    "\n",
    "for k in range(n):\n",
    "    gpotter.add_node(k,\n",
    "                     nome = nome['name'][k],\n",
    "                     ano = atri['schoolyear'][k],\n",
    "                     gen = atri['gender'][k],\n",
    "                     casa = atri['house'][k])\n",
    "\n",
    "for k in range(n):\n",
    "    for m in range(n):\n",
    "        if ares.values[k][m] == 1:\n",
    "            gpotter.add_edge(k,m)\n",
    "\n",
    "print(f\"#nodes de G = {nx.number_of_nodes(gpotter)}\")\n",
    "print(f\"#edges de G = {nx.number_of_edges(gpotter)}\")"
   ]
  },
  {
   "cell_type": "code",
   "execution_count": null,
   "metadata": {},
   "outputs": [],
   "source": [
    "fig, ax = plt.subplots(1,1,figsize=(15,10))\n",
    "\n",
    "nx.draw(gpotter,with_labels=True)"
   ]
  },
  {
   "cell_type": "code",
   "execution_count": null,
   "metadata": {},
   "outputs": [],
   "source": [
    "louvain_comm = cm.louvain_communities(gpotter)\n",
    "cmn_comm = cm.greedy_modularity_communities(gpotter, cutoff=len(louvain_comm))\n",
    "\n",
    "tam_louvain_comm = len(louvain_comm)\n",
    "tam_cmn_comm = len(cmn_comm)\n",
    "\n",
    "coef_louvain_comm = cm.modularity(gpotter,louvain_comm)\n",
    "coef_cmn_comm = cm.modularity(gpotter,cmn_comm)"
   ]
  },
  {
   "cell_type": "code",
   "execution_count": null,
   "metadata": {},
   "outputs": [],
   "source": [
    "print(f\"#tam louvain comm = {len(louvain_comm)}\")\n",
    "print(f\"#tam cmn comm = {len(cmn_comm)}\")"
   ]
  },
  {
   "cell_type": "code",
   "execution_count": null,
   "metadata": {},
   "outputs": [],
   "source": [
    "for it in louvain_comm:\n",
    "    for k in it:\n",
    "        print(f\"{k}: {gpotter.nodes[k]['nome']}\", end=\", \")\n",
    "    print()"
   ]
  },
  {
   "cell_type": "code",
   "execution_count": null,
   "metadata": {},
   "outputs": [],
   "source": [
    "print(f\"coef mod louvain: {coef_louvain_comm}\")\n",
    "print(f\"coef mod cmn: {coef_cmn_comm}\")"
   ]
  },
  {
   "cell_type": "markdown",
   "metadata": {},
   "source": [
    "Definimos o mesmo número de comunidades geradas pelo algoritmo de **Louvain** no algoritmo de **Clauset-Newman-Moore** "
   ]
  },
  {
   "cell_type": "code",
   "execution_count": null,
   "metadata": {},
   "outputs": [],
   "source": [
    "gpotter_copy = gpotter.copy()\n",
    "\n",
    "# matriz de adjacencia esparsa\n",
    "A = nx.to_scipy_sparse_array(gpotter)#.toarray()\n",
    "A_copy = A.copy()\n",
    "\n",
    "# eliminando os nos isolados\n",
    "isolados = []\n",
    "for k in range(n):\n",
    "    if np.sum(A[[k],:]) == 0:\n",
    "        isolados.append(k)\n",
    "        gpotter.remove_node(k)\n",
    "\n",
    "print(len(isolados), 'nos isolados.')\n",
    "\n",
    "print(f\"#nodes de G = {nx.number_of_nodes(gpotter)}\")\n",
    "print(f\"#edges de G = {nx.number_of_edges(gpotter)}\")"
   ]
  },
  {
   "cell_type": "code",
   "execution_count": null,
   "metadata": {},
   "outputs": [],
   "source": [
    "fig, ax = plt.subplots(1,1,figsize=(15,10))\n",
    "\n",
    "nx.draw(gpotter,with_labels=True)"
   ]
  },
  {
   "cell_type": "markdown",
   "metadata": {},
   "source": [
    "Para comparar os resultados, no algoritmo de **Clauset-Newman-Moore** só salvamos o mesmo número de comunidades que as devolvidas pelo algoritmo de **Louvain**. "
   ]
  },
  {
   "cell_type": "code",
   "execution_count": null,
   "metadata": {},
   "outputs": [],
   "source": [
    "louvain_comm = cm.louvain_communities(gpotter)\n",
    "cmn_comm = cm.greedy_modularity_communities(gpotter, cutoff=len(louvain_comm))\n",
    "\n",
    "tam_louvain_comm = len(louvain_comm)\n",
    "tam_cmn_comm = len(cmn_comm)\n",
    "\n",
    "coef_louvain_comm = cm.modularity(gpotter,louvain_comm)\n",
    "coef_cmn_comm = cm.modularity(gpotter,cmn_comm)"
   ]
  },
  {
   "cell_type": "code",
   "execution_count": null,
   "metadata": {},
   "outputs": [],
   "source": [
    "print(f\"tam louvain comm = {len(louvain_comm)}\")\n",
    "print(f\"tam cmn comm = {len(cmn_comm)}\")"
   ]
  },
  {
   "cell_type": "code",
   "execution_count": null,
   "metadata": {},
   "outputs": [],
   "source": [
    "print(f\"coef mod louvain: {cm.modularity(gpotter,louvain_comm)}\")\n",
    "print(f\"coef mod cmn: {cm.modularity(gpotter,cmn_comm)}\")"
   ]
  },
  {
   "cell_type": "code",
   "execution_count": null,
   "metadata": {},
   "outputs": [],
   "source": [
    "for it in louvain_comm:\n",
    "    for k in it:\n",
    "        print(f\"{k}: {gpotter.nodes[k]['nome']}\", end=\", \")\n",
    "    print()"
   ]
  },
  {
   "cell_type": "code",
   "execution_count": null,
   "metadata": {},
   "outputs": [],
   "source": [
    "for it in cmn_comm:\n",
    "    for k in it:\n",
    "        print(f\"{k}: {gpotter.nodes[k]['nome']}\", end=\", \")\n",
    "    print()"
   ]
  },
  {
   "cell_type": "code",
   "execution_count": null,
   "metadata": {},
   "outputs": [],
   "source": [
    "list_louvain_color = [\"#\"+''.join([random.choice('0123456789ABCDEF') for j in range(6)]) for i in range(tam_louvain_comm)]\n",
    "print(len(list_louvain_color))"
   ]
  },
  {
   "cell_type": "code",
   "execution_count": null,
   "metadata": {},
   "outputs": [],
   "source": [
    "list_cmn_color = [\"#\"+''.join([random.choice('0123456789ABCDEF') for j in range(6)]) for i in range(tam_cmn_comm)]\n",
    "print(len(list_cmn_color))"
   ]
  },
  {
   "cell_type": "code",
   "execution_count": null,
   "metadata": {},
   "outputs": [],
   "source": [
    "louvain_color = []\n",
    "for no in gpotter.nodes():\n",
    "    for k in range(len(louvain_comm)):\n",
    "        if (no in louvain_comm[k]):\n",
    "            louvain_color.append(list_louvain_color[k])"
   ]
  },
  {
   "cell_type": "code",
   "execution_count": null,
   "metadata": {},
   "outputs": [],
   "source": [
    "cmn_color = []\n",
    "for no in gpotter.nodes():\n",
    "    for k in range(len(cmn_comm)):\n",
    "        if (no in cmn_comm[k]):\n",
    "            cmn_color.append(list_cmn_color[k])"
   ]
  },
  {
   "cell_type": "code",
   "execution_count": null,
   "metadata": {},
   "outputs": [],
   "source": [
    "print(louvain_color)\n",
    "print(cmn_color)"
   ]
  },
  {
   "cell_type": "code",
   "execution_count": null,
   "metadata": {},
   "outputs": [],
   "source": [
    "etiquetas = nx.get_node_attributes(gpotter, 'nome')\n",
    "\n",
    "fig, ax = plt.subplots(1,1,figsize=(15,10))\n",
    "\n",
    "pos = nx.circular_layout(gpotter)\n",
    "\n",
    "nx.draw_networkx(gpotter,\n",
    "                 pos=pos,\n",
    "                 edge_color='lightgray',\n",
    "                 node_size = 500,\n",
    "                 with_labels=True,\n",
    "                 #labels=etiquetas,\n",
    "                 font_size=10, \n",
    "                 node_color=louvain_color\n",
    "                 )\n",
    "\n",
    "plt.box(False)\n",
    "plt.show()"
   ]
  },
  {
   "cell_type": "code",
   "execution_count": null,
   "metadata": {},
   "outputs": [],
   "source": [
    "fig, ax = plt.subplots(1,1,figsize=(15,10))\n",
    "\n",
    "nx.draw_networkx(gpotter,\n",
    "                 pos=pos,\n",
    "                 edge_color='lightgray',\n",
    "                 node_size = 500,\n",
    "                 with_labels=True,\n",
    "                 #labels=etiquetas,\n",
    "                 font_size=10, \n",
    "                 node_color=cmn_color\n",
    "                 )\n",
    "\n",
    "plt.box(False)\n",
    "plt.show()"
   ]
  },
  {
   "cell_type": "markdown",
   "metadata": {},
   "source": [
    "### Exemplo\n",
    "\n",
    "Considere o dataset **Stack Overflow Tag Network**, uma rede de tags do ***Stack Overflow*** baseada em histórias dos desenvolvedores.\n",
    "\n",
    "Link: https://www.kaggle.com/datasets/stackoverflow/stack-overflow-tag-network\n",
    "\n"
   ]
  },
  {
   "cell_type": "code",
   "execution_count": null,
   "metadata": {},
   "outputs": [],
   "source": [
    "df = pd.read_csv('../../data/stack_network/stack_network_links.csv')"
   ]
  },
  {
   "cell_type": "code",
   "execution_count": null,
   "metadata": {},
   "outputs": [],
   "source": [
    "df.head()"
   ]
  },
  {
   "cell_type": "code",
   "execution_count": null,
   "metadata": {},
   "outputs": [],
   "source": [
    "G = nx.Graph()"
   ]
  },
  {
   "cell_type": "code",
   "execution_count": null,
   "metadata": {},
   "outputs": [],
   "source": [
    "with open('../../data/stack_network/stack_network_links.csv') as f:\n",
    "  next(f)\n",
    "  G = nx.parse_edgelist(f.readlines(), comments='/', delimiter=',', data=(('weight', float),))"
   ]
  },
  {
   "cell_type": "code",
   "execution_count": null,
   "metadata": {},
   "outputs": [],
   "source": [
    "list(G.nodes())[:5]"
   ]
  },
  {
   "cell_type": "code",
   "execution_count": null,
   "metadata": {},
   "outputs": [],
   "source": [
    "list(G.edges.data('weight'))[:5]"
   ]
  },
  {
   "cell_type": "code",
   "execution_count": null,
   "metadata": {},
   "outputs": [],
   "source": [
    "cmn_comm = cm.greedy_modularity_communities(G, weight='weight')"
   ]
  },
  {
   "cell_type": "code",
   "execution_count": null,
   "metadata": {},
   "outputs": [],
   "source": [
    "len(cmn_comm)"
   ]
  },
  {
   "cell_type": "code",
   "execution_count": null,
   "metadata": {},
   "outputs": [],
   "source": [
    "for it in cmn_comm:\n",
    "    print(it)"
   ]
  },
  {
   "cell_type": "code",
   "execution_count": null,
   "metadata": {},
   "outputs": [],
   "source": [
    "plt.figure(figsize=(20,14))\n",
    "\n",
    "nx.draw(G, pos = nx.nx_agraph.graphviz_layout(G), \\\n",
    "    node_size=200, node_color='lightblue', linewidths=1.5, \\\n",
    "    font_size=11, font_weight='bold', with_labels=True)"
   ]
  },
  {
   "cell_type": "code",
   "execution_count": null,
   "metadata": {},
   "outputs": [],
   "source": [
    "comm_dict = {}\n",
    "\n",
    "for i in range(len(cmn_comm)):\n",
    "  for node in list(cmn_comm[i]):\n",
    "    comm_dict[node] = i\n",
    "\n",
    "nx.set_node_attributes(G, comm_dict, name='group')"
   ]
  },
  {
   "cell_type": "code",
   "execution_count": null,
   "metadata": {},
   "outputs": [],
   "source": [
    "print(len(comm_dict))"
   ]
  },
  {
   "cell_type": "code",
   "execution_count": null,
   "metadata": {},
   "outputs": [],
   "source": [
    "set_id_comm = set(comm_dict.values())\n",
    "list_id_comm = list(set_id_comm)"
   ]
  },
  {
   "cell_type": "code",
   "execution_count": null,
   "metadata": {},
   "outputs": [],
   "source": [
    "for id in list_id_comm:\n",
    "    print(f\"commmunity {id}:\", end=\" \")\n",
    "    for key, value in comm_dict.items():\n",
    "        if value == id:\n",
    "            print(key, value, end=\", \")\n",
    "    print()"
   ]
  },
  {
   "cell_type": "markdown",
   "metadata": {},
   "source": [
    "### Atividade\n",
    "\n",
    "Encontre comunidades usando o algoritmo de **Louvain** e gere um gráfico mostrando o resultado obtido."
   ]
  },
  {
   "cell_type": "code",
   "execution_count": null,
   "metadata": {},
   "outputs": [],
   "source": []
  },
  {
   "cell_type": "code",
   "execution_count": null,
   "metadata": {},
   "outputs": [],
   "source": [
    "net = Network(notebook=True, cdn_resources='in_line')\n",
    "_ = net.from_nx(G)\n",
    "_ = net.show('community_cmn.html')"
   ]
  },
  {
   "cell_type": "code",
   "execution_count": null,
   "metadata": {},
   "outputs": [],
   "source": []
  }
 ],
 "metadata": {
  "kernelspec": {
   "display_name": "Python 3",
   "language": "python",
   "name": "python3"
  },
  "language_info": {
   "codemirror_mode": {
    "name": "ipython",
    "version": 3
   },
   "file_extension": ".py",
   "mimetype": "text/x-python",
   "name": "python",
   "nbconvert_exporter": "python",
   "pygments_lexer": "ipython3",
   "version": "3.10.12"
  }
 },
 "nbformat": 4,
 "nbformat_minor": 2
}
