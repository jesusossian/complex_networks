{
 "cells": [
  {
   "cell_type": "markdown",
   "metadata": {},
   "source": [
    "# Cap 1: Grafos e redes"
   ]
  },
  {
   "cell_type": "markdown",
   "metadata": {},
   "source": [
    "### 1.2.7 Análise com Networkx"
   ]
  },
  {
   "cell_type": "code",
   "execution_count": null,
   "metadata": {},
   "outputs": [],
   "source": [
    "# importa networkx\n",
    "import networkx as nx\n",
    "\n",
    "# importa matplotlib\n",
    "%matplotlib inline\n",
    "import matplotlib.pyplot as plt"
   ]
  },
  {
   "cell_type": "code",
   "execution_count": null,
   "metadata": {},
   "outputs": [],
   "source": [
    "# grafo do clube de karate\n",
    "G = nx.karate_club_graph() # gera o grafico do clube de karate\n",
    "nx.draw(G,with_labels = True ) # plota o grafo G"
   ]
  },
  {
   "cell_type": "code",
   "execution_count": null,
   "metadata": {},
   "outputs": [],
   "source": [
    "type(G)"
   ]
  },
  {
   "cell_type": "code",
   "execution_count": null,
   "metadata": {},
   "outputs": [],
   "source": [
    "# mostra os vértices\n",
    "nodesG = G.nodes()\n",
    "print(f\"vétices: {nodesG}\")"
   ]
  },
  {
   "cell_type": "code",
   "execution_count": null,
   "metadata": {},
   "outputs": [],
   "source": [
    "# mostra as arestas como pares de vértices\n",
    "edgesG = G.edges()\n",
    "print(f\"Arestas: {edgesG}\")\n"
   ]
  },
  {
   "cell_type": "markdown",
   "metadata": {},
   "source": [
    "### Desenhando grafos"
   ]
  },
  {
   "cell_type": "code",
   "execution_count": null,
   "metadata": {},
   "outputs": [],
   "source": [
    "# mostrar o grafo do clube do karate em formato circular\n",
    "nx.draw_circular (G, with_labels = True )"
   ]
  },
  {
   "cell_type": "code",
   "execution_count": null,
   "metadata": {},
   "outputs": [],
   "source": [
    "# desenha o grafo G com um \"Kamada-Kawai force-directed layout\".\n",
    "nx.draw_kamada_kawai (G, with_labels = True )"
   ]
  },
  {
   "cell_type": "code",
   "execution_count": null,
   "metadata": {},
   "outputs": [],
   "source": [
    "# imprime os vizinhos do vértices 12\n",
    "for n in G.neighbors(12):\n",
    "    print(n)"
   ]
  },
  {
   "cell_type": "code",
   "execution_count": null,
   "metadata": {},
   "outputs": [],
   "source": [
    "# gera um grafo de uma árvore binomial\n",
    "# The binomial tree of order 0 consists of a single vertex. \n",
    "# A binomial tree of order k is defined recursively by linking two binomial trees of order k-1: \n",
    "# the root of one is the leftmost child of the root of the other.\n",
    "GAB = nx.binomial_tree(4)\n",
    "nx.draw(GAB, with_labels = \"True\")"
   ]
  },
  {
   "cell_type": "code",
   "execution_count": null,
   "metadata": {},
   "outputs": [],
   "source": [
    "# gera um grafo círculo com 6 nós\n",
    "GCI = nx.circulant_graph(6 ,[1])\n",
    "nx.draw(GCI, with_labels=\"True\")"
   ]
  },
  {
   "cell_type": "code",
   "execution_count": null,
   "metadata": {},
   "outputs": [],
   "source": [
    "# gerar um grafo regular com 6 nós e 3 arestas por nó\n",
    "GRE = nx.random_regular_graph(3,6)\n",
    "nx.draw(GRE, with_labels = \"True\")"
   ]
  },
  {
   "cell_type": "code",
   "execution_count": null,
   "metadata": {},
   "outputs": [],
   "source": [
    "# gerar um grafo completo com 6 nós\n",
    "GCO = nx.complete_graph(6)\n",
    "nx.draw(GCO, with_labels = \"True\")"
   ]
  },
  {
   "cell_type": "code",
   "execution_count": null,
   "metadata": {},
   "outputs": [],
   "source": [
    "# gera um grafo aleatório de Erdös - Rényi com 6 nós e probabilidade 0.25\n",
    "GER = nx.gnp_random_graph(6,0.25)\n",
    "nx.draw(GER, with_labels = \"True\")"
   ]
  },
  {
   "cell_type": "code",
   "execution_count": null,
   "metadata": {},
   "outputs": [],
   "source": [
    "# gerar um grafo direcionado\n",
    "GD = nx.DiGraph()\n",
    "type(GD)"
   ]
  },
  {
   "cell_type": "code",
   "execution_count": null,
   "metadata": {},
   "outputs": [],
   "source": [
    "# adicionando vértices armazenado em uma lista\n",
    "GD.add_nodes_from (['Avó', 'Avô', 'Pai', 'Mãe', 'Filho', 'Filha'])"
   ]
  },
  {
   "cell_type": "code",
   "execution_count": null,
   "metadata": {},
   "outputs": [],
   "source": [
    "nx.draw(GD,with_labels=\"True\")"
   ]
  },
  {
   "cell_type": "code",
   "execution_count": null,
   "metadata": {},
   "outputs": [],
   "source": [
    "# adicionando arestas\n",
    "GD.add_edge('Avó', 'Pai') # Avó -> Pai\n",
    "GD.add_edge('Avô', 'Pai') # Avô -> Pai\n",
    "GD.add_edge('Pai', 'Filho') # Pai -> Filho\n",
    "GD.add_edge('Pai', 'Filha') # Pai -> Filha\n",
    "GD.add_edge('Mãe', 'Filho') # Mãe -> Filho\n",
    "GD.add_edge('Mãe', 'Filha') # Mãe -> Filha"
   ]
  },
  {
   "cell_type": "code",
   "execution_count": null,
   "metadata": {},
   "outputs": [],
   "source": [
    "# desenhando o grafo GD\n",
    "nx.draw(GD, with_labels = \"True\")"
   ]
  },
  {
   "cell_type": "code",
   "execution_count": null,
   "metadata": {},
   "outputs": [],
   "source": [
    "# gerando um grafo direcionado\n",
    "\n",
    "# lendo os vértices e arestas em um arquivo .txt\n",
    "GFA = nx.read_edgelist('../../data/fami.txt', data = (('peso',float),), create_using = nx.DiGraph)\n",
    "\n",
    "# definindo a posição dos vértices\n",
    "pos = nx.circular_layout(GFA)\n",
    "#pos['Avó'] = [-1 ,0]\n",
    "#pos['Avô'] = [+0 ,0]\n",
    "#pos['Pai'] = [-0.5,-0.5]\n",
    "#pos['Mãe'] = [+1.5,-0.5]\n",
    "#pos['Filho'] = [+0.0,-1.0]\n",
    "#pos['Filha'] = [+1.0,-1.0]\n",
    "\n",
    "# lista da largura das arestas\n",
    "larg = [(0.5*GFA[u][v]['peso']) for u, v in GFA.edges]\n",
    "\n",
    "# desennhando o grafo GFA\n",
    "nx.draw(GFA, pos=pos, node_size=2000, with_labels=True, arrows=True, width=larg )"
   ]
  },
  {
   "cell_type": "code",
   "execution_count": null,
   "metadata": {},
   "outputs": [],
   "source": []
  }
 ],
 "metadata": {
  "kernelspec": {
   "display_name": "Python 3",
   "language": "python",
   "name": "python3"
  },
  "language_info": {
   "codemirror_mode": {
    "name": "ipython",
    "version": 3
   },
   "file_extension": ".py",
   "mimetype": "text/x-python",
   "name": "python",
   "nbconvert_exporter": "python",
   "pygments_lexer": "ipython3",
   "version": "3.10.12"
  }
 },
 "nbformat": 4,
 "nbformat_minor": 2
}
