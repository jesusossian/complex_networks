{
 "cells": [
  {
   "cell_type": "markdown",
   "metadata": {},
   "source": [
    "# Cap 1: Grafos e redes"
   ]
  },
  {
   "cell_type": "code",
   "execution_count": null,
   "metadata": {},
   "outputs": [],
   "source": [
    "# importa networkx\n",
    "import networkx as nx\n",
    "\n",
    "# importa matplotlib\n",
    "import matplotlib.pyplot as plt\n",
    "\n",
    "# import pandas\n",
    "import pandas as pd"
   ]
  },
  {
   "cell_type": "markdown",
   "metadata": {},
   "source": [
    "## 1.3 Métricas Globais de Redes"
   ]
  },
  {
   "cell_type": "markdown",
   "metadata": {},
   "source": [
    "### 1.3.1 Densidade\n",
    "\n",
    "Seja uma rede $G=(V,E)$, com $|V|=n$ e $|E|=m$. \n",
    "\n",
    "Então, a densidade da rede, $\\mathrm{dens}(G)$, é \n",
    "- igual a $\\dfrac{2m}{n(n-1)}$, se a rede for não direcionada, e \n",
    "- igual a $\\dfrac{m}{n(n-1)}$ se a rede for direcionada."
   ]
  },
  {
   "cell_type": "code",
   "execution_count": null,
   "metadata": {},
   "outputs": [],
   "source": [
    "# grafo do clube do karate\n",
    "karate = nx.karate_club_graph()\n",
    "\n",
    "# cria uma figura e um conjunto de subplots\n",
    "fig, ax = plt.subplots(figsize=(12,8))\n",
    "\n",
    "# imprime o grafo g (karate club)\n",
    "nx.draw(karate, node_size=500, with_labels = True)\n",
    "\n",
    "# mostra as figuras \n",
    "plt.show()"
   ]
  },
  {
   "cell_type": "code",
   "execution_count": null,
   "metadata": {},
   "outputs": [],
   "source": [
    "# círculo com 6 nós\n",
    "gci = nx.circulant_graph(6 ,[1])\n",
    "\n",
    "# cria uma figura e um conjunto de subplots\n",
    "fig, ax = plt.subplots(figsize=(12,8))\n",
    "\n",
    "# imprime o grafo\n",
    "nx.draw(gci, node_size=500, with_labels = True)\n",
    "\n",
    "plt.show()"
   ]
  },
  {
   "cell_type": "code",
   "execution_count": null,
   "metadata": {},
   "outputs": [],
   "source": [
    "# grafo regular com 6 nós e 3 arestas por nó\n",
    "gre = nx.random_regular_graph(3,6)\n",
    "\n",
    "fig, ax = plt.subplots(1,1,figsize=(12,8))\n",
    "\n",
    "# gera um grafo regular com 6 nós e 3 arestas por nó\n",
    "gre = nx.random_regular_graph(3, 6)\n",
    "\n",
    "# grafico do grafo gre\n",
    "nx.draw(gre, node_size=800, with_labels = True)\n",
    "\n",
    "plt.show()"
   ]
  },
  {
   "cell_type": "code",
   "execution_count": null,
   "metadata": {},
   "outputs": [],
   "source": [
    "# grafo completo com 6 nós\n",
    "gco = nx.complete_graph(6)\n",
    "\n",
    "# creates a figure and a grid of subplots\n",
    "fig, ax = plt.subplots(1,1,figsize=(12,8))\n",
    "\n",
    "# gera um grafo completo com 6 nós\n",
    "gco = nx.complete_graph(6)\n",
    "\n",
    "# grafico do grafo gco\n",
    "nx.draw(gco, node_size=800, with_labels = True)\n",
    "\n",
    "plt.show()"
   ]
  },
  {
   "cell_type": "code",
   "execution_count": null,
   "metadata": {},
   "outputs": [],
   "source": [
    "fig, ax = plt.subplots(1,1,figsize=(12,8))\n",
    "\n",
    "# gera um grafo direcionado gfa\n",
    "GFA = nx.DiGraph()\n",
    "\n",
    "# adcionar nós ao grafo gfa\n",
    "GFA.add_nodes_from([0,1,2,3,4,5])\n",
    "\n",
    "# adicionar arestas ao grafo gfa\n",
    "GFA.add_edge(0,2) \n",
    "GFA.add_edge(1,2) \n",
    "GFA.add_edge(2,4) \n",
    "GFA.add_edge(2,5) \n",
    "GFA.add_edge(3,4) \n",
    "GFA.add_edge(3,5) \n",
    "\n",
    "# definindo a posição dos nos\n",
    "pos = {} \n",
    "pos[0] = [-1 ,0]\n",
    "pos[1] = [+0 ,0]\n",
    "pos[2] = [-0.5,-0.5]\n",
    "pos[3] = [+1.5,-0.5]\n",
    "pos[4] = [+0.0,-1.0]\n",
    "pos[5] = [+1.0,-1.0]\n",
    "\n",
    "# grafico do grafo gfa\n",
    "nx.draw(GFA, pos=pos, node_size=1000, with_labels=True, arrows=True)\n",
    "\n",
    "plt.show()"
   ]
  },
  {
   "cell_type": "code",
   "execution_count": null,
   "metadata": {},
   "outputs": [],
   "source": [
    "# imprime a densidade do grafo g (karate club)\n",
    "print(f\"dens(karate) = {nx.density(karate)}\")"
   ]
  },
  {
   "cell_type": "code",
   "execution_count": null,
   "metadata": {},
   "outputs": [],
   "source": [
    "# imprime a densidade do grafo gre (grafo regular com 6 nós e 3 arestas por nó)\n",
    "print(f\"dens(gre) = {nx.density(gre)}\")"
   ]
  },
  {
   "cell_type": "code",
   "execution_count": null,
   "metadata": {},
   "outputs": [],
   "source": [
    "# imprime a densidade do grafo gco (grafo completo com 6 nós)\n",
    "print(f\"dens(gco) = {nx.density(gco)}\")"
   ]
  },
  {
   "cell_type": "markdown",
   "metadata": {},
   "source": [
    "### 1.3.2 Comprimento médio e caminho\n",
    "\n",
    "**Diâmetro**: maior distância geodésica(shortest path) entre dois nós em uma mesma componente.\n",
    "\n",
    "**Comprimento médio dos caminhos**: média de todas as distâncias geodésicas entre dois nós que são conectados na rede."
   ]
  },
  {
   "cell_type": "code",
   "execution_count": null,
   "metadata": {},
   "outputs": [],
   "source": [
    "for path in nx.all_simple_paths(karate, source=0, target=3, cutoff=3):\n",
    "    print(path)"
   ]
  },
  {
   "cell_type": "code",
   "execution_count": null,
   "metadata": {},
   "outputs": [],
   "source": [
    "paths = nx.all_simple_paths(karate, source=0, target=3, cutoff=5)\n",
    "for path in map(nx.utils.pairwise, paths):\n",
    "    print(list(path))"
   ]
  },
  {
   "cell_type": "code",
   "execution_count": null,
   "metadata": {},
   "outputs": [],
   "source": [
    "# imprime o shortest path de 3 a 20 do grafo karate club\n",
    "print(f\"caminho de 3 a 20 = {nx.shortest_path(karate, 3, 20)}\")"
   ]
  },
  {
   "cell_type": "code",
   "execution_count": null,
   "metadata": {},
   "outputs": [],
   "source": [
    "# imprime o tamanho do shortest path de 3 a 20 do grafo karate club\n",
    "print(f\"tamanho do caminho de 3 a 20 = {nx.shortest_path_length(karate,3,20)}\")"
   ]
  },
  {
   "cell_type": "code",
   "execution_count": null,
   "metadata": {},
   "outputs": [],
   "source": [
    "# calcula o comprimento médio dos caminhos geodesicos de g (karate club)\n",
    "print(f\"comprimento médio de g = {nx.average_shortest_path_length(karate)}\")"
   ]
  },
  {
   "cell_type": "code",
   "execution_count": null,
   "metadata": {},
   "outputs": [],
   "source": [
    "# imprime o diâmetro de g (karate club)\n",
    "print(f\"diâmetro de g = {nx.diameter(karate)}\")"
   ]
  },
  {
   "cell_type": "markdown",
   "metadata": {},
   "source": [
    "### 1.3.3 Distribuição de graus\n",
    "\n",
    "- O grau de um certo vértice de uma rede não direcionada consiste de quantas arestas envolvem este vértice na\n",
    "rede, ou seja, \n",
    "$$d(i) = \\displaystyle\\sum_{j \\in V} A(i,j)$$\n",
    "\n",
    "- Vértices com alto grau são aqueles que conseguem acessar imediatamente um grande número de vértices.\n",
    "\n",
    "- Em redes direcionadas, existem dois tipos de grau que dependem da direção das arestas: o grau de saída (out-degree), $d^{out}(i)$, e o grau de entrada (in-degree), $d^{in}(i)$.\n",
    "$$\n",
    "d^{out}(i) = \\displaystyle\\sum_{j \\in V} A(i,j)\n",
    "\n",
    "\\text{ e }\n",
    "\n",
    "d^{in}(i) = \\displaystyle\\sum_{j \\in V} A(j,i)\n",
    "$$\n",
    "\n",
    "\n"
   ]
  },
  {
   "cell_type": "code",
   "execution_count": null,
   "metadata": {},
   "outputs": [],
   "source": [
    "# imprime o grau do nó 0 do grafo g (karate club)\n",
    "print(f\"grau do nó 0: {karate.degree(0)}\")"
   ]
  },
  {
   "cell_type": "code",
   "execution_count": null,
   "metadata": {},
   "outputs": [],
   "source": [
    "# imprime lista com o grau dos nós 0, 1 e 2 do grafo g(karate club)\n",
    "print(f\"graus dos nós 0, 1 e 2: {list(karate.degree([0,1,2]))}\")"
   ]
  },
  {
   "cell_type": "code",
   "execution_count": null,
   "metadata": {},
   "outputs": [],
   "source": [
    "# imprime lista com as frequências de ocorrência de graus: #grau0, #grau1, etc\n",
    "print(f\"frequências de ocorrência dos graus: {nx.degree_histogram(karate)}\")"
   ]
  },
  {
   "cell_type": "code",
   "execution_count": null,
   "metadata": {},
   "outputs": [],
   "source": [
    "for i in GFA.nodes():\n",
    "    print(f\"in degree node {i}: {GFA.in_degree(i)}\")"
   ]
  },
  {
   "cell_type": "code",
   "execution_count": null,
   "metadata": {},
   "outputs": [],
   "source": [
    "for i in GFA.nodes():\n",
    "    print(f\"in degree node {i}: {GFA.out_degree(i)}\")"
   ]
  },
  {
   "cell_type": "markdown",
   "metadata": {},
   "source": [
    "### 1.3.4 Coesão e agrupamento\n",
    "\n",
    "Redes complexas possuem uma característica de coesão em que nós vizinhos a um certo nó tem uma maior chance de serem vizinhos entre si.\n",
    "\n",
    "Existem algumas formas de mensurar essa característica, por exemplo, através do conceito de cliques.\n",
    "\n",
    "Uma **clique** em um grafo não-direcionado é um conjunto de vértices dois a dois adjacentes. \n",
    "\n",
    "Em outras palavras, um conjunto C de vértices é uma clique se tiver a seguinte propriedade: \n",
    "para todo par (v, w) de vértices distintos em C, existe uma aresta com pontas v e w.\n",
    "\n",
    "**Exemplo:** Para qualquer vértice v, o conjunto {v} é uma clique. \n",
    "\n",
    "**Exemplo:** Se o grafo tem alguma aresta com pontas v e w então o conjunto {v,w} é uma clique.\n",
    "\n",
    "Uma clique C é maximal se não existe clique C' que seja subconjunto próprio de C. \n",
    "\n",
    "Uma clique C é máxima se não existe clique C' que seja maior que C. \n",
    "\n",
    "Uma maneira de analisar a coesão de uma rede seria analisar a distribuição dos cliques, ou seja, quantas cliques de cada tamanho existem no grafo.\n",
    "\n",
    "Cliques são muito sensíveis a remoção de um nó, assim outras medidas foram propostas para analisar o grau de coesão ou agrupamento da rede. \n",
    "\n",
    "O **coeficiente de agrupamento total** é dado pela proporção de vezes que dois vértices j e k que são vizinhos de um mesmo vértice i também são vizinhos entre si\n",
    "\n",
    "$$\n",
    "cl(G)=\n",
    "\\dfrac{\\sum\\limits_{(i,j,k):j\\ne i,k\\ne i,k\\ne j}A(i,j)A(i,k)A(j,k)}{\\displaystyle\\sum\\limits_{(i,j,k):j\\ne i,k\\ne i,k\\ne j}A(i,j)A(i,k)}\n",
    "$$\n"
   ]
  },
  {
   "cell_type": "code",
   "execution_count": null,
   "metadata": {},
   "outputs": [],
   "source": [
    "# grafo do clube do karate\n",
    "karate = nx.karate_club_graph()\n",
    "\n",
    "# cria uma figura e um conjunto de subplots\n",
    "fig, ax = plt.subplots(figsize=(12,8))\n",
    "\n",
    "# imprime o grafo g (karate club)\n",
    "nx.draw(karate, node_size=500, with_labels = True)\n",
    "\n",
    "# mostra as figuras \n",
    "plt.show()"
   ]
  },
  {
   "cell_type": "code",
   "execution_count": null,
   "metadata": {},
   "outputs": [],
   "source": [
    "clqs = nx.enumerate_all_cliques(karate) # iterator com todos as cliques\n",
    "\n",
    "list_clqs = []\n",
    "for i in clqs:\n",
    "    list_clqs.append(i)\n",
    "\n",
    "list_clqs"
   ]
  },
  {
   "cell_type": "code",
   "execution_count": null,
   "metadata": {},
   "outputs": [],
   "source": []
  },
  {
   "cell_type": "code",
   "execution_count": null,
   "metadata": {},
   "outputs": [],
   "source": [
    "list_tam_clqs = []\n",
    "for i in list_clqs:\n",
    "    list_tam_clqs.append(len(i))\n",
    "\n",
    "list_tam_clqs\n",
    "\n",
    "df_tam_clqs = pd.DataFrame(list_tam_clqs)\n",
    "df_tam_clqs.value_counts()"
   ]
  },
  {
   "cell_type": "code",
   "execution_count": null,
   "metadata": {},
   "outputs": [],
   "source": [
    "clqs_max = nx.find_cliques(karate) # iterator com todos os cliques maximais\n",
    "\n",
    "list_clqs_max = []\n",
    "for i in clqs_max:\n",
    "    list_clqs_max.append(i)\n",
    "\n",
    "list_clqs_max"
   ]
  },
  {
   "cell_type": "code",
   "execution_count": null,
   "metadata": {},
   "outputs": [],
   "source": [
    "list_tam_clqs_max = []\n",
    "for i in list_clqs_max:\n",
    "    list_tam_clqs_max.append(len(i))\n",
    "\n",
    "df_freq_tam_clqs_max = pd.DataFrame(list_tam_clqs_max)\n",
    "df_freq_tam_clqs_max.value_counts()"
   ]
  },
  {
   "cell_type": "code",
   "execution_count": null,
   "metadata": {},
   "outputs": [],
   "source": [
    "# find the maximum clique\n",
    "nx.approximation.max_clique(karate)"
   ]
  },
  {
   "cell_type": "code",
   "execution_count": null,
   "metadata": {},
   "outputs": [],
   "source": [
    "for i in list_clqs_max:\n",
    "    if len(i) == 5:\n",
    "        print(i)"
   ]
  },
  {
   "cell_type": "code",
   "execution_count": null,
   "metadata": {},
   "outputs": [],
   "source": [
    "# calculo do tamanho médio dos cliques\n",
    "iter_clqs = nx.enumerate_all_cliques(karate)\n",
    "\n",
    "list_clqs = []\n",
    "for i in iter_clqs:\n",
    "    list_clqs.append(i)\n",
    "\n",
    "soma = 0\n",
    "k = len(list_clqs)\n",
    "for i in list_clqs :\n",
    "    soma = soma + len(i)\n",
    "lonmedia = soma / k\n",
    "\n",
    "print(f\"Tamanho médio das cliques: {lonmedia}\")"
   ]
  },
  {
   "cell_type": "code",
   "execution_count": null,
   "metadata": {},
   "outputs": [],
   "source": [
    "# imprime o coeficiente de agrupamento total(cl) do grafo g (karate club) \n",
    "print(f\"cl(g) = {nx.transitivity(karate)}\")"
   ]
  },
  {
   "cell_type": "code",
   "execution_count": null,
   "metadata": {},
   "outputs": [],
   "source": [
    "# imprime o cl do grafo gci () \n",
    "print(f\"cl(gci) = {nx.transitivity(gci)}\")"
   ]
  },
  {
   "cell_type": "code",
   "execution_count": null,
   "metadata": {},
   "outputs": [],
   "source": [
    "# imprime o cl do grafo gre () \n",
    "print(f\"cl(gre) = {nx.transitivity(gre)}\")"
   ]
  },
  {
   "cell_type": "code",
   "execution_count": null,
   "metadata": {},
   "outputs": [],
   "source": [
    "# imprime o cl do grafo gco () \n",
    "print(f\"cl(gco) = {nx.transitivity(gco)}\")"
   ]
  },
  {
   "cell_type": "markdown",
   "metadata": {},
   "source": [
    "### 1.3.5 Reciprocidade\n",
    "\n",
    "Em redes direcionadas, uma medida de interesse é saber qual a fração de arestas que ocorrem em ambas as direções.\n",
    "\n",
    "**Reciprocidade**: fração de arestas que ocorrem em ambas as direções.\n",
    "\n",
    "Fórmula para o cálculo da reciprocidade:\n",
    "$$\n",
    "rc(G)=\n",
    "\\dfrac{\\displaystyle\\sum\\limits_{i,j}A(i,j)A(j,i)}{\\displaystyle\\sum\\limits_{i,j}A(i,j)}.\n",
    "$$"
   ]
  },
  {
   "cell_type": "code",
   "execution_count": null,
   "metadata": {},
   "outputs": [],
   "source": [
    "# gerando o grafo direcionado GD\n",
    "GD = nx.DiGraph ()\n",
    "GD.add_nodes_from([1,2,3])\n",
    "GD.add_edges_from([(1,2),(2,1),(2,3),(3,1)])"
   ]
  },
  {
   "cell_type": "code",
   "execution_count": null,
   "metadata": {},
   "outputs": [],
   "source": [
    "fig, ax = plt.subplots(1,1,figsize=(10,8))\n",
    "\n",
    "# grafico do grafo gdi\n",
    "nx.draw(GD, node_size=800, with_labels = True)\n",
    "\n",
    "plt.show()"
   ]
  },
  {
   "cell_type": "code",
   "execution_count": null,
   "metadata": {},
   "outputs": [],
   "source": [
    "# imprime a reciprocidade de GD\n",
    "print(f\"re(GD) = {nx.reciprocity(GD)}\")"
   ]
  },
  {
   "cell_type": "code",
   "execution_count": null,
   "metadata": {},
   "outputs": [],
   "source": [
    "#A = nx.adjacency_matrix(GD)\n",
    "A = nx.to_scipy_sparse_array(GD).toarray()\n",
    "A"
   ]
  },
  {
   "cell_type": "code",
   "execution_count": null,
   "metadata": {},
   "outputs": [],
   "source": []
  }
 ],
 "metadata": {
  "kernelspec": {
   "display_name": "Python 3",
   "language": "python",
   "name": "python3"
  },
  "language_info": {
   "codemirror_mode": {
    "name": "ipython",
    "version": 3
   },
   "file_extension": ".py",
   "mimetype": "text/x-python",
   "name": "python",
   "nbconvert_exporter": "python",
   "pygments_lexer": "ipython3",
   "version": "3.10.12"
  }
 },
 "nbformat": 4,
 "nbformat_minor": 2
}
