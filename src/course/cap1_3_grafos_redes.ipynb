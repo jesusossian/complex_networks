{
 "cells": [
  {
   "cell_type": "markdown",
   "metadata": {},
   "source": [
    "# Cap 1: Grafos e redes"
   ]
  },
  {
   "cell_type": "code",
   "execution_count": null,
   "metadata": {},
   "outputs": [],
   "source": [
    "# importa networkx\n",
    "import networkx as nx\n",
    "\n",
    "# importa matplotlib\n",
    "%matplotlib inline\n",
    "import matplotlib.pyplot as plt"
   ]
  },
  {
   "cell_type": "markdown",
   "metadata": {},
   "source": [
    "## 1.3 Métricas Globais de Redes"
   ]
  },
  {
   "cell_type": "markdown",
   "metadata": {},
   "source": [
    "### 1.3.1 Densidade\n",
    "\n",
    "Seja uma rede $G=(V,E)$, com $|V|=n$ e $|E|=m$. \n",
    "\n",
    "Então, a densidade da rede, $\\mathrm{dens}(G)$, é \n",
    "- igual a $\\dfrac{2m}{n(n-1)}$, se a rede for não direcionada, e \n",
    "- igual a $\\dfrac{m}{n(n-1)}$ se a rede for direcionada."
   ]
  },
  {
   "cell_type": "code",
   "execution_count": null,
   "metadata": {},
   "outputs": [],
   "source": [
    "# grafo do clube do karate\n",
    "karate = nx.karate_club_graph()\n",
    "nx.draw(karate, with_labels = \"True\")"
   ]
  },
  {
   "cell_type": "code",
   "execution_count": null,
   "metadata": {},
   "outputs": [],
   "source": [
    "# grafo regular com 6 nós e 3 arestas por nó\n",
    "gre = nx.random_regular_graph(3,6)\n",
    "nx.draw(gre, with_labels = \"True\")"
   ]
  },
  {
   "cell_type": "code",
   "execution_count": null,
   "metadata": {},
   "outputs": [],
   "source": [
    "# grafo completo com 6 nós\n",
    "gco = nx.complete_graph(6)\n",
    "nx.draw(gco, with_labels = \"True\")"
   ]
  },
  {
   "cell_type": "code",
   "execution_count": null,
   "metadata": {},
   "outputs": [],
   "source": [
    "# imprimindo as densidades\n",
    "print(\"Densidades:\")\n",
    "print(\"karate:\", nx.density(karate))\n",
    "print(\"gre: \", nx.density(gre))\n",
    "print(\"gco: \", nx.density(gco))"
   ]
  },
  {
   "cell_type": "markdown",
   "metadata": {},
   "source": [
    "### 1.3.2 Comprimento médio e caminho\n",
    "\n",
    "O diâmetro de uma rede é igual ao maior distância geodésica entre dois nós em uma mesma componente da rede. \n",
    "\n",
    "Similarmente, o comprimento médio dos caminhos de uma rede é dado pela média de todas as distâncias geodésicas entre dois nós que são conectados na rede."
   ]
  },
  {
   "cell_type": "code",
   "execution_count": null,
   "metadata": {},
   "outputs": [],
   "source": [
    "# caminhos e distância geodésica entre dois vértices\n",
    "karate = nx.karate_club_graph()\n",
    "caminho = nx.shortest_path(karate, 3, 20)\n",
    "longitude = nx.shortest_path_length(karate ,3 ,20)\n",
    "print(\"caminho: \", caminho)\n",
    "print(\"tamanho: \", longitude)"
   ]
  },
  {
   "cell_type": "code",
   "execution_count": null,
   "metadata": {},
   "outputs": [],
   "source": [
    "# Comprimento médio dos caminhos do grafo do clube do karate\n",
    "cm = nx.average_shortest_path_length(karate)\n",
    "\n",
    "# Diâmetro do grafo do clube do karate\n",
    "diam = nx.diameter(karate)\n",
    "\n",
    "print(\"Comprimento médio =\", cm)\n",
    "print(\"Diâmentro =\", diam)"
   ]
  },
  {
   "cell_type": "markdown",
   "metadata": {},
   "source": [
    "### 1.3.3 Distribuição de graus\n",
    "\n",
    "- O grau de um certo vértice de uma rede não direcionada consiste de quantas arestas envolvem este vértice na\n",
    "rede, ou seja, \n",
    "$$d(i) = \\displaystyle\\sum_{j \\in V} A(i,j)$$\n",
    "\n",
    "- Vértices com alto grau são aqueles que conseguem acessar imediatamente um grande número de vértices.\n",
    "\n",
    "- Em redes direcionadas, existem dois tipos de grau que dependem da direção das arestas: o grau de saída (out-degree), $d^{out}(i)$, e o grau de entrada (in-degree), $d^{in}(i)$.\n",
    "$$\n",
    "d^{out}(i) = \\displaystyle\\sum_{j \\in V} A(i,j)\n",
    "$$\n",
    "e\n",
    "$$\n",
    "d^{in}(i) = \\displaystyle\\sum_{j \\in V} A(j,i)\n",
    "$$\n",
    "\n",
    "\n"
   ]
  },
  {
   "cell_type": "code",
   "execution_count": null,
   "metadata": {},
   "outputs": [],
   "source": [
    "# Graus do grafo do clube do karate\n",
    "karate = nx.karate_club_graph()\n",
    "a = karate.degree(0) # grau do nó 0\n",
    "b = list(karate.degree([0 ,17 ,33]) ) # lista de graus dos nós 0 , 1 e 2\n",
    "c = nx.degree_histogram(karate) # lista com as frequências de ocorrência de graus\n",
    "print(\"Grau do vértice 0:\", a)\n",
    "print(\"Graus dos vértices 0,1,2:\", b)\n",
    "print(\"Frequências de ocorrência:\", c)"
   ]
  },
  {
   "cell_type": "markdown",
   "metadata": {},
   "source": [
    "### 1.3.4 Coesão e agrupamento\n",
    "\n",
    "Redes complexas possuem uma característica de coesão em que nós vizinhos a um certo nó tem uma maior chance de serem vizinhos entre si.\n",
    "\n",
    "Existem algumas formas de mensurar essa característica, por exemplo, através do conceito de cliques.\n",
    "\n",
    "Uma maneira de analisar a coesão de uma rede seria analisar a distribuição dos cliques, ou seja, quantos cliques de cada tamanho existem.\n",
    "\n",
    "Cliques são muito sensíveis a remoção de um nó, assim outras medidas foram propostas para analisar o grau de coesão ou agrupamento da rede. \n",
    "\n",
    "O coeficiente de agrupamento total é dado pela proporção de vezes que dois vértices $j$ e $k$ que são vizinhos de um mesmo vértice $i$ também são vizinhos entre si:\n",
    "\n",
    "$$\n",
    "cl(G)=\n",
    "\\dfrac{\\sum\\limits_{(i,j,k):j\\ne i,k\\ne i,k\\ne j}A(i,j)A(i,k)A(j,k)}{\\displaystyle\\sum\\limits_{(i,j,k):j\\ne i,k\\ne i,k\\ne j}A(i,j)A(i,k)}\n",
    "$$\n"
   ]
  },
  {
   "cell_type": "code",
   "execution_count": null,
   "metadata": {},
   "outputs": [],
   "source": [
    "karate = nx.karate_club_graph ()\n",
    "clqlist = list(nx.enumerate_all_cliques(karate)) # lista com todos os cliques\n",
    "clqlist"
   ]
  },
  {
   "cell_type": "code",
   "execution_count": null,
   "metadata": {},
   "outputs": [],
   "source": [
    "# calculo do tamanho médio dos cliques\n",
    "karate = nx.karate_club_graph ()\n",
    "clqlist = list(nx.enumerate_all_cliques(karate)) # lista com todos os cliques\n",
    "soma = 0\n",
    "k = len(clqlist)\n",
    "for clique in clqlist :\n",
    "    soma = soma + len(clique)\n",
    "lonmedia = soma / k\n",
    "print(\" Tamanho médio das cliques:\", lonmedia)"
   ]
  },
  {
   "cell_type": "code",
   "execution_count": null,
   "metadata": {},
   "outputs": [],
   "source": [
    "# gerando grafos\n",
    "\n",
    "# círculo com 6 nós\n",
    "gci = nx.circulant_graph(6 ,[1])\n",
    "\n",
    "# grafo regular com 6 nós e 3 arestas por nó\n",
    "gre = nx.random_regular_graph(3,6)\n",
    "\n",
    "# grafo completo com 6 nós\n",
    "gco = nx.complete_graph(6)"
   ]
  },
  {
   "cell_type": "code",
   "execution_count": null,
   "metadata": {},
   "outputs": [],
   "source": [
    "# calculando os coeficientes de agrupamento total\n",
    "cl_karate = nx.transitivity(karate)\n",
    "cl_gci = nx.transitivity(gci)\n",
    "cl_gre = nx.transitivity(gre)\n",
    "cl_gco = nx.transitivity(gco)"
   ]
  },
  {
   "cell_type": "code",
   "execution_count": null,
   "metadata": {},
   "outputs": [],
   "source": [
    "# imprimindo os coeficientes de agrupamento total\n",
    "print(\"cl^{d,1}(karate):\", cl_karate)\n",
    "print(\"cl^{d,1}(gci):\", cl_gci)\n",
    "print(\"cl^{d,1}(gre):\", cl_gre)\n",
    "print(\"cl^{d,1}(gco):\", cl_gco)"
   ]
  },
  {
   "cell_type": "markdown",
   "metadata": {},
   "source": [
    "### 1.3.5 Reciprocidade\n",
    "\n",
    "Em redes direcionadas, uma medida de interesse é saber qual a fração de arestas que ocorrem em ambas as direções.\n",
    "\n",
    "$$\n",
    "rc(G)=\n",
    "\\dfrac{\\displaystyle\\sum\\limits_{i,j}A(i,j)A(j,i)}{\\displaystyle\\sum\\limits_{i,j}A(i,j)}.\n",
    "$$"
   ]
  },
  {
   "cell_type": "code",
   "execution_count": null,
   "metadata": {},
   "outputs": [],
   "source": [
    "# gerando o grafo direcionado GD\n",
    "GD = nx.DiGraph ()\n",
    "GD.add_nodes_from(['A','B','C'])\n",
    "\n",
    "GD.add_edge('A','B') # A -> B\n",
    "GD.add_edge('B','A') # B -> A\n",
    "GD.add_edge('B','C') # B -> C\n",
    "GD.add_edge('C','A') # C -> A\n",
    "\n",
    "# plotando o grafo GD\n",
    "nx.draw(GD, with_labels = \"True\")"
   ]
  },
  {
   "cell_type": "code",
   "execution_count": null,
   "metadata": {},
   "outputs": [],
   "source": [
    "# calculando a reciprocidade do grafo GD\n",
    "re = nx.reciprocity(GD)\n",
    "\n",
    "# imprimindo o valor da reciprocidade do grafo GD\n",
    "print(\"Reciprocidade GS:\", re)"
   ]
  },
  {
   "cell_type": "code",
   "execution_count": null,
   "metadata": {},
   "outputs": [],
   "source": []
  }
 ],
 "metadata": {
  "kernelspec": {
   "display_name": "Python 3",
   "language": "python",
   "name": "python3"
  },
  "language_info": {
   "codemirror_mode": {
    "name": "ipython",
    "version": 3
   },
   "file_extension": ".py",
   "mimetype": "text/x-python",
   "name": "python",
   "nbconvert_exporter": "python",
   "pygments_lexer": "ipython3",
   "version": "3.10.12"
  }
 },
 "nbformat": 4,
 "nbformat_minor": 2
}
