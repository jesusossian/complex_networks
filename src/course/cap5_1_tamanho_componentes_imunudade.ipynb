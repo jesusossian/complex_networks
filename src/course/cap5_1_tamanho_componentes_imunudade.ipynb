{
 "cells": [
  {
   "cell_type": "markdown",
   "metadata": {},
   "source": [
    "# Modelos de difusão\n",
    "\n",
    "Os modelos de difusão podem ser utilizados para entender como doenças se espalham, como notícias ou boatos se propagam, como opiniões sobre determinados temas são formadas, ou como o consumo de determinados produtos ou serviços são adotados."
   ]
  },
  {
   "cell_type": "code",
   "execution_count": null,
   "metadata": {},
   "outputs": [],
   "source": [
    "import networkx as nx\n",
    "import numpy as np\n",
    "from numpy . random import default_rng\n",
    "import matplotlib . pyplot as plt"
   ]
  },
  {
   "cell_type": "markdown",
   "metadata": {},
   "source": [
    "## Tamanho das componentes e imunidade\n",
    "\n",
    "Se o processo de difusão inicia em um único vértice, ele só conseguirá contagiar os vértices que estão na mesma componente desse vértice. \n",
    "\n",
    "O processo de difusão só atingirá uma fração significativa dos nós se houver uma componente gigante. \n",
    "\n",
    "É importante estudar o comportamento dos tamanhos das componentes para o processo de difusão. \n",
    "\n",
    "Aqui abordaremos o problema em que temos um indivíduo infectado e queremos determinar o espalhamento desta doença na rede quando uma certa fração aleatória, $f$, de indivíduos é imune a doença e, portanto, é removida da rede. \n",
    "\n",
    "O problema da difusão da doença, corresponde a saber se o indivíduo inicialmente infectado está em uma componente que contém uma fração considerável dos vértices, após a remoção dos indivíduos imunes."
   ]
  },
  {
   "cell_type": "markdown",
   "metadata": {},
   "source": [
    "### Exemplo\n",
    "\n",
    "Considere uma rede de Erdös-Renyi com $n$ nós e uma probabilidade de ligação $p$.\n",
    "\n",
    "A componente gigante não se formará, somente, se mais da metade da população for imunizada para $p = \\frac{2}{(n-2)}$."
   ]
  },
  {
   "cell_type": "code",
   "execution_count": null,
   "metadata": {},
   "outputs": [],
   "source": [
    "rng = default_rng()\n",
    "\n",
    "M = 100 \n",
    "V = 19 # número de simulações\n",
    "n = 1000 # número de nodes\n",
    "p = 2/(n-2) # probabilidade"
   ]
  },
  {
   "cell_type": "code",
   "execution_count": null,
   "metadata": {},
   "outputs": [],
   "source": [
    "f = np.linspace(0,0.9,V) # retornar números uniformemente espaçados em um intervalo especificado\n",
    "Fcomp = np.zeros(V) # vetor do tamanho (max) media componentes conexa encontrada"
   ]
  },
  {
   "cell_type": "code",
   "execution_count": null,
   "metadata": {},
   "outputs": [],
   "source": [
    "for v in range(V):\n",
    "    fcomp = np.zeros(M)\n",
    "    m = int(np.round(n*f[v],0)) # arredondar um vetor para o número fornecido de decimais\n",
    "    for k in range(M):\n",
    "        G = nx.fast_gnp_random_graph(n,p) # um grafo aleatorio $G_{n,p}$ (Erdős-Rényi)\n",
    "        j = rng.choice(n,m,replace=False) # gera uma amostra aleatória de uma determinada vetor\n",
    "        G.remove_nodes_from(j)\n",
    "        fcomp[k] = len(max(nx.connected_components(G),key=len))/n #  tamanho da maior componete conexa\n",
    "    Fcomp[v] = np.mean(fcomp) # tamanho (max) medio das componentes conexas geradas\n",
    "    print(v,Fcomp[v])\n"
   ]
  },
  {
   "cell_type": "code",
   "execution_count": null,
   "metadata": {},
   "outputs": [],
   "source": [
    "fig = plt.subplots(1,1,figsize=(15,10))\n",
    "\n",
    "plt.plot(f,100*Fcomp)\n",
    "plt.xlabel('Fração de vértices imunizados')\n",
    "plt.ylabel('Tamanho da maior componente [\\%]')\n",
    "plt.title('Tamanho da maior componente conectada X Fração de vértices imunizados para grafos de Erdös-Renyi com p(n-2)=2.')\n",
    "\n",
    "plt.show()"
   ]
  },
  {
   "cell_type": "markdown",
   "metadata": {},
   "source": [
    "Quando a fração de nós removidos(imunizados) supera $50\\%$, o tamanho da maior componente conectada é menor, em média, a $1\\%$ do tamanho total da rede."
   ]
  }
 ],
 "metadata": {
  "kernelspec": {
   "display_name": "Python 3",
   "language": "python",
   "name": "python3"
  },
  "language_info": {
   "codemirror_mode": {
    "name": "ipython",
    "version": 3
   },
   "file_extension": ".py",
   "mimetype": "text/x-python",
   "name": "python",
   "nbconvert_exporter": "python",
   "pygments_lexer": "ipython3",
   "version": "3.10.12"
  }
 },
 "nbformat": 4,
 "nbformat_minor": 2
}
